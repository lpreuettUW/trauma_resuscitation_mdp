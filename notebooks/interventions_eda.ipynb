{
 "cells": [
  {
   "cell_type": "code",
   "id": "initial_id",
   "metadata": {
    "collapsed": true,
    "ExecuteTime": {
     "end_time": "2024-11-29T14:11:41.445511Z",
     "start_time": "2024-11-29T14:11:41.443509Z"
    }
   },
   "source": [
    "import os\n",
    "import numpy as np\n",
    "import pandas as pd\n",
    "import seaborn as sns\n",
    "import matplotlib.pyplot as plt\n",
    "from typing import Set"
   ],
   "outputs": [],
   "execution_count": 1
  },
  {
   "metadata": {
    "ExecuteTime": {
     "end_time": "2024-11-29T14:11:41.453623Z",
     "start_time": "2024-11-29T14:11:41.448654Z"
    }
   },
   "cell_type": "code",
   "source": [
    "def filter_data(df: pd.DataFrame) -> pd.DataFrame:\n",
    "    \"\"\"\n",
    "    Filter by\n",
    "    - Require IVF_before_hr_24_no_L_cutoff >= 0.25 (i.e., 250 ml of IVF in first 24 hrs)\n",
    "    - Exclude isolated head injuries (i.e., Head AIS >= 3 and all other AIS <= 1)\n",
    "    :param df: compiled patient dataframe\n",
    "    :return: filtered patient dataframe\n",
    "    \"\"\"\n",
    "    max_ais_col_name = 'MaxNonHeadAIS'\n",
    "    df[max_ais_col_name] = df[['MaxHeadAIS', 'MaxChestAIS', 'MaxAbdAIS', 'MaxSpineAIS', 'MaxLEAIS', 'MaxUEAIS', 'MaxFaceAIS', 'MaxNeckAIS']].max(axis=1)\n",
    "    mask = (((df['IVF_before_hr_24_no_L_cutoff'] > 0.25) | np.isclose(df['IVF_before_hr_24_no_L_cutoff'], 0.25))\n",
    "            & ((df['MaxHeadAIS'] < 3) | (df[max_ais_col_name] > 1))\n",
    "            & (df['TraumaType'].str.strip().str.lower().isin({'b', 'p'})))\n",
    "    filtered_data = df[mask]\n",
    "    df.drop(columns=[max_ais_col_name], inplace=True)\n",
    "    return filtered_data\n",
    "\n",
    "def load_patient_cohort_ids() -> Set[int]:\n",
    "    # load 2012-2015 patient cohort ids\n",
    "    compiled_patient_data_2012_2015 = pd.read_csv('<path_to_dataset>/2012-2015_compiled_patient_data_with_cohorts_no_L_required_new_IVF_EarlyLateBolus.csv')\n",
    "    compiled_patient_data_2012_2015 = filter_data(compiled_patient_data_2012_2015)['StudyID']\n",
    "    # load 2016-2019 patient cohort ids\n",
    "    compiled_patient_data_2016_2019 = pd.read_csv('<path_to_dataset>/2016-2019_compiled_patient_data_with_cohorts_no_L_required_new_IVF_EarlyLateBolus.csv')\n",
    "    compiled_patient_data_2016_2019['StudyID'] = compiled_patient_data_2016_2019['StudyID'].astype(int)\n",
    "    compiled_patient_data_2016_2019 = filter_data(compiled_patient_data_2016_2019)['StudyID']\n",
    "    # combine patient cohort ids\n",
    "    study_ids = set(compiled_patient_data_2012_2015.tolist()).union(set(compiled_patient_data_2016_2019.tolist()))\n",
    "    print(f'Number of patient cohort ids: {len(study_ids)} (2012-2015: {len(compiled_patient_data_2012_2015)}, 2016-2019: {len(compiled_patient_data_2016_2019)})')\n",
    "    return study_ids"
   ],
   "id": "d2198d9ae81ab509",
   "outputs": [],
   "execution_count": 2
  },
  {
   "metadata": {},
   "cell_type": "markdown",
   "source": "# IVF Data Investigation",
   "id": "278cb1ffcc0692b0"
  },
  {
   "metadata": {
    "ExecuteTime": {
     "end_time": "2024-11-29T14:11:43.765508Z",
     "start_time": "2024-11-29T14:11:43.017205Z"
    }
   },
   "cell_type": "code",
   "source": [
    "ivf_2012_2015_data = pd.read_csv('<path_to_dataset>/MASTER_2012-2015_IVF_bolus_and_hourly.csv')\n",
    "ivf_2012_2015_data.head()"
   ],
   "id": "bb559fc143410f2b",
   "outputs": [
    {
     "data": {
      "text/plain": [
       "   StudyID     ADMITDATE  DAY                 FLUID   EventEndDtTm  \\\n",
       "0    19334  5/14/13 0:00    4  Sodium Chloride 0.9%   5/17/13 7:59   \n",
       "1    19334  5/14/13 0:00    4  Sodium Chloride 0.9%   5/17/13 8:59   \n",
       "2    19334  5/14/13 0:00    4  Sodium Chloride 0.9%   5/17/13 9:59   \n",
       "3    19334  5/14/13 0:00    4  Sodium Chloride 0.9%  5/17/13 10:59   \n",
       "4    19334  5/14/13 0:00    4  Sodium Chloride 0.9%  5/17/13 11:59   \n",
       "\n",
       "         ROUTE  Volume UNIT  \n",
       "0  IV Infusion    75.0   mL  \n",
       "1  IV Infusion    75.0   mL  \n",
       "2  IV Infusion    75.0   mL  \n",
       "3  IV Infusion    75.0   mL  \n",
       "4  IV Infusion    75.0   mL  "
      ],
      "text/html": [
       "<div>\n",
       "<style scoped>\n",
       "    .dataframe tbody tr th:only-of-type {\n",
       "        vertical-align: middle;\n",
       "    }\n",
       "\n",
       "    .dataframe tbody tr th {\n",
       "        vertical-align: top;\n",
       "    }\n",
       "\n",
       "    .dataframe thead th {\n",
       "        text-align: right;\n",
       "    }\n",
       "</style>\n",
       "<table border=\"1\" class=\"dataframe\">\n",
       "  <thead>\n",
       "    <tr style=\"text-align: right;\">\n",
       "      <th></th>\n",
       "      <th>StudyID</th>\n",
       "      <th>ADMITDATE</th>\n",
       "      <th>DAY</th>\n",
       "      <th>FLUID</th>\n",
       "      <th>EventEndDtTm</th>\n",
       "      <th>ROUTE</th>\n",
       "      <th>Volume</th>\n",
       "      <th>UNIT</th>\n",
       "    </tr>\n",
       "  </thead>\n",
       "  <tbody>\n",
       "    <tr>\n",
       "      <th>0</th>\n",
       "      <td>19334</td>\n",
       "      <td>5/14/13 0:00</td>\n",
       "      <td>4</td>\n",
       "      <td>Sodium Chloride 0.9%</td>\n",
       "      <td>5/17/13 7:59</td>\n",
       "      <td>IV Infusion</td>\n",
       "      <td>75.0</td>\n",
       "      <td>mL</td>\n",
       "    </tr>\n",
       "    <tr>\n",
       "      <th>1</th>\n",
       "      <td>19334</td>\n",
       "      <td>5/14/13 0:00</td>\n",
       "      <td>4</td>\n",
       "      <td>Sodium Chloride 0.9%</td>\n",
       "      <td>5/17/13 8:59</td>\n",
       "      <td>IV Infusion</td>\n",
       "      <td>75.0</td>\n",
       "      <td>mL</td>\n",
       "    </tr>\n",
       "    <tr>\n",
       "      <th>2</th>\n",
       "      <td>19334</td>\n",
       "      <td>5/14/13 0:00</td>\n",
       "      <td>4</td>\n",
       "      <td>Sodium Chloride 0.9%</td>\n",
       "      <td>5/17/13 9:59</td>\n",
       "      <td>IV Infusion</td>\n",
       "      <td>75.0</td>\n",
       "      <td>mL</td>\n",
       "    </tr>\n",
       "    <tr>\n",
       "      <th>3</th>\n",
       "      <td>19334</td>\n",
       "      <td>5/14/13 0:00</td>\n",
       "      <td>4</td>\n",
       "      <td>Sodium Chloride 0.9%</td>\n",
       "      <td>5/17/13 10:59</td>\n",
       "      <td>IV Infusion</td>\n",
       "      <td>75.0</td>\n",
       "      <td>mL</td>\n",
       "    </tr>\n",
       "    <tr>\n",
       "      <th>4</th>\n",
       "      <td>19334</td>\n",
       "      <td>5/14/13 0:00</td>\n",
       "      <td>4</td>\n",
       "      <td>Sodium Chloride 0.9%</td>\n",
       "      <td>5/17/13 11:59</td>\n",
       "      <td>IV Infusion</td>\n",
       "      <td>75.0</td>\n",
       "      <td>mL</td>\n",
       "    </tr>\n",
       "  </tbody>\n",
       "</table>\n",
       "</div>"
      ]
     },
     "execution_count": 3,
     "metadata": {},
     "output_type": "execute_result"
    }
   ],
   "execution_count": 3
  },
  {
   "metadata": {
    "ExecuteTime": {
     "end_time": "2024-11-29T14:11:43.828558Z",
     "start_time": "2024-11-29T14:11:43.794084Z"
    }
   },
   "cell_type": "code",
   "source": "ivf_2012_2015_data['ROUTE'].value_counts()",
   "id": "31c68af93167ecd8",
   "outputs": [
    {
     "data": {
      "text/plain": [
       "ROUTE\n",
       "IV Infusion     586277\n",
       "IVPB             78272\n",
       "IV Push          28167\n",
       "IV               12998\n",
       "Hemodialysis       242\n",
       "MISC                64\n",
       "CRRT                 4\n",
       "Name: count, dtype: int64"
      ]
     },
     "execution_count": 4,
     "metadata": {},
     "output_type": "execute_result"
    }
   ],
   "execution_count": 4
  },
  {
   "metadata": {
    "ExecuteTime": {
     "end_time": "2024-11-29T14:11:43.902343Z",
     "start_time": "2024-11-29T14:11:43.881533Z"
    }
   },
   "cell_type": "code",
   "source": "ivf_2012_2015_data['ROUTE'].isna().sum()",
   "id": "6d45695410323504",
   "outputs": [
    {
     "data": {
      "text/plain": [
       "71587"
      ]
     },
     "execution_count": 5,
     "metadata": {},
     "output_type": "execute_result"
    }
   ],
   "execution_count": 5
  },
  {
   "metadata": {
    "ExecuteTime": {
     "end_time": "2024-11-29T14:11:44.149796Z",
     "start_time": "2024-11-29T14:11:44.013185Z"
    }
   },
   "cell_type": "code",
   "source": [
    "ivf_2012_2015_data['ADMITDATE'] = pd.to_datetime(ivf_2012_2015_data['ADMITDATE'])\n",
    "(ivf_2012_2015_data.loc[ivf_2012_2015_data['ROUTE'].isna(), 'ADMITDATE'].dt.year <= 2013).sum()"
   ],
   "id": "64e0479e18f6176c",
   "outputs": [
    {
     "name": "stderr",
     "output_type": "stream",
     "text": [
      "/var/folders/vf/695131157rl2pvb9_s5zykbh0000gn/T/ipykernel_33855/1190029902.py:1: UserWarning: Could not infer format, so each element will be parsed individually, falling back to `dateutil`. To ensure parsing is consistent and as-expected, please specify a format.\n",
      "  ivf_2012_2015_data['ADMITDATE'] = pd.to_datetime(ivf_2012_2015_data['ADMITDATE'])\n"
     ]
    },
    {
     "data": {
      "text/plain": [
       "45758"
      ]
     },
     "execution_count": 6,
     "metadata": {},
     "output_type": "execute_result"
    }
   ],
   "execution_count": 6
  },
  {
   "metadata": {
    "ExecuteTime": {
     "end_time": "2024-11-29T14:11:44.186163Z",
     "start_time": "2024-11-29T14:11:44.177365Z"
    }
   },
   "cell_type": "code",
   "source": "ivf_2012_2015_data['StudyID'].nunique()",
   "id": "83d162107c6ad562",
   "outputs": [
    {
     "data": {
      "text/plain": [
       "7340"
      ]
     },
     "execution_count": 7,
     "metadata": {},
     "output_type": "execute_result"
    }
   ],
   "execution_count": 7
  },
  {
   "metadata": {
    "ExecuteTime": {
     "end_time": "2024-11-29T14:11:44.280453Z",
     "start_time": "2024-11-29T14:11:44.276195Z"
    }
   },
   "cell_type": "code",
   "source": "ivf_2012_2015_data.dtypes",
   "id": "824ad7263aa05550",
   "outputs": [
    {
     "data": {
      "text/plain": [
       "StudyID                  int64\n",
       "ADMITDATE       datetime64[ns]\n",
       "DAY                      int64\n",
       "FLUID                   object\n",
       "EventEndDtTm            object\n",
       "ROUTE                   object\n",
       "Volume                 float64\n",
       "UNIT                    object\n",
       "dtype: object"
      ]
     },
     "execution_count": 8,
     "metadata": {},
     "output_type": "execute_result"
    }
   ],
   "execution_count": 8
  },
  {
   "metadata": {
    "ExecuteTime": {
     "end_time": "2024-11-29T14:11:44.497589Z",
     "start_time": "2024-11-29T14:11:44.442678Z"
    }
   },
   "cell_type": "code",
   "source": [
    "filter_columns = ['StudyID', 'ADMITDATE', 'FLUID', 'EventEndDtTm', 'ROUTE', 'Volume', 'UNIT']\n",
    "rename_columns = {'ADMITDATE': 'AdmitDtTm', 'FLUID': 'Fluid', 'ROUTE': 'Route', 'UNIT': 'Unit'}\n",
    "filtered_ivf_data_2012_2015 = ivf_2012_2015_data[filter_columns]\n",
    "filtered_ivf_data_2012_2015 = filtered_ivf_data_2012_2015.rename(columns=rename_columns)\n",
    "filtered_ivf_data_2012_2015.head()"
   ],
   "id": "e16072c7f3eb419f",
   "outputs": [
    {
     "data": {
      "text/plain": [
       "   StudyID  AdmitDtTm                 Fluid   EventEndDtTm        Route  \\\n",
       "0    19334 2013-05-14  Sodium Chloride 0.9%   5/17/13 7:59  IV Infusion   \n",
       "1    19334 2013-05-14  Sodium Chloride 0.9%   5/17/13 8:59  IV Infusion   \n",
       "2    19334 2013-05-14  Sodium Chloride 0.9%   5/17/13 9:59  IV Infusion   \n",
       "3    19334 2013-05-14  Sodium Chloride 0.9%  5/17/13 10:59  IV Infusion   \n",
       "4    19334 2013-05-14  Sodium Chloride 0.9%  5/17/13 11:59  IV Infusion   \n",
       "\n",
       "   Volume Unit  \n",
       "0    75.0   mL  \n",
       "1    75.0   mL  \n",
       "2    75.0   mL  \n",
       "3    75.0   mL  \n",
       "4    75.0   mL  "
      ],
      "text/html": [
       "<div>\n",
       "<style scoped>\n",
       "    .dataframe tbody tr th:only-of-type {\n",
       "        vertical-align: middle;\n",
       "    }\n",
       "\n",
       "    .dataframe tbody tr th {\n",
       "        vertical-align: top;\n",
       "    }\n",
       "\n",
       "    .dataframe thead th {\n",
       "        text-align: right;\n",
       "    }\n",
       "</style>\n",
       "<table border=\"1\" class=\"dataframe\">\n",
       "  <thead>\n",
       "    <tr style=\"text-align: right;\">\n",
       "      <th></th>\n",
       "      <th>StudyID</th>\n",
       "      <th>AdmitDtTm</th>\n",
       "      <th>Fluid</th>\n",
       "      <th>EventEndDtTm</th>\n",
       "      <th>Route</th>\n",
       "      <th>Volume</th>\n",
       "      <th>Unit</th>\n",
       "    </tr>\n",
       "  </thead>\n",
       "  <tbody>\n",
       "    <tr>\n",
       "      <th>0</th>\n",
       "      <td>19334</td>\n",
       "      <td>2013-05-14</td>\n",
       "      <td>Sodium Chloride 0.9%</td>\n",
       "      <td>5/17/13 7:59</td>\n",
       "      <td>IV Infusion</td>\n",
       "      <td>75.0</td>\n",
       "      <td>mL</td>\n",
       "    </tr>\n",
       "    <tr>\n",
       "      <th>1</th>\n",
       "      <td>19334</td>\n",
       "      <td>2013-05-14</td>\n",
       "      <td>Sodium Chloride 0.9%</td>\n",
       "      <td>5/17/13 8:59</td>\n",
       "      <td>IV Infusion</td>\n",
       "      <td>75.0</td>\n",
       "      <td>mL</td>\n",
       "    </tr>\n",
       "    <tr>\n",
       "      <th>2</th>\n",
       "      <td>19334</td>\n",
       "      <td>2013-05-14</td>\n",
       "      <td>Sodium Chloride 0.9%</td>\n",
       "      <td>5/17/13 9:59</td>\n",
       "      <td>IV Infusion</td>\n",
       "      <td>75.0</td>\n",
       "      <td>mL</td>\n",
       "    </tr>\n",
       "    <tr>\n",
       "      <th>3</th>\n",
       "      <td>19334</td>\n",
       "      <td>2013-05-14</td>\n",
       "      <td>Sodium Chloride 0.9%</td>\n",
       "      <td>5/17/13 10:59</td>\n",
       "      <td>IV Infusion</td>\n",
       "      <td>75.0</td>\n",
       "      <td>mL</td>\n",
       "    </tr>\n",
       "    <tr>\n",
       "      <th>4</th>\n",
       "      <td>19334</td>\n",
       "      <td>2013-05-14</td>\n",
       "      <td>Sodium Chloride 0.9%</td>\n",
       "      <td>5/17/13 11:59</td>\n",
       "      <td>IV Infusion</td>\n",
       "      <td>75.0</td>\n",
       "      <td>mL</td>\n",
       "    </tr>\n",
       "  </tbody>\n",
       "</table>\n",
       "</div>"
      ]
     },
     "execution_count": 9,
     "metadata": {},
     "output_type": "execute_result"
    }
   ],
   "execution_count": 9
  },
  {
   "metadata": {
    "ExecuteTime": {
     "end_time": "2024-11-29T14:11:45.395994Z",
     "start_time": "2024-11-29T14:11:44.548721Z"
    }
   },
   "cell_type": "code",
   "source": [
    "#ivf_2016_2019_data = pd.read_csv('<path_to_dataset>/MASTER_2016-2019_IVF_ICU_no_L_required.csv', index_col=0)\n",
    "ivf_2016_2019_data = pd.read_csv('<path_to_dataset>/MASTER_2016-2019_IVF_all.csv')\n",
    "#ivf_2016_2019_data['StudyID'] = ivf_2016_2019_data['StudyID'].astype(int)\n",
    "ivf_2016_2019_data.head()"
   ],
   "id": "7b1276f927624dd1",
   "outputs": [
    {
     "data": {
      "text/plain": [
       "   StudyID AdmitDate                          EVENT_CD_DESCR  \\\n",
       "0     1709   8/29/16  Dextrose 5% with 0.9% NaCl-KCl 20mEq/l   \n",
       "1     1709   8/29/16  Dextrose 5% with 0.9% NaCl-KCl 20mEq/l   \n",
       "2     1709   8/29/16  Dextrose 5% with 0.9% NaCl-KCl 20mEq/l   \n",
       "3     1709   8/29/16  Dextrose 5% with 0.9% NaCl-KCl 20mEq/l   \n",
       "4     1709   8/29/16  Dextrose 5% with 0.9% NaCl-KCl 20mEq/l   \n",
       "\n",
       "       EventEndDtTm   Volume OE_FIELD_DISPLAY_VALUE RESULT_UNITS_CD_DESCR  \\\n",
       "0   8/29/16 2:59 PM  52.0000            IV Infusion                    mL   \n",
       "1   8/29/16 3:59 PM  52.0000            IV Infusion                    mL   \n",
       "2  8/29/16 12:59 PM  52.0000            IV Infusion                    mL   \n",
       "3  8/29/16 10:59 AM  43.3333            IV Infusion                    mL   \n",
       "4  8/29/16 11:59 AM  52.0000            IV Infusion                    mL   \n",
       "\n",
       "   Unnamed: 3  \n",
       "0         NaN  \n",
       "1         NaN  \n",
       "2         NaN  \n",
       "3         NaN  \n",
       "4         NaN  "
      ],
      "text/html": [
       "<div>\n",
       "<style scoped>\n",
       "    .dataframe tbody tr th:only-of-type {\n",
       "        vertical-align: middle;\n",
       "    }\n",
       "\n",
       "    .dataframe tbody tr th {\n",
       "        vertical-align: top;\n",
       "    }\n",
       "\n",
       "    .dataframe thead th {\n",
       "        text-align: right;\n",
       "    }\n",
       "</style>\n",
       "<table border=\"1\" class=\"dataframe\">\n",
       "  <thead>\n",
       "    <tr style=\"text-align: right;\">\n",
       "      <th></th>\n",
       "      <th>StudyID</th>\n",
       "      <th>AdmitDate</th>\n",
       "      <th>EVENT_CD_DESCR</th>\n",
       "      <th>EventEndDtTm</th>\n",
       "      <th>Volume</th>\n",
       "      <th>OE_FIELD_DISPLAY_VALUE</th>\n",
       "      <th>RESULT_UNITS_CD_DESCR</th>\n",
       "      <th>Unnamed: 3</th>\n",
       "    </tr>\n",
       "  </thead>\n",
       "  <tbody>\n",
       "    <tr>\n",
       "      <th>0</th>\n",
       "      <td>1709</td>\n",
       "      <td>8/29/16</td>\n",
       "      <td>Dextrose 5% with 0.9% NaCl-KCl 20mEq/l</td>\n",
       "      <td>8/29/16 2:59 PM</td>\n",
       "      <td>52.0000</td>\n",
       "      <td>IV Infusion</td>\n",
       "      <td>mL</td>\n",
       "      <td>NaN</td>\n",
       "    </tr>\n",
       "    <tr>\n",
       "      <th>1</th>\n",
       "      <td>1709</td>\n",
       "      <td>8/29/16</td>\n",
       "      <td>Dextrose 5% with 0.9% NaCl-KCl 20mEq/l</td>\n",
       "      <td>8/29/16 3:59 PM</td>\n",
       "      <td>52.0000</td>\n",
       "      <td>IV Infusion</td>\n",
       "      <td>mL</td>\n",
       "      <td>NaN</td>\n",
       "    </tr>\n",
       "    <tr>\n",
       "      <th>2</th>\n",
       "      <td>1709</td>\n",
       "      <td>8/29/16</td>\n",
       "      <td>Dextrose 5% with 0.9% NaCl-KCl 20mEq/l</td>\n",
       "      <td>8/29/16 12:59 PM</td>\n",
       "      <td>52.0000</td>\n",
       "      <td>IV Infusion</td>\n",
       "      <td>mL</td>\n",
       "      <td>NaN</td>\n",
       "    </tr>\n",
       "    <tr>\n",
       "      <th>3</th>\n",
       "      <td>1709</td>\n",
       "      <td>8/29/16</td>\n",
       "      <td>Dextrose 5% with 0.9% NaCl-KCl 20mEq/l</td>\n",
       "      <td>8/29/16 10:59 AM</td>\n",
       "      <td>43.3333</td>\n",
       "      <td>IV Infusion</td>\n",
       "      <td>mL</td>\n",
       "      <td>NaN</td>\n",
       "    </tr>\n",
       "    <tr>\n",
       "      <th>4</th>\n",
       "      <td>1709</td>\n",
       "      <td>8/29/16</td>\n",
       "      <td>Dextrose 5% with 0.9% NaCl-KCl 20mEq/l</td>\n",
       "      <td>8/29/16 11:59 AM</td>\n",
       "      <td>52.0000</td>\n",
       "      <td>IV Infusion</td>\n",
       "      <td>mL</td>\n",
       "      <td>NaN</td>\n",
       "    </tr>\n",
       "  </tbody>\n",
       "</table>\n",
       "</div>"
      ]
     },
     "execution_count": 10,
     "metadata": {},
     "output_type": "execute_result"
    }
   ],
   "execution_count": 10
  },
  {
   "metadata": {
    "ExecuteTime": {
     "end_time": "2024-11-29T14:11:45.491955Z",
     "start_time": "2024-11-29T14:11:45.449053Z"
    }
   },
   "cell_type": "code",
   "source": "ivf_2016_2019_data['OE_FIELD_DISPLAY_VALUE'].value_counts()",
   "id": "514729b379e27725",
   "outputs": [
    {
     "data": {
      "text/plain": [
       "OE_FIELD_DISPLAY_VALUE\n",
       "IV Infusion            838934\n",
       "IVPB                    79972\n",
       "IV                      20678\n",
       "Periph Nerve Cath        8232\n",
       "PO                       8096\n",
       "Epidural                 7304\n",
       "Feeding Tube             4487\n",
       "Nostril-Both             4358\n",
       "Intra-arTERial           2850\n",
       "G-Tube                   2138\n",
       "Dialysis Infusion        1193\n",
       "Irrigation               1050\n",
       "Paravertebral Cath        852\n",
       "NG-Tube                   482\n",
       "Nebulized Inh             402\n",
       "Rectal Irrigation         200\n",
       "MISC                      159\n",
       "IV Push                   148\n",
       "Line Care                 103\n",
       "IntraPLEural              100\n",
       "Hemodialysis               53\n",
       "Intranasal                 45\n",
       "MISC Infusion              20\n",
       "J-Tube                     20\n",
       "CRRT                       16\n",
       "IntraTHECAL                15\n",
       "Urethral                    9\n",
       "Pheresis Infusion           8\n",
       "Nostril-Left                3\n",
       "IntraPERitoneal             3\n",
       "GI Tract                    2\n",
       "I.V. Push (non-std)         1\n",
       "Subcutaneous                1\n",
       "Lavage                      1\n",
       "Name: count, dtype: int64"
      ]
     },
     "execution_count": 11,
     "metadata": {},
     "output_type": "execute_result"
    }
   ],
   "execution_count": 11
  },
  {
   "metadata": {
    "ExecuteTime": {
     "end_time": "2024-11-29T14:11:45.568386Z",
     "start_time": "2024-11-29T14:11:45.543271Z"
    }
   },
   "cell_type": "code",
   "source": "ivf_2016_2019_data['OE_FIELD_DISPLAY_VALUE'].isna().sum()",
   "id": "fc259a8aa0e89355",
   "outputs": [
    {
     "data": {
      "text/plain": [
       "229"
      ]
     },
     "execution_count": 12,
     "metadata": {},
     "output_type": "execute_result"
    }
   ],
   "execution_count": 12
  },
  {
   "metadata": {
    "ExecuteTime": {
     "end_time": "2024-11-29T14:11:45.685675Z",
     "start_time": "2024-11-29T14:11:45.679457Z"
    }
   },
   "cell_type": "code",
   "source": "ivf_2016_2019_data['StudyID'].nunique()",
   "id": "1bacc8f8733931cc",
   "outputs": [
    {
     "data": {
      "text/plain": [
       "8415"
      ]
     },
     "execution_count": 13,
     "metadata": {},
     "output_type": "execute_result"
    }
   ],
   "execution_count": 13
  },
  {
   "metadata": {
    "ExecuteTime": {
     "end_time": "2024-11-29T14:11:45.780765Z",
     "start_time": "2024-11-29T14:11:45.777085Z"
    }
   },
   "cell_type": "code",
   "source": "ivf_2016_2019_data.dtypes",
   "id": "1ed8c8b909da70c2",
   "outputs": [
    {
     "data": {
      "text/plain": [
       "StudyID                     int64\n",
       "AdmitDate                  object\n",
       "EVENT_CD_DESCR             object\n",
       "EventEndDtTm               object\n",
       "Volume                    float64\n",
       "OE_FIELD_DISPLAY_VALUE     object\n",
       "RESULT_UNITS_CD_DESCR      object\n",
       "Unnamed: 3                float64\n",
       "dtype: object"
      ]
     },
     "execution_count": 14,
     "metadata": {},
     "output_type": "execute_result"
    }
   ],
   "execution_count": 14
  },
  {
   "metadata": {
    "ExecuteTime": {
     "end_time": "2024-11-29T14:11:45.937878Z",
     "start_time": "2024-11-29T14:11:45.854289Z"
    }
   },
   "cell_type": "code",
   "source": [
    "filter_columns = ['StudyID', 'AdmitDate', 'EVENT_CD_DESCR', 'EventEndDtTm', 'OE_FIELD_DISPLAY_VALUE', 'Volume', 'RESULT_UNITS_CD_DESCR']\n",
    "rename_columns = {'AdmitDate': 'AdmitDtTm', 'EVENT_CD_DESCR': 'Fluid', 'OE_FIELD_DISPLAY_VALUE': 'Route', 'RESULT_UNITS_CD_DESCR': 'Unit'}\n",
    "filtered_ivf_data_2016_2019 = ivf_2016_2019_data[filter_columns]\n",
    "filtered_ivf_data_2016_2019 = filtered_ivf_data_2016_2019.rename(columns=rename_columns)\n",
    "filtered_ivf_data_2016_2019.head()"
   ],
   "id": "b407ccc799068e0d",
   "outputs": [
    {
     "data": {
      "text/plain": [
       "   StudyID AdmitDtTm                                   Fluid  \\\n",
       "0     1709   8/29/16  Dextrose 5% with 0.9% NaCl-KCl 20mEq/l   \n",
       "1     1709   8/29/16  Dextrose 5% with 0.9% NaCl-KCl 20mEq/l   \n",
       "2     1709   8/29/16  Dextrose 5% with 0.9% NaCl-KCl 20mEq/l   \n",
       "3     1709   8/29/16  Dextrose 5% with 0.9% NaCl-KCl 20mEq/l   \n",
       "4     1709   8/29/16  Dextrose 5% with 0.9% NaCl-KCl 20mEq/l   \n",
       "\n",
       "       EventEndDtTm        Route   Volume Unit  \n",
       "0   8/29/16 2:59 PM  IV Infusion  52.0000   mL  \n",
       "1   8/29/16 3:59 PM  IV Infusion  52.0000   mL  \n",
       "2  8/29/16 12:59 PM  IV Infusion  52.0000   mL  \n",
       "3  8/29/16 10:59 AM  IV Infusion  43.3333   mL  \n",
       "4  8/29/16 11:59 AM  IV Infusion  52.0000   mL  "
      ],
      "text/html": [
       "<div>\n",
       "<style scoped>\n",
       "    .dataframe tbody tr th:only-of-type {\n",
       "        vertical-align: middle;\n",
       "    }\n",
       "\n",
       "    .dataframe tbody tr th {\n",
       "        vertical-align: top;\n",
       "    }\n",
       "\n",
       "    .dataframe thead th {\n",
       "        text-align: right;\n",
       "    }\n",
       "</style>\n",
       "<table border=\"1\" class=\"dataframe\">\n",
       "  <thead>\n",
       "    <tr style=\"text-align: right;\">\n",
       "      <th></th>\n",
       "      <th>StudyID</th>\n",
       "      <th>AdmitDtTm</th>\n",
       "      <th>Fluid</th>\n",
       "      <th>EventEndDtTm</th>\n",
       "      <th>Route</th>\n",
       "      <th>Volume</th>\n",
       "      <th>Unit</th>\n",
       "    </tr>\n",
       "  </thead>\n",
       "  <tbody>\n",
       "    <tr>\n",
       "      <th>0</th>\n",
       "      <td>1709</td>\n",
       "      <td>8/29/16</td>\n",
       "      <td>Dextrose 5% with 0.9% NaCl-KCl 20mEq/l</td>\n",
       "      <td>8/29/16 2:59 PM</td>\n",
       "      <td>IV Infusion</td>\n",
       "      <td>52.0000</td>\n",
       "      <td>mL</td>\n",
       "    </tr>\n",
       "    <tr>\n",
       "      <th>1</th>\n",
       "      <td>1709</td>\n",
       "      <td>8/29/16</td>\n",
       "      <td>Dextrose 5% with 0.9% NaCl-KCl 20mEq/l</td>\n",
       "      <td>8/29/16 3:59 PM</td>\n",
       "      <td>IV Infusion</td>\n",
       "      <td>52.0000</td>\n",
       "      <td>mL</td>\n",
       "    </tr>\n",
       "    <tr>\n",
       "      <th>2</th>\n",
       "      <td>1709</td>\n",
       "      <td>8/29/16</td>\n",
       "      <td>Dextrose 5% with 0.9% NaCl-KCl 20mEq/l</td>\n",
       "      <td>8/29/16 12:59 PM</td>\n",
       "      <td>IV Infusion</td>\n",
       "      <td>52.0000</td>\n",
       "      <td>mL</td>\n",
       "    </tr>\n",
       "    <tr>\n",
       "      <th>3</th>\n",
       "      <td>1709</td>\n",
       "      <td>8/29/16</td>\n",
       "      <td>Dextrose 5% with 0.9% NaCl-KCl 20mEq/l</td>\n",
       "      <td>8/29/16 10:59 AM</td>\n",
       "      <td>IV Infusion</td>\n",
       "      <td>43.3333</td>\n",
       "      <td>mL</td>\n",
       "    </tr>\n",
       "    <tr>\n",
       "      <th>4</th>\n",
       "      <td>1709</td>\n",
       "      <td>8/29/16</td>\n",
       "      <td>Dextrose 5% with 0.9% NaCl-KCl 20mEq/l</td>\n",
       "      <td>8/29/16 11:59 AM</td>\n",
       "      <td>IV Infusion</td>\n",
       "      <td>52.0000</td>\n",
       "      <td>mL</td>\n",
       "    </tr>\n",
       "  </tbody>\n",
       "</table>\n",
       "</div>"
      ]
     },
     "execution_count": 15,
     "metadata": {},
     "output_type": "execute_result"
    }
   ],
   "execution_count": 15
  },
  {
   "metadata": {
    "ExecuteTime": {
     "end_time": "2024-11-29T14:11:46.658864Z",
     "start_time": "2024-11-29T14:11:46.099490Z"
    }
   },
   "cell_type": "code",
   "source": [
    "ivf_data = pd.concat([filtered_ivf_data_2012_2015, filtered_ivf_data_2016_2019], axis=0)\n",
    "ivf_data.head()"
   ],
   "id": "242a8aeff76f1657",
   "outputs": [
    {
     "data": {
      "text/plain": [
       "   StudyID            AdmitDtTm                 Fluid   EventEndDtTm  \\\n",
       "0    19334  2013-05-14 00:00:00  Sodium Chloride 0.9%   5/17/13 7:59   \n",
       "1    19334  2013-05-14 00:00:00  Sodium Chloride 0.9%   5/17/13 8:59   \n",
       "2    19334  2013-05-14 00:00:00  Sodium Chloride 0.9%   5/17/13 9:59   \n",
       "3    19334  2013-05-14 00:00:00  Sodium Chloride 0.9%  5/17/13 10:59   \n",
       "4    19334  2013-05-14 00:00:00  Sodium Chloride 0.9%  5/17/13 11:59   \n",
       "\n",
       "         Route  Volume Unit  \n",
       "0  IV Infusion    75.0   mL  \n",
       "1  IV Infusion    75.0   mL  \n",
       "2  IV Infusion    75.0   mL  \n",
       "3  IV Infusion    75.0   mL  \n",
       "4  IV Infusion    75.0   mL  "
      ],
      "text/html": [
       "<div>\n",
       "<style scoped>\n",
       "    .dataframe tbody tr th:only-of-type {\n",
       "        vertical-align: middle;\n",
       "    }\n",
       "\n",
       "    .dataframe tbody tr th {\n",
       "        vertical-align: top;\n",
       "    }\n",
       "\n",
       "    .dataframe thead th {\n",
       "        text-align: right;\n",
       "    }\n",
       "</style>\n",
       "<table border=\"1\" class=\"dataframe\">\n",
       "  <thead>\n",
       "    <tr style=\"text-align: right;\">\n",
       "      <th></th>\n",
       "      <th>StudyID</th>\n",
       "      <th>AdmitDtTm</th>\n",
       "      <th>Fluid</th>\n",
       "      <th>EventEndDtTm</th>\n",
       "      <th>Route</th>\n",
       "      <th>Volume</th>\n",
       "      <th>Unit</th>\n",
       "    </tr>\n",
       "  </thead>\n",
       "  <tbody>\n",
       "    <tr>\n",
       "      <th>0</th>\n",
       "      <td>19334</td>\n",
       "      <td>2013-05-14 00:00:00</td>\n",
       "      <td>Sodium Chloride 0.9%</td>\n",
       "      <td>5/17/13 7:59</td>\n",
       "      <td>IV Infusion</td>\n",
       "      <td>75.0</td>\n",
       "      <td>mL</td>\n",
       "    </tr>\n",
       "    <tr>\n",
       "      <th>1</th>\n",
       "      <td>19334</td>\n",
       "      <td>2013-05-14 00:00:00</td>\n",
       "      <td>Sodium Chloride 0.9%</td>\n",
       "      <td>5/17/13 8:59</td>\n",
       "      <td>IV Infusion</td>\n",
       "      <td>75.0</td>\n",
       "      <td>mL</td>\n",
       "    </tr>\n",
       "    <tr>\n",
       "      <th>2</th>\n",
       "      <td>19334</td>\n",
       "      <td>2013-05-14 00:00:00</td>\n",
       "      <td>Sodium Chloride 0.9%</td>\n",
       "      <td>5/17/13 9:59</td>\n",
       "      <td>IV Infusion</td>\n",
       "      <td>75.0</td>\n",
       "      <td>mL</td>\n",
       "    </tr>\n",
       "    <tr>\n",
       "      <th>3</th>\n",
       "      <td>19334</td>\n",
       "      <td>2013-05-14 00:00:00</td>\n",
       "      <td>Sodium Chloride 0.9%</td>\n",
       "      <td>5/17/13 10:59</td>\n",
       "      <td>IV Infusion</td>\n",
       "      <td>75.0</td>\n",
       "      <td>mL</td>\n",
       "    </tr>\n",
       "    <tr>\n",
       "      <th>4</th>\n",
       "      <td>19334</td>\n",
       "      <td>2013-05-14 00:00:00</td>\n",
       "      <td>Sodium Chloride 0.9%</td>\n",
       "      <td>5/17/13 11:59</td>\n",
       "      <td>IV Infusion</td>\n",
       "      <td>75.0</td>\n",
       "      <td>mL</td>\n",
       "    </tr>\n",
       "  </tbody>\n",
       "</table>\n",
       "</div>"
      ]
     },
     "execution_count": 16,
     "metadata": {},
     "output_type": "execute_result"
    }
   ],
   "execution_count": 16
  },
  {
   "metadata": {
    "ExecuteTime": {
     "end_time": "2024-11-29T14:11:46.786298Z",
     "start_time": "2024-11-29T14:11:46.776725Z"
    }
   },
   "cell_type": "code",
   "source": "ivf_data['StudyID'].nunique()",
   "id": "1a607ae39557c6b",
   "outputs": [
    {
     "data": {
      "text/plain": [
       "15755"
      ]
     },
     "execution_count": 17,
     "metadata": {},
     "output_type": "execute_result"
    }
   ],
   "execution_count": 17
  },
  {
   "metadata": {
    "ExecuteTime": {
     "end_time": "2024-11-29T14:11:47.034076Z",
     "start_time": "2024-11-29T14:11:47.015277Z"
    }
   },
   "cell_type": "code",
   "source": "assert ivf_data['StudyID'].nunique() == ivf_2012_2015_data['StudyID'].nunique() + ivf_2016_2019_data['StudyID'].nunique(), 'Study IDs duplicated across datasets'",
   "id": "d51bd74e4d48e8a1",
   "outputs": [],
   "execution_count": 18
  },
  {
   "metadata": {
    "ExecuteTime": {
     "end_time": "2024-11-29T14:11:47.956576Z",
     "start_time": "2024-11-29T14:11:47.135549Z"
    }
   },
   "cell_type": "code",
   "source": [
    "cohort_study_ids = load_patient_cohort_ids()\n",
    "ivf_data = ivf_data[ivf_data['StudyID'].isin(cohort_study_ids)]\n",
    "ivf_data['StudyID'].nunique()"
   ],
   "id": "a91c71e15d9e2ae3",
   "outputs": [
    {
     "name": "stderr",
     "output_type": "stream",
     "text": [
      "/var/folders/vf/695131157rl2pvb9_s5zykbh0000gn/T/ipykernel_33855/782841116.py:20: DtypeWarning: Columns (1,2,133) have mixed types. Specify dtype option on import or set low_memory=False.\n",
      "  compiled_patient_data_2012_2015 = pd.read_csv('/Users/larry/Documents/UWT/Thesis Work/rec_sys/datasets/trauma_icu_resuscitation/2012-2015_compiled_patient_data_with_cohorts_no_L_required_new_IVF_EarlyLateBolus.csv')\n"
     ]
    },
    {
     "name": "stdout",
     "output_type": "stream",
     "text": [
      "Number of patient cohort ids: 9354 (2012-2015: 4484, 2016-2019: 4870)\n"
     ]
    },
    {
     "data": {
      "text/plain": [
       "9354"
      ]
     },
     "execution_count": 19,
     "metadata": {},
     "output_type": "execute_result"
    }
   ],
   "execution_count": 19
  },
  {
   "metadata": {},
   "cell_type": "markdown",
   "source": "# Unit Investigation",
   "id": "f52f5bbd41468b9"
  },
  {
   "metadata": {
    "ExecuteTime": {
     "end_time": "2024-11-29T14:11:48.009217Z",
     "start_time": "2024-11-29T14:11:47.977153Z"
    }
   },
   "cell_type": "code",
   "source": "ivf_data['Unit'].isna().sum()",
   "id": "61bcfea83b5c3760",
   "outputs": [
    {
     "data": {
      "text/plain": [
       "0"
      ]
     },
     "execution_count": 20,
     "metadata": {},
     "output_type": "execute_result"
    }
   ],
   "execution_count": 20
  },
  {
   "metadata": {
    "ExecuteTime": {
     "end_time": "2024-11-29T14:11:48.173472Z",
     "start_time": "2024-11-29T14:11:48.123849Z"
    }
   },
   "cell_type": "code",
   "source": "ivf_data['Unit'].value_counts()",
   "id": "e7e4e107763f88a7",
   "outputs": [
    {
     "data": {
      "text/plain": [
       "Unit\n",
       "mL             1197542\n",
       "g                30800\n",
       "mEq              13359\n",
       "spray(s)          2802\n",
       "application        114\n",
       "each                10\n",
       "L                    5\n",
       "Name: count, dtype: int64"
      ]
     },
     "execution_count": 21,
     "metadata": {},
     "output_type": "execute_result"
    }
   ],
   "execution_count": 21
  },
  {
   "metadata": {
    "ExecuteTime": {
     "end_time": "2024-11-29T14:11:48.438243Z",
     "start_time": "2024-11-29T14:11:48.392891Z"
    }
   },
   "cell_type": "code",
   "source": "ivf_data[ivf_data['Unit'] == 'mEq']['Fluid'].value_counts()",
   "id": "ac83e73fb7082cdd",
   "outputs": [
    {
     "data": {
      "text/plain": [
       "Fluid\n",
       "sodium chloride    13359\n",
       "Name: count, dtype: int64"
      ]
     },
     "execution_count": 22,
     "metadata": {},
     "output_type": "execute_result"
    }
   ],
   "execution_count": 22
  },
  {
   "metadata": {
    "ExecuteTime": {
     "end_time": "2024-11-29T14:11:48.612868Z",
     "start_time": "2024-11-29T14:11:48.565469Z"
    }
   },
   "cell_type": "code",
   "source": "ivf_data[ivf_data['Unit'] == 'mEq']['Volume'].value_counts()",
   "id": "2e84488d2297e689",
   "outputs": [
    {
     "data": {
      "text/plain": [
       "Volume\n",
       "17.100000    828\n",
       "25.650000    413\n",
       "31.333333    342\n",
       "8.550000     302\n",
       "5.833131     191\n",
       "            ... \n",
       "15.658413      1\n",
       "5.519001       1\n",
       "22.230000      1\n",
       "0.138898       1\n",
       "19.999995      1\n",
       "Name: count, Length: 1054, dtype: int64"
      ]
     },
     "execution_count": 23,
     "metadata": {},
     "output_type": "execute_result"
    }
   ],
   "execution_count": 23
  },
  {
   "metadata": {
    "ExecuteTime": {
     "end_time": "2024-11-29T14:11:49.077617Z",
     "start_time": "2024-11-29T14:11:48.848929Z"
    }
   },
   "cell_type": "code",
   "source": [
    "print(ivf_data[ivf_data['Unit'] == 'mEq']['Volume'].describe())\n",
    "ivf_data[ivf_data['Unit'] == 'mEq']['Volume'].plot.box()"
   ],
   "id": "c8ed17b5b2a518fa",
   "outputs": [
    {
     "name": "stdout",
     "output_type": "stream",
     "text": [
      "count    13359.000000\n",
      "mean        14.031652\n",
      "std         23.311895\n",
      "min          0.050589\n",
      "25%          5.833653\n",
      "50%         10.416540\n",
      "75%         18.023060\n",
      "max        684.000000\n",
      "Name: Volume, dtype: float64\n"
     ]
    },
    {
     "data": {
      "text/plain": [
       "<Axes: >"
      ]
     },
     "execution_count": 24,
     "metadata": {},
     "output_type": "execute_result"
    },
    {
     "data": {
      "text/plain": [
       "<Figure size 640x480 with 1 Axes>"
      ],
      "image/png": "[encoded data removed]"
     },
     "metadata": {},
     "output_type": "display_data"
    }
   ],
   "execution_count": 24
  },
  {
   "metadata": {
    "ExecuteTime": {
     "end_time": "2024-11-29T14:11:49.129574Z",
     "start_time": "2024-11-29T14:11:49.082926Z"
    }
   },
   "cell_type": "code",
   "source": "ivf_data[ivf_data['Unit'] == 'g']['Fluid'].value_counts()",
   "id": "6957146a6bd93dd7",
   "outputs": [
    {
     "data": {
      "text/plain": [
       "Fluid\n",
       "Dextrose 70% in Water    25895\n",
       "sodium chloride           3671\n",
       "Dextrose 20% in Water     1234\n",
       "Name: count, dtype: int64"
      ]
     },
     "execution_count": 25,
     "metadata": {},
     "output_type": "execute_result"
    }
   ],
   "execution_count": 25
  },
  {
   "metadata": {
    "ExecuteTime": {
     "end_time": "2024-11-29T14:11:49.444027Z",
     "start_time": "2024-11-29T14:11:49.285749Z"
    }
   },
   "cell_type": "code",
   "source": [
    "print(ivf_data[ivf_data['Unit'] == 'g']['Volume'].describe())\n",
    "ivf_data[ivf_data['Unit'] == 'g']['Volume'].plot.box()"
   ],
   "id": "f6370cb87b925258",
   "outputs": [
    {
     "name": "stdout",
     "output_type": "stream",
     "text": [
      "count    30800.000000\n",
      "mean        14.677836\n",
      "std         16.707407\n",
      "min          0.195610\n",
      "25%          9.375747\n",
      "50%         14.583932\n",
      "75%         17.707547\n",
      "max       1921.061105\n",
      "Name: Volume, dtype: float64\n"
     ]
    },
    {
     "data": {
      "text/plain": [
       "<Axes: >"
      ]
     },
     "execution_count": 26,
     "metadata": {},
     "output_type": "execute_result"
    },
    {
     "data": {
      "text/plain": [
       "<Figure size 640x480 with 1 Axes>"
      ],
      "image/png": "[encoded data removed]"
     },
     "metadata": {},
     "output_type": "display_data"
    }
   ],
   "execution_count": 26
  },
  {
   "metadata": {
    "ExecuteTime": {
     "end_time": "2024-11-29T14:11:50.118561Z",
     "start_time": "2024-11-29T14:11:49.737035Z"
    }
   },
   "cell_type": "code",
   "source": [
    "print(ivf_data[ivf_data['Unit'] == 'mL']['Volume'].describe())\n",
    "ivf_data[ivf_data['Unit'] == 'mL']['Volume'].plot.box()"
   ],
   "id": "1c7d268351b10457",
   "outputs": [
    {
     "name": "stdout",
     "output_type": "stream",
     "text": [
      "count    1.197542e+06\n",
      "mean     1.589708e+03\n",
      "std      1.655754e+06\n",
      "min      8.000000e-05\n",
      "25%      1.000000e+01\n",
      "50%      2.916670e+01\n",
      "75%      1.000000e+02\n",
      "max      1.811924e+09\n",
      "Name: Volume, dtype: float64\n"
     ]
    },
    {
     "data": {
      "text/plain": [
       "<Axes: >"
      ]
     },
     "execution_count": 27,
     "metadata": {},
     "output_type": "execute_result"
    },
    {
     "data": {
      "text/plain": [
       "<Figure size 640x480 with 1 Axes>"
      ],
      "image/png": "[encoded data removed]"
     },
     "metadata": {},
     "output_type": "display_data"
    }
   ],
   "execution_count": 27
  },
  {
   "metadata": {
    "ExecuteTime": {
     "end_time": "2024-11-29T14:11:51.036126Z",
     "start_time": "2024-11-29T14:11:50.868589Z"
    }
   },
   "cell_type": "code",
   "source": "ivf_data[ivf_data['Unit'] == 'mL']['Fluid'].value_counts()",
   "id": "de608b58a9144c27",
   "outputs": [
    {
     "data": {
      "text/plain": [
       "Fluid\n",
       "Sodium Chloride 0.9%                        626792\n",
       "Dextrose 5% in Water                        120547\n",
       "Lactated Ringers Injection                  106121\n",
       "Dextrose 5% in Lactated Ringers Injectio    105686\n",
       "Dextrose 5% with 0.45% NaCl-KCl 20mEq/l      60034\n",
       "sodium chloride                              54179\n",
       "Dextrose 5% with 0.45% NaCl                  36236\n",
       "Dextrose 5% with 0.9% NaCl                   27758\n",
       "Dextrose 5% with 0.9% NaCl-KCl 20mEq/l       15249\n",
       "Dextrose 70% in Water                        13664\n",
       "Electrolyte Solution (Plasma-Lyte)            8897\n",
       "Sodium Chloride 0.9% with KCL 20 mEq/l        6835\n",
       "Dextrose 50% in Water                         5686\n",
       "Sodium Chloride 0.45%                         3870\n",
       "Dextrose 10% in Water                         3610\n",
       "Sodium Chloride 3%                             879\n",
       "Dextrose 5% with 0.45% NaCl-KCl 40mEq/l        617\n",
       "Dextrose 5% with 0.2% NaCl                     433\n",
       "Dextrose 20% in Water                          426\n",
       "Sodium Chloride 2%                              23\n",
       "Name: count, dtype: int64"
      ]
     },
     "execution_count": 28,
     "metadata": {},
     "output_type": "execute_result"
    }
   ],
   "execution_count": 28
  },
  {
   "metadata": {
    "ExecuteTime": {
     "end_time": "2024-11-29T14:11:52.068860Z",
     "start_time": "2024-11-29T14:11:52.023772Z"
    }
   },
   "cell_type": "code",
   "source": "ivf_data[ivf_data['Unit'] == 'spray(s)']['Fluid'].value_counts()",
   "id": "5d8dd63de503204e",
   "outputs": [
    {
     "data": {
      "text/plain": [
       "Fluid\n",
       "sodium chloride nasal    2802\n",
       "Name: count, dtype: int64"
      ]
     },
     "execution_count": 29,
     "metadata": {},
     "output_type": "execute_result"
    }
   ],
   "execution_count": 29
  },
  {
   "metadata": {
    "ExecuteTime": {
     "end_time": "2024-11-29T14:11:52.878756Z",
     "start_time": "2024-11-29T14:11:52.718884Z"
    }
   },
   "cell_type": "code",
   "source": [
    "print(ivf_data[ivf_data['Unit'] == 'spray(s)']['Volume'].describe())\n",
    "ivf_data[ivf_data['Unit'] == 'spray(s)']['Volume'].plot.box()"
   ],
   "id": "9dbea4ecf0733012",
   "outputs": [
    {
     "name": "stdout",
     "output_type": "stream",
     "text": [
      "count    2802.000000\n",
      "mean        1.864026\n",
      "std         0.760783\n",
      "min         1.000000\n",
      "25%         1.000000\n",
      "50%         2.000000\n",
      "75%         2.000000\n",
      "max         5.000000\n",
      "Name: Volume, dtype: float64\n"
     ]
    },
    {
     "data": {
      "text/plain": [
       "<Axes: >"
      ]
     },
     "execution_count": 30,
     "metadata": {},
     "output_type": "execute_result"
    },
    {
     "data": {
      "text/plain": [
       "<Figure size 640x480 with 1 Axes>"
      ],
      "image/png": "[encoded data removed]"
     },
     "metadata": {},
     "output_type": "display_data"
    }
   ],
   "execution_count": 30
  },
  {
   "metadata": {
    "ExecuteTime": {
     "end_time": "2024-11-29T14:11:54.167824Z",
     "start_time": "2024-11-29T14:11:54.124769Z"
    }
   },
   "cell_type": "code",
   "source": "ivf_data[ivf_data['Unit'] == 'application']['Fluid'].value_counts()",
   "id": "45712573d9468882",
   "outputs": [
    {
     "data": {
      "text/plain": [
       "Fluid\n",
       "sodium chloride nasal         52\n",
       "sodium chloride               43\n",
       "Lactated Ringers Injection    19\n",
       "Name: count, dtype: int64"
      ]
     },
     "execution_count": 31,
     "metadata": {},
     "output_type": "execute_result"
    }
   ],
   "execution_count": 31
  },
  {
   "metadata": {
    "ExecuteTime": {
     "end_time": "2024-11-29T14:11:54.877943Z",
     "start_time": "2024-11-29T14:11:54.729481Z"
    }
   },
   "cell_type": "code",
   "source": [
    "print(ivf_data[ivf_data['Unit'] == 'application']['Volume'].describe())\n",
    "ivf_data[ivf_data['Unit'] == 'application']['Volume'].plot.box()"
   ],
   "id": "910b73679a57dc66",
   "outputs": [
    {
     "name": "stdout",
     "output_type": "stream",
     "text": [
      "count    114.000000\n",
      "mean       4.912281\n",
      "std       28.363806\n",
      "min        1.000000\n",
      "25%        1.000000\n",
      "50%        1.000000\n",
      "75%        1.000000\n",
      "max      250.000000\n",
      "Name: Volume, dtype: float64\n"
     ]
    },
    {
     "data": {
      "text/plain": [
       "<Axes: >"
      ]
     },
     "execution_count": 32,
     "metadata": {},
     "output_type": "execute_result"
    },
    {
     "data": {
      "text/plain": [
       "<Figure size 640x480 with 1 Axes>"
      ],
      "image/png": "[encoded data removed]"
     },
     "metadata": {},
     "output_type": "display_data"
    }
   ],
   "execution_count": 32
  },
  {
   "metadata": {
    "ExecuteTime": {
     "end_time": "2024-11-29T14:11:55.189343Z",
     "start_time": "2024-11-29T14:11:55.144914Z"
    }
   },
   "cell_type": "code",
   "source": "ivf_data[ivf_data['Unit'] == 'each']['Fluid'].value_counts()",
   "id": "1774071bc01caec6",
   "outputs": [
    {
     "data": {
      "text/plain": [
       "Fluid\n",
       "sodium chloride               7\n",
       "Lactated Ringers Injection    3\n",
       "Name: count, dtype: int64"
      ]
     },
     "execution_count": 33,
     "metadata": {},
     "output_type": "execute_result"
    }
   ],
   "execution_count": 33
  },
  {
   "metadata": {
    "ExecuteTime": {
     "end_time": "2024-11-29T14:11:55.919337Z",
     "start_time": "2024-11-29T14:11:55.772201Z"
    }
   },
   "cell_type": "code",
   "source": [
    "print(ivf_data[ivf_data['Unit'] == 'each']['Volume'].describe())\n",
    "ivf_data[ivf_data['Unit'] == 'each']['Volume'].plot.box()"
   ],
   "id": "b15af0ebc340e176",
   "outputs": [
    {
     "name": "stdout",
     "output_type": "stream",
     "text": [
      "count    10.0\n",
      "mean      1.0\n",
      "std       0.0\n",
      "min       1.0\n",
      "25%       1.0\n",
      "50%       1.0\n",
      "75%       1.0\n",
      "max       1.0\n",
      "Name: Volume, dtype: float64\n"
     ]
    },
    {
     "data": {
      "text/plain": [
       "<Axes: >"
      ]
     },
     "execution_count": 34,
     "metadata": {},
     "output_type": "execute_result"
    },
    {
     "data": {
      "text/plain": [
       "<Figure size 640x480 with 1 Axes>"
      ],
      "image/png": "[encoded data removed]"
     },
     "metadata": {},
     "output_type": "display_data"
    }
   ],
   "execution_count": 34
  },
  {
   "metadata": {
    "ExecuteTime": {
     "end_time": "2024-11-29T14:11:56.430502Z",
     "start_time": "2024-11-29T14:11:56.238343Z"
    }
   },
   "cell_type": "code",
   "source": [
    "mask = (ivf_data['Unit'] == 'each') | (ivf_data['Unit'] == 'application') | (ivf_data['Unit'] == 'spray(s)')\n",
    "print(ivf_data[mask]['Volume'].describe())\n",
    "ivf_data[mask]['Volume'].plot.box()"
   ],
   "id": "5cca205a844dfc8f",
   "outputs": [
    {
     "name": "stdout",
     "output_type": "stream",
     "text": [
      "count    2926.000000\n",
      "mean        1.979836\n",
      "std         5.655579\n",
      "min         1.000000\n",
      "25%         1.000000\n",
      "50%         2.000000\n",
      "75%         2.000000\n",
      "max       250.000000\n",
      "Name: Volume, dtype: float64\n"
     ]
    },
    {
     "data": {
      "text/plain": [
       "<Axes: >"
      ]
     },
     "execution_count": 35,
     "metadata": {},
     "output_type": "execute_result"
    },
    {
     "data": {
      "text/plain": [
       "<Figure size 640x480 with 1 Axes>"
      ],
      "image/png": "[encoded data removed]"
     },
     "metadata": {},
     "output_type": "display_data"
    }
   ],
   "execution_count": 35
  },
  {
   "metadata": {
    "ExecuteTime": {
     "end_time": "2024-11-29T14:11:57.092464Z",
     "start_time": "2024-11-29T14:11:57.048326Z"
    }
   },
   "cell_type": "code",
   "source": "ivf_data[ivf_data['Unit'] == 'L']['Fluid'].value_counts()",
   "id": "a10b24ea0fae439d",
   "outputs": [
    {
     "data": {
      "text/plain": [
       "Fluid\n",
       "Lactated Ringers Injection    3\n",
       "Sodium Chloride 0.9%          2\n",
       "Name: count, dtype: int64"
      ]
     },
     "execution_count": 36,
     "metadata": {},
     "output_type": "execute_result"
    }
   ],
   "execution_count": 36
  },
  {
   "metadata": {
    "ExecuteTime": {
     "end_time": "2024-11-29T14:11:57.305453Z",
     "start_time": "2024-11-29T14:11:57.262169Z"
    }
   },
   "cell_type": "code",
   "source": "ivf_data[ivf_data['Unit'] == 'L']['Volume'].value_counts()",
   "id": "b7e1b66f700d1dac",
   "outputs": [
    {
     "data": {
      "text/plain": [
       "Volume\n",
       "1.0       2\n",
       "4000.0    1\n",
       "2.0       1\n",
       "1.5       1\n",
       "Name: count, dtype: int64"
      ]
     },
     "execution_count": 37,
     "metadata": {},
     "output_type": "execute_result"
    }
   ],
   "execution_count": 37
  },
  {
   "metadata": {
    "ExecuteTime": {
     "end_time": "2024-11-29T14:11:57.671531Z",
     "start_time": "2024-11-29T14:11:57.516716Z"
    }
   },
   "cell_type": "code",
   "source": [
    "print(ivf_data[ivf_data['Unit'] == 'L']['Volume'].describe())\n",
    "ivf_data[ivf_data['Unit'] == 'L']['Volume'].plot.box()"
   ],
   "id": "c5bf4080b0b5afd1",
   "outputs": [
    {
     "name": "stdout",
     "output_type": "stream",
     "text": [
      "count       5.000000\n",
      "mean      801.100000\n",
      "std      1788.239511\n",
      "min         1.000000\n",
      "25%         1.000000\n",
      "50%         1.500000\n",
      "75%         2.000000\n",
      "max      4000.000000\n",
      "Name: Volume, dtype: float64\n"
     ]
    },
    {
     "data": {
      "text/plain": [
       "<Axes: >"
      ]
     },
     "execution_count": 38,
     "metadata": {},
     "output_type": "execute_result"
    },
    {
     "data": {
      "text/plain": [
       "<Figure size 640x480 with 1 Axes>"
      ],
      "image/png": "[encoded data removed]"
     },
     "metadata": {},
     "output_type": "display_data"
    }
   ],
   "execution_count": 38
  },
  {
   "metadata": {
    "ExecuteTime": {
     "end_time": "2024-11-29T14:11:57.736697Z",
     "start_time": "2024-11-29T14:11:57.706591Z"
    }
   },
   "cell_type": "code",
   "source": "ivf_data['Unit'].isna().sum()",
   "id": "a8e7d28f0f4fb7c6",
   "outputs": [
    {
     "data": {
      "text/plain": [
       "0"
      ]
     },
     "execution_count": 39,
     "metadata": {},
     "output_type": "execute_result"
    }
   ],
   "execution_count": 39
  },
  {
   "metadata": {},
   "cell_type": "markdown",
   "source": "# Fluid Investigation",
   "id": "9dcb3a5100fedec3"
  },
  {
   "metadata": {
    "ExecuteTime": {
     "end_time": "2024-11-29T14:11:57.974681Z",
     "start_time": "2024-11-29T14:11:57.917215Z"
    }
   },
   "cell_type": "code",
   "source": "ivf_data['Fluid'].value_counts()",
   "id": "c8aa9a4c7639634f",
   "outputs": [
    {
     "data": {
      "text/plain": [
       "Fluid\n",
       "Sodium Chloride 0.9%                        626794\n",
       "Dextrose 5% in Water                        120547\n",
       "Lactated Ringers Injection                  106146\n",
       "Dextrose 5% in Lactated Ringers Injectio    105686\n",
       "sodium chloride                              71259\n",
       "Dextrose 5% with 0.45% NaCl-KCl 20mEq/l      60034\n",
       "Dextrose 70% in Water                        39559\n",
       "Dextrose 5% with 0.45% NaCl                  36236\n",
       "Dextrose 5% with 0.9% NaCl                   27758\n",
       "Dextrose 5% with 0.9% NaCl-KCl 20mEq/l       15249\n",
       "Electrolyte Solution (Plasma-Lyte)            8897\n",
       "Sodium Chloride 0.9% with KCL 20 mEq/l        6835\n",
       "Dextrose 50% in Water                         5686\n",
       "Sodium Chloride 0.45%                         3870\n",
       "Dextrose 10% in Water                         3610\n",
       "sodium chloride nasal                         2854\n",
       "Dextrose 20% in Water                         1660\n",
       "Sodium Chloride 3%                             879\n",
       "Dextrose 5% with 0.45% NaCl-KCl 40mEq/l        617\n",
       "Dextrose 5% with 0.2% NaCl                     433\n",
       "Sodium Chloride 2%                              23\n",
       "Name: count, dtype: int64"
      ]
     },
     "execution_count": 40,
     "metadata": {},
     "output_type": "execute_result"
    }
   ],
   "execution_count": 40
  },
  {
   "metadata": {},
   "cell_type": "markdown",
   "source": "# Correct Units",
   "id": "dd0751f2b1156ce1"
  },
  {
   "metadata": {
    "ExecuteTime": {
     "end_time": "2024-11-29T14:11:59.274460Z",
     "start_time": "2024-11-29T14:11:59.270651Z"
    }
   },
   "cell_type": "code",
   "source": [
    "def correct_and_filter_ivf(df: pd.DataFrame):\n",
    "    # drop units each, application, spray(s), mEq, and g\n",
    "    df.drop(df[df['Unit'].isin({'each', 'application', 'spray(s)', 'mEq', 'g'})].index, inplace=True)\n",
    "    # convert liters to ml\n",
    "    # 4000 L is likely a mistake. It's probably 4000 ml. So update everything less than 1000 L\n",
    "    df.loc[(df['Unit'] == 'L') & (df['Volume'] < 1000), 'Observation'] = df.loc[(df['Unit'] == 'L') & (df['Volume'] < 1000), 'Volume'] * 1000\n",
    "    df.loc[df['Unit'] == 'L', 'Unit'] = 'mL'\n",
    "    assert (df['Unit'] == 'mL').all(), df['Unit'].unique()\n",
    "    # drop routes that are not IV, IV Infusion, IVPB, IV Push, I.V. Push (non-std), or NaN\n",
    "    df.drop(df[~df['Route'].isin({'IV', 'IV Infusion', 'IVPB', 'IV Push', 'I.V. Push (non-std)', np.nan})].index, inplace=True)\n",
    "    # drop missing data\n",
    "    df.drop(df[df['Volume'].isna()].index, inplace=True)"
   ],
   "id": "fb77996449266226",
   "outputs": [],
   "execution_count": 41
  },
  {
   "metadata": {
    "ExecuteTime": {
     "end_time": "2024-11-29T14:12:00.818819Z",
     "start_time": "2024-11-29T14:11:59.911271Z"
    }
   },
   "cell_type": "code",
   "source": [
    "correct_and_filter_ivf(ivf_data)\n",
    "ivf_data['Unit'].value_counts()"
   ],
   "id": "73b52ecc7f11422d",
   "outputs": [
    {
     "data": {
      "text/plain": [
       "Unit\n",
       "mL    1147160\n",
       "Name: count, dtype: int64"
      ]
     },
     "execution_count": 42,
     "metadata": {},
     "output_type": "execute_result"
    }
   ],
   "execution_count": 42
  },
  {
   "metadata": {
    "ExecuteTime": {
     "end_time": "2024-11-29T14:12:01.017130Z",
     "start_time": "2024-11-29T14:12:00.996140Z"
    }
   },
   "cell_type": "code",
   "source": "ivf_data['Volume'].describe()",
   "id": "1c8c799d78f4fcb4",
   "outputs": [
    {
     "data": {
      "text/plain": [
       "count    1.147160e+06\n",
       "mean     1.656419e+03\n",
       "std      1.691722e+06\n",
       "min      8.000000e-05\n",
       "25%      1.000000e+01\n",
       "50%      3.000000e+01\n",
       "75%      1.000000e+02\n",
       "max      1.811924e+09\n",
       "Name: Volume, dtype: float64"
      ]
     },
     "execution_count": 43,
     "metadata": {},
     "output_type": "execute_result"
    }
   ],
   "execution_count": 43
  },
  {
   "metadata": {
    "ExecuteTime": {
     "end_time": "2024-11-29T14:12:02.057747Z",
     "start_time": "2024-11-29T14:12:01.931820Z"
    }
   },
   "cell_type": "code",
   "source": "ivf_data['Volume'].plot.box()",
   "id": "8ecc5183bed67591",
   "outputs": [
    {
     "data": {
      "text/plain": [
       "<Axes: >"
      ]
     },
     "execution_count": 44,
     "metadata": {},
     "output_type": "execute_result"
    },
    {
     "data": {
      "text/plain": [
       "<Figure size 640x480 with 1 Axes>"
      ],
      "image/png": "[encoded data removed]"
     },
     "metadata": {},
     "output_type": "display_data"
    }
   ],
   "execution_count": 44
  },
  {
   "metadata": {
    "ExecuteTime": {
     "end_time": "2024-11-29T14:12:02.544470Z",
     "start_time": "2024-11-29T14:12:02.409421Z"
    }
   },
   "cell_type": "code",
   "source": "ivf_data.loc[ivf_data['Volume'] < 1e6, 'Volume'].plot.box()",
   "id": "1c2bdf590b08d771",
   "outputs": [
    {
     "data": {
      "text/plain": [
       "<Axes: >"
      ]
     },
     "execution_count": 45,
     "metadata": {},
     "output_type": "execute_result"
    },
    {
     "data": {
      "text/plain": [
       "<Figure size 640x480 with 1 Axes>"
      ],
      "image/png": "[encoded data removed]"
     },
     "metadata": {},
     "output_type": "display_data"
    }
   ],
   "execution_count": 45
  },
  {
   "metadata": {},
   "cell_type": "markdown",
   "source": "# Vasopressor Data Investigation",
   "id": "bf948e6f4e5fbe22"
  },
  {
   "metadata": {
    "ExecuteTime": {
     "end_time": "2024-11-29T14:17:09.327207Z",
     "start_time": "2024-11-29T14:17:09.290415Z"
    }
   },
   "cell_type": "code",
   "source": [
    "vasopressor_2012_2015_data = pd.read_csv('<path_to_dataset>/MASTER_2012-2015_Pressors.csv')\n",
    "rename_columns = {'Dose': 'Volume'}\n",
    "vasopressor_2012_2015_data = vasopressor_2012_2015_data.rename(columns=rename_columns)\n",
    "vasopressor_2012_2015_data.head()"
   ],
   "id": "30c6eb45e8c3df5c",
   "outputs": [
    {
     "data": {
      "text/plain": [
       "   StudyID AdmitDate         Pressor     EventEndDtTm  Volume\n",
       "0    16015    1/2/12  norepinephrine   1/2/12 3:59 PM   1.195\n",
       "1    16015    1/2/12  norepinephrine   1/2/12 4:59 PM   0.290\n",
       "2    16020    1/3/12   phenylephrine  1/3/12 10:59 PM   1.275\n",
       "3    16020    1/3/12     vasopressin  1/3/12 10:59 PM   2.040\n",
       "4    16020    1/3/12   phenylephrine  1/3/12 11:59 PM   1.500"
      ],
      "text/html": [
       "<div>\n",
       "<style scoped>\n",
       "    .dataframe tbody tr th:only-of-type {\n",
       "        vertical-align: middle;\n",
       "    }\n",
       "\n",
       "    .dataframe tbody tr th {\n",
       "        vertical-align: top;\n",
       "    }\n",
       "\n",
       "    .dataframe thead th {\n",
       "        text-align: right;\n",
       "    }\n",
       "</style>\n",
       "<table border=\"1\" class=\"dataframe\">\n",
       "  <thead>\n",
       "    <tr style=\"text-align: right;\">\n",
       "      <th></th>\n",
       "      <th>StudyID</th>\n",
       "      <th>AdmitDate</th>\n",
       "      <th>Pressor</th>\n",
       "      <th>EventEndDtTm</th>\n",
       "      <th>Volume</th>\n",
       "    </tr>\n",
       "  </thead>\n",
       "  <tbody>\n",
       "    <tr>\n",
       "      <th>0</th>\n",
       "      <td>16015</td>\n",
       "      <td>1/2/12</td>\n",
       "      <td>norepinephrine</td>\n",
       "      <td>1/2/12 3:59 PM</td>\n",
       "      <td>1.195</td>\n",
       "    </tr>\n",
       "    <tr>\n",
       "      <th>1</th>\n",
       "      <td>16015</td>\n",
       "      <td>1/2/12</td>\n",
       "      <td>norepinephrine</td>\n",
       "      <td>1/2/12 4:59 PM</td>\n",
       "      <td>0.290</td>\n",
       "    </tr>\n",
       "    <tr>\n",
       "      <th>2</th>\n",
       "      <td>16020</td>\n",
       "      <td>1/3/12</td>\n",
       "      <td>phenylephrine</td>\n",
       "      <td>1/3/12 10:59 PM</td>\n",
       "      <td>1.275</td>\n",
       "    </tr>\n",
       "    <tr>\n",
       "      <th>3</th>\n",
       "      <td>16020</td>\n",
       "      <td>1/3/12</td>\n",
       "      <td>vasopressin</td>\n",
       "      <td>1/3/12 10:59 PM</td>\n",
       "      <td>2.040</td>\n",
       "    </tr>\n",
       "    <tr>\n",
       "      <th>4</th>\n",
       "      <td>16020</td>\n",
       "      <td>1/3/12</td>\n",
       "      <td>phenylephrine</td>\n",
       "      <td>1/3/12 11:59 PM</td>\n",
       "      <td>1.500</td>\n",
       "    </tr>\n",
       "  </tbody>\n",
       "</table>\n",
       "</div>"
      ]
     },
     "execution_count": 72,
     "metadata": {},
     "output_type": "execute_result"
    }
   ],
   "execution_count": 72
  },
  {
   "metadata": {
    "ExecuteTime": {
     "end_time": "2024-11-29T14:17:09.671216Z",
     "start_time": "2024-11-29T14:17:09.667483Z"
    }
   },
   "cell_type": "code",
   "source": "vasopressor_2012_2015_data['StudyID'].nunique()",
   "id": "74164bfc868aafab",
   "outputs": [
    {
     "data": {
      "text/plain": [
       "826"
      ]
     },
     "execution_count": 73,
     "metadata": {},
     "output_type": "execute_result"
    }
   ],
   "execution_count": 73
  },
  {
   "metadata": {
    "ExecuteTime": {
     "end_time": "2024-11-29T14:17:10.049890Z",
     "start_time": "2024-11-29T14:17:10.046385Z"
    }
   },
   "cell_type": "code",
   "source": "vasopressor_2012_2015_data.dtypes",
   "id": "f39c1e77976e03e0",
   "outputs": [
    {
     "data": {
      "text/plain": [
       "StudyID           int64\n",
       "AdmitDate        object\n",
       "Pressor          object\n",
       "EventEndDtTm     object\n",
       "Volume          float64\n",
       "dtype: object"
      ]
     },
     "execution_count": 74,
     "metadata": {},
     "output_type": "execute_result"
    }
   ],
   "execution_count": 74
  },
  {
   "metadata": {
    "ExecuteTime": {
     "end_time": "2024-11-29T14:17:10.536568Z",
     "start_time": "2024-11-29T14:17:10.487541Z"
    }
   },
   "cell_type": "code",
   "source": [
    "vasopressor_2016_2019_data = pd.read_csv('<path_to_dataset>/MASTER_2016-2019_Pressors.csv')\n",
    "rename_columns = {'PressorDose': 'Volume'}\n",
    "vasopressor_2016_2019_data = vasopressor_2016_2019_data.rename(columns=rename_columns)\n",
    "vasopressor_2016_2019_data.head()"
   ],
   "id": "d9f59d3dd232123c",
   "outputs": [
    {
     "data": {
      "text/plain": [
       "   StudyID AdmitDate         Pressor  EventEndDtTm    Volume\n",
       "0        3    1/1/16  norepinephrine   1/4/16 7:59  0.550144\n",
       "1        3    1/1/16  norepinephrine   1/4/16 8:59  0.654400\n",
       "2        3    1/1/16  norepinephrine   1/4/16 9:59  0.654400\n",
       "3        3    1/1/16  norepinephrine  1/4/16 10:59  0.654400\n",
       "4        3    1/1/16  norepinephrine  1/4/16 11:59  0.811760"
      ],
      "text/html": [
       "<div>\n",
       "<style scoped>\n",
       "    .dataframe tbody tr th:only-of-type {\n",
       "        vertical-align: middle;\n",
       "    }\n",
       "\n",
       "    .dataframe tbody tr th {\n",
       "        vertical-align: top;\n",
       "    }\n",
       "\n",
       "    .dataframe thead th {\n",
       "        text-align: right;\n",
       "    }\n",
       "</style>\n",
       "<table border=\"1\" class=\"dataframe\">\n",
       "  <thead>\n",
       "    <tr style=\"text-align: right;\">\n",
       "      <th></th>\n",
       "      <th>StudyID</th>\n",
       "      <th>AdmitDate</th>\n",
       "      <th>Pressor</th>\n",
       "      <th>EventEndDtTm</th>\n",
       "      <th>Volume</th>\n",
       "    </tr>\n",
       "  </thead>\n",
       "  <tbody>\n",
       "    <tr>\n",
       "      <th>0</th>\n",
       "      <td>3</td>\n",
       "      <td>1/1/16</td>\n",
       "      <td>norepinephrine</td>\n",
       "      <td>1/4/16 7:59</td>\n",
       "      <td>0.550144</td>\n",
       "    </tr>\n",
       "    <tr>\n",
       "      <th>1</th>\n",
       "      <td>3</td>\n",
       "      <td>1/1/16</td>\n",
       "      <td>norepinephrine</td>\n",
       "      <td>1/4/16 8:59</td>\n",
       "      <td>0.654400</td>\n",
       "    </tr>\n",
       "    <tr>\n",
       "      <th>2</th>\n",
       "      <td>3</td>\n",
       "      <td>1/1/16</td>\n",
       "      <td>norepinephrine</td>\n",
       "      <td>1/4/16 9:59</td>\n",
       "      <td>0.654400</td>\n",
       "    </tr>\n",
       "    <tr>\n",
       "      <th>3</th>\n",
       "      <td>3</td>\n",
       "      <td>1/1/16</td>\n",
       "      <td>norepinephrine</td>\n",
       "      <td>1/4/16 10:59</td>\n",
       "      <td>0.654400</td>\n",
       "    </tr>\n",
       "    <tr>\n",
       "      <th>4</th>\n",
       "      <td>3</td>\n",
       "      <td>1/1/16</td>\n",
       "      <td>norepinephrine</td>\n",
       "      <td>1/4/16 11:59</td>\n",
       "      <td>0.811760</td>\n",
       "    </tr>\n",
       "  </tbody>\n",
       "</table>\n",
       "</div>"
      ]
     },
     "execution_count": 75,
     "metadata": {},
     "output_type": "execute_result"
    }
   ],
   "execution_count": 75
  },
  {
   "metadata": {
    "ExecuteTime": {
     "end_time": "2024-11-29T14:17:13.367056Z",
     "start_time": "2024-11-29T14:17:13.363184Z"
    }
   },
   "cell_type": "code",
   "source": "vasopressor_2016_2019_data['StudyID'].nunique()",
   "id": "4d2b493a1e3e14e5",
   "outputs": [
    {
     "data": {
      "text/plain": [
       "1538"
      ]
     },
     "execution_count": 76,
     "metadata": {},
     "output_type": "execute_result"
    }
   ],
   "execution_count": 76
  },
  {
   "metadata": {
    "ExecuteTime": {
     "end_time": "2024-11-29T14:17:13.791220Z",
     "start_time": "2024-11-29T14:17:13.786157Z"
    }
   },
   "cell_type": "code",
   "source": "vasopressor_2016_2019_data.dtypes",
   "id": "f0543671a4b60426",
   "outputs": [
    {
     "data": {
      "text/plain": [
       "StudyID           int64\n",
       "AdmitDate        object\n",
       "Pressor          object\n",
       "EventEndDtTm     object\n",
       "Volume          float64\n",
       "dtype: object"
      ]
     },
     "execution_count": 77,
     "metadata": {},
     "output_type": "execute_result"
    }
   ],
   "execution_count": 77
  },
  {
   "metadata": {
    "ExecuteTime": {
     "end_time": "2024-11-29T14:17:14.904736Z",
     "start_time": "2024-11-29T14:17:14.897623Z"
    }
   },
   "cell_type": "code",
   "source": [
    "vasopressor_data = pd.concat([vasopressor_2012_2015_data, vasopressor_2016_2019_data], axis=0)\n",
    "vasopressor_data.head()"
   ],
   "id": "87d6fff09628a236",
   "outputs": [
    {
     "data": {
      "text/plain": [
       "   StudyID AdmitDate         Pressor     EventEndDtTm  Volume\n",
       "0    16015    1/2/12  norepinephrine   1/2/12 3:59 PM   1.195\n",
       "1    16015    1/2/12  norepinephrine   1/2/12 4:59 PM   0.290\n",
       "2    16020    1/3/12   phenylephrine  1/3/12 10:59 PM   1.275\n",
       "3    16020    1/3/12     vasopressin  1/3/12 10:59 PM   2.040\n",
       "4    16020    1/3/12   phenylephrine  1/3/12 11:59 PM   1.500"
      ],
      "text/html": [
       "<div>\n",
       "<style scoped>\n",
       "    .dataframe tbody tr th:only-of-type {\n",
       "        vertical-align: middle;\n",
       "    }\n",
       "\n",
       "    .dataframe tbody tr th {\n",
       "        vertical-align: top;\n",
       "    }\n",
       "\n",
       "    .dataframe thead th {\n",
       "        text-align: right;\n",
       "    }\n",
       "</style>\n",
       "<table border=\"1\" class=\"dataframe\">\n",
       "  <thead>\n",
       "    <tr style=\"text-align: right;\">\n",
       "      <th></th>\n",
       "      <th>StudyID</th>\n",
       "      <th>AdmitDate</th>\n",
       "      <th>Pressor</th>\n",
       "      <th>EventEndDtTm</th>\n",
       "      <th>Volume</th>\n",
       "    </tr>\n",
       "  </thead>\n",
       "  <tbody>\n",
       "    <tr>\n",
       "      <th>0</th>\n",
       "      <td>16015</td>\n",
       "      <td>1/2/12</td>\n",
       "      <td>norepinephrine</td>\n",
       "      <td>1/2/12 3:59 PM</td>\n",
       "      <td>1.195</td>\n",
       "    </tr>\n",
       "    <tr>\n",
       "      <th>1</th>\n",
       "      <td>16015</td>\n",
       "      <td>1/2/12</td>\n",
       "      <td>norepinephrine</td>\n",
       "      <td>1/2/12 4:59 PM</td>\n",
       "      <td>0.290</td>\n",
       "    </tr>\n",
       "    <tr>\n",
       "      <th>2</th>\n",
       "      <td>16020</td>\n",
       "      <td>1/3/12</td>\n",
       "      <td>phenylephrine</td>\n",
       "      <td>1/3/12 10:59 PM</td>\n",
       "      <td>1.275</td>\n",
       "    </tr>\n",
       "    <tr>\n",
       "      <th>3</th>\n",
       "      <td>16020</td>\n",
       "      <td>1/3/12</td>\n",
       "      <td>vasopressin</td>\n",
       "      <td>1/3/12 10:59 PM</td>\n",
       "      <td>2.040</td>\n",
       "    </tr>\n",
       "    <tr>\n",
       "      <th>4</th>\n",
       "      <td>16020</td>\n",
       "      <td>1/3/12</td>\n",
       "      <td>phenylephrine</td>\n",
       "      <td>1/3/12 11:59 PM</td>\n",
       "      <td>1.500</td>\n",
       "    </tr>\n",
       "  </tbody>\n",
       "</table>\n",
       "</div>"
      ]
     },
     "execution_count": 78,
     "metadata": {},
     "output_type": "execute_result"
    }
   ],
   "execution_count": 78
  },
  {
   "metadata": {
    "ExecuteTime": {
     "end_time": "2024-11-29T14:17:17.565113Z",
     "start_time": "2024-11-29T14:17:17.559400Z"
    }
   },
   "cell_type": "code",
   "source": "vasopressor_data['StudyID'].nunique()",
   "id": "e8352eec9d61c3d6",
   "outputs": [
    {
     "data": {
      "text/plain": [
       "2364"
      ]
     },
     "execution_count": 79,
     "metadata": {},
     "output_type": "execute_result"
    }
   ],
   "execution_count": 79
  },
  {
   "metadata": {
    "ExecuteTime": {
     "end_time": "2024-11-29T14:17:17.995728Z",
     "start_time": "2024-11-29T14:17:17.990580Z"
    }
   },
   "cell_type": "code",
   "source": "assert vasopressor_data['StudyID'].nunique() == vasopressor_2012_2015_data['StudyID'].nunique() + vasopressor_2016_2019_data['StudyID'].nunique(), 'Study IDs duplicated across datasets'",
   "id": "c0713032dcf57e35",
   "outputs": [],
   "execution_count": 80
  },
  {
   "metadata": {
    "ExecuteTime": {
     "end_time": "2024-11-29T14:17:18.451407Z",
     "start_time": "2024-11-29T14:17:18.442113Z"
    }
   },
   "cell_type": "code",
   "source": [
    "vasopressor_data = vasopressor_data[vasopressor_data['StudyID'].isin(cohort_study_ids)]\n",
    "vasopressor_data['StudyID'].nunique()"
   ],
   "id": "e870fe72fb1a7a02",
   "outputs": [
    {
     "data": {
      "text/plain": [
       "1576"
      ]
     },
     "execution_count": 81,
     "metadata": {},
     "output_type": "execute_result"
    }
   ],
   "execution_count": 81
  },
  {
   "metadata": {
    "ExecuteTime": {
     "end_time": "2024-11-29T14:17:20.656933Z",
     "start_time": "2024-11-29T14:17:20.646626Z"
    }
   },
   "cell_type": "code",
   "source": "vasopressor_data['Pressor'].value_counts()",
   "id": "ec66b4df19212d59",
   "outputs": [
    {
     "data": {
      "text/plain": [
       "Pressor\n",
       "norepinephrine    59637\n",
       "vasopressin       17443\n",
       "phenylephrine     13796\n",
       "DOBUTamine         1943\n",
       "DOPamine           1642\n",
       "EPINEPHrine        1169\n",
       "ePHEDrine           607\n",
       "Name: count, dtype: int64"
      ]
     },
     "execution_count": 82,
     "metadata": {},
     "output_type": "execute_result"
    }
   ],
   "execution_count": 82
  },
  {
   "metadata": {
    "ExecuteTime": {
     "end_time": "2024-11-29T14:17:22.772792Z",
     "start_time": "2024-11-29T14:17:22.677627Z"
    }
   },
   "cell_type": "code",
   "source": [
    "mask = vasopressor_data['Pressor'] == 'norepinephrine'\n",
    "print(vasopressor_data[mask]['Volume'].describe())\n",
    "vasopressor_data[mask]['Volume'].plot.box()"
   ],
   "id": "d8c8c0fa99187b39",
   "outputs": [
    {
     "name": "stdout",
     "output_type": "stream",
     "text": [
      "count    5.959300e+04\n",
      "mean     1.946717e+03\n",
      "std      4.750313e+05\n",
      "min      1.410000e-04\n",
      "25%      2.400000e-01\n",
      "50%      4.774640e-01\n",
      "75%      9.541840e-01\n",
      "max      1.159631e+08\n",
      "Name: Volume, dtype: float64\n"
     ]
    },
    {
     "data": {
      "text/plain": [
       "<Axes: >"
      ]
     },
     "execution_count": 83,
     "metadata": {},
     "output_type": "execute_result"
    },
    {
     "data": {
      "text/plain": [
       "<Figure size 640x480 with 1 Axes>"
      ],
      "image/png": "[encoded data removed]"
     },
     "metadata": {},
     "output_type": "display_data"
    }
   ],
   "execution_count": 83
  },
  {
   "metadata": {
    "ExecuteTime": {
     "end_time": "2024-11-29T14:17:25.753312Z",
     "start_time": "2024-11-29T14:17:25.650190Z"
    }
   },
   "cell_type": "code",
   "source": [
    "mask = (vasopressor_data['Pressor'] == 'norepinephrine') & (vasopressor_data['Volume'] < 5000000)\n",
    "print(vasopressor_data[mask]['Volume'].describe())\n",
    "vasopressor_data[mask]['Volume'].plot.box()"
   ],
   "id": "af26b60d3d8fe330",
   "outputs": [
    {
     "name": "stdout",
     "output_type": "stream",
     "text": [
      "count    59592.000000\n",
      "mean         0.799076\n",
      "std          1.537265\n",
      "min          0.000141\n",
      "25%          0.240000\n",
      "50%          0.477452\n",
      "75%          0.954130\n",
      "max        138.750080\n",
      "Name: Volume, dtype: float64\n"
     ]
    },
    {
     "data": {
      "text/plain": [
       "<Axes: >"
      ]
     },
     "execution_count": 84,
     "metadata": {},
     "output_type": "execute_result"
    },
    {
     "data": {
      "text/plain": [
       "<Figure size 640x480 with 1 Axes>"
      ],
      "image/png": "[encoded data removed]"
     },
     "metadata": {},
     "output_type": "display_data"
    }
   ],
   "execution_count": 84
  },
  {
   "metadata": {
    "ExecuteTime": {
     "end_time": "2024-11-29T14:13:18.231052Z",
     "start_time": "2024-11-29T14:13:18.149684Z"
    }
   },
   "cell_type": "code",
   "source": [
    "mask = vasopressor_data['Pressor'] == 'vasopressin'\n",
    "print(vasopressor_data[mask]['Volume'].describe())\n",
    "vasopressor_data[mask]['Volume'].plot.box()"
   ],
   "id": "14680037d31ac772",
   "outputs": [
    {
     "name": "stdout",
     "output_type": "stream",
     "text": [
      "count    17441.000000\n",
      "mean         2.468417\n",
      "std          6.669204\n",
      "min          0.001700\n",
      "25%          2.400000\n",
      "50%          2.400000\n",
      "75%          2.400000\n",
      "max        240.000000\n",
      "Name: Volume, dtype: float64\n"
     ]
    },
    {
     "data": {
      "text/plain": [
       "<Axes: >"
      ]
     },
     "execution_count": 59,
     "metadata": {},
     "output_type": "execute_result"
    },
    {
     "data": {
      "text/plain": [
       "<Figure size 640x480 with 1 Axes>"
      ],
      "image/png": "[encoded data removed]"
     },
     "metadata": {},
     "output_type": "display_data"
    }
   ],
   "execution_count": 59
  },
  {
   "metadata": {
    "ExecuteTime": {
     "end_time": "2024-11-29T14:13:18.438475Z",
     "start_time": "2024-11-29T14:13:18.366196Z"
    }
   },
   "cell_type": "code",
   "source": [
    "mask = vasopressor_data['Pressor'] == 'phenylephrine'\n",
    "print(vasopressor_data[mask]['Volume'].describe())\n",
    "vasopressor_data[mask]['Volume'].plot.box()"
   ],
   "id": "638e84e2193238cb",
   "outputs": [
    {
     "name": "stdout",
     "output_type": "stream",
     "text": [
      "count    13781.000000\n",
      "mean         3.674233\n",
      "std         11.412655\n",
      "min          0.000220\n",
      "25%          1.060000\n",
      "50%          2.385000\n",
      "75%          4.483300\n",
      "max       1000.000000\n",
      "Name: Volume, dtype: float64\n"
     ]
    },
    {
     "data": {
      "text/plain": [
       "<Axes: >"
      ]
     },
     "execution_count": 60,
     "metadata": {},
     "output_type": "execute_result"
    },
    {
     "data": {
      "text/plain": [
       "<Figure size 640x480 with 1 Axes>"
      ],
      "image/png": "[encoded data removed]"
     },
     "metadata": {},
     "output_type": "display_data"
    }
   ],
   "execution_count": 60
  },
  {
   "metadata": {
    "ExecuteTime": {
     "end_time": "2024-11-29T14:13:18.642867Z",
     "start_time": "2024-11-29T14:13:18.569319Z"
    }
   },
   "cell_type": "code",
   "source": [
    "mask = vasopressor_data['Pressor'] == 'DOBUTamine'\n",
    "print(vasopressor_data[mask]['Volume'].describe())\n",
    "vasopressor_data[mask]['Volume'].plot.box()"
   ],
   "id": "9023e237d0ed50ec",
   "outputs": [
    {
     "name": "stdout",
     "output_type": "stream",
     "text": [
      "count    1943.000000\n",
      "mean       18.893921\n",
      "std        15.226076\n",
      "min         0.120000\n",
      "25%         8.760000\n",
      "50%        15.360000\n",
      "75%        24.320000\n",
      "max       134.400000\n",
      "Name: Volume, dtype: float64\n"
     ]
    },
    {
     "data": {
      "text/plain": [
       "<Axes: >"
      ]
     },
     "execution_count": 61,
     "metadata": {},
     "output_type": "execute_result"
    },
    {
     "data": {
      "text/plain": [
       "<Figure size 640x480 with 1 Axes>"
      ],
      "image/png": "[encoded data removed]"
     },
     "metadata": {},
     "output_type": "display_data"
    }
   ],
   "execution_count": 61
  },
  {
   "metadata": {
    "ExecuteTime": {
     "end_time": "2024-11-29T14:13:18.835681Z",
     "start_time": "2024-11-29T14:13:18.761194Z"
    }
   },
   "cell_type": "code",
   "source": [
    "mask = vasopressor_data['Pressor'] == 'DOPamine'\n",
    "print(vasopressor_data[mask]['Volume'].describe())\n",
    "vasopressor_data[mask]['Volume'].plot.box()"
   ],
   "id": "a115eccf57ecc968",
   "outputs": [
    {
     "name": "stdout",
     "output_type": "stream",
     "text": [
      "count    1637.000000\n",
      "mean       29.197077\n",
      "std        24.022219\n",
      "min         0.048000\n",
      "25%        14.592000\n",
      "50%        22.816000\n",
      "75%        36.448000\n",
      "max       256.128000\n",
      "Name: Volume, dtype: float64\n"
     ]
    },
    {
     "data": {
      "text/plain": [
       "<Axes: >"
      ]
     },
     "execution_count": 62,
     "metadata": {},
     "output_type": "execute_result"
    },
    {
     "data": {
      "text/plain": [
       "<Figure size 640x480 with 1 Axes>"
      ],
      "image/png": "[encoded data removed]"
     },
     "metadata": {},
     "output_type": "display_data"
    }
   ],
   "execution_count": 62
  },
  {
   "metadata": {
    "ExecuteTime": {
     "end_time": "2024-11-29T14:13:19.079571Z",
     "start_time": "2024-11-29T14:13:18.999090Z"
    }
   },
   "cell_type": "code",
   "source": [
    "mask = vasopressor_data['Pressor'] == 'EPINEPHrine'\n",
    "print(vasopressor_data[mask]['Volume'].describe())\n",
    "vasopressor_data[mask]['Volume'].plot.box()"
   ],
   "id": "5a505442daf76bf8",
   "outputs": [
    {
     "name": "stdout",
     "output_type": "stream",
     "text": [
      "count    1166.000000\n",
      "mean        1.183675\n",
      "std         1.448869\n",
      "min         0.003850\n",
      "25%         0.318000\n",
      "50%         0.602500\n",
      "75%         1.404000\n",
      "max         7.296000\n",
      "Name: Volume, dtype: float64\n"
     ]
    },
    {
     "data": {
      "text/plain": [
       "<Axes: >"
      ]
     },
     "execution_count": 63,
     "metadata": {},
     "output_type": "execute_result"
    },
    {
     "data": {
      "text/plain": [
       "<Figure size 640x480 with 1 Axes>"
      ],
      "image/png": "[encoded data removed]"
     },
     "metadata": {},
     "output_type": "display_data"
    }
   ],
   "execution_count": 63
  },
  {
   "metadata": {
    "ExecuteTime": {
     "end_time": "2024-11-29T14:13:19.434472Z",
     "start_time": "2024-11-29T14:13:19.360498Z"
    }
   },
   "cell_type": "code",
   "source": [
    "mask = vasopressor_data['Pressor'] == 'ePHEDrine'\n",
    "print(vasopressor_data[mask]['Volume'].describe())\n",
    "vasopressor_data[mask]['Volume'].plot.box()"
   ],
   "id": "8d6b08b8ac0f17da",
   "outputs": [
    {
     "name": "stdout",
     "output_type": "stream",
     "text": [
      "count    607.000000\n",
      "mean      27.257002\n",
      "std       10.135868\n",
      "min        5.000000\n",
      "25%       25.000000\n",
      "50%       25.000000\n",
      "75%       25.000000\n",
      "max       75.000000\n",
      "Name: Volume, dtype: float64\n"
     ]
    },
    {
     "data": {
      "text/plain": [
       "<Axes: >"
      ]
     },
     "execution_count": 64,
     "metadata": {},
     "output_type": "execute_result"
    },
    {
     "data": {
      "text/plain": [
       "<Figure size 640x480 with 1 Axes>"
      ],
      "image/png": "[encoded data removed]"
     },
     "metadata": {},
     "output_type": "display_data"
    }
   ],
   "execution_count": 64
  },
  {
   "metadata": {
    "ExecuteTime": {
     "end_time": "2024-11-29T14:27:50.655802Z",
     "start_time": "2024-11-29T14:27:50.560868Z"
    }
   },
   "cell_type": "code",
   "source": [
    "norepinephrine_outlier_mask = vasopressor_data[(vasopressor_data['Pressor'] == 'norepinephrine') & (vasopressor_data['Volume'] >= 5000000)].index\n",
    "vasopressor_data.drop(norepinephrine_outlier_mask, inplace=True)\n",
    "# I think these outliers may have accidentally been recorded with an extra 0\n",
    "vasopressin_outlier_mask = vasopressor_data[(vasopressor_data['Pressor'] == 'vasopressin') & (vasopressor_data['Volume'] > 100)].index\n",
    "vasopressor_data.loc[vasopressin_outlier_mask, 'Volume'] = vasopressor_data.loc[vasopressin_outlier_mask, 'Volume'] / 10\n",
    "phenylephrine_outlier_mask = vasopressor_data[(vasopressor_data['Pressor'] == 'phenylephrine') & (vasopressor_data['Volume'] > 200)].index\n",
    "vasopressor_data.loc[phenylephrine_outlier_mask, 'Volume'] = vasopressor_data.loc[phenylephrine_outlier_mask, 'Volume'] / 10\n",
    "DOBUTamine_outlier_mask = vasopressor_data[(vasopressor_data['Pressor'] == 'DOBUTamine') & (vasopressor_data['Volume'] > 100)].index\n",
    "vasopressor_data.loc[DOBUTamine_outlier_mask, 'Volume'] = vasopressor_data.loc[DOBUTamine_outlier_mask, 'Volume'] / 10\n",
    "DOPamine_outlier_mask = vasopressor_data[(vasopressor_data['Pressor'] == 'DOPamine') & (vasopressor_data['Volume'] > 150)].index\n",
    "vasopressor_data.loc[DOPamine_outlier_mask, 'Volume'] = vasopressor_data.loc[DOPamine_outlier_mask, 'Volume'] / 10\n",
    "# EPINEPHrine: no changes\n",
    "# ePHEDrine: no changes\n",
    "# drop missing data\n",
    "vasopressor_data.drop(vasopressor_data[vasopressor_data['Volume'].isna()].index, inplace=True)"
   ],
   "id": "ed4a6546e0136e28",
   "outputs": [],
   "execution_count": 87
  },
  {
   "metadata": {
    "ExecuteTime": {
     "end_time": "2024-11-29T14:27:53.149466Z",
     "start_time": "2024-11-29T14:27:53.059561Z"
    }
   },
   "cell_type": "code",
   "source": [
    "mask = (vasopressor_data['Pressor'] == 'norepinephrine')\n",
    "print(vasopressor_data[mask]['Volume'].describe())\n",
    "vasopressor_data[mask]['Volume'].plot.box()"
   ],
   "id": "5a0152479476158d",
   "outputs": [
    {
     "name": "stdout",
     "output_type": "stream",
     "text": [
      "count    59567.000000\n",
      "mean         0.798932\n",
      "std          1.537457\n",
      "min          0.000141\n",
      "25%          0.240000\n",
      "50%          0.477024\n",
      "75%          0.953815\n",
      "max        138.750080\n",
      "Name: Volume, dtype: float64\n"
     ]
    },
    {
     "data": {
      "text/plain": [
       "<Axes: >"
      ]
     },
     "execution_count": 88,
     "metadata": {},
     "output_type": "execute_result"
    },
    {
     "data": {
      "text/plain": [
       "<Figure size 640x480 with 1 Axes>"
      ],
      "image/png": "[encoded data removed]"
     },
     "metadata": {},
     "output_type": "display_data"
    }
   ],
   "execution_count": 88
  },
  {
   "metadata": {
    "ExecuteTime": {
     "end_time": "2024-11-29T14:19:18.243682Z",
     "start_time": "2024-11-29T14:19:18.135451Z"
    }
   },
   "cell_type": "code",
   "source": [
    "temp = vasopressor_data.drop((vasopressor_data.loc[vasopressor_data['Pressor'] == 'norepinephrine', 'Volume'] >= 5000000).index)\n",
    "mask = (temp['Pressor'] == 'norepinephrine')\n",
    "print(temp[mask]['Volume'].describe())\n",
    "temp[mask]['Volume'].plot.box()"
   ],
   "id": "1ba79dac102677d0",
   "outputs": [
    {
     "name": "stdout",
     "output_type": "stream",
     "text": [
      "count    0.0\n",
      "mean     NaN\n",
      "std      NaN\n",
      "min      NaN\n",
      "25%      NaN\n",
      "50%      NaN\n",
      "75%      NaN\n",
      "max      NaN\n",
      "Name: Volume, dtype: float64\n"
     ]
    },
    {
     "data": {
      "text/plain": [
       "<Axes: >"
      ]
     },
     "execution_count": 85,
     "metadata": {},
     "output_type": "execute_result"
    },
    {
     "data": {
      "text/plain": [
       "<Figure size 640x480 with 1 Axes>"
      ],
      "image/png": "[encoded data removed]"
     },
     "metadata": {},
     "output_type": "display_data"
    }
   ],
   "execution_count": 85
  },
  {
   "metadata": {},
   "cell_type": "code",
   "outputs": [],
   "execution_count": null,
   "source": "",
   "id": "d96696948be4654d"
  }
 ],
 "metadata": {
  "kernelspec": {
   "display_name": "Python 3",
   "language": "python",
   "name": "python3"
  },
  "language_info": {
   "codemirror_mode": {
    "name": "ipython",
    "version": 2
   },
   "file_extension": ".py",
   "mimetype": "text/x-python",
   "name": "python",
   "nbconvert_exporter": "python",
   "pygments_lexer": "ipython2",
   "version": "2.7.6"
  }
 },
 "nbformat": 4,
 "nbformat_minor": 5
}
