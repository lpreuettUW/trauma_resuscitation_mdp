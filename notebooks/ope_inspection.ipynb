{
 "cells": [
  {
   "cell_type": "code",
   "id": "initial_id",
   "metadata": {
    "collapsed": true,
    "ExecuteTime": {
     "end_time": "2025-02-26T05:00:05.594440Z",
     "start_time": "2025-02-26T05:00:03.208972Z"
    }
   },
   "source": [
    "import os\n",
    "import torch\n",
    "import mlflow\n",
    "import numpy as np\n",
    "import pandas as pd\n",
    "import seaborn as sns\n",
    "from tqdm import tqdm\n",
    "import matplotlib.pyplot as plt\n",
    "from matplotlib.colors import LogNorm\n",
    "from sklearn.preprocessing import MinMaxScaler\n",
    "from typing import Dict, Tuple, Optional, List\n",
    "\n",
    "# from sympy.abc import alpha\n",
    "#\n",
    "# from notebooks.ivf_resuscitation_splits import num_splits"
   ],
   "outputs": [],
   "execution_count": 1
  },
  {
   "metadata": {
    "ExecuteTime": {
     "end_time": "2025-02-26T05:00:05.604211Z",
     "start_time": "2025-02-26T05:00:05.601530Z"
    }
   },
   "cell_type": "code",
   "source": "os.chdir('..') # change working directory to root",
   "id": "ecad67e8eaf812ed",
   "outputs": [],
   "execution_count": 2
  },
  {
   "metadata": {
    "ExecuteTime": {
     "end_time": "2025-02-26T05:00:05.652428Z",
     "start_time": "2025-02-26T05:00:05.645661Z"
    }
   },
   "cell_type": "code",
   "source": "from utilities import trauma_icu_resuscitation_funcs",
   "id": "a2f2673d62462a2",
   "outputs": [
    {
     "name": "stderr",
     "output_type": "stream",
     "text": [
      "/Users/larry/anaconda3/envs/ope_310_v2/lib/python3.10/site-packages/tqdm/auto.py:21: TqdmWarning: IProgress not found. Please update jupyter and ipywidgets. See https://ipywidgets.readthedocs.io/en/stable/user_install.html\n",
      "  from .autonotebook import tqdm as notebook_tqdm\n"
     ]
    }
   ],
   "execution_count": 3
  },
  {
   "metadata": {
    "ExecuteTime": {
     "end_time": "2025-02-26T05:00:05.689587Z",
     "start_time": "2025-02-26T05:00:05.686918Z"
    }
   },
   "cell_type": "code",
   "source": [
    "mlflow_base_path = '<path_to_mlruns>/mlruns'\n",
    "mlflow.set_tracking_uri(mlflow_base_path)\n",
    "\n",
    "d3qn_ope_run_ids = {\n",
    "    'fqe': '14130a6dbb054fada084ccfe2ec2c31a',\n",
    "    'magic': '14130a6dbb054fada084ccfe2ec2c31a'\n",
    "}\n",
    "\n",
    "iql_ope_run_ids = {\n",
    "    'fqe': '03af0f9dd90e48e3a1372a9c0c03be98',\n",
    "    'magic': '03af0f9dd90e48e3a1372a9c0c03be98'\n",
    "}\n",
    "\n",
    "no_action_ope_run_ids = {\n",
    "    'fqe': '5378fd699efe43379b7b83002c1e7ab0',\n",
    "    'magic': '5378fd699efe43379b7b83002c1e7ab0'\n",
    "}\n",
    "\n",
    "random_action_ope_run_ids = {\n",
    "    'fqe': 'faa29531a2cc4c33b36abd2043e0036c',\n",
    "    'magic': 'faa29531a2cc4c33b36abd2043e0036c'\n",
    "}"
   ],
   "id": "baa4dc90b40d4407",
   "outputs": [],
   "execution_count": 4
  },
  {
   "metadata": {
    "ExecuteTime": {
     "end_time": "2025-02-26T05:00:05.752422Z",
     "start_time": "2025-02-26T05:00:05.747488Z"
    }
   },
   "cell_type": "code",
   "source": [
    "def get_metric_history(run_id: str, metric: str, tracking_uri: str, return_list: bool = False) -> Tuple[float, float] | List[float]:\n",
    "    client = mlflow.MlflowClient(tracking_uri=tracking_uri)\n",
    "    metric_history = client.get_metric_history(run_id, metric)\n",
    "    vals = [metric.value for metric in metric_history]\n",
    "    if return_list:\n",
    "        return vals\n",
    "    else:\n",
    "        mean, std = np.mean(vals), np.std(vals)\n",
    "        #result_dict = dict(mean=mean, std=std)\n",
    "        #return result_dict\n",
    "        return mean, std\n",
    "\n",
    "def print_ope_result_table(ope_id: str, policy_run_id_dict: Dict[str, str], tracking_uri: str):\n",
    "    print(f'{ope_id.upper()} Results:')\n",
    "    for policy_id, run_id in policy_run_id_dict.items():\n",
    "        mean, std = get_metric_history(run_id, ope_id, tracking_uri)\n",
    "        print(f'{policy_id}: {mean:.5f} +/- {std:.5f}')"
   ],
   "id": "9da1264f183d131b",
   "outputs": [],
   "execution_count": 5
  },
  {
   "metadata": {
    "ExecuteTime": {
     "end_time": "2025-02-26T05:00:05.807111Z",
     "start_time": "2025-02-26T05:00:05.788684Z"
    }
   },
   "cell_type": "code",
   "source": [
    "print_ope_result_table('fqe', {\n",
    "    'd3qn': d3qn_ope_run_ids['fqe'],\n",
    "    'iql': iql_ope_run_ids['fqe'],\n",
    "    'no_action': no_action_ope_run_ids['fqe'],\n",
    "    'random_action': random_action_ope_run_ids['fqe']\n",
    "}, mlflow_base_path)"
   ],
   "id": "6e05bdc7bbc4f96e",
   "outputs": [
    {
     "name": "stdout",
     "output_type": "stream",
     "text": [
      "FQE Results:\n",
      "d3qn: 6.09266 +/- 4.13516\n",
      "iql: 10.88958 +/- 1.38747\n",
      "no_action: 10.72125 +/- 1.53356\n",
      "random_action: -21.22664 +/- 3.76327\n"
     ]
    }
   ],
   "execution_count": 6
  },
  {
   "metadata": {
    "ExecuteTime": {
     "end_time": "2025-02-26T05:00:05.872260Z",
     "start_time": "2025-02-26T05:00:05.855217Z"
    }
   },
   "cell_type": "code",
   "source": [
    "print_ope_result_table('magic', {\n",
    "    'd3qn': d3qn_ope_run_ids['magic'],\n",
    "    'iql': iql_ope_run_ids['magic'],\n",
    "    'no_action': no_action_ope_run_ids['magic'],\n",
    "    'random_action': random_action_ope_run_ids['magic']\n",
    "}, mlflow_base_path)"
   ],
   "id": "facb5ab65056ef47",
   "outputs": [
    {
     "name": "stdout",
     "output_type": "stream",
     "text": [
      "MAGIC Results:\n",
      "d3qn: 6.65330 +/- 7.30599\n",
      "iql: 5.13500 +/- 0.89610\n",
      "no_action: 6.91249 +/- 1.27575\n",
      "random_action: 10.01852 +/- 22.09990\n"
     ]
    }
   ],
   "execution_count": 7
  },
  {
   "metadata": {
    "ExecuteTime": {
     "end_time": "2025-02-26T05:05:43.878279Z",
     "start_time": "2025-02-26T05:00:05.934973Z"
    }
   },
   "cell_type": "code",
   "source": [
    "gamma = 0.9\n",
    "returns = list()\n",
    "timesteps = list()\n",
    "resus = list()\n",
    "split_ = list()\n",
    "for split in range(10):\n",
    "    # load data\n",
    "    (\n",
    "        (_, _, _, _, _, _),\n",
    "        (_, _, _, _, _, _),\n",
    "        (test_states, test_actions, test_rewards, test_dones, test_next_states, test_missing_data)\n",
    "    ) = trauma_icu_resuscitation_funcs.load_trauma_icu_resuscitation_data(split, 'ope', 'discrete')\n",
    "    for traj_idx in range(test_states.size(0)):\n",
    "        rewards = test_rewards[traj_idx]\n",
    "        gammas = torch.full_like(rewards, gamma)\n",
    "        gammas[0] = 1.0\n",
    "        gammas = gammas.cumprod(0)\n",
    "        G = (rewards * gammas).sum()\n",
    "        returns.append(G.item())\n",
    "        timesteps.append(test_missing_data[traj_idx].logical_not().sum().item())\n",
    "        resus.append(rewards[test_missing_data[traj_idx].logical_not()].sum().item())\n",
    "        split_.append(split)\n",
    "\n",
    "df = pd.DataFrame.from_dict({\n",
    "    'return': returns,\n",
    "    'timesteps': timesteps,\n",
    "    'resus': resus,\n",
    "    'split': split_\n",
    "})\n",
    "df.head()"
   ],
   "id": "cdbb6fea0be19feb",
   "outputs": [
    {
     "name": "stderr",
     "output_type": "stream",
     "text": [
      "Data Split: 100%|\u001B[32m██████████\u001B[0m| 3/3 [01:50<00:00, 36.69s/ split]\n",
      "Data Split: 100%|\u001B[32m██████████\u001B[0m| 3/3 [00:28<00:00,  9.47s/ split]\n",
      "Data Split: 100%|\u001B[32m██████████\u001B[0m| 3/3 [00:23<00:00,  7.89s/ split]\n",
      "Data Split: 100%|\u001B[32m██████████\u001B[0m| 3/3 [00:26<00:00,  8.93s/ split]\n",
      "Data Split: 100%|\u001B[32m██████████\u001B[0m| 3/3 [00:26<00:00,  8.95s/ split]\n",
      "Data Split: 100%|\u001B[32m██████████\u001B[0m| 3/3 [00:20<00:00,  6.89s/ split]\n",
      "Data Split: 100%|\u001B[32m██████████\u001B[0m| 3/3 [00:23<00:00,  7.99s/ split]\n",
      "Data Split: 100%|\u001B[32m██████████\u001B[0m| 3/3 [00:22<00:00,  7.63s/ split]\n",
      "Data Split: 100%|\u001B[32m██████████\u001B[0m| 3/3 [00:27<00:00,  9.24s/ split]\n",
      "Data Split: 100%|\u001B[32m██████████\u001B[0m| 3/3 [00:25<00:00,  8.58s/ split]\n"
     ]
    },
    {
     "data": {
      "text/plain": [
       "      return  timesteps  resus  split\n",
       "0  -8.374102         41   60.0      0\n",
       "1  -5.803276         32   69.0      0\n",
       "2  -8.193447         40   61.0      0\n",
       "3 -10.417453         52 -151.0      0\n",
       "4  89.000000          2   99.0      0"
      ],
      "text/html": [
       "<div>\n",
       "<style scoped>\n",
       "    .dataframe tbody tr th:only-of-type {\n",
       "        vertical-align: middle;\n",
       "    }\n",
       "\n",
       "    .dataframe tbody tr th {\n",
       "        vertical-align: top;\n",
       "    }\n",
       "\n",
       "    .dataframe thead th {\n",
       "        text-align: right;\n",
       "    }\n",
       "</style>\n",
       "<table border=\"1\" class=\"dataframe\">\n",
       "  <thead>\n",
       "    <tr style=\"text-align: right;\">\n",
       "      <th></th>\n",
       "      <th>return</th>\n",
       "      <th>timesteps</th>\n",
       "      <th>resus</th>\n",
       "      <th>split</th>\n",
       "    </tr>\n",
       "  </thead>\n",
       "  <tbody>\n",
       "    <tr>\n",
       "      <th>0</th>\n",
       "      <td>-8.374102</td>\n",
       "      <td>41</td>\n",
       "      <td>60.0</td>\n",
       "      <td>0</td>\n",
       "    </tr>\n",
       "    <tr>\n",
       "      <th>1</th>\n",
       "      <td>-5.803276</td>\n",
       "      <td>32</td>\n",
       "      <td>69.0</td>\n",
       "      <td>0</td>\n",
       "    </tr>\n",
       "    <tr>\n",
       "      <th>2</th>\n",
       "      <td>-8.193447</td>\n",
       "      <td>40</td>\n",
       "      <td>61.0</td>\n",
       "      <td>0</td>\n",
       "    </tr>\n",
       "    <tr>\n",
       "      <th>3</th>\n",
       "      <td>-10.417453</td>\n",
       "      <td>52</td>\n",
       "      <td>-151.0</td>\n",
       "      <td>0</td>\n",
       "    </tr>\n",
       "    <tr>\n",
       "      <th>4</th>\n",
       "      <td>89.000000</td>\n",
       "      <td>2</td>\n",
       "      <td>99.0</td>\n",
       "      <td>0</td>\n",
       "    </tr>\n",
       "  </tbody>\n",
       "</table>\n",
       "</div>"
      ]
     },
     "execution_count": 8,
     "metadata": {},
     "output_type": "execute_result"
    }
   ],
   "execution_count": 8
  },
  {
   "metadata": {
    "ExecuteTime": {
     "end_time": "2025-02-26T05:05:43.922830Z",
     "start_time": "2025-02-26T05:05:43.917383Z"
    }
   },
   "cell_type": "code",
   "source": "df[df['split'] == 0]['timesteps'].value_counts()",
   "id": "de1c1aa3032c98b0",
   "outputs": [
    {
     "data": {
      "text/plain": [
       "timesteps\n",
       "2     176\n",
       "52     61\n",
       "51     59\n",
       "53     40\n",
       "50     32\n",
       "     ... \n",
       "63      1\n",
       "62      1\n",
       "5       1\n",
       "67      1\n",
       "71      1\n",
       "Name: count, Length: 64, dtype: int64"
      ]
     },
     "execution_count": 9,
     "metadata": {},
     "output_type": "execute_result"
    }
   ],
   "execution_count": 9
  },
  {
   "metadata": {
    "ExecuteTime": {
     "end_time": "2025-01-08T00:49:47.108892Z",
     "start_time": "2025-01-08T00:49:47.097896Z"
    }
   },
   "cell_type": "code",
   "source": "monte_carlo_resus_value_sample(0.7, test_rewards)",
   "id": "79c6d6a074c93e74",
   "outputs": [
    {
     "data": {
      "text/plain": [
       "(19.525040792913934, 0.701)"
      ]
     },
     "execution_count": 98,
     "metadata": {},
     "output_type": "execute_result"
    }
   ],
   "execution_count": 98
  },
  {
   "metadata": {
    "ExecuteTime": {
     "end_time": "2025-01-08T00:42:08.909549Z",
     "start_time": "2025-01-08T00:42:08.904573Z"
    }
   },
   "cell_type": "code",
   "source": [
    "v = torch.multinomial((resus_counts / resus_counts.sum().float()), n_sample, replacement=True)\n",
    "resus_timesteps[v]"
   ],
   "id": "826cc695e2b4479f",
   "outputs": [
    {
     "data": {
      "text/plain": [
       "tensor([ 2,  2, 34,  ..., 16,  2, 10])"
      ]
     },
     "execution_count": 91,
     "metadata": {},
     "output_type": "execute_result"
    }
   ],
   "execution_count": 91
  },
  {
   "metadata": {
    "ExecuteTime": {
     "end_time": "2025-02-26T05:09:39.142509Z",
     "start_time": "2025-02-26T05:05:43.970397Z"
    }
   },
   "cell_type": "code",
   "source": [
    "def monte_carlo_resus_value_sample(pct_resus: float, test_rewards_, n_sample: int = 10000) -> Tuple[float, float]:\n",
    "    n_timesteps = test_rewards_.abs().argmax(dim=-1) + 1\n",
    "    resus = test_rewards_[torch.arange(test_rewards_.size(0)), n_timesteps-1] > 0\n",
    "    resus_timesteps, resus_counts = n_timesteps[resus].unique(return_counts=True)\n",
    "    non_resus_timesteps, non_resus_counts = n_timesteps[~resus].unique(return_counts=True)\n",
    "    sampled_resus = np.random.choice([-1, 1], n_sample, replace=True, p=[1-pct_resus, pct_resus])\n",
    "    try:\n",
    "        sampled_resus_timesteps = torch.multinomial((resus_counts / resus_counts.sum().float()), n_sample, replacement=True).numpy()\n",
    "        sampled_resus_timesteps = resus_timesteps[sampled_resus_timesteps]\n",
    "        sampled_non_resus_timesteps = torch.multinomial((non_resus_counts / non_resus_counts.sum().float()), n_sample, replacement=True).numpy()\n",
    "        sampled_non_resus_timesteps = non_resus_timesteps[sampled_non_resus_timesteps]\n",
    "        # sampled_resus_timesteps = np.random.choice(resus_timesteps.numpy(), n_sample, replace=True, p=(resus_counts / resus_counts.sum().float()))\n",
    "        # sampled_non_resus_timesteps = np.random.choice(non_resus_timesteps.numpy(), n_sample, replace=True, p=(non_resus_counts / non_resus_counts.sum().item()))\n",
    "    except ValueError as ve:\n",
    "        print(f'Resus: {(resus_counts / resus_counts.sum().float().item()).sum()}')\n",
    "        print(f'Non-Resus: {(non_resus_counts / non_resus_counts.sum().item()).sum()}')\n",
    "        raise ve\n",
    "    sampled_timesteps = np.where(sampled_resus == 1, sampled_resus_timesteps, sampled_non_resus_timesteps)\n",
    "    gammas = np.logspace(0, 71, 72, base=gamma)\n",
    "    rewards = np.full((n_sample, 72), -1)\n",
    "    rewards[np.arange(n_sample), sampled_timesteps-1] = sampled_resus * 100\n",
    "    zero_mask = np.expand_dims(sampled_timesteps, -1).repeat(72, axis=-1) <= np.expand_dims(np.arange(0, 72, 1), 0).repeat(n_sample, axis=0)\n",
    "    rewards[zero_mask] = 0\n",
    "    returns = (rewards * gammas).sum(-1)\n",
    "    value = returns.mean()\n",
    "    n_resus_ = (sampled_resus == 1).sum()\n",
    "    resus_pct = n_resus_ / n_sample\n",
    "    return value, resus_pct\n",
    "\n",
    "num_itrs = 1000\n",
    "monte_carlo_values = list()\n",
    "monte_carlo_resus_pct = list()\n",
    "for split in range(10):\n",
    "    (\n",
    "        (_, _, _, _, _, _),\n",
    "        (_, _, _, _, _, _),\n",
    "        (test_states, test_actions, test_rewards, test_dones, test_next_states, test_missing_data)\n",
    "    ) = trauma_icu_resuscitation_funcs.load_trauma_icu_resuscitation_data(split, 'ope', 'discrete')\n",
    "    for i in tqdm(range(num_itrs)):\n",
    "        cur_resus_pct = np.round(i / num_itrs, decimals=2)\n",
    "        v, pct = monte_carlo_resus_value_sample(cur_resus_pct, test_rewards)\n",
    "        monte_carlo_values.append(v)\n",
    "        monte_carlo_resus_pct.append(pct)\n",
    "monte_carlo_value_df = pd.DataFrame.from_dict({\n",
    "    'value': monte_carlo_values,\n",
    "    'resus_pct': monte_carlo_resus_pct\n",
    "})\n",
    "monte_carlo_value_df.head()"
   ],
   "id": "b9197616d0da831e",
   "outputs": [
    {
     "name": "stderr",
     "output_type": "stream",
     "text": [
      "Data Split: 100%|\u001B[32m██████████\u001B[0m| 3/3 [00:10<00:00,  3.39s/ split]\n",
      "100%|██████████| 1000/1000 [00:03<00:00, 286.57it/s]\n",
      "Data Split: 100%|\u001B[32m██████████\u001B[0m| 3/3 [00:17<00:00,  5.94s/ split]\n",
      "100%|██████████| 1000/1000 [00:03<00:00, 302.18it/s]\n",
      "Data Split: 100%|\u001B[32m██████████\u001B[0m| 3/3 [00:17<00:00,  5.83s/ split]\n",
      "100%|██████████| 1000/1000 [00:03<00:00, 302.73it/s]\n",
      "Data Split: 100%|\u001B[32m██████████\u001B[0m| 3/3 [00:18<00:00,  6.02s/ split]\n",
      "100%|██████████| 1000/1000 [00:03<00:00, 293.65it/s]\n",
      "Data Split: 100%|\u001B[32m██████████\u001B[0m| 3/3 [00:12<00:00,  4.21s/ split]\n",
      "100%|██████████| 1000/1000 [00:03<00:00, 301.19it/s]\n",
      "Data Split: 100%|\u001B[32m██████████\u001B[0m| 3/3 [00:21<00:00,  7.29s/ split]\n",
      "100%|██████████| 1000/1000 [00:03<00:00, 264.34it/s]\n",
      "Data Split: 100%|\u001B[32m██████████\u001B[0m| 3/3 [00:26<00:00,  8.68s/ split]\n",
      "100%|██████████| 1000/1000 [00:03<00:00, 264.44it/s]\n",
      "Data Split: 100%|\u001B[32m██████████\u001B[0m| 3/3 [00:23<00:00,  7.79s/ split]\n",
      "100%|██████████| 1000/1000 [00:03<00:00, 266.22it/s]\n",
      "Data Split: 100%|\u001B[32m██████████\u001B[0m| 3/3 [00:26<00:00,  8.81s/ split]\n",
      "100%|██████████| 1000/1000 [00:03<00:00, 264.48it/s]\n",
      "Data Split: 100%|\u001B[32m██████████\u001B[0m| 3/3 [00:24<00:00,  8.32s/ split]\n",
      "100%|██████████| 1000/1000 [00:03<00:00, 268.35it/s]\n"
     ]
    },
    {
     "data": {
      "text/plain": [
       "       value  resus_pct\n",
       "0 -10.402025        0.0\n",
       "1 -10.402715        0.0\n",
       "2 -10.402247        0.0\n",
       "3 -10.403088        0.0\n",
       "4 -10.402474        0.0"
      ],
      "text/html": [
       "<div>\n",
       "<style scoped>\n",
       "    .dataframe tbody tr th:only-of-type {\n",
       "        vertical-align: middle;\n",
       "    }\n",
       "\n",
       "    .dataframe tbody tr th {\n",
       "        vertical-align: top;\n",
       "    }\n",
       "\n",
       "    .dataframe thead th {\n",
       "        text-align: right;\n",
       "    }\n",
       "</style>\n",
       "<table border=\"1\" class=\"dataframe\">\n",
       "  <thead>\n",
       "    <tr style=\"text-align: right;\">\n",
       "      <th></th>\n",
       "      <th>value</th>\n",
       "      <th>resus_pct</th>\n",
       "    </tr>\n",
       "  </thead>\n",
       "  <tbody>\n",
       "    <tr>\n",
       "      <th>0</th>\n",
       "      <td>-10.402025</td>\n",
       "      <td>0.0</td>\n",
       "    </tr>\n",
       "    <tr>\n",
       "      <th>1</th>\n",
       "      <td>-10.402715</td>\n",
       "      <td>0.0</td>\n",
       "    </tr>\n",
       "    <tr>\n",
       "      <th>2</th>\n",
       "      <td>-10.402247</td>\n",
       "      <td>0.0</td>\n",
       "    </tr>\n",
       "    <tr>\n",
       "      <th>3</th>\n",
       "      <td>-10.403088</td>\n",
       "      <td>0.0</td>\n",
       "    </tr>\n",
       "    <tr>\n",
       "      <th>4</th>\n",
       "      <td>-10.402474</td>\n",
       "      <td>0.0</td>\n",
       "    </tr>\n",
       "  </tbody>\n",
       "</table>\n",
       "</div>"
      ]
     },
     "execution_count": 10,
     "metadata": {},
     "output_type": "execute_result"
    }
   ],
   "execution_count": 10
  },
  {
   "metadata": {
    "ExecuteTime": {
     "end_time": "2025-02-26T05:09:48.064455Z",
     "start_time": "2025-02-26T05:09:43.088151Z"
    }
   },
   "cell_type": "code",
   "source": [
    "from sklearn.linear_model import LinearRegression\n",
    "\n",
    "lr = LinearRegression()\n",
    "lr.fit(X=monte_carlo_value_df['value'].values.reshape(-1, 1), y=monte_carlo_value_df['resus_pct'].values.reshape(-1, 1))"
   ],
   "id": "2b50248fa338853a",
   "outputs": [
    {
     "data": {
      "text/plain": [
       "LinearRegression()"
      ],
      "text/html": [
       "<style>#sk-container-id-1 {\n",
       "  /* Definition of color scheme common for light and dark mode */\n",
       "  --sklearn-color-text: #000;\n",
       "  --sklearn-color-text-muted: #666;\n",
       "  --sklearn-color-line: gray;\n",
       "  /* Definition of color scheme for unfitted estimators */\n",
       "  --sklearn-color-unfitted-level-0: #fff5e6;\n",
       "  --sklearn-color-unfitted-level-1: #f6e4d2;\n",
       "  --sklearn-color-unfitted-level-2: #ffe0b3;\n",
       "  --sklearn-color-unfitted-level-3: chocolate;\n",
       "  /* Definition of color scheme for fitted estimators */\n",
       "  --sklearn-color-fitted-level-0: #f0f8ff;\n",
       "  --sklearn-color-fitted-level-1: #d4ebff;\n",
       "  --sklearn-color-fitted-level-2: #b3dbfd;\n",
       "  --sklearn-color-fitted-level-3: cornflowerblue;\n",
       "\n",
       "  /* Specific color for light theme */\n",
       "  --sklearn-color-text-on-default-background: var(--sg-text-color, var(--theme-code-foreground, var(--jp-content-font-color1, black)));\n",
       "  --sklearn-color-background: var(--sg-background-color, var(--theme-background, var(--jp-layout-color0, white)));\n",
       "  --sklearn-color-border-box: var(--sg-text-color, var(--theme-code-foreground, var(--jp-content-font-color1, black)));\n",
       "  --sklearn-color-icon: #696969;\n",
       "\n",
       "  @media (prefers-color-scheme: dark) {\n",
       "    /* Redefinition of color scheme for dark theme */\n",
       "    --sklearn-color-text-on-default-background: var(--sg-text-color, var(--theme-code-foreground, var(--jp-content-font-color1, white)));\n",
       "    --sklearn-color-background: var(--sg-background-color, var(--theme-background, var(--jp-layout-color0, #111)));\n",
       "    --sklearn-color-border-box: var(--sg-text-color, var(--theme-code-foreground, var(--jp-content-font-color1, white)));\n",
       "    --sklearn-color-icon: #878787;\n",
       "  }\n",
       "}\n",
       "\n",
       "#sk-container-id-1 {\n",
       "  color: var(--sklearn-color-text);\n",
       "}\n",
       "\n",
       "#sk-container-id-1 pre {\n",
       "  padding: 0;\n",
       "}\n",
       "\n",
       "#sk-container-id-1 input.sk-hidden--visually {\n",
       "  border: 0;\n",
       "  clip: rect(1px 1px 1px 1px);\n",
       "  clip: rect(1px, 1px, 1px, 1px);\n",
       "  height: 1px;\n",
       "  margin: -1px;\n",
       "  overflow: hidden;\n",
       "  padding: 0;\n",
       "  position: absolute;\n",
       "  width: 1px;\n",
       "}\n",
       "\n",
       "#sk-container-id-1 div.sk-dashed-wrapped {\n",
       "  border: 1px dashed var(--sklearn-color-line);\n",
       "  margin: 0 0.4em 0.5em 0.4em;\n",
       "  box-sizing: border-box;\n",
       "  padding-bottom: 0.4em;\n",
       "  background-color: var(--sklearn-color-background);\n",
       "}\n",
       "\n",
       "#sk-container-id-1 div.sk-container {\n",
       "  /* jupyter's `normalize.less` sets `[hidden] { display: none; }`\n",
       "     but bootstrap.min.css set `[hidden] { display: none !important; }`\n",
       "     so we also need the `!important` here to be able to override the\n",
       "     default hidden behavior on the sphinx rendered scikit-learn.org.\n",
       "     See: https://github.com/scikit-learn/scikit-learn/issues/21755 */\n",
       "  display: inline-block !important;\n",
       "  position: relative;\n",
       "}\n",
       "\n",
       "#sk-container-id-1 div.sk-text-repr-fallback {\n",
       "  display: none;\n",
       "}\n",
       "\n",
       "div.sk-parallel-item,\n",
       "div.sk-serial,\n",
       "div.sk-item {\n",
       "  /* draw centered vertical line to link estimators */\n",
       "  background-image: linear-gradient(var(--sklearn-color-text-on-default-background), var(--sklearn-color-text-on-default-background));\n",
       "  background-size: 2px 100%;\n",
       "  background-repeat: no-repeat;\n",
       "  background-position: center center;\n",
       "}\n",
       "\n",
       "/* Parallel-specific style estimator block */\n",
       "\n",
       "#sk-container-id-1 div.sk-parallel-item::after {\n",
       "  content: \"\";\n",
       "  width: 100%;\n",
       "  border-bottom: 2px solid var(--sklearn-color-text-on-default-background);\n",
       "  flex-grow: 1;\n",
       "}\n",
       "\n",
       "#sk-container-id-1 div.sk-parallel {\n",
       "  display: flex;\n",
       "  align-items: stretch;\n",
       "  justify-content: center;\n",
       "  background-color: var(--sklearn-color-background);\n",
       "  position: relative;\n",
       "}\n",
       "\n",
       "#sk-container-id-1 div.sk-parallel-item {\n",
       "  display: flex;\n",
       "  flex-direction: column;\n",
       "}\n",
       "\n",
       "#sk-container-id-1 div.sk-parallel-item:first-child::after {\n",
       "  align-self: flex-end;\n",
       "  width: 50%;\n",
       "}\n",
       "\n",
       "#sk-container-id-1 div.sk-parallel-item:last-child::after {\n",
       "  align-self: flex-start;\n",
       "  width: 50%;\n",
       "}\n",
       "\n",
       "#sk-container-id-1 div.sk-parallel-item:only-child::after {\n",
       "  width: 0;\n",
       "}\n",
       "\n",
       "/* Serial-specific style estimator block */\n",
       "\n",
       "#sk-container-id-1 div.sk-serial {\n",
       "  display: flex;\n",
       "  flex-direction: column;\n",
       "  align-items: center;\n",
       "  background-color: var(--sklearn-color-background);\n",
       "  padding-right: 1em;\n",
       "  padding-left: 1em;\n",
       "}\n",
       "\n",
       "\n",
       "/* Toggleable style: style used for estimator/Pipeline/ColumnTransformer box that is\n",
       "clickable and can be expanded/collapsed.\n",
       "- Pipeline and ColumnTransformer use this feature and define the default style\n",
       "- Estimators will overwrite some part of the style using the `sk-estimator` class\n",
       "*/\n",
       "\n",
       "/* Pipeline and ColumnTransformer style (default) */\n",
       "\n",
       "#sk-container-id-1 div.sk-toggleable {\n",
       "  /* Default theme specific background. It is overwritten whether we have a\n",
       "  specific estimator or a Pipeline/ColumnTransformer */\n",
       "  background-color: var(--sklearn-color-background);\n",
       "}\n",
       "\n",
       "/* Toggleable label */\n",
       "#sk-container-id-1 label.sk-toggleable__label {\n",
       "  cursor: pointer;\n",
       "  display: flex;\n",
       "  width: 100%;\n",
       "  margin-bottom: 0;\n",
       "  padding: 0.5em;\n",
       "  box-sizing: border-box;\n",
       "  text-align: center;\n",
       "  align-items: start;\n",
       "  justify-content: space-between;\n",
       "  gap: 0.5em;\n",
       "}\n",
       "\n",
       "#sk-container-id-1 label.sk-toggleable__label .caption {\n",
       "  font-size: 0.6rem;\n",
       "  font-weight: lighter;\n",
       "  color: var(--sklearn-color-text-muted);\n",
       "}\n",
       "\n",
       "#sk-container-id-1 label.sk-toggleable__label-arrow:before {\n",
       "  /* Arrow on the left of the label */\n",
       "  content: \"▸\";\n",
       "  float: left;\n",
       "  margin-right: 0.25em;\n",
       "  color: var(--sklearn-color-icon);\n",
       "}\n",
       "\n",
       "#sk-container-id-1 label.sk-toggleable__label-arrow:hover:before {\n",
       "  color: var(--sklearn-color-text);\n",
       "}\n",
       "\n",
       "/* Toggleable content - dropdown */\n",
       "\n",
       "#sk-container-id-1 div.sk-toggleable__content {\n",
       "  max-height: 0;\n",
       "  max-width: 0;\n",
       "  overflow: hidden;\n",
       "  text-align: left;\n",
       "  /* unfitted */\n",
       "  background-color: var(--sklearn-color-unfitted-level-0);\n",
       "}\n",
       "\n",
       "#sk-container-id-1 div.sk-toggleable__content.fitted {\n",
       "  /* fitted */\n",
       "  background-color: var(--sklearn-color-fitted-level-0);\n",
       "}\n",
       "\n",
       "#sk-container-id-1 div.sk-toggleable__content pre {\n",
       "  margin: 0.2em;\n",
       "  border-radius: 0.25em;\n",
       "  color: var(--sklearn-color-text);\n",
       "  /* unfitted */\n",
       "  background-color: var(--sklearn-color-unfitted-level-0);\n",
       "}\n",
       "\n",
       "#sk-container-id-1 div.sk-toggleable__content.fitted pre {\n",
       "  /* unfitted */\n",
       "  background-color: var(--sklearn-color-fitted-level-0);\n",
       "}\n",
       "\n",
       "#sk-container-id-1 input.sk-toggleable__control:checked~div.sk-toggleable__content {\n",
       "  /* Expand drop-down */\n",
       "  max-height: 200px;\n",
       "  max-width: 100%;\n",
       "  overflow: auto;\n",
       "}\n",
       "\n",
       "#sk-container-id-1 input.sk-toggleable__control:checked~label.sk-toggleable__label-arrow:before {\n",
       "  content: \"▾\";\n",
       "}\n",
       "\n",
       "/* Pipeline/ColumnTransformer-specific style */\n",
       "\n",
       "#sk-container-id-1 div.sk-label input.sk-toggleable__control:checked~label.sk-toggleable__label {\n",
       "  color: var(--sklearn-color-text);\n",
       "  background-color: var(--sklearn-color-unfitted-level-2);\n",
       "}\n",
       "\n",
       "#sk-container-id-1 div.sk-label.fitted input.sk-toggleable__control:checked~label.sk-toggleable__label {\n",
       "  background-color: var(--sklearn-color-fitted-level-2);\n",
       "}\n",
       "\n",
       "/* Estimator-specific style */\n",
       "\n",
       "/* Colorize estimator box */\n",
       "#sk-container-id-1 div.sk-estimator input.sk-toggleable__control:checked~label.sk-toggleable__label {\n",
       "  /* unfitted */\n",
       "  background-color: var(--sklearn-color-unfitted-level-2);\n",
       "}\n",
       "\n",
       "#sk-container-id-1 div.sk-estimator.fitted input.sk-toggleable__control:checked~label.sk-toggleable__label {\n",
       "  /* fitted */\n",
       "  background-color: var(--sklearn-color-fitted-level-2);\n",
       "}\n",
       "\n",
       "#sk-container-id-1 div.sk-label label.sk-toggleable__label,\n",
       "#sk-container-id-1 div.sk-label label {\n",
       "  /* The background is the default theme color */\n",
       "  color: var(--sklearn-color-text-on-default-background);\n",
       "}\n",
       "\n",
       "/* On hover, darken the color of the background */\n",
       "#sk-container-id-1 div.sk-label:hover label.sk-toggleable__label {\n",
       "  color: var(--sklearn-color-text);\n",
       "  background-color: var(--sklearn-color-unfitted-level-2);\n",
       "}\n",
       "\n",
       "/* Label box, darken color on hover, fitted */\n",
       "#sk-container-id-1 div.sk-label.fitted:hover label.sk-toggleable__label.fitted {\n",
       "  color: var(--sklearn-color-text);\n",
       "  background-color: var(--sklearn-color-fitted-level-2);\n",
       "}\n",
       "\n",
       "/* Estimator label */\n",
       "\n",
       "#sk-container-id-1 div.sk-label label {\n",
       "  font-family: monospace;\n",
       "  font-weight: bold;\n",
       "  display: inline-block;\n",
       "  line-height: 1.2em;\n",
       "}\n",
       "\n",
       "#sk-container-id-1 div.sk-label-container {\n",
       "  text-align: center;\n",
       "}\n",
       "\n",
       "/* Estimator-specific */\n",
       "#sk-container-id-1 div.sk-estimator {\n",
       "  font-family: monospace;\n",
       "  border: 1px dotted var(--sklearn-color-border-box);\n",
       "  border-radius: 0.25em;\n",
       "  box-sizing: border-box;\n",
       "  margin-bottom: 0.5em;\n",
       "  /* unfitted */\n",
       "  background-color: var(--sklearn-color-unfitted-level-0);\n",
       "}\n",
       "\n",
       "#sk-container-id-1 div.sk-estimator.fitted {\n",
       "  /* fitted */\n",
       "  background-color: var(--sklearn-color-fitted-level-0);\n",
       "}\n",
       "\n",
       "/* on hover */\n",
       "#sk-container-id-1 div.sk-estimator:hover {\n",
       "  /* unfitted */\n",
       "  background-color: var(--sklearn-color-unfitted-level-2);\n",
       "}\n",
       "\n",
       "#sk-container-id-1 div.sk-estimator.fitted:hover {\n",
       "  /* fitted */\n",
       "  background-color: var(--sklearn-color-fitted-level-2);\n",
       "}\n",
       "\n",
       "/* Specification for estimator info (e.g. \"i\" and \"?\") */\n",
       "\n",
       "/* Common style for \"i\" and \"?\" */\n",
       "\n",
       ".sk-estimator-doc-link,\n",
       "a:link.sk-estimator-doc-link,\n",
       "a:visited.sk-estimator-doc-link {\n",
       "  float: right;\n",
       "  font-size: smaller;\n",
       "  line-height: 1em;\n",
       "  font-family: monospace;\n",
       "  background-color: var(--sklearn-color-background);\n",
       "  border-radius: 1em;\n",
       "  height: 1em;\n",
       "  width: 1em;\n",
       "  text-decoration: none !important;\n",
       "  margin-left: 0.5em;\n",
       "  text-align: center;\n",
       "  /* unfitted */\n",
       "  border: var(--sklearn-color-unfitted-level-1) 1pt solid;\n",
       "  color: var(--sklearn-color-unfitted-level-1);\n",
       "}\n",
       "\n",
       ".sk-estimator-doc-link.fitted,\n",
       "a:link.sk-estimator-doc-link.fitted,\n",
       "a:visited.sk-estimator-doc-link.fitted {\n",
       "  /* fitted */\n",
       "  border: var(--sklearn-color-fitted-level-1) 1pt solid;\n",
       "  color: var(--sklearn-color-fitted-level-1);\n",
       "}\n",
       "\n",
       "/* On hover */\n",
       "div.sk-estimator:hover .sk-estimator-doc-link:hover,\n",
       ".sk-estimator-doc-link:hover,\n",
       "div.sk-label-container:hover .sk-estimator-doc-link:hover,\n",
       ".sk-estimator-doc-link:hover {\n",
       "  /* unfitted */\n",
       "  background-color: var(--sklearn-color-unfitted-level-3);\n",
       "  color: var(--sklearn-color-background);\n",
       "  text-decoration: none;\n",
       "}\n",
       "\n",
       "div.sk-estimator.fitted:hover .sk-estimator-doc-link.fitted:hover,\n",
       ".sk-estimator-doc-link.fitted:hover,\n",
       "div.sk-label-container:hover .sk-estimator-doc-link.fitted:hover,\n",
       ".sk-estimator-doc-link.fitted:hover {\n",
       "  /* fitted */\n",
       "  background-color: var(--sklearn-color-fitted-level-3);\n",
       "  color: var(--sklearn-color-background);\n",
       "  text-decoration: none;\n",
       "}\n",
       "\n",
       "/* Span, style for the box shown on hovering the info icon */\n",
       ".sk-estimator-doc-link span {\n",
       "  display: none;\n",
       "  z-index: 9999;\n",
       "  position: relative;\n",
       "  font-weight: normal;\n",
       "  right: .2ex;\n",
       "  padding: .5ex;\n",
       "  margin: .5ex;\n",
       "  width: min-content;\n",
       "  min-width: 20ex;\n",
       "  max-width: 50ex;\n",
       "  color: var(--sklearn-color-text);\n",
       "  box-shadow: 2pt 2pt 4pt #999;\n",
       "  /* unfitted */\n",
       "  background: var(--sklearn-color-unfitted-level-0);\n",
       "  border: .5pt solid var(--sklearn-color-unfitted-level-3);\n",
       "}\n",
       "\n",
       ".sk-estimator-doc-link.fitted span {\n",
       "  /* fitted */\n",
       "  background: var(--sklearn-color-fitted-level-0);\n",
       "  border: var(--sklearn-color-fitted-level-3);\n",
       "}\n",
       "\n",
       ".sk-estimator-doc-link:hover span {\n",
       "  display: block;\n",
       "}\n",
       "\n",
       "/* \"?\"-specific style due to the `<a>` HTML tag */\n",
       "\n",
       "#sk-container-id-1 a.estimator_doc_link {\n",
       "  float: right;\n",
       "  font-size: 1rem;\n",
       "  line-height: 1em;\n",
       "  font-family: monospace;\n",
       "  background-color: var(--sklearn-color-background);\n",
       "  border-radius: 1rem;\n",
       "  height: 1rem;\n",
       "  width: 1rem;\n",
       "  text-decoration: none;\n",
       "  /* unfitted */\n",
       "  color: var(--sklearn-color-unfitted-level-1);\n",
       "  border: var(--sklearn-color-unfitted-level-1) 1pt solid;\n",
       "}\n",
       "\n",
       "#sk-container-id-1 a.estimator_doc_link.fitted {\n",
       "  /* fitted */\n",
       "  border: var(--sklearn-color-fitted-level-1) 1pt solid;\n",
       "  color: var(--sklearn-color-fitted-level-1);\n",
       "}\n",
       "\n",
       "/* On hover */\n",
       "#sk-container-id-1 a.estimator_doc_link:hover {\n",
       "  /* unfitted */\n",
       "  background-color: var(--sklearn-color-unfitted-level-3);\n",
       "  color: var(--sklearn-color-background);\n",
       "  text-decoration: none;\n",
       "}\n",
       "\n",
       "#sk-container-id-1 a.estimator_doc_link.fitted:hover {\n",
       "  /* fitted */\n",
       "  background-color: var(--sklearn-color-fitted-level-3);\n",
       "}\n",
       "</style><div id=\"sk-container-id-1\" class=\"sk-top-container\"><div class=\"sk-text-repr-fallback\"><pre>LinearRegression()</pre><b>In a Jupyter environment, please rerun this cell to show the HTML representation or trust the notebook. <br />On GitHub, the HTML representation is unable to render, please try loading this page with nbviewer.org.</b></div><div class=\"sk-container\" hidden><div class=\"sk-item\"><div class=\"sk-estimator fitted sk-toggleable\"><input class=\"sk-toggleable__control sk-hidden--visually\" id=\"sk-estimator-id-1\" type=\"checkbox\" checked><label for=\"sk-estimator-id-1\" class=\"sk-toggleable__label fitted sk-toggleable__label-arrow\"><div><div>LinearRegression</div></div><div><a class=\"sk-estimator-doc-link fitted\" rel=\"noreferrer\" target=\"_blank\" href=\"https://scikit-learn.org/1.6/modules/generated/sklearn.linear_model.LinearRegression.html\">?<span>Documentation for LinearRegression</span></a><span class=\"sk-estimator-doc-link fitted\">i<span>Fitted</span></span></div></label><div class=\"sk-toggleable__content fitted\"><pre>LinearRegression()</pre></div> </div></div></div></div>"
      ]
     },
     "execution_count": 11,
     "metadata": {},
     "output_type": "execute_result"
    }
   ],
   "execution_count": 11
  },
  {
   "metadata": {
    "ExecuteTime": {
     "end_time": "2025-02-26T05:09:48.077215Z",
     "start_time": "2025-02-26T05:09:48.073655Z"
    }
   },
   "cell_type": "code",
   "source": "lr.coef_, lr.intercept_",
   "id": "c7c0b668243f41a1",
   "outputs": [
    {
     "data": {
      "text/plain": [
       "(array([[0.02379356]]), array([0.24765604]))"
      ]
     },
     "execution_count": 12,
     "metadata": {},
     "output_type": "execute_result"
    }
   ],
   "execution_count": 12
  },
  {
   "metadata": {
    "ExecuteTime": {
     "end_time": "2025-02-26T05:09:54.693895Z",
     "start_time": "2025-02-26T05:09:54.690209Z"
    }
   },
   "cell_type": "code",
   "source": "monte_carlo_value_df.shape[0]",
   "id": "f949a2c2e927fe17",
   "outputs": [
    {
     "data": {
      "text/plain": [
       "10000"
      ]
     },
     "execution_count": 13,
     "metadata": {},
     "output_type": "execute_result"
    }
   ],
   "execution_count": 13
  },
  {
   "metadata": {
    "ExecuteTime": {
     "end_time": "2025-02-26T05:09:56.381541Z",
     "start_time": "2025-02-26T05:09:56.375144Z"
    }
   },
   "cell_type": "code",
   "source": [
    "def compute_95_pct_confidence_interval(x_: np.ndarray, y_: np.ndarray, lr_: LinearRegression) -> Tuple[Tuple[float, float], Tuple[float, float]]:\n",
    "    s = np.sqrt(np.sum(np.power(y_ - y_.mean(), 2)) / (y_.shape[0] - 2))\n",
    "    slope_se = s / np.sqrt(np.sum(np.power(x_ - x_.mean(), 2)))\n",
    "    intercept_se = s * np.sqrt(1 / y_.shape[0] + np.power(x_.mean(), 2) / np.sum(np.power(x_ - x_.mean(), 2)))\n",
    "    t_val = 1.960 # 95% confidence interval for 10000 samples\n",
    "    slope_ci = t_val * slope_se\n",
    "    intercept_ci = t_val * intercept_se\n",
    "    return (slope_se + slope_ci, slope_se - slope_ci), (intercept_se + intercept_ci, intercept_se - intercept_ci)\n",
    "\n",
    "compute_95_pct_confidence_interval(monte_carlo_value_df['value'].values, monte_carlo_value_df['resus_pct'].values, lr)"
   ],
   "id": "2d117d5aadb41cff",
   "outputs": [
    {
     "data": {
      "text/plain": [
       "((0.00070457693516316, -0.0002285114384312951),\n",
       " (0.01134320399423355, -0.003678876971102773))"
      ]
     },
     "execution_count": 14,
     "metadata": {},
     "output_type": "execute_result"
    }
   ],
   "execution_count": 14
  },
  {
   "metadata": {
    "ExecuteTime": {
     "end_time": "2025-02-26T05:09:58.627522Z",
     "start_time": "2025-02-26T05:09:58.624091Z"
    }
   },
   "cell_type": "code",
   "source": [
    "lr_x = np.linspace(monte_carlo_value_df['value'].min(), monte_carlo_value_df['value'].max(), 100)\n",
    "lr_y = lr.predict(lr_x.reshape(-1, 1))"
   ],
   "id": "2bad7a3b74a3e22a",
   "outputs": [],
   "execution_count": 15
  },
  {
   "metadata": {
    "ExecuteTime": {
     "end_time": "2025-02-26T05:10:00.099777Z",
     "start_time": "2025-02-26T05:10:00.092755Z"
    }
   },
   "cell_type": "code",
   "source": [
    "from scipy import stats\n",
    "slope, intercept, r_value, p_value, std_err = stats.linregress(monte_carlo_value_df['value'], monte_carlo_value_df['resus_pct'])\n",
    "x_range = np.linspace(monte_carlo_value_df['value'].min(), monte_carlo_value_df['value'].max(), 100)\n",
    "y_fit = slope * x_range + intercept\n",
    "t_value = stats.t.ppf(0.975, df=monte_carlo_value_df.shape[0]-2) # 95% confidence interval\n",
    "slope_ci = t_value * std_err\n",
    "upper_bound = y_fit + slope_ci\n",
    "lower_bound = y_fit - slope_ci"
   ],
   "id": "16231aed07a71174",
   "outputs": [],
   "execution_count": 16
  },
  {
   "metadata": {
    "ExecuteTime": {
     "end_time": "2025-02-26T05:10:04.610694Z",
     "start_time": "2025-02-26T05:10:04.607467Z"
    }
   },
   "cell_type": "code",
   "source": "slope, intercept, r_value, p_value, std_err",
   "id": "732e7cac66caeaa1",
   "outputs": [
    {
     "data": {
      "text/plain": [
       "(0.023793557441688352,\n",
       " 0.2476560426063626,\n",
       " 0.9996917364418032,\n",
       " 0.0,\n",
       " 5.909889089134168e-06)"
      ]
     },
     "execution_count": 17,
     "metadata": {},
     "output_type": "execute_result"
    }
   ],
   "execution_count": 17
  },
  {
   "metadata": {
    "ExecuteTime": {
     "end_time": "2025-02-28T22:11:42.916964Z",
     "start_time": "2025-02-28T22:11:42.686845Z"
    }
   },
   "cell_type": "code",
   "source": [
    "ax = sns.scatterplot(x='value', y='resus_pct', data=monte_carlo_value_df)\n",
    "#ax.plot(lr_x, lr_y, color='red', label='LR: Best Fit Line')\n",
    "ax.plot(x_range, y_fit, color='red', label='LR: Best Fit Line')\n",
    "ax.fill_between(x_range, lower_bound, upper_bound, color='red', alpha=0.3, label='LR: 95% CI')\n",
    "_ = ax.set_xticks(range(-20, 36, 5))\n",
    "ax.set_title('Weighted Monte Carlo Resuscitation Rate vs Expected Return')\n",
    "ax.set_xlabel('Expected Return')\n",
    "ax.set_ylabel('Resuscitation Rate')\n",
    "ax.legend()"
   ],
   "id": "4a448d063e541360",
   "outputs": [
    {
     "data": {
      "text/plain": [
       "<matplotlib.legend.Legend at 0x7fea59ecf6d0>"
      ]
     },
     "execution_count": 39,
     "metadata": {},
     "output_type": "execute_result"
    },
    {
     "data": {
      "text/plain": [
       "<Figure size 640x480 with 1 Axes>"
      ],
      "image/png": "[encoded data removed]"
     },
     "metadata": {},
     "output_type": "display_data"
    }
   ],
   "execution_count": 39
  },
  {
   "metadata": {
    "ExecuteTime": {
     "end_time": "2025-02-26T05:10:41.392748Z",
     "start_time": "2025-02-26T05:10:41.388923Z"
    }
   },
   "cell_type": "code",
   "source": "monte_carlo_value_df['value'].min()",
   "id": "1cb96891be8c7958",
   "outputs": [
    {
     "data": {
      "text/plain": [
       "-10.40509844911618"
      ]
     },
     "execution_count": 20,
     "metadata": {},
     "output_type": "execute_result"
    }
   ],
   "execution_count": 20
  },
  {
   "metadata": {
    "ExecuteTime": {
     "end_time": "2025-02-26T05:10:46.223103Z",
     "start_time": "2025-02-26T05:10:46.219543Z"
    }
   },
   "cell_type": "code",
   "source": "monte_carlo_value_df['value'].max()",
   "id": "cfffe6ec6659909f",
   "outputs": [
    {
     "data": {
      "text/plain": [
       "32.543921414077104"
      ]
     },
     "execution_count": 21,
     "metadata": {},
     "output_type": "execute_result"
    }
   ],
   "execution_count": 21
  },
  {
   "metadata": {
    "ExecuteTime": {
     "end_time": "2025-02-26T05:11:25.773060Z",
     "start_time": "2025-02-26T05:11:12.101958Z"
    }
   },
   "cell_type": "code",
   "source": [
    "(\n",
    "    (_, _, _, _, _, _),\n",
    "    (_, _, _, _, _, _),\n",
    "    (test_states, test_actions, test_rewards, test_dones, test_next_states, test_missing_data)\n",
    ") = trauma_icu_resuscitation_funcs.load_trauma_icu_resuscitation_data(1, 'ope', 'discrete')\n",
    "test_rewards.abs().argmax(dim=-1)"
   ],
   "id": "9cfeaf024d26bed3",
   "outputs": [
    {
     "name": "stderr",
     "output_type": "stream",
     "text": [
      "Data Split: 100%|\u001B[32m██████████\u001B[0m| 3/3 [00:13<00:00,  4.54s/ split]\n"
     ]
    },
    {
     "data": {
      "text/plain": [
       "tensor([52, 52, 51, 59,  1, 59,  1, 51, 33, 44, 49, 14,  1, 55, 63, 51,  1, 24,\n",
       "         1, 52,  1,  7, 44,  1, 38, 17,  8,  9, 29, 46, 31, 28, 49,  1,  1, 31,\n",
       "         1, 53, 16,  1,  1, 51,  1, 25, 12, 21,  1, 22,  1, 50,  1, 50, 53,  1,\n",
       "        11,  1, 53, 46,  1,  1, 54,  1,  1,  1, 41, 54, 51, 21, 45, 25, 55,  3,\n",
       "        41,  1, 27,  1,  7, 14, 49, 40,  1, 33, 30, 50, 10,  1, 15, 22, 54,  1,\n",
       "         4, 35, 34, 10,  1,  1, 15, 51,  1, 55, 52, 46,  8, 36, 51, 46,  7, 42,\n",
       "        70,  1, 39,  1, 12, 12, 49, 51, 10, 50, 22, 12, 55, 37, 51, 22, 37, 50,\n",
       "        53, 57,  1, 52, 49, 30,  1,  1, 38, 53,  5, 49, 48,  1, 44,  1, 41, 26,\n",
       "        12, 38, 51, 47,  8, 52, 50, 49, 50,  4, 30, 35, 30, 19, 27, 32, 14,  1,\n",
       "         9, 49,  1, 52, 51, 54, 51, 50, 39, 52, 18, 16, 50, 25,  1, 60, 49, 53,\n",
       "        41,  4, 55, 28,  1, 16, 53, 13,  7,  8, 47, 53, 19, 40,  1,  1, 51, 51,\n",
       "        52, 31, 55,  1, 21,  1, 37, 56, 26, 49, 33,  6, 28, 46, 51,  1, 40, 49,\n",
       "         1,  1, 51,  1, 42, 38, 20, 24, 44, 55,  1,  1, 51, 51, 51, 11, 50, 29,\n",
       "        35, 13, 50, 50, 40,  1, 38,  9,  1, 51, 51, 54,  1, 14,  1,  1, 14,  1,\n",
       "        53, 36,  9, 11, 51, 53,  1, 51, 12,  1, 19, 51, 28, 36, 31,  8,  1,  1,\n",
       "         1, 33,  1, 49, 12, 52, 32,  3,  1, 53, 52, 39,  9, 47, 48, 51,  1, 50,\n",
       "        52, 10, 27, 14, 38, 51,  8, 31, 17, 54, 50, 13, 52, 50, 49,  1,  9, 50,\n",
       "        60, 45, 16, 60, 51, 46,  1, 48, 54, 22,  1, 50,  9, 14, 52, 55,  6,  1,\n",
       "        36, 52, 50, 24,  1, 50,  6, 34, 53, 45, 54, 25, 50,  1, 56, 39, 16,  9,\n",
       "        15,  1, 50, 52, 33, 49, 50, 56, 49, 37,  1,  1, 56, 69,  1, 51, 31, 51,\n",
       "        48, 52, 10,  8, 29,  1, 46, 48, 10, 10, 50, 50,  9, 52, 36,  1, 10, 52,\n",
       "         1,  8, 40,  1, 19, 14, 12, 32,  1,  5, 31, 55,  1,  1, 25,  8, 15, 50,\n",
       "         6, 12, 39, 12, 12, 14, 38, 12,  1, 50,  8, 53, 43, 50, 19,  1,  1, 23,\n",
       "        53, 35, 12,  1, 18, 49,  6, 27, 51,  1, 53,  1, 52, 51, 49, 52, 57, 25,\n",
       "        30,  1, 49, 50, 12, 55,  1,  1, 57,  1,  9, 21, 16, 16, 50, 32, 22, 49,\n",
       "        51, 51, 29,  1, 52, 11, 11, 51, 18,  1, 54, 24, 53,  6, 43, 25, 25, 21,\n",
       "         1,  1, 49, 49, 16, 10,  1, 16, 50,  1, 51, 49, 15, 25,  7, 49, 14,  6,\n",
       "         1, 32, 51, 50, 51, 51, 49, 46, 50,  8, 14, 35, 10, 11, 52, 31, 51,  1,\n",
       "        53, 14, 43, 46, 50, 52,  1,  4, 54,  1, 51,  1,  9, 50, 27, 51,  7,  6,\n",
       "        50, 12, 15, 29, 27, 33, 48,  1, 44, 16, 54, 47, 23, 35,  1, 58, 49, 48,\n",
       "         1,  1,  6, 47, 51, 48, 13, 14,  1,  1, 40,  1, 11, 44, 60, 11,  8,  1,\n",
       "         8, 23, 13, 52, 54, 52,  8,  1, 50, 51, 27, 51,  1, 51, 45, 28, 20, 20,\n",
       "        55, 54, 36, 16, 10,  1, 23, 50, 10,  7, 30, 27, 54,  1, 52, 11, 11,  1,\n",
       "        48,  1, 53, 49,  1, 50, 50,  7, 25, 57, 37, 27,  1,  1, 51, 17, 53, 22,\n",
       "        52, 50, 13, 21, 53, 21, 50, 31,  1, 23, 51,  1, 56, 27, 11, 14, 51, 39,\n",
       "        30, 50, 21,  1, 24, 12, 39, 49,  9,  6, 50, 12,  1, 47, 16, 24, 44, 51,\n",
       "        28, 48, 50, 41, 10, 10,  1, 25, 49, 18, 10, 45,  1, 37, 13, 51,  1, 53,\n",
       "        38,  6, 50, 52, 46, 50, 28, 51, 25,  1, 10, 18,  1,  1,  1, 22, 34, 50,\n",
       "        52, 50, 51,  1, 35, 51, 46, 50, 34,  1, 56, 52, 18, 50, 38,  5, 49, 48,\n",
       "         1, 53,  1, 52,  1, 50,  1, 55, 52, 40, 32,  1,  1, 24, 16,  6, 31, 42,\n",
       "        50, 27, 36,  1, 53, 49, 36,  1,  1, 11, 56, 50, 51, 58, 51,  1, 49,  1,\n",
       "        27, 57,  6, 50,  8,  1, 50, 24, 51, 17, 50, 51, 31, 33, 38, 45, 37, 47,\n",
       "        51, 14, 52,  1,  7, 15,  1,  1,  1, 49,  1, 54,  1,  7, 12,  8, 55, 49,\n",
       "        13, 46,  1, 37, 32, 53,  1, 49, 44,  4,  1, 32, 50,  1, 50, 17, 54, 19,\n",
       "        16, 43,  9, 51, 37,  1, 44, 49, 44,  7,  7, 51, 53, 52, 26,  1,  1, 49,\n",
       "        52,  1, 51, 37, 36, 25,  1, 25, 51, 20, 50, 50,  6,  1, 50, 10,  6,  1,\n",
       "         1, 52,  9,  1,  3,  1, 50, 40, 24,  1,  8, 51,  1,  1,  1,  1, 52,  7,\n",
       "        32,  1, 45,  1, 40, 24, 25, 35, 53,  1, 32, 36,  8,  1,  1])"
      ]
     },
     "execution_count": 22,
     "metadata": {},
     "output_type": "execute_result"
    }
   ],
   "execution_count": 22
  },
  {
   "metadata": {
    "ExecuteTime": {
     "end_time": "2025-02-26T05:11:25.785904Z",
     "start_time": "2025-02-26T05:11:25.778587Z"
    }
   },
   "cell_type": "code",
   "source": [
    "n_timesteps = test_rewards.abs().argmax(dim=-1) + 1\n",
    "resus = test_rewards[torch.arange(test_rewards.size(0)), n_timesteps-1] > 0\n",
    "resus_timesteps, resus_counts = n_timesteps[resus].unique(return_counts=True)\n",
    "non_resus_timesteps, non_resus_counts = n_timesteps[~resus].unique(return_counts=True)\n",
    "t_step_dist_df = pd.DataFrame.from_dict({\n",
    "    'timestep': resus_timesteps.tolist() + non_resus_timesteps.tolist(),\n",
    "    'count': resus_counts.tolist() + non_resus_counts.tolist(),\n",
    "    'resus': [True for _ in range(resus_timesteps.size(0))] + [False for _ in range(non_resus_timesteps.size(0))]\n",
    "})\n",
    "t_step_dist_df.head()\n",
    "#print(f'Resus Timesteps: {n_timesteps[resus].unique(return_counts=True)}')\n",
    "#print(f'Non-Resus Timesteps: {n_timesteps[~resus].unique(return_counts=True)}')"
   ],
   "id": "6fa9718c54fb7e16",
   "outputs": [
    {
     "data": {
      "text/plain": [
       "   timestep  count  resus\n",
       "0         2    176   True\n",
       "1         4      3   True\n",
       "2         5      5   True\n",
       "3         6      3   True\n",
       "4         7     15   True"
      ],
      "text/html": [
       "<div>\n",
       "<style scoped>\n",
       "    .dataframe tbody tr th:only-of-type {\n",
       "        vertical-align: middle;\n",
       "    }\n",
       "\n",
       "    .dataframe tbody tr th {\n",
       "        vertical-align: top;\n",
       "    }\n",
       "\n",
       "    .dataframe thead th {\n",
       "        text-align: right;\n",
       "    }\n",
       "</style>\n",
       "<table border=\"1\" class=\"dataframe\">\n",
       "  <thead>\n",
       "    <tr style=\"text-align: right;\">\n",
       "      <th></th>\n",
       "      <th>timestep</th>\n",
       "      <th>count</th>\n",
       "      <th>resus</th>\n",
       "    </tr>\n",
       "  </thead>\n",
       "  <tbody>\n",
       "    <tr>\n",
       "      <th>0</th>\n",
       "      <td>2</td>\n",
       "      <td>176</td>\n",
       "      <td>True</td>\n",
       "    </tr>\n",
       "    <tr>\n",
       "      <th>1</th>\n",
       "      <td>4</td>\n",
       "      <td>3</td>\n",
       "      <td>True</td>\n",
       "    </tr>\n",
       "    <tr>\n",
       "      <th>2</th>\n",
       "      <td>5</td>\n",
       "      <td>5</td>\n",
       "      <td>True</td>\n",
       "    </tr>\n",
       "    <tr>\n",
       "      <th>3</th>\n",
       "      <td>6</td>\n",
       "      <td>3</td>\n",
       "      <td>True</td>\n",
       "    </tr>\n",
       "    <tr>\n",
       "      <th>4</th>\n",
       "      <td>7</td>\n",
       "      <td>15</td>\n",
       "      <td>True</td>\n",
       "    </tr>\n",
       "  </tbody>\n",
       "</table>\n",
       "</div>"
      ]
     },
     "execution_count": 23,
     "metadata": {},
     "output_type": "execute_result"
    }
   ],
   "execution_count": 23
  },
  {
   "metadata": {
    "ExecuteTime": {
     "end_time": "2025-02-26T05:11:26.127231Z",
     "start_time": "2025-02-26T05:11:25.873949Z"
    }
   },
   "cell_type": "code",
   "source": [
    "ax = sns.barplot(x='timestep', y='count', hue='resus', data=t_step_dist_df)\n",
    "ax.set_xticks(range(0, 72, 5))\n",
    "ax.set_title('Distribution of Timesteps for Resuscitation and Non-Resuscitation Trajectories for Split 1')"
   ],
   "id": "2667497c38faaef9",
   "outputs": [
    {
     "data": {
      "text/plain": [
       "Text(0.5, 1.0, 'Distribution of Timesteps for Resuscitation and Non-Resuscitation Trajectories for Split 1')"
      ]
     },
     "execution_count": 24,
     "metadata": {},
     "output_type": "execute_result"
    },
    {
     "data": {
      "text/plain": [
       "<Figure size 640x480 with 1 Axes>"
      ],
      "image/png": "[encoded data removed]"
     },
     "metadata": {},
     "output_type": "display_data"
    }
   ],
   "execution_count": 24
  },
  {
   "metadata": {
    "ExecuteTime": {
     "end_time": "2025-02-26T05:11:26.166843Z",
     "start_time": "2025-02-26T05:11:26.161481Z"
    }
   },
   "cell_type": "code",
   "source": [
    "gammas = torch.logspace(0, 71, 72, base=gamma).unsqueeze(0).repeat(test_rewards.shape[0], 1)\n",
    "(test_rewards * gammas).sum(-1).mean()"
   ],
   "id": "2385b8285f821b77",
   "outputs": [
    {
     "data": {
      "text/plain": [
       "tensor(19.1131)"
      ]
     },
     "execution_count": 25,
     "metadata": {},
     "output_type": "execute_result"
    }
   ],
   "execution_count": 25
  },
  {
   "metadata": {
    "ExecuteTime": {
     "end_time": "2025-02-26T05:15:37.860300Z",
     "start_time": "2025-02-26T05:11:26.203322Z"
    }
   },
   "cell_type": "code",
   "source": [
    "gamma = 0.9\n",
    "behavior_policy_values = list()\n",
    "num_patients = list()\n",
    "num_non_resus = list()\n",
    "num_resus = list()\n",
    "for split in range(10):\n",
    "    # load data\n",
    "    (\n",
    "        (_, _, _, _, _, _),\n",
    "        (_, _, _, _, _, _),\n",
    "        (test_states, test_actions, test_rewards, test_dones, test_next_states, test_missing_data)\n",
    "    ) = trauma_icu_resuscitation_funcs.load_trauma_icu_resuscitation_data(split, 'ope', 'discrete')\n",
    "    returns = 0.0\n",
    "    # NOTE: This is very inefficient - we could compute the returns in a single pass - but not worth the effort\n",
    "    for i in range(test_states.size(0)):\n",
    "        current_return = 0.0\n",
    "        current_gamma = 1.0 # first reward is undiscounted\n",
    "        for t in range(test_states.size(1)):\n",
    "            reward = test_rewards[i, t].item()\n",
    "            current_return += current_gamma * reward\n",
    "            current_gamma *= gamma\n",
    "            if test_dones[i, t].item():\n",
    "                break # done with this trajectory\n",
    "        returns += current_return\n",
    "    returns /= test_states.size(0) # mean value\n",
    "    behavior_policy_values.append(returns)\n",
    "    cur_num_patients = test_states.size(0)\n",
    "    num_patients.append(cur_num_patients)\n",
    "    n_resus = n_non_resus = 0\n",
    "    for traj_idx in range(test_rewards.size(0)):\n",
    "        final_r = test_rewards[traj_idx][test_missing_data[traj_idx].logical_not()][-1]\n",
    "        if final_r > 0:\n",
    "            n_resus += 1\n",
    "        else:\n",
    "            n_non_resus += 1\n",
    "    num_non_resus.append(n_non_resus)\n",
    "    num_resus.append(n_resus)\n",
    "    assert cur_num_patients == num_non_resus[-1] + num_resus[-1], 'Number of patients does not match number of deaths and survivors'\n",
    "behavior_policy_values, num_patients, num_non_resus, num_resus"
   ],
   "id": "10f63bb8c2825d0d",
   "outputs": [
    {
     "name": "stderr",
     "output_type": "stream",
     "text": [
      "Data Split: 100%|\u001B[32m██████████\u001B[0m| 3/3 [00:09<00:00,  3.29s/ split]\n",
      "Data Split: 100%|\u001B[32m██████████\u001B[0m| 3/3 [00:15<00:00,  5.23s/ split]\n",
      "Data Split: 100%|\u001B[32m██████████\u001B[0m| 3/3 [00:11<00:00,  3.83s/ split]\n",
      "Data Split: 100%|\u001B[32m██████████\u001B[0m| 3/3 [00:30<00:00, 10.21s/ split]\n",
      "Data Split: 100%|\u001B[32m██████████\u001B[0m| 3/3 [00:33<00:00, 11.31s/ split]\n",
      "Data Split: 100%|\u001B[32m██████████\u001B[0m| 3/3 [00:31<00:00, 10.34s/ split]\n",
      "Data Split: 100%|\u001B[32m██████████\u001B[0m| 3/3 [00:24<00:00,  8.12s/ split]\n",
      "Data Split: 100%|\u001B[32m██████████\u001B[0m| 3/3 [00:32<00:00, 10.99s/ split]\n",
      "Data Split: 100%|\u001B[32m██████████\u001B[0m| 3/3 [00:34<00:00, 11.51s/ split]\n",
      "Data Split: 100%|\u001B[32m██████████\u001B[0m| 3/3 [00:25<00:00,  8.40s/ split]\n"
     ]
    },
    {
     "data": {
      "text/plain": [
       "([19.086565987139082,\n",
       "  19.113141350029498,\n",
       "  18.92000397987849,\n",
       "  19.243751160725605,\n",
       "  18.9787141542914,\n",
       "  19.06294190030447,\n",
       "  19.22298210363117,\n",
       "  19.03786922370288,\n",
       "  19.287718604805185,\n",
       "  19.25410193856553],\n",
       " [861, 861, 861, 861, 861, 861, 861, 861, 861, 861],\n",
       " [256, 256, 256, 256, 256, 256, 256, 256, 256, 256],\n",
       " [605, 605, 605, 605, 605, 605, 605, 605, 605, 605])"
      ]
     },
     "execution_count": 26,
     "metadata": {},
     "output_type": "execute_result"
    }
   ],
   "execution_count": 26
  },
  {
   "metadata": {
    "ExecuteTime": {
     "end_time": "2025-02-26T05:15:37.906118Z",
     "start_time": "2025-02-26T05:15:37.903400Z"
    }
   },
   "cell_type": "code",
   "source": "print(f'Behavior Policy Value: {np.mean(behavior_policy_values):.5f} +/- {np.std(behavior_policy_values):.5f}')",
   "id": "26fe7f7a232e28f5",
   "outputs": [
    {
     "name": "stdout",
     "output_type": "stream",
     "text": [
      "Behavior Policy Value: 19.12078 +/- 0.11965\n"
     ]
    }
   ],
   "execution_count": 27
  },
  {
   "metadata": {
    "ExecuteTime": {
     "end_time": "2025-02-26T05:15:37.918589Z",
     "start_time": "2025-02-26T05:15:37.915828Z"
    }
   },
   "cell_type": "code",
   "source": [
    "# Demonstrate expected return vs mortality rate has a linear relationship\n",
    "for b_policy_val, n_patients, n_non_resus, n_resus in zip(behavior_policy_values, num_patients, num_non_resus, num_resus):\n",
    "    print(f'Behavior Policy Value: {b_policy_val:.5f}, Num Patients: {n_patients}, Num Non-Resus: {n_non_resus}, Num Resus: {n_resus}')\n",
    "    print(f'Non-Resuscitation Rate: {n_non_resus / n_patients:.5f}, Resuscitation Rate: {n_resus / n_patients:.5f}')\n",
    "    #computed_b_val = 15 * (n_resus - n_non_resus) / n_patients\n",
    "    #print(f'Computed Behavior Policy Value: {computed_b_val:.5f}')\n",
    "    print('---')"
   ],
   "id": "a1c0ad3739e98c39",
   "outputs": [
    {
     "name": "stdout",
     "output_type": "stream",
     "text": [
      "Behavior Policy Value: 19.08657, Num Patients: 861, Num Non-Resus: 256, Num Resus: 605\n",
      "Non-Resuscitation Rate: 0.29733, Resuscitation Rate: 0.70267\n",
      "---\n",
      "Behavior Policy Value: 19.11314, Num Patients: 861, Num Non-Resus: 256, Num Resus: 605\n",
      "Non-Resuscitation Rate: 0.29733, Resuscitation Rate: 0.70267\n",
      "---\n",
      "Behavior Policy Value: 18.92000, Num Patients: 861, Num Non-Resus: 256, Num Resus: 605\n",
      "Non-Resuscitation Rate: 0.29733, Resuscitation Rate: 0.70267\n",
      "---\n",
      "Behavior Policy Value: 19.24375, Num Patients: 861, Num Non-Resus: 256, Num Resus: 605\n",
      "Non-Resuscitation Rate: 0.29733, Resuscitation Rate: 0.70267\n",
      "---\n",
      "Behavior Policy Value: 18.97871, Num Patients: 861, Num Non-Resus: 256, Num Resus: 605\n",
      "Non-Resuscitation Rate: 0.29733, Resuscitation Rate: 0.70267\n",
      "---\n",
      "Behavior Policy Value: 19.06294, Num Patients: 861, Num Non-Resus: 256, Num Resus: 605\n",
      "Non-Resuscitation Rate: 0.29733, Resuscitation Rate: 0.70267\n",
      "---\n",
      "Behavior Policy Value: 19.22298, Num Patients: 861, Num Non-Resus: 256, Num Resus: 605\n",
      "Non-Resuscitation Rate: 0.29733, Resuscitation Rate: 0.70267\n",
      "---\n",
      "Behavior Policy Value: 19.03787, Num Patients: 861, Num Non-Resus: 256, Num Resus: 605\n",
      "Non-Resuscitation Rate: 0.29733, Resuscitation Rate: 0.70267\n",
      "---\n",
      "Behavior Policy Value: 19.28772, Num Patients: 861, Num Non-Resus: 256, Num Resus: 605\n",
      "Non-Resuscitation Rate: 0.29733, Resuscitation Rate: 0.70267\n",
      "---\n",
      "Behavior Policy Value: 19.25410, Num Patients: 861, Num Non-Resus: 256, Num Resus: 605\n",
      "Non-Resuscitation Rate: 0.29733, Resuscitation Rate: 0.70267\n",
      "---\n"
     ]
    }
   ],
   "execution_count": 28
  },
  {
   "metadata": {
    "ExecuteTime": {
     "end_time": "2025-02-28T23:04:02.229003Z",
     "start_time": "2025-02-28T23:04:02.150799Z"
    }
   },
   "cell_type": "code",
   "source": [
    "behavior_policy_resus = [n_resus / n_patients for n_resus, n_patients in zip(num_resus, num_patients)]\n",
    "sns.lineplot(x=x_range, y=y_fit)\n",
    "plt.scatter(behavior_policy_values, behavior_policy_resus, color='red', label='Control Points')\n",
    "plt.suptitle('Expected Return vs Resuscitation Rate with Known Control Points')\n",
    "plt.legend()\n",
    "plt.xlabel('Expected Return')\n",
    "plt.ylabel('Resuscitation Rate')\n",
    "plt.show()"
   ],
   "id": "a99136f8a1dfc244",
   "outputs": [
    {
     "data": {
      "text/plain": [
       "<Figure size 640x480 with 1 Axes>"
      ],
      "image/png": "[encoded data removed]"
     },
     "metadata": {},
     "output_type": "display_data"
    }
   ],
   "execution_count": 40
  },
  {
   "metadata": {
    "ExecuteTime": {
     "end_time": "2025-02-26T05:15:38.041402Z",
     "start_time": "2025-02-26T05:15:38.039166Z"
    }
   },
   "cell_type": "code",
   "source": [
    "max_return_ = (1.0 - intercept) / slope\n",
    "min_return_ = (0.0 - intercept) / slope"
   ],
   "id": "41474459c4201602",
   "outputs": [],
   "execution_count": 30
  },
  {
   "metadata": {
    "ExecuteTime": {
     "end_time": "2025-02-26T05:15:38.064931Z",
     "start_time": "2025-02-26T05:15:38.062465Z"
    }
   },
   "cell_type": "code",
   "source": [
    "def compute_resus_rate_from_expected_return(expected_return: float, slope_: float, intercept_: float) -> float:\n",
    "    return expected_return * slope_ + intercept_\n",
    "\n",
    "def clip_return(return_val: float, min_: float, max_: float) -> float:\n",
    "    return max(min_, min(max_, return_val))"
   ],
   "id": "399e1f9c45742f73",
   "outputs": [],
   "execution_count": 31
  },
  {
   "metadata": {
    "ExecuteTime": {
     "end_time": "2025-02-26T05:15:38.121135Z",
     "start_time": "2025-02-26T05:15:38.084967Z"
    }
   },
   "cell_type": "code",
   "source": [
    "d3qn_fqe = [clip_return(v, min_return_, max_return_) for v in get_metric_history(d3qn_ope_run_ids['fqe'], 'fqe', mlflow_base_path, return_list=True)]\n",
    "d3qn_magic = [clip_return(v, min_return_, max_return_) for v in get_metric_history(d3qn_ope_run_ids['magic'], 'magic', mlflow_base_path, return_list=True)]\n",
    "iql_fqe = [clip_return(v, min_return_, max_return_) for v in get_metric_history(iql_ope_run_ids['fqe'], 'fqe', mlflow_base_path, return_list=True)]\n",
    "iql_magic = [clip_return(v, min_return_, max_return_) for v in get_metric_history(iql_ope_run_ids['magic'], 'magic', mlflow_base_path, return_list=True)]\n",
    "no_action_fqe = [clip_return(v, min_return_, max_return_) for v in get_metric_history(no_action_ope_run_ids['fqe'], 'fqe', mlflow_base_path, return_list=True)]\n",
    "no_action_magic = [clip_return(v, min_return_, max_return_) for v in get_metric_history(no_action_ope_run_ids['magic'], 'magic', mlflow_base_path, return_list=True)]\n",
    "random_action_fqe = [clip_return(v, min_return_, max_return_) for v in get_metric_history(random_action_ope_run_ids['fqe'], 'fqe', mlflow_base_path, return_list=True)]\n",
    "random_action_magic = [clip_return(v, min_return_, max_return_) for v in get_metric_history(random_action_ope_run_ids['magic'], 'magic', mlflow_base_path, return_list=True)]"
   ],
   "id": "c447e96b4e99bb5e",
   "outputs": [],
   "execution_count": 32
  },
  {
   "metadata": {
    "ExecuteTime": {
     "end_time": "2025-02-26T05:15:38.144953Z",
     "start_time": "2025-02-26T05:15:38.141769Z"
    }
   },
   "cell_type": "code",
   "source": [
    "d3qn_fqe_mortalities = [compute_resus_rate_from_expected_return(val, slope, intercept) for val in d3qn_fqe]\n",
    "d3qn_magic_mortalities = [compute_resus_rate_from_expected_return(val, slope, intercept) for val in d3qn_magic]\n",
    "iql_fqe_mortalities = [compute_resus_rate_from_expected_return(val, slope, intercept) for val in iql_fqe]\n",
    "iql_magic_mortalities = [compute_resus_rate_from_expected_return(val, slope, intercept) for val in iql_magic]\n",
    "no_action_fqe_mortalities = [compute_resus_rate_from_expected_return(val, slope, intercept) for val in no_action_fqe]\n",
    "no_action_magic_mortalities = [compute_resus_rate_from_expected_return(val, slope, intercept) for val in no_action_magic]\n",
    "random_action_fqe_mortalities = [compute_resus_rate_from_expected_return(val, slope, intercept) for val in random_action_fqe]\n",
    "random_action_magic_mortalities = [compute_resus_rate_from_expected_return(val, slope, intercept) for val in random_action_magic]"
   ],
   "id": "586fc3a047c062e2",
   "outputs": [],
   "execution_count": 33
  },
  {
   "metadata": {
    "ExecuteTime": {
     "end_time": "2025-02-26T05:16:18.825099Z",
     "start_time": "2025-02-26T05:16:18.730160Z"
    }
   },
   "cell_type": "code",
   "source": [
    "ax = sns.lineplot(x=x_range, y=y_fit, alpha=0.5)\n",
    "#ax.lines[0].set_linestyle('--')\n",
    "plt.scatter(behavior_policy_values, behavior_policy_resus, color='pink', label='Behavior Policy', alpha=0.9, marker='o')\n",
    "plt.scatter(d3qn_fqe, d3qn_fqe_mortalities, color='green', label='D3QN FQE', alpha=0.9, marker='_')\n",
    "plt.scatter(iql_fqe, iql_fqe_mortalities, color='orange', label='IQL FQE', alpha=0.9, marker='|')\n",
    "plt.scatter(no_action_fqe, no_action_fqe_mortalities, color='orange', label='No Action FQE', alpha=0.5, marker='d')\n",
    "plt.scatter(random_action_fqe, random_action_fqe_mortalities, color='purple', label='Random Action FQE', alpha=0.5, marker='*')\n",
    "plt.suptitle('Expected Return vs Resuscitation Rate - FQE')\n",
    "plt.legend()\n",
    "plt.xlabel('Expected Return')\n",
    "plt.ylabel('Resuscitation Rate')\n",
    "plt.show()"
   ],
   "id": "f6e26ea9b472b8e7",
   "outputs": [
    {
     "data": {
      "text/plain": [
       "<Figure size 640x480 with 1 Axes>"
      ],
      "image/png": "[encoded data removed]"
     },
     "metadata": {},
     "output_type": "display_data"
    }
   ],
   "execution_count": 38
  },
  {
   "metadata": {
    "ExecuteTime": {
     "end_time": "2025-02-26T05:15:38.342306Z",
     "start_time": "2025-02-26T05:15:38.265490Z"
    }
   },
   "cell_type": "code",
   "source": [
    "sns.lineplot(x=x_range, y=y_fit, alpha=0.5)\n",
    "plt.scatter(behavior_policy_values, behavior_policy_resus, color='pink', label='Behavior Policy', alpha=0.9, marker='*')\n",
    "plt.scatter(d3qn_magic, d3qn_magic_mortalities, color='green', label='D3QN MAGIC', alpha=0.9, marker='s')\n",
    "#plt.scatter(iql_magic, iql_magic_mortalities, color='blue', label='IQL MAGIC', alpha=0.9, marker='v')\n",
    "plt.scatter(no_action_magic, no_action_magic_mortalities, color='orange', label='No Action MAGIC', alpha=0.5, marker='d')\n",
    "plt.scatter(random_action_magic, random_action_magic_mortalities, color='purple', label='Random Action MAGIC', alpha=0.5, marker='*')\n",
    "plt.suptitle('Expected Return vs Resuscitation Rate - MAGIC')\n",
    "plt.legend()\n",
    "plt.xlabel('Expected Return')\n",
    "plt.ylabel('Resuscitation Rate')\n",
    "plt.show()"
   ],
   "id": "8e6f27f2af42928f",
   "outputs": [
    {
     "data": {
      "text/plain": [
       "<Figure size 640x480 with 1 Axes>"
      ],
      "image/png": "[encoded data removed]"
     },
     "metadata": {},
     "output_type": "display_data"
    }
   ],
   "execution_count": 35
  },
  {
   "metadata": {
    "ExecuteTime": {
     "end_time": "2025-02-26T05:15:38.368473Z",
     "start_time": "2025-02-26T05:15:38.365047Z"
    }
   },
   "cell_type": "code",
   "source": [
    "print(f'Behavior Policy Resuscitation Rate: {np.mean(behavior_policy_resus):.5f} +/- {np.std(behavior_policy_resus):.5f}')\n",
    "print(f'D3QN FQE Resuscitation Rate: {np.mean(d3qn_fqe_mortalities):.5f} +/- {np.std(d3qn_fqe_mortalities):.5f}')\n",
    "print(f'D3QN MAGIC Resuscitation Rate: {np.mean(d3qn_magic_mortalities):.5f} +/- {np.std(d3qn_magic_mortalities):.5f}')\n",
    "print(f'IQL FQE Resuscitation Rate: {np.mean(iql_fqe_mortalities):.5f} +/- {np.std(iql_fqe_mortalities):.5f}')\n",
    "print(f'IQL MAGIC Resuscitation Rate: {np.mean(iql_magic_mortalities):.5f} +/- {np.std(iql_magic_mortalities):.5f}')\n",
    "print(f'No Action FQE Resuscitation Rate: {np.mean(no_action_fqe_mortalities):.5f} +/- {np.std(no_action_fqe_mortalities):.5f}')\n",
    "print(f'No Action MAGIC Resuscitation Rate: {np.mean(no_action_magic_mortalities):.5f} +/- {np.std(no_action_magic_mortalities):.5f}')\n",
    "print(f'Random Action FQE Resuscitation Rate: {np.mean(random_action_fqe_mortalities):.5f} +/- {np.std(random_action_fqe_mortalities):.5f}')\n",
    "print(f'Random Action MAGIC Resuscitation Rate: {np.mean(random_action_magic_mortalities):.5f} +/- {np.std(random_action_magic_mortalities):.5f}')"
   ],
   "id": "145bf9daf01e738e",
   "outputs": [
    {
     "name": "stdout",
     "output_type": "stream",
     "text": [
      "Behavior Policy Resuscitation Rate: 0.70267 +/- 0.00000\n",
      "D3QN FQE Resuscitation Rate: 0.39262 +/- 0.09839\n",
      "D3QN MAGIC Resuscitation Rate: 0.40596 +/- 0.17384\n",
      "IQL FQE Resuscitation Rate: 0.50676 +/- 0.03301\n",
      "IQL MAGIC Resuscitation Rate: 0.36984 +/- 0.02132\n",
      "No Action FQE Resuscitation Rate: 0.50275 +/- 0.03649\n",
      "No Action MAGIC Resuscitation Rate: 0.41213 +/- 0.03035\n",
      "Random Action FQE Resuscitation Rate: 0.00000 +/- 0.00000\n",
      "Random Action MAGIC Resuscitation Rate: 0.49411 +/- 0.34982\n"
     ]
    }
   ],
   "execution_count": 36
  },
  {
   "metadata": {
    "ExecuteTime": {
     "end_time": "2025-03-01T04:19:54.893020Z",
     "start_time": "2025-03-01T04:19:54.885071Z"
    }
   },
   "cell_type": "code",
   "source": [
    "print(f'Behavior Policy Expected Value: {np.mean(behavior_policy_values):.5f} +/- {np.std(behavior_policy_values):.5f}')\n",
    "print(f'D3QN FQE Expected Value: {np.mean(d3qn_fqe):.5f} +/- {np.std(d3qn_fqe):.5f}')\n",
    "print(f'D3QN MAGIC Expected Value: {np.mean(d3qn_magic):.5f} +/- {np.std(d3qn_magic):.5f}')\n",
    "print(f'IQL FQE Expected Value: {np.mean(iql_fqe):.5f} +/- {np.std(iql_fqe):.5f}')\n",
    "print(f'IQL MAGIC Expected Value: {np.mean(iql_magic):.5f} +/- {np.std(iql_magic):.5f}')\n",
    "print(f'No Action FQE Expected Value: {np.mean(no_action_fqe):.5f} +/- {np.std(no_action_fqe):.5f}')\n",
    "print(f'No Action MAGIC Expected Value: {np.mean(no_action_magic):.5f} +/- {np.std(no_action_magic):.5f}')\n",
    "print(f'Random Action FQE Expected Value: {np.mean(random_action_fqe):.5f} +/- {np.std(random_action_fqe):.5f}')\n",
    "print(f'Random Action MAGIC Expected Value: {np.mean(random_action_magic):.5f} +/- {np.std(random_action_magic):.5f}')"
   ],
   "id": "db5e6273dba29b7e",
   "outputs": [
    {
     "name": "stdout",
     "output_type": "stream",
     "text": [
      "Behavior Policy Expected Value: 19.12078 +/- 0.11965\n",
      "D3QN FQE Expected Value: 6.09266 +/- 4.13516\n",
      "D3QN MAGIC Expected Value: 6.65330 +/- 7.30599\n",
      "IQL FQE Expected Value: 10.88958 +/- 1.38747\n",
      "IQL MAGIC Expected Value: 5.13500 +/- 0.89610\n",
      "No Action FQE Expected Value: 10.72125 +/- 1.53356\n",
      "No Action MAGIC Expected Value: 6.91249 +/- 1.27575\n",
      "Random Action FQE Expected Value: -10.40853 +/- 0.00000\n",
      "Random Action MAGIC Expected Value: 10.35798 +/- 14.70214\n"
     ]
    }
   ],
   "execution_count": 41
  },
  {
   "metadata": {},
   "cell_type": "code",
   "outputs": [],
   "execution_count": null,
   "source": "",
   "id": "b02da423ca228a6d"
  }
 ],
 "metadata": {
  "kernelspec": {
   "display_name": "Python 3",
   "language": "python",
   "name": "python3"
  },
  "language_info": {
   "codemirror_mode": {
    "name": "ipython",
    "version": 2
   },
   "file_extension": ".py",
   "mimetype": "text/x-python",
   "name": "python",
   "nbconvert_exporter": "python",
   "pygments_lexer": "ipython2",
   "version": "2.7.6"
  }
 },
 "nbformat": 4,
 "nbformat_minor": 5
}
