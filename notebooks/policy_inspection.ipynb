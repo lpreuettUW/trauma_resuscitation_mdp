{
 "cells": [
  {
   "cell_type": "code",
   "id": "initial_id",
   "metadata": {
    "collapsed": true,
    "ExecuteTime": {
     "end_time": "2025-03-01T04:09:58.216615Z",
     "start_time": "2025-03-01T04:09:44.299359Z"
    }
   },
   "source": [
    "import os\n",
    "import torch\n",
    "import mlflow\n",
    "import numpy as np\n",
    "import pandas as pd\n",
    "import seaborn as sns\n",
    "import matplotlib.pyplot as plt\n",
    "from seaborn import color_palette\n",
    "from tqdm import tqdm\n",
    "from sklearn.preprocessing import MinMaxScaler\n",
    "from typing import Dict, List, Tuple, Literal"
   ],
   "outputs": [],
   "execution_count": 2
  },
  {
   "metadata": {
    "ExecuteTime": {
     "end_time": "2025-03-01T04:09:58.225728Z",
     "start_time": "2025-03-01T04:09:58.222869Z"
    }
   },
   "cell_type": "code",
   "source": "os.chdir('..') # change working directory to root",
   "id": "b9cdd6cfa683f473",
   "outputs": [],
   "execution_count": 3
  },
  {
   "metadata": {
    "ExecuteTime": {
     "end_time": "2025-03-01T04:09:58.336075Z",
     "start_time": "2025-03-01T04:09:58.248107Z"
    }
   },
   "cell_type": "code",
   "source": [
    "from agents.d3qn import D3QN\n",
    "from agents.implicit_q_learning import ImplicitQLearning\n",
    "from mdp.trauma_icu_resuscitation.state_spaces.discrete import Components as StateSpaceComponents\n",
    "from utilities import trauma_icu_resuscitation_funcs\n",
    "from utilities.implicit_qlearning_dataset import ImplicitQLearningDataset"
   ],
   "id": "8c0f406d1cef62d6",
   "outputs": [
    {
     "name": "stderr",
     "output_type": "stream",
     "text": [
      "/Users/larry/anaconda3/envs/ope_310_v2/lib/python3.10/site-packages/tqdm/auto.py:21: TqdmWarning: IProgress not found. Please update jupyter and ipywidgets. See https://ipywidgets.readthedocs.io/en/stable/user_install.html\n",
      "  from .autonotebook import tqdm as notebook_tqdm\n"
     ]
    }
   ],
   "execution_count": 4
  },
  {
   "metadata": {
    "ExecuteTime": {
     "end_time": "2025-03-01T04:09:58.346821Z",
     "start_time": "2025-03-01T04:09:58.344064Z"
    }
   },
   "cell_type": "code",
   "source": [
    "mlflow_base_path = '<path_to_mlruns>/mlruns'\n",
    "mlflow.set_tracking_uri(mlflow_base_path)\n",
    "agent_run_ids = {\n",
    "    'd3qn': 'ef95ccf2eeca4a2a8e8fb66328c3ba2c',\n",
    "    'iql': 'f32de422093a42c7b5966c52a71aae80'\n",
    "}"
   ],
   "id": "abb1a4c33aa771ce",
   "outputs": [],
   "execution_count": 5
  },
  {
   "metadata": {
    "ExecuteTime": {
     "end_time": "2025-03-01T04:09:58.374117Z",
     "start_time": "2025-03-01T04:09:58.364741Z"
    }
   },
   "cell_type": "code",
   "source": [
    "def compute_action_counts(run_id_dict: Dict[str, str], n_splits: int = 10, action_type: Literal['discrete', 'binary'] = 'discrete', batch_size: int = 32, aggregate_cts: bool = True) -> Tuple[torch.LongTensor, torch.LongTensor, torch.LongTensor]:\n",
    "    num_actions = 12 if action_type == 'discrete' else 8\n",
    "    actual_action_cts = torch.zeros(n_splits, num_actions, dtype=torch.long)\n",
    "    d3qn_action_cts = torch.zeros(n_splits, num_actions, dtype=torch.long)\n",
    "    iql_action_cts = torch.zeros(n_splits, num_actions, dtype=torch.long)\n",
    "    for split in tqdm(range(n_splits), desc='processing splits', unit=' split'):\n",
    "        # load data\n",
    "        (\n",
    "            (_, _, _, _, _, _),\n",
    "            (_, _, _, _, _, _),\n",
    "            (test_states, test_actions, test_rewards, test_dones, test_next_states, _)\n",
    "        ) = trauma_icu_resuscitation_funcs.load_trauma_icu_resuscitation_data(split, 'iql', action_type)\n",
    "        # flatten actions for D3QN and IQL\n",
    "        match action_type:\n",
    "            case 'discrete':\n",
    "                test_actions = trauma_icu_resuscitation_funcs.flatten_discrete_actions(test_actions)\n",
    "            case 'binary':\n",
    "                test_actions = trauma_icu_resuscitation_funcs.flatten_binary_actions(test_actions)\n",
    "            case _:\n",
    "                raise ValueError(f'Invalid action type: {action_type}')\n",
    "        test_dataset = ImplicitQLearningDataset(test_states.float(), test_actions, test_next_states.float(), test_rewards, test_dones)\n",
    "        test_dataloader = torch.utils.data.DataLoader(test_dataset, batch_size=batch_size, shuffle=False)\n",
    "        d3qn = D3QN(state_dim=len(StateSpaceComponents), action_dim=1,\n",
    "                    hidden_dim=128, reward_max=1.0,\n",
    "                    gamma=0.99, tau=5e-3, lr=1e-4, buffer_size=len(test_dataset), per_alpha=0.6,\n",
    "                    per_beta=0.9, per_eps=1e-2, reg_lambda=5.0, batch_size=batch_size, num_actions=num_actions)\n",
    "        d3qn.load_model(f'runs:/{run_id_dict[\"d3qn\"]}/final_d3qn_model_split_{split}')\n",
    "        d3qn.eval()\n",
    "        iql = ImplicitQLearning(state_dim=len(StateSpaceComponents), action_dim=1,\n",
    "                                num_actions=num_actions, \n",
    "                                policy_hidden_dim=128,\n",
    "                                critic_hidden_dim=128, \n",
    "                                expectile_val_hidden_dim=128, \n",
    "                                policy_lr=1e-4,\n",
    "                                critic_lr=1e-4, expectile_val_lr=1e-4,\n",
    "                                gamma=0.99, expectile=0.8, temperature=0.1,\n",
    "                                clip_norm=1.0, tau=5e-3,\n",
    "                                weight_decay=1e-4)\n",
    "        iql.load_model(f'runs:/{run_id_dict[\"iql\"]}/final_iql_model_split_{split}')\n",
    "        iql.eval()\n",
    "        for states, actions, _, _, _ in test_dataloader:\n",
    "            unique_actions, cts = actions.squeeze().unique(return_counts=True)\n",
    "            actual_action_cts[split, unique_actions] += cts\n",
    "            d3qn_actions, probs = d3qn.get_best_action(states)\n",
    "            unique_actions, cts = d3qn_actions.action.squeeze().unique(return_counts=True)\n",
    "            d3qn_action_cts[split, unique_actions] += cts\n",
    "            iql_actions, probs = iql.get_best_action(states)\n",
    "            unique_actions, cts = iql_actions.action.squeeze().unique(return_counts=True)\n",
    "            iql_action_cts[split, unique_actions] += cts\n",
    "    if aggregate_cts:\n",
    "        actual_action_cts = actual_action_cts.sum(0)\n",
    "        d3qn_action_cts = d3qn_action_cts.sum(0)\n",
    "        iql_action_cts = iql_action_cts.sum(0)\n",
    "    return actual_action_cts, d3qn_action_cts, iql_action_cts"
   ],
   "id": "b5492e1aa0c5d6ac",
   "outputs": [],
   "execution_count": 6
  },
  {
   "metadata": {
    "ExecuteTime": {
     "end_time": "2025-03-01T04:14:27.499452Z",
     "start_time": "2025-03-01T04:09:58.388395Z"
    }
   },
   "cell_type": "code",
   "source": "behavior_policy_action_cts, d3qn_policy_action_cts, iql_policy_action_cts = compute_action_counts(agent_run_ids)",
   "id": "7dc035fe4e1dd67c",
   "outputs": [
    {
     "name": "stderr",
     "output_type": "stream",
     "text": [
      "processing splits:   0%|          | 0/10 [00:00<?, ? split/s]\n",
      "Data Split:   0%|\u001B[32m          \u001B[0m| 0/3 [00:00<?, ? split/s]\u001B[A\n",
      "Data Split:  33%|\u001B[32m███▎      \u001B[0m| 1/3 [01:27<02:54, 87.10s/ split]\u001B[A\n",
      "Data Split:  67%|\u001B[32m██████▋   \u001B[0m| 2/3 [01:38<00:42, 42.57s/ split]\u001B[A\n",
      "Data Split: 100%|\u001B[32m██████████\u001B[0m| 3/3 [01:57<00:00, 39.09s/ split]\u001B[A\n",
      "2025/02/28 20:11:59 WARNING mlflow.pytorch: Stored model version '2.0.1+cu117' does not match installed PyTorch version '2.2.2'\n",
      "2025/02/28 20:11:59 WARNING mlflow.pytorch: Stored model version '2.0.1+cu117' does not match installed PyTorch version '2.2.2'\n",
      "2025/02/28 20:12:00 WARNING mlflow.pytorch: Stored model version '2.0.1+cu117' does not match installed PyTorch version '2.2.2'\n",
      "2025/02/28 20:12:00 WARNING mlflow.pytorch: Stored model version '2.0.1+cu117' does not match installed PyTorch version '2.2.2'\n",
      "2025/02/28 20:12:00 WARNING mlflow.pytorch: Stored model version '2.0.1+cu117' does not match installed PyTorch version '2.2.2'\n",
      "2025/02/28 20:12:00 WARNING mlflow.pytorch: Stored model version '2.0.1+cu117' does not match installed PyTorch version '2.2.2'\n",
      "processing splits:  10%|█         | 1/10 [02:03<18:27, 123.00s/ split]\n",
      "Data Split:   0%|\u001B[32m          \u001B[0m| 0/3 [00:00<?, ? split/s]\u001B[A\n",
      "Data Split:  33%|\u001B[32m███▎      \u001B[0m| 1/3 [00:17<00:35, 17.80s/ split]\u001B[A\n",
      "Data Split:  67%|\u001B[32m██████▋   \u001B[0m| 2/3 [00:20<00:08,  8.72s/ split]\u001B[A\n",
      "Data Split: 100%|\u001B[32m██████████\u001B[0m| 3/3 [00:24<00:00,  8.24s/ split]\u001B[A\n",
      "2025/02/28 20:12:26 WARNING mlflow.pytorch: Stored model version '2.0.1+cu117' does not match installed PyTorch version '2.2.2'\n",
      "2025/02/28 20:12:26 WARNING mlflow.pytorch: Stored model version '2.0.1+cu117' does not match installed PyTorch version '2.2.2'\n",
      "2025/02/28 20:12:26 WARNING mlflow.pytorch: Stored model version '2.0.1+cu117' does not match installed PyTorch version '2.2.2'\n",
      "2025/02/28 20:12:26 WARNING mlflow.pytorch: Stored model version '2.0.1+cu117' does not match installed PyTorch version '2.2.2'\n",
      "2025/02/28 20:12:27 WARNING mlflow.pytorch: Stored model version '2.0.1+cu117' does not match installed PyTorch version '2.2.2'\n",
      "2025/02/28 20:12:27 WARNING mlflow.pytorch: Stored model version '2.0.1+cu117' does not match installed PyTorch version '2.2.2'\n",
      "processing splits:  20%|██        | 2/10 [02:29<08:48, 66.03s/ split] \n",
      "Data Split:   0%|\u001B[32m          \u001B[0m| 0/3 [00:00<?, ? split/s]\u001B[A\n",
      "Data Split:  33%|\u001B[32m███▎      \u001B[0m| 1/3 [00:14<00:29, 14.59s/ split]\u001B[A\n",
      "Data Split:  67%|\u001B[32m██████▋   \u001B[0m| 2/3 [00:17<00:07,  7.43s/ split]\u001B[A\n",
      "Data Split: 100%|\u001B[32m██████████\u001B[0m| 3/3 [00:21<00:00,  7.18s/ split]\u001B[A\n",
      "2025/02/28 20:12:49 WARNING mlflow.pytorch: Stored model version '2.0.1+cu117' does not match installed PyTorch version '2.2.2'\n",
      "2025/02/28 20:12:49 WARNING mlflow.pytorch: Stored model version '2.0.1+cu117' does not match installed PyTorch version '2.2.2'\n",
      "2025/02/28 20:12:49 WARNING mlflow.pytorch: Stored model version '2.0.1+cu117' does not match installed PyTorch version '2.2.2'\n",
      "2025/02/28 20:12:49 WARNING mlflow.pytorch: Stored model version '2.0.1+cu117' does not match installed PyTorch version '2.2.2'\n",
      "2025/02/28 20:12:49 WARNING mlflow.pytorch: Stored model version '2.0.1+cu117' does not match installed PyTorch version '2.2.2'\n",
      "2025/02/28 20:12:50 WARNING mlflow.pytorch: Stored model version '2.0.1+cu117' does not match installed PyTorch version '2.2.2'\n",
      "processing splits:  30%|███       | 3/10 [02:52<05:24, 46.32s/ split]\n",
      "Data Split:   0%|\u001B[32m          \u001B[0m| 0/3 [00:00<?, ? split/s]\u001B[A\n",
      "Data Split:  33%|\u001B[32m███▎      \u001B[0m| 1/3 [00:10<00:20, 10.17s/ split]\u001B[A\n",
      "Data Split:  67%|\u001B[32m██████▋   \u001B[0m| 2/3 [00:12<00:05,  5.55s/ split]\u001B[A\n",
      "Data Split: 100%|\u001B[32m██████████\u001B[0m| 3/3 [00:17<00:00,  5.70s/ split]\u001B[A\n",
      "2025/02/28 20:13:08 WARNING mlflow.pytorch: Stored model version '2.0.1+cu117' does not match installed PyTorch version '2.2.2'\n",
      "2025/02/28 20:13:08 WARNING mlflow.pytorch: Stored model version '2.0.1+cu117' does not match installed PyTorch version '2.2.2'\n",
      "2025/02/28 20:13:08 WARNING mlflow.pytorch: Stored model version '2.0.1+cu117' does not match installed PyTorch version '2.2.2'\n",
      "2025/02/28 20:13:08 WARNING mlflow.pytorch: Stored model version '2.0.1+cu117' does not match installed PyTorch version '2.2.2'\n",
      "2025/02/28 20:13:08 WARNING mlflow.pytorch: Stored model version '2.0.1+cu117' does not match installed PyTorch version '2.2.2'\n",
      "2025/02/28 20:13:08 WARNING mlflow.pytorch: Stored model version '2.0.1+cu117' does not match installed PyTorch version '2.2.2'\n",
      "processing splits:  40%|████      | 4/10 [03:10<03:32, 35.34s/ split]\n",
      "Data Split:   0%|\u001B[32m          \u001B[0m| 0/3 [00:00<?, ? split/s]\u001B[A\n",
      "Data Split:  33%|\u001B[32m███▎      \u001B[0m| 1/3 [00:10<00:21, 10.74s/ split]\u001B[A\n",
      "Data Split:  67%|\u001B[32m██████▋   \u001B[0m| 2/3 [00:12<00:05,  5.60s/ split]\u001B[A\n",
      "Data Split: 100%|\u001B[32m██████████\u001B[0m| 3/3 [00:17<00:00,  5.87s/ split]\u001B[A\n",
      "2025/02/28 20:13:27 WARNING mlflow.pytorch: Stored model version '2.0.1+cu117' does not match installed PyTorch version '2.2.2'\n",
      "2025/02/28 20:13:27 WARNING mlflow.pytorch: Stored model version '2.0.1+cu117' does not match installed PyTorch version '2.2.2'\n",
      "2025/02/28 20:13:27 WARNING mlflow.pytorch: Stored model version '2.0.1+cu117' does not match installed PyTorch version '2.2.2'\n",
      "2025/02/28 20:13:27 WARNING mlflow.pytorch: Stored model version '2.0.1+cu117' does not match installed PyTorch version '2.2.2'\n",
      "2025/02/28 20:13:27 WARNING mlflow.pytorch: Stored model version '2.0.1+cu117' does not match installed PyTorch version '2.2.2'\n",
      "2025/02/28 20:13:27 WARNING mlflow.pytorch: Stored model version '2.0.1+cu117' does not match installed PyTorch version '2.2.2'\n",
      "processing splits:  50%|█████     | 5/10 [03:29<02:27, 29.46s/ split]\n",
      "Data Split:   0%|\u001B[32m          \u001B[0m| 0/3 [00:00<?, ? split/s]\u001B[A\n",
      "Data Split:  33%|\u001B[32m███▎      \u001B[0m| 1/3 [00:07<00:15,  7.55s/ split]\u001B[A\n",
      "Data Split:  67%|\u001B[32m██████▋   \u001B[0m| 2/3 [00:09<00:04,  4.51s/ split]\u001B[A\n",
      "Data Split: 100%|\u001B[32m██████████\u001B[0m| 3/3 [00:14<00:00,  4.87s/ split]\u001B[A\n",
      "2025/02/28 20:13:43 WARNING mlflow.pytorch: Stored model version '2.0.1+cu117' does not match installed PyTorch version '2.2.2'\n",
      "2025/02/28 20:13:43 WARNING mlflow.pytorch: Stored model version '2.0.1+cu117' does not match installed PyTorch version '2.2.2'\n",
      "2025/02/28 20:13:43 WARNING mlflow.pytorch: Stored model version '2.0.1+cu117' does not match installed PyTorch version '2.2.2'\n",
      "2025/02/28 20:13:43 WARNING mlflow.pytorch: Stored model version '2.0.1+cu117' does not match installed PyTorch version '2.2.2'\n",
      "2025/02/28 20:13:43 WARNING mlflow.pytorch: Stored model version '2.0.1+cu117' does not match installed PyTorch version '2.2.2'\n",
      "2025/02/28 20:13:43 WARNING mlflow.pytorch: Stored model version '2.0.1+cu117' does not match installed PyTorch version '2.2.2'\n",
      "processing splits:  60%|██████    | 6/10 [03:45<01:39, 24.86s/ split]\n",
      "Data Split:   0%|\u001B[32m          \u001B[0m| 0/3 [00:00<?, ? split/s]\u001B[A\n",
      "Data Split:  33%|\u001B[32m███▎      \u001B[0m| 1/3 [00:05<00:10,  5.19s/ split]\u001B[A\n",
      "Data Split:  67%|\u001B[32m██████▋   \u001B[0m| 2/3 [00:06<00:02,  2.70s/ split]\u001B[A\n",
      "Data Split: 100%|\u001B[32m██████████\u001B[0m| 3/3 [00:10<00:00,  3.54s/ split]\u001B[A\n",
      "2025/02/28 20:13:55 WARNING mlflow.pytorch: Stored model version '2.0.1+cu117' does not match installed PyTorch version '2.2.2'\n",
      "2025/02/28 20:13:55 WARNING mlflow.pytorch: Stored model version '2.0.1+cu117' does not match installed PyTorch version '2.2.2'\n",
      "2025/02/28 20:13:55 WARNING mlflow.pytorch: Stored model version '2.0.1+cu117' does not match installed PyTorch version '2.2.2'\n",
      "2025/02/28 20:13:55 WARNING mlflow.pytorch: Stored model version '2.0.1+cu117' does not match installed PyTorch version '2.2.2'\n",
      "2025/02/28 20:13:55 WARNING mlflow.pytorch: Stored model version '2.0.1+cu117' does not match installed PyTorch version '2.2.2'\n",
      "2025/02/28 20:13:55 WARNING mlflow.pytorch: Stored model version '2.0.1+cu117' does not match installed PyTorch version '2.2.2'\n",
      "processing splits:  70%|███████   | 7/10 [03:57<01:01, 20.65s/ split]\n",
      "Data Split:   0%|\u001B[32m          \u001B[0m| 0/3 [00:00<?, ? split/s]\u001B[A\n",
      "Data Split:  33%|\u001B[32m███▎      \u001B[0m| 1/3 [00:06<00:13,  6.85s/ split]\u001B[A\n",
      "Data Split:  67%|\u001B[32m██████▋   \u001B[0m| 2/3 [00:08<00:03,  3.60s/ split]\u001B[A\n",
      "Data Split: 100%|\u001B[32m██████████\u001B[0m| 3/3 [00:12<00:00,  4.10s/ split]\u001B[A\n",
      "2025/02/28 20:14:08 WARNING mlflow.pytorch: Stored model version '2.0.1+cu117' does not match installed PyTorch version '2.2.2'\n",
      "2025/02/28 20:14:08 WARNING mlflow.pytorch: Stored model version '2.0.1+cu117' does not match installed PyTorch version '2.2.2'\n",
      "2025/02/28 20:14:08 WARNING mlflow.pytorch: Stored model version '2.0.1+cu117' does not match installed PyTorch version '2.2.2'\n",
      "2025/02/28 20:14:09 WARNING mlflow.pytorch: Stored model version '2.0.1+cu117' does not match installed PyTorch version '2.2.2'\n",
      "2025/02/28 20:14:09 WARNING mlflow.pytorch: Stored model version '2.0.1+cu117' does not match installed PyTorch version '2.2.2'\n",
      "2025/02/28 20:14:09 WARNING mlflow.pytorch: Stored model version '2.0.1+cu117' does not match installed PyTorch version '2.2.2'\n",
      "processing splits:  80%|████████  | 8/10 [04:11<00:36, 18.45s/ split]\n",
      "Data Split:   0%|\u001B[32m          \u001B[0m| 0/3 [00:00<?, ? split/s]\u001B[A\n",
      "Data Split:  33%|\u001B[32m███▎      \u001B[0m| 1/3 [00:05<00:10,  5.22s/ split]\u001B[A\n",
      "Data Split:  67%|\u001B[32m██████▋   \u001B[0m| 2/3 [00:05<00:02,  2.60s/ split]\u001B[A\n",
      "Data Split: 100%|\u001B[32m██████████\u001B[0m| 3/3 [00:07<00:00,  2.50s/ split]\u001B[A\n",
      "2025/02/28 20:14:17 WARNING mlflow.pytorch: Stored model version '2.0.1+cu117' does not match installed PyTorch version '2.2.2'\n",
      "2025/02/28 20:14:17 WARNING mlflow.pytorch: Stored model version '2.0.1+cu117' does not match installed PyTorch version '2.2.2'\n",
      "2025/02/28 20:14:17 WARNING mlflow.pytorch: Stored model version '2.0.1+cu117' does not match installed PyTorch version '2.2.2'\n",
      "2025/02/28 20:14:17 WARNING mlflow.pytorch: Stored model version '2.0.1+cu117' does not match installed PyTorch version '2.2.2'\n",
      "2025/02/28 20:14:18 WARNING mlflow.pytorch: Stored model version '2.0.1+cu117' does not match installed PyTorch version '2.2.2'\n",
      "2025/02/28 20:14:18 WARNING mlflow.pytorch: Stored model version '2.0.1+cu117' does not match installed PyTorch version '2.2.2'\n",
      "processing splits:  90%|█████████ | 9/10 [04:20<00:15, 15.48s/ split]\n",
      "Data Split:   0%|\u001B[32m          \u001B[0m| 0/3 [00:00<?, ? split/s]\u001B[A\n",
      "Data Split:  33%|\u001B[32m███▎      \u001B[0m| 1/3 [00:05<00:10,  5.23s/ split]\u001B[A\n",
      "Data Split:  67%|\u001B[32m██████▋   \u001B[0m| 2/3 [00:05<00:02,  2.60s/ split]\u001B[A\n",
      "Data Split: 100%|\u001B[32m██████████\u001B[0m| 3/3 [00:07<00:00,  2.50s/ split]\u001B[A\n",
      "2025/02/28 20:14:26 WARNING mlflow.pytorch: Stored model version '2.0.1+cu117' does not match installed PyTorch version '2.2.2'\n",
      "2025/02/28 20:14:26 WARNING mlflow.pytorch: Stored model version '2.0.1+cu117' does not match installed PyTorch version '2.2.2'\n",
      "2025/02/28 20:14:26 WARNING mlflow.pytorch: Stored model version '2.0.1+cu117' does not match installed PyTorch version '2.2.2'\n",
      "2025/02/28 20:14:26 WARNING mlflow.pytorch: Stored model version '2.0.1+cu117' does not match installed PyTorch version '2.2.2'\n",
      "2025/02/28 20:14:26 WARNING mlflow.pytorch: Stored model version '2.0.1+cu117' does not match installed PyTorch version '2.2.2'\n",
      "2025/02/28 20:14:27 WARNING mlflow.pytorch: Stored model version '2.0.1+cu117' does not match installed PyTorch version '2.2.2'\n",
      "processing splits: 100%|██████████| 10/10 [04:29<00:00, 26.91s/ split]\n"
     ]
    }
   ],
   "execution_count": 7
  },
  {
   "metadata": {
    "ExecuteTime": {
     "end_time": "2025-03-01T04:14:27.788038Z",
     "start_time": "2025-03-01T04:14:27.631099Z"
    }
   },
   "cell_type": "code",
   "source": [
    "ax = sns.barplot({\n",
    "    'behavior_policy': behavior_policy_action_cts.numpy(),\n",
    "    'd3qn_policy': d3qn_policy_action_cts.numpy(),\n",
    "    'iql_policy': iql_policy_action_cts.numpy()\n",
    "})\n",
    "plt.show()"
   ],
   "id": "632ae8cfe0ddd4d3",
   "outputs": [
    {
     "data": {
      "text/plain": [
       "<Figure size 640x480 with 1 Axes>"
      ],
      "image/png": "[encoded data removed]"
     },
     "metadata": {},
     "output_type": "display_data"
    }
   ],
   "execution_count": 8
  },
  {
   "metadata": {
    "ExecuteTime": {
     "end_time": "2025-03-01T04:14:27.879703Z",
     "start_time": "2025-03-01T04:14:27.791919Z"
    }
   },
   "cell_type": "code",
   "source": [
    "sns.kdeplot({\n",
    "    'behavior_policy': behavior_policy_action_cts.numpy(),\n",
    "    'd3qn_policy': d3qn_policy_action_cts.numpy(),\n",
    "    'iql_policy': iql_policy_action_cts.numpy()\n",
    "})\n",
    "plt.show()"
   ],
   "id": "8a87524406ce8a72",
   "outputs": [
    {
     "data": {
      "text/plain": [
       "<Figure size 640x480 with 1 Axes>"
      ],
      "image/png": "[encoded data removed]"
     },
     "metadata": {},
     "output_type": "display_data"
    }
   ],
   "execution_count": 9
  },
  {
   "metadata": {
    "ExecuteTime": {
     "end_time": "2025-03-01T04:14:27.996306Z",
     "start_time": "2025-03-01T04:14:27.887119Z"
    }
   },
   "cell_type": "code",
   "source": [
    "sns.histplot({\n",
    "    'behavior_policy': behavior_policy_action_cts.numpy(),\n",
    "    'd3qn_policy': d3qn_policy_action_cts.numpy(),\n",
    "    'iql_policy': iql_policy_action_cts.numpy()\n",
    "}, bins=12) #np.unique(behavior_policy_action_cts))"
   ],
   "id": "83c5b109cac751e7",
   "outputs": [
    {
     "data": {
      "text/plain": [
       "<Axes: ylabel='Count'>"
      ]
     },
     "execution_count": 10,
     "metadata": {},
     "output_type": "execute_result"
    },
    {
     "data": {
      "text/plain": [
       "<Figure size 640x480 with 1 Axes>"
      ],
      "image/png": "[encoded data removed]"
     },
     "metadata": {},
     "output_type": "display_data"
    }
   ],
   "execution_count": 10
  },
  {
   "metadata": {
    "ExecuteTime": {
     "end_time": "2025-03-01T05:42:18.114712Z",
     "start_time": "2025-03-01T05:42:18.109127Z"
    }
   },
   "cell_type": "code",
   "source": "unflattened_action_map = trauma_icu_resuscitation_funcs.unflatten_discrete_actions(torch.arange(12).unsqueeze(-1))",
   "id": "49f030a16cc1eef0",
   "outputs": [
    {
     "name": "stderr",
     "output_type": "stream",
     "text": [
      "                                                                          trans/s]\r"
     ]
    }
   ],
   "execution_count": 253
  },
  {
   "metadata": {
    "ExecuteTime": {
     "end_time": "2025-03-01T05:42:18.739472Z",
     "start_time": "2025-03-01T05:42:18.733586Z"
    }
   },
   "cell_type": "code",
   "source": [
    "indiv_behavior_action_cts = torch.zeros(3, 3)\n",
    "indiv_d3qn_action_cts = torch.zeros(3, 3)\n",
    "indiv_iql_action_cts = torch.zeros(3, 3)\n",
    "for action_ct_lbl, action_cts, indiv_cts in (('behavior', behavior_policy_action_cts, indiv_behavior_action_cts),\n",
    "                                             ('d3qn', d3qn_policy_action_cts, indiv_d3qn_action_cts),\n",
    "                                             ('iql', iql_policy_action_cts, indiv_iql_action_cts)):\n",
    "    for act_idx in range(action_cts.size(0)):\n",
    "        action = unflattened_action_map[act_idx].clone()\n",
    "        indiv_cts[0, action[0]] += action_cts[act_idx]\n",
    "        indiv_cts[1, action[1]] += action_cts[act_idx]\n",
    "        indiv_cts[2, action[2]] += action_cts[act_idx]"
   ],
   "id": "6c434c65c99cf2de",
   "outputs": [],
   "execution_count": 254
  },
  {
   "metadata": {
    "ExecuteTime": {
     "end_time": "2025-03-01T05:42:20.496301Z",
     "start_time": "2025-03-01T05:42:20.493461Z"
    }
   },
   "cell_type": "code",
   "source": [
    "for i in range(3):\n",
    "    indiv_behavior_action_cts[i] /= indiv_behavior_action_cts[i].sum()\n",
    "    indiv_iql_action_cts[i] /= indiv_iql_action_cts[i].sum()\n",
    "    indiv_d3qn_action_cts[i] /= indiv_d3qn_action_cts[i].sum()"
   ],
   "id": "151a1944c0f568a8",
   "outputs": [],
   "execution_count": 255
  },
  {
   "metadata": {
    "ExecuteTime": {
     "end_time": "2025-03-01T06:25:06.650565Z",
     "start_time": "2025-03-01T06:25:06.560391Z"
    }
   },
   "cell_type": "code",
   "source": [
    "ax = sns.heatmap(indiv_behavior_action_cts.numpy(), vmin=0.0, vmax=1.0, cmap='Blues', annot=True, fmt='.4f')\n",
    "ax.set_yticklabels(['IVF', 'Norepinephrine', 'Vasopressin'])\n",
    "ax.set_xticklabels(['NoDose', '1', '2'])\n",
    "ax.set_title('Behavior Policy Action Distribution')\n",
    "plt.show()"
   ],
   "id": "33acd1669ff9a730",
   "outputs": [
    {
     "data": {
      "text/plain": [
       "<Figure size 640x480 with 2 Axes>"
      ],
      "image/png": "[encoded data removed]"
     },
     "metadata": {},
     "output_type": "display_data"
    }
   ],
   "execution_count": 285
  },
  {
   "metadata": {
    "ExecuteTime": {
     "end_time": "2025-03-01T06:25:18.015835Z",
     "start_time": "2025-03-01T06:25:17.926210Z"
    }
   },
   "cell_type": "code",
   "source": [
    "ax = sns.heatmap(indiv_d3qn_action_cts.numpy(), vmin=0.0, vmax=1.0, cmap='Blues', annot=True, fmt='.4f')\n",
    "ax.set_yticklabels(['IVF', 'Norepinephrine', 'Vasopressin'])\n",
    "ax.set_xticklabels(['NoDose', '1', '2'])\n",
    "ax.set_title('D3QN Action Distribution')\n",
    "plt.show()"
   ],
   "id": "ec538183c327ec53",
   "outputs": [
    {
     "data": {
      "text/plain": [
       "<Figure size 640x480 with 2 Axes>"
      ],
      "image/png": "[encoded data removed]"
     },
     "metadata": {},
     "output_type": "display_data"
    }
   ],
   "execution_count": 286
  },
  {
   "metadata": {
    "ExecuteTime": {
     "end_time": "2025-03-01T06:25:18.191270Z",
     "start_time": "2025-03-01T06:25:18.109483Z"
    }
   },
   "cell_type": "code",
   "source": [
    "ax = sns.heatmap(indiv_iql_action_cts.numpy(), vmin=0.0, vmax=1.0, cmap='Blues', annot=True, fmt='.4f')\n",
    "ax.set_yticklabels(['IVF', 'Norepinephrine', 'Vasopressin'])\n",
    "ax.set_xticklabels(['NoDose', '1', '2'])\n",
    "ax.set_title('IQL Action Distribution')\n",
    "plt.show()"
   ],
   "id": "9015d5bd61f6fb6a",
   "outputs": [
    {
     "data": {
      "text/plain": [
       "<Figure size 640x480 with 2 Axes>"
      ],
      "image/png": "[encoded data removed]"
     },
     "metadata": {},
     "output_type": "display_data"
    }
   ],
   "execution_count": 287
  },
  {
   "metadata": {
    "ExecuteTime": {
     "end_time": "2025-03-01T05:44:27.100853Z",
     "start_time": "2025-03-01T05:42:27.393913Z"
    }
   },
   "cell_type": "code",
   "source": "behavior_policy_action_split_cts, d3qn_policy_action_split_cts, iql_policy_action_split_cts = compute_action_counts(agent_run_ids, aggregate_cts=False)",
   "id": "bee20ef72e8d7718",
   "outputs": [
    {
     "name": "stderr",
     "output_type": "stream",
     "text": [
      "processing splits:   0%|          | 0/10 [00:00<?, ? split/s]\n",
      "Data Split:   0%|\u001B[32m          \u001B[0m| 0/3 [00:00<?, ? split/s]\u001B[A\n",
      "Data Split:  33%|\u001B[32m███▎      \u001B[0m| 1/3 [00:12<00:24, 12.03s/ split]\u001B[A\n",
      "Data Split:  67%|\u001B[32m██████▋   \u001B[0m| 2/3 [00:15<00:06,  6.77s/ split]\u001B[A\n",
      "Data Split: 100%|\u001B[32m██████████\u001B[0m| 3/3 [00:21<00:00,  7.07s/ split]\u001B[A\n",
      "2025/02/28 21:42:49 WARNING mlflow.pytorch: Stored model version '2.0.1+cu117' does not match installed PyTorch version '2.2.2'\n",
      "2025/02/28 21:42:49 WARNING mlflow.pytorch: Stored model version '2.0.1+cu117' does not match installed PyTorch version '2.2.2'\n",
      "2025/02/28 21:42:49 WARNING mlflow.pytorch: Stored model version '2.0.1+cu117' does not match installed PyTorch version '2.2.2'\n",
      "2025/02/28 21:42:49 WARNING mlflow.pytorch: Stored model version '2.0.1+cu117' does not match installed PyTorch version '2.2.2'\n",
      "2025/02/28 21:42:49 WARNING mlflow.pytorch: Stored model version '2.0.1+cu117' does not match installed PyTorch version '2.2.2'\n",
      "2025/02/28 21:42:49 WARNING mlflow.pytorch: Stored model version '2.0.1+cu117' does not match installed PyTorch version '2.2.2'\n",
      "processing splits:  10%|█         | 1/10 [00:22<03:22, 22.54s/ split]\n",
      "Data Split:   0%|\u001B[32m          \u001B[0m| 0/3 [00:00<?, ? split/s]\u001B[A\n",
      "Data Split:  33%|\u001B[32m███▎      \u001B[0m| 1/3 [00:19<00:38, 19.44s/ split]\u001B[A\n",
      "Data Split:  67%|\u001B[32m██████▋   \u001B[0m| 2/3 [00:22<00:09,  9.60s/ split]\u001B[A\n",
      "Data Split: 100%|\u001B[32m██████████\u001B[0m| 3/3 [00:27<00:00,  9.20s/ split]\u001B[A\n",
      "2025/02/28 21:43:18 WARNING mlflow.pytorch: Stored model version '2.0.1+cu117' does not match installed PyTorch version '2.2.2'\n",
      "2025/02/28 21:43:18 WARNING mlflow.pytorch: Stored model version '2.0.1+cu117' does not match installed PyTorch version '2.2.2'\n",
      "2025/02/28 21:43:18 WARNING mlflow.pytorch: Stored model version '2.0.1+cu117' does not match installed PyTorch version '2.2.2'\n",
      "2025/02/28 21:43:18 WARNING mlflow.pytorch: Stored model version '2.0.1+cu117' does not match installed PyTorch version '2.2.2'\n",
      "2025/02/28 21:43:18 WARNING mlflow.pytorch: Stored model version '2.0.1+cu117' does not match installed PyTorch version '2.2.2'\n",
      "2025/02/28 21:43:18 WARNING mlflow.pytorch: Stored model version '2.0.1+cu117' does not match installed PyTorch version '2.2.2'\n",
      "processing splits:  20%|██        | 2/10 [00:51<03:30, 26.27s/ split]\n",
      "Data Split:   0%|\u001B[32m          \u001B[0m| 0/3 [00:00<?, ? split/s]\u001B[A\n",
      "Data Split:  33%|\u001B[32m███▎      \u001B[0m| 1/3 [00:04<00:09,  4.77s/ split]\u001B[A\n",
      "Data Split:  67%|\u001B[32m██████▋   \u001B[0m| 2/3 [00:05<00:02,  2.40s/ split]\u001B[A\n",
      "Data Split: 100%|\u001B[32m██████████\u001B[0m| 3/3 [00:06<00:00,  2.33s/ split]\u001B[A\n",
      "2025/02/28 21:43:26 WARNING mlflow.pytorch: Stored model version '2.0.1+cu117' does not match installed PyTorch version '2.2.2'\n",
      "2025/02/28 21:43:26 WARNING mlflow.pytorch: Stored model version '2.0.1+cu117' does not match installed PyTorch version '2.2.2'\n",
      "2025/02/28 21:43:26 WARNING mlflow.pytorch: Stored model version '2.0.1+cu117' does not match installed PyTorch version '2.2.2'\n",
      "2025/02/28 21:43:26 WARNING mlflow.pytorch: Stored model version '2.0.1+cu117' does not match installed PyTorch version '2.2.2'\n",
      "2025/02/28 21:43:26 WARNING mlflow.pytorch: Stored model version '2.0.1+cu117' does not match installed PyTorch version '2.2.2'\n",
      "2025/02/28 21:43:26 WARNING mlflow.pytorch: Stored model version '2.0.1+cu117' does not match installed PyTorch version '2.2.2'\n",
      "processing splits:  30%|███       | 3/10 [00:59<02:06, 18.05s/ split]\n",
      "Data Split:   0%|\u001B[32m          \u001B[0m| 0/3 [00:00<?, ? split/s]\u001B[A\n",
      "Data Split:  33%|\u001B[32m███▎      \u001B[0m| 1/3 [00:04<00:09,  4.90s/ split]\u001B[A\n",
      "Data Split:  67%|\u001B[32m██████▋   \u001B[0m| 2/3 [00:05<00:02,  2.45s/ split]\u001B[A\n",
      "Data Split: 100%|\u001B[32m██████████\u001B[0m| 3/3 [00:07<00:00,  2.37s/ split]\u001B[A\n",
      "2025/02/28 21:43:34 WARNING mlflow.pytorch: Stored model version '2.0.1+cu117' does not match installed PyTorch version '2.2.2'\n",
      "2025/02/28 21:43:34 WARNING mlflow.pytorch: Stored model version '2.0.1+cu117' does not match installed PyTorch version '2.2.2'\n",
      "2025/02/28 21:43:34 WARNING mlflow.pytorch: Stored model version '2.0.1+cu117' does not match installed PyTorch version '2.2.2'\n",
      "2025/02/28 21:43:34 WARNING mlflow.pytorch: Stored model version '2.0.1+cu117' does not match installed PyTorch version '2.2.2'\n",
      "2025/02/28 21:43:34 WARNING mlflow.pytorch: Stored model version '2.0.1+cu117' does not match installed PyTorch version '2.2.2'\n",
      "2025/02/28 21:43:35 WARNING mlflow.pytorch: Stored model version '2.0.1+cu117' does not match installed PyTorch version '2.2.2'\n",
      "processing splits:  40%|████      | 4/10 [01:08<01:25, 14.24s/ split]\n",
      "Data Split:   0%|\u001B[32m          \u001B[0m| 0/3 [00:00<?, ? split/s]\u001B[A\n",
      "Data Split:  33%|\u001B[32m███▎      \u001B[0m| 1/3 [00:04<00:09,  4.96s/ split]\u001B[A\n",
      "Data Split:  67%|\u001B[32m██████▋   \u001B[0m| 2/3 [00:05<00:02,  2.47s/ split]\u001B[A\n",
      "Data Split: 100%|\u001B[32m██████████\u001B[0m| 3/3 [00:07<00:00,  2.38s/ split]\u001B[A\n",
      "2025/02/28 21:43:43 WARNING mlflow.pytorch: Stored model version '2.0.1+cu117' does not match installed PyTorch version '2.2.2'\n",
      "2025/02/28 21:43:43 WARNING mlflow.pytorch: Stored model version '2.0.1+cu117' does not match installed PyTorch version '2.2.2'\n",
      "2025/02/28 21:43:43 WARNING mlflow.pytorch: Stored model version '2.0.1+cu117' does not match installed PyTorch version '2.2.2'\n",
      "2025/02/28 21:43:43 WARNING mlflow.pytorch: Stored model version '2.0.1+cu117' does not match installed PyTorch version '2.2.2'\n",
      "2025/02/28 21:43:43 WARNING mlflow.pytorch: Stored model version '2.0.1+cu117' does not match installed PyTorch version '2.2.2'\n",
      "2025/02/28 21:43:43 WARNING mlflow.pytorch: Stored model version '2.0.1+cu117' does not match installed PyTorch version '2.2.2'\n",
      "processing splits:  50%|█████     | 5/10 [01:16<01:00, 12.14s/ split]\n",
      "Data Split:   0%|\u001B[32m          \u001B[0m| 0/3 [00:00<?, ? split/s]\u001B[A\n",
      "Data Split:  33%|\u001B[32m███▎      \u001B[0m| 1/3 [00:04<00:09,  4.98s/ split]\u001B[A\n",
      "Data Split:  67%|\u001B[32m██████▋   \u001B[0m| 2/3 [00:05<00:02,  2.48s/ split]\u001B[A\n",
      "Data Split: 100%|\u001B[32m██████████\u001B[0m| 3/3 [00:07<00:00,  2.41s/ split]\u001B[A\n",
      "2025/02/28 21:43:51 WARNING mlflow.pytorch: Stored model version '2.0.1+cu117' does not match installed PyTorch version '2.2.2'\n",
      "2025/02/28 21:43:51 WARNING mlflow.pytorch: Stored model version '2.0.1+cu117' does not match installed PyTorch version '2.2.2'\n",
      "2025/02/28 21:43:51 WARNING mlflow.pytorch: Stored model version '2.0.1+cu117' does not match installed PyTorch version '2.2.2'\n",
      "2025/02/28 21:43:51 WARNING mlflow.pytorch: Stored model version '2.0.1+cu117' does not match installed PyTorch version '2.2.2'\n",
      "2025/02/28 21:43:51 WARNING mlflow.pytorch: Stored model version '2.0.1+cu117' does not match installed PyTorch version '2.2.2'\n",
      "2025/02/28 21:43:51 WARNING mlflow.pytorch: Stored model version '2.0.1+cu117' does not match installed PyTorch version '2.2.2'\n",
      "processing splits:  60%|██████    | 6/10 [01:24<00:43, 10.90s/ split]\n",
      "Data Split:   0%|\u001B[32m          \u001B[0m| 0/3 [00:00<?, ? split/s]\u001B[A\n",
      "Data Split:  33%|\u001B[32m███▎      \u001B[0m| 1/3 [00:04<00:09,  4.90s/ split]\u001B[A\n",
      "Data Split:  67%|\u001B[32m██████▋   \u001B[0m| 2/3 [00:05<00:02,  2.46s/ split]\u001B[A\n",
      "Data Split: 100%|\u001B[32m██████████\u001B[0m| 3/3 [00:07<00:00,  2.36s/ split]\u001B[A\n",
      "2025/02/28 21:43:59 WARNING mlflow.pytorch: Stored model version '2.0.1+cu117' does not match installed PyTorch version '2.2.2'\n",
      "2025/02/28 21:44:00 WARNING mlflow.pytorch: Stored model version '2.0.1+cu117' does not match installed PyTorch version '2.2.2'\n",
      "2025/02/28 21:44:00 WARNING mlflow.pytorch: Stored model version '2.0.1+cu117' does not match installed PyTorch version '2.2.2'\n",
      "2025/02/28 21:44:00 WARNING mlflow.pytorch: Stored model version '2.0.1+cu117' does not match installed PyTorch version '2.2.2'\n",
      "2025/02/28 21:44:00 WARNING mlflow.pytorch: Stored model version '2.0.1+cu117' does not match installed PyTorch version '2.2.2'\n",
      "2025/02/28 21:44:00 WARNING mlflow.pytorch: Stored model version '2.0.1+cu117' does not match installed PyTorch version '2.2.2'\n",
      "processing splits:  70%|███████   | 7/10 [01:33<00:30, 10.06s/ split]\n",
      "Data Split:   0%|\u001B[32m          \u001B[0m| 0/3 [00:00<?, ? split/s]\u001B[A\n",
      "Data Split:  33%|\u001B[32m███▎      \u001B[0m| 1/3 [00:05<00:10,  5.02s/ split]\u001B[A\n",
      "Data Split:  67%|\u001B[32m██████▋   \u001B[0m| 2/3 [00:05<00:02,  2.49s/ split]\u001B[A\n",
      "Data Split: 100%|\u001B[32m██████████\u001B[0m| 3/3 [00:07<00:00,  2.40s/ split]\u001B[A\n",
      "2025/02/28 21:44:08 WARNING mlflow.pytorch: Stored model version '2.0.1+cu117' does not match installed PyTorch version '2.2.2'\n",
      "2025/02/28 21:44:08 WARNING mlflow.pytorch: Stored model version '2.0.1+cu117' does not match installed PyTorch version '2.2.2'\n",
      "2025/02/28 21:44:08 WARNING mlflow.pytorch: Stored model version '2.0.1+cu117' does not match installed PyTorch version '2.2.2'\n",
      "2025/02/28 21:44:08 WARNING mlflow.pytorch: Stored model version '2.0.1+cu117' does not match installed PyTorch version '2.2.2'\n",
      "2025/02/28 21:44:08 WARNING mlflow.pytorch: Stored model version '2.0.1+cu117' does not match installed PyTorch version '2.2.2'\n",
      "2025/02/28 21:44:08 WARNING mlflow.pytorch: Stored model version '2.0.1+cu117' does not match installed PyTorch version '2.2.2'\n",
      "processing splits:  80%|████████  | 8/10 [01:41<00:19,  9.56s/ split]\n",
      "Data Split:   0%|\u001B[32m          \u001B[0m| 0/3 [00:00<?, ? split/s]\u001B[A\n",
      "Data Split:  33%|\u001B[32m███▎      \u001B[0m| 1/3 [00:05<00:10,  5.25s/ split]\u001B[A\n",
      "Data Split:  67%|\u001B[32m██████▋   \u001B[0m| 2/3 [00:05<00:02,  2.60s/ split]\u001B[A\n",
      "Data Split: 100%|\u001B[32m██████████\u001B[0m| 3/3 [00:07<00:00,  2.51s/ split]\u001B[A\n",
      "2025/02/28 21:44:17 WARNING mlflow.pytorch: Stored model version '2.0.1+cu117' does not match installed PyTorch version '2.2.2'\n",
      "2025/02/28 21:44:17 WARNING mlflow.pytorch: Stored model version '2.0.1+cu117' does not match installed PyTorch version '2.2.2'\n",
      "2025/02/28 21:44:17 WARNING mlflow.pytorch: Stored model version '2.0.1+cu117' does not match installed PyTorch version '2.2.2'\n",
      "2025/02/28 21:44:17 WARNING mlflow.pytorch: Stored model version '2.0.1+cu117' does not match installed PyTorch version '2.2.2'\n",
      "2025/02/28 21:44:17 WARNING mlflow.pytorch: Stored model version '2.0.1+cu117' does not match installed PyTorch version '2.2.2'\n",
      "2025/02/28 21:44:17 WARNING mlflow.pytorch: Stored model version '2.0.1+cu117' does not match installed PyTorch version '2.2.2'\n",
      "processing splits:  90%|█████████ | 9/10 [01:50<00:09,  9.34s/ split]\n",
      "Data Split:   0%|\u001B[32m          \u001B[0m| 0/3 [00:00<?, ? split/s]\u001B[A\n",
      "Data Split:  33%|\u001B[32m███▎      \u001B[0m| 1/3 [00:05<00:10,  5.33s/ split]\u001B[A\n",
      "Data Split:  67%|\u001B[32m██████▋   \u001B[0m| 2/3 [00:06<00:02,  2.65s/ split]\u001B[A\n",
      "Data Split: 100%|\u001B[32m██████████\u001B[0m| 3/3 [00:07<00:00,  2.55s/ split]\u001B[A\n",
      "2025/02/28 21:44:26 WARNING mlflow.pytorch: Stored model version '2.0.1+cu117' does not match installed PyTorch version '2.2.2'\n",
      "2025/02/28 21:44:26 WARNING mlflow.pytorch: Stored model version '2.0.1+cu117' does not match installed PyTorch version '2.2.2'\n",
      "2025/02/28 21:44:26 WARNING mlflow.pytorch: Stored model version '2.0.1+cu117' does not match installed PyTorch version '2.2.2'\n",
      "2025/02/28 21:44:26 WARNING mlflow.pytorch: Stored model version '2.0.1+cu117' does not match installed PyTorch version '2.2.2'\n",
      "2025/02/28 21:44:26 WARNING mlflow.pytorch: Stored model version '2.0.1+cu117' does not match installed PyTorch version '2.2.2'\n",
      "2025/02/28 21:44:26 WARNING mlflow.pytorch: Stored model version '2.0.1+cu117' does not match installed PyTorch version '2.2.2'\n",
      "processing splits: 100%|██████████| 10/10 [01:59<00:00, 11.97s/ split]\n"
     ]
    }
   ],
   "execution_count": 259
  },
  {
   "metadata": {
    "ExecuteTime": {
     "end_time": "2025-03-01T05:44:34.112068Z",
     "start_time": "2025-03-01T05:44:34.108378Z"
    }
   },
   "cell_type": "code",
   "source": [
    "assert torch.allclose(behavior_policy_action_split_cts.sum(0), behavior_policy_action_cts)\n",
    "assert torch.allclose(d3qn_policy_action_split_cts.sum(0), d3qn_policy_action_cts)\n",
    "assert torch.allclose(iql_policy_action_split_cts.sum(0), iql_policy_action_cts)"
   ],
   "id": "2697de07ebbdf8dd",
   "outputs": [],
   "execution_count": 260
  },
  {
   "metadata": {
    "ExecuteTime": {
     "end_time": "2025-03-01T05:44:36.541380Z",
     "start_time": "2025-03-01T05:44:36.516814Z"
    }
   },
   "cell_type": "code",
   "source": [
    "# NOTE: computing the standard deviations for the heatmaps above\n",
    "indiv_behavior_action_split_cts_std = torch.zeros(10, 3, 3)\n",
    "indiv_d3qn_action_split_cts_std = torch.zeros(10, 3, 3)\n",
    "indiv_iql_action_split_cts_std = torch.zeros(10, 3, 3)\n",
    "for action_ct_lbl, action_cts, indiv_cts in (('behavior', behavior_policy_action_split_cts, indiv_behavior_action_split_cts_std),\n",
    "                                             ('d3qn', d3qn_policy_action_split_cts, indiv_d3qn_action_split_cts_std),\n",
    "                                             ('iql', iql_policy_action_split_cts, indiv_iql_action_split_cts_std)):\n",
    "    for split in range(10):\n",
    "        #unique_actions = set()\n",
    "        for act_idx in range(action_cts.size(1)):\n",
    "            action = unflattened_action_map[act_idx].clone()\n",
    "            #unique_actions.add(action[0].item())\n",
    "            indiv_cts[split, 0, action[0]] += action_cts[split, act_idx]\n",
    "            indiv_cts[split, 1, action[1]] += action_cts[split, act_idx]\n",
    "            indiv_cts[split, 2, action[2]] += action_cts[split, act_idx]\n",
    "        #print(unique_actions)\n",
    "for split in range(10):\n",
    "    for i in range(3):\n",
    "        indiv_behavior_action_split_cts_std[split, i] /= indiv_behavior_action_split_cts_std[split, i].sum()\n",
    "        indiv_iql_action_split_cts_std[split, i] /= indiv_iql_action_split_cts_std[split, i].sum()\n",
    "        indiv_d3qn_action_split_cts_std[split, i] /= indiv_d3qn_action_split_cts_std[split, i].sum()\n",
    "behavior_split_stds_std = torch.zeros(3, 3)\n",
    "d3qn_split_stds_std = torch.zeros(3, 3)\n",
    "iql_split_stds_std = torch.zeros(3, 3)\n",
    "for i in range(3):\n",
    "    for j in range(3):\n",
    "        behavior_split_stds_std[i, j] = indiv_behavior_action_split_cts_std[:, i, j].std()\n",
    "        d3qn_split_stds_std[i, j] = indiv_d3qn_action_split_cts_std[:, i, j].std()\n",
    "        iql_split_stds_std[i, j] = indiv_iql_action_split_cts_std[:, i, j].std()"
   ],
   "id": "cd75264e7e098f77",
   "outputs": [
    {
     "name": "stdout",
     "output_type": "stream",
     "text": [
      "{0, 1, 2}\n",
      "{0, 1, 2}\n",
      "{0, 1, 2}\n",
      "{0, 1, 2}\n",
      "{0, 1, 2}\n",
      "{0, 1, 2}\n",
      "{0, 1, 2}\n",
      "{0, 1, 2}\n",
      "{0, 1, 2}\n",
      "{0, 1, 2}\n",
      "{0, 1, 2}\n",
      "{0, 1, 2}\n",
      "{0, 1, 2}\n",
      "{0, 1, 2}\n",
      "{0, 1, 2}\n",
      "{0, 1, 2}\n",
      "{0, 1, 2}\n",
      "{0, 1, 2}\n",
      "{0, 1, 2}\n",
      "{0, 1, 2}\n",
      "{0, 1, 2}\n",
      "{0, 1, 2}\n",
      "{0, 1, 2}\n",
      "{0, 1, 2}\n",
      "{0, 1, 2}\n",
      "{0, 1, 2}\n",
      "{0, 1, 2}\n",
      "{0, 1, 2}\n",
      "{0, 1, 2}\n",
      "{0, 1, 2}\n"
     ]
    }
   ],
   "execution_count": 261
  },
  {
   "metadata": {
    "ExecuteTime": {
     "end_time": "2025-03-01T05:44:40.108563Z",
     "start_time": "2025-03-01T05:44:40.104488Z"
    }
   },
   "cell_type": "code",
   "source": "indiv_behavior_action_cts",
   "id": "e6418fe83d9a8a05",
   "outputs": [
    {
     "data": {
      "text/plain": [
       "tensor([[0.8751, 0.0402, 0.0847],\n",
       "        [0.8831, 0.1169, 0.0000],\n",
       "        [0.9624, 0.0376, 0.0000]])"
      ]
     },
     "execution_count": 262,
     "metadata": {},
     "output_type": "execute_result"
    }
   ],
   "execution_count": 262
  },
  {
   "metadata": {
    "ExecuteTime": {
     "end_time": "2025-03-01T05:44:44.208413Z",
     "start_time": "2025-03-01T05:44:44.204535Z"
    }
   },
   "cell_type": "code",
   "source": "behavior_split_stds_std",
   "id": "b32717d2207b9102",
   "outputs": [
    {
     "data": {
      "text/plain": [
       "tensor([[0.0026, 0.0025, 0.0018],\n",
       "        [0.0115, 0.0115, 0.0000],\n",
       "        [0.0031, 0.0031, 0.0000]])"
      ]
     },
     "execution_count": 263,
     "metadata": {},
     "output_type": "execute_result"
    }
   ],
   "execution_count": 263
  },
  {
   "metadata": {
    "ExecuteTime": {
     "end_time": "2025-03-01T05:44:47.429449Z",
     "start_time": "2025-03-01T05:44:47.425476Z"
    }
   },
   "cell_type": "code",
   "source": "d3qn_split_stds_std",
   "id": "80923d5d7ffa35cd",
   "outputs": [
    {
     "data": {
      "text/plain": [
       "tensor([[0.1116, 0.0700, 0.0808],\n",
       "        [0.0569, 0.0569, 0.0000],\n",
       "        [0.1143, 0.1143, 0.0000]])"
      ]
     },
     "execution_count": 264,
     "metadata": {},
     "output_type": "execute_result"
    }
   ],
   "execution_count": 264
  },
  {
   "metadata": {
    "ExecuteTime": {
     "end_time": "2025-03-01T05:44:50.906866Z",
     "start_time": "2025-03-01T05:44:50.902772Z"
    }
   },
   "cell_type": "code",
   "source": "iql_split_stds_std",
   "id": "e65ee176ec3ad372",
   "outputs": [
    {
     "data": {
      "text/plain": [
       "tensor([[0.0004, 0.0000, 0.0004],\n",
       "        [0.0007, 0.0007, 0.0000],\n",
       "        [0.0001, 0.0001, 0.0000]])"
      ]
     },
     "execution_count": 265,
     "metadata": {},
     "output_type": "execute_result"
    }
   ],
   "execution_count": 265
  },
  {
   "metadata": {
    "ExecuteTime": {
     "end_time": "2025-03-01T05:44:54.138884Z",
     "start_time": "2025-03-01T05:44:54.112104Z"
    }
   },
   "cell_type": "code",
   "source": [
    "# NOTE: combining IVF actions 1 and 2 for McNemar's test (and for the abstract)\n",
    "indiv_behavior_action_split_cts = torch.zeros(10, 3, 2)\n",
    "indiv_d3qn_action_split_cts = torch.zeros(10, 3, 2)\n",
    "indiv_iql_action_split_cts = torch.zeros(10, 3, 2)\n",
    "for action_ct_lbl, action_cts, indiv_cts in (('behavior', behavior_policy_action_split_cts, indiv_behavior_action_split_cts),\n",
    "                                             ('d3qn', d3qn_policy_action_split_cts, indiv_d3qn_action_split_cts),\n",
    "                                             ('iql', iql_policy_action_split_cts, indiv_iql_action_split_cts)):\n",
    "    for split in range(10):\n",
    "        #unique_actions = set()\n",
    "        for act_idx in range(action_cts.size(1)):\n",
    "            action = unflattened_action_map[act_idx].clone()\n",
    "            #unique_actions.add(action[0].item())\n",
    "            if action[0] > 1:\n",
    "                action[0] = 1\n",
    "            indiv_cts[split, 0, action[0]] += action_cts[split, act_idx]\n",
    "            indiv_cts[split, 1, action[1]] += action_cts[split, act_idx]\n",
    "            indiv_cts[split, 2, action[2]] += action_cts[split, act_idx]\n",
    "        #print(unique_actions)\n",
    "for split in range(10):\n",
    "    for i in range(3):\n",
    "        indiv_behavior_action_split_cts[split, i] /= indiv_behavior_action_split_cts[split, i].sum()\n",
    "        indiv_iql_action_split_cts[split, i] /= indiv_iql_action_split_cts[split, i].sum()\n",
    "        indiv_d3qn_action_split_cts[split, i] /= indiv_d3qn_action_split_cts[split, i].sum()"
   ],
   "id": "2b48124415e2017c",
   "outputs": [
    {
     "name": "stdout",
     "output_type": "stream",
     "text": [
      "{0, 1, 2}\n",
      "{0, 1, 2}\n",
      "{0, 1, 2}\n",
      "{0, 1, 2}\n",
      "{0, 1, 2}\n",
      "{0, 1, 2}\n",
      "{0, 1, 2}\n",
      "{0, 1, 2}\n",
      "{0, 1, 2}\n",
      "{0, 1, 2}\n",
      "{0, 1, 2}\n",
      "{0, 1, 2}\n",
      "{0, 1, 2}\n",
      "{0, 1, 2}\n",
      "{0, 1, 2}\n",
      "{0, 1, 2}\n",
      "{0, 1, 2}\n",
      "{0, 1, 2}\n",
      "{0, 1, 2}\n",
      "{0, 1, 2}\n",
      "{0, 1, 2}\n",
      "{0, 1, 2}\n",
      "{0, 1, 2}\n",
      "{0, 1, 2}\n",
      "{0, 1, 2}\n",
      "{0, 1, 2}\n",
      "{0, 1, 2}\n",
      "{0, 1, 2}\n",
      "{0, 1, 2}\n",
      "{0, 1, 2}\n"
     ]
    }
   ],
   "execution_count": 266
  },
  {
   "metadata": {
    "ExecuteTime": {
     "end_time": "2025-03-01T05:44:57.458546Z",
     "start_time": "2025-03-01T05:44:57.455099Z"
    }
   },
   "cell_type": "code",
   "source": "indiv_behavior_action_split_cts.shape",
   "id": "3a2cd3045611de42",
   "outputs": [
    {
     "data": {
      "text/plain": [
       "torch.Size([10, 3, 2])"
      ]
     },
     "execution_count": 267,
     "metadata": {},
     "output_type": "execute_result"
    }
   ],
   "execution_count": 267
  },
  {
   "metadata": {
    "ExecuteTime": {
     "end_time": "2025-03-01T05:44:58.839742Z",
     "start_time": "2025-03-01T05:44:58.835468Z"
    }
   },
   "cell_type": "code",
   "source": [
    "behavior_split_stds = torch.zeros(3, 2)\n",
    "d3qn_split_stds = torch.zeros(3, 2)\n",
    "iql_split_stds = torch.zeros(3, 2)\n",
    "for i in range(3):\n",
    "    for j in range(2):\n",
    "        behavior_split_stds[i, j] = indiv_behavior_action_split_cts[:, i, j].std()\n",
    "        d3qn_split_stds[i, j] = indiv_d3qn_action_split_cts[:, i, j].std()\n",
    "        iql_split_stds[i, j] = indiv_iql_action_split_cts[:, i, j].std()"
   ],
   "id": "54bf016de3d02f1f",
   "outputs": [],
   "execution_count": 268
  },
  {
   "metadata": {
    "ExecuteTime": {
     "end_time": "2025-03-01T05:45:00.626960Z",
     "start_time": "2025-03-01T05:45:00.623191Z"
    }
   },
   "cell_type": "code",
   "source": "behavior_split_stds",
   "id": "5c28b460e8668212",
   "outputs": [
    {
     "data": {
      "text/plain": [
       "tensor([[0.0026, 0.0026],\n",
       "        [0.0115, 0.0115],\n",
       "        [0.0031, 0.0031]])"
      ]
     },
     "execution_count": 269,
     "metadata": {},
     "output_type": "execute_result"
    }
   ],
   "execution_count": 269
  },
  {
   "metadata": {
    "ExecuteTime": {
     "end_time": "2025-03-01T05:45:04.992807Z",
     "start_time": "2025-03-01T05:45:04.988029Z"
    }
   },
   "cell_type": "code",
   "source": "d3qn_split_stds",
   "id": "bf68714364a0f4a3",
   "outputs": [
    {
     "data": {
      "text/plain": [
       "tensor([[0.1116, 0.1116],\n",
       "        [0.0569, 0.0569],\n",
       "        [0.1143, 0.1143]])"
      ]
     },
     "execution_count": 270,
     "metadata": {},
     "output_type": "execute_result"
    }
   ],
   "execution_count": 270
  },
  {
   "metadata": {
    "ExecuteTime": {
     "end_time": "2025-03-01T05:45:07.763291Z",
     "start_time": "2025-03-01T05:45:07.758509Z"
    }
   },
   "cell_type": "code",
   "source": "iql_split_stds",
   "id": "67cb4aeb62f644b4",
   "outputs": [
    {
     "data": {
      "text/plain": [
       "tensor([[0.0004, 0.0004],\n",
       "        [0.0007, 0.0007],\n",
       "        [0.0001, 0.0001]])"
      ]
     },
     "execution_count": 271,
     "metadata": {},
     "output_type": "execute_result"
    }
   ],
   "execution_count": 271
  },
  {
   "metadata": {
    "ExecuteTime": {
     "end_time": "2025-03-01T05:45:09.212849Z",
     "start_time": "2025-03-01T05:45:09.203820Z"
    }
   },
   "cell_type": "code",
   "source": [
    "def run_mcnemar(run_id_dict: Dict[str, str], unflattened_action_map_: torch.LongTensor, n_splits: int = 10, action_type: Literal['discrete', 'binary'] = 'discrete', batch_size: int = 32, aggregate_cts: bool = True) -> Tuple[torch.LongTensor, torch.LongTensor, torch.LongTensor]:\n",
    "    num_actions = 12 if action_type == 'discrete' else 8\n",
    "    # NOTE: 0, 0 is NoDose, 1, 1 is Dose, Dose\n",
    "    ivf_cts = torch.zeros(n_splits, 2, 2, dtype=torch.long)\n",
    "    nor_cts = torch.zeros(n_splits, 2, 2, dtype=torch.long)\n",
    "    vaso_cts = torch.zeros(n_splits, 2, 2, dtype=torch.long)\n",
    "    for split in tqdm(range(n_splits), desc='processing splits', unit=' split'):\n",
    "        # load data\n",
    "        (\n",
    "            (_, _, _, _, _, _),\n",
    "            (_, _, _, _, _, _),\n",
    "            (test_states, test_actions, test_rewards, test_dones, test_next_states, _)\n",
    "        ) = trauma_icu_resuscitation_funcs.load_trauma_icu_resuscitation_data(split, 'iql', action_type)\n",
    "        # flatten actions for D3QN and IQL\n",
    "        match action_type:\n",
    "            case 'discrete':\n",
    "                test_actions = trauma_icu_resuscitation_funcs.flatten_discrete_actions(test_actions)\n",
    "            case 'binary':\n",
    "                test_actions = trauma_icu_resuscitation_funcs.flatten_binary_actions(test_actions)\n",
    "            case _:\n",
    "                raise ValueError(f'Invalid action type: {action_type}')\n",
    "        test_dataset = ImplicitQLearningDataset(test_states.float(), test_actions, test_next_states.float(), test_rewards, test_dones)\n",
    "        test_dataloader = torch.utils.data.DataLoader(test_dataset, batch_size=batch_size, shuffle=False)\n",
    "        d3qn = D3QN(state_dim=len(StateSpaceComponents), action_dim=1,\n",
    "                    hidden_dim=128, reward_max=1.0,\n",
    "                    gamma=0.99, tau=5e-3, lr=1e-4, buffer_size=len(test_dataset), per_alpha=0.6,\n",
    "                    per_beta=0.9, per_eps=1e-2, reg_lambda=5.0, batch_size=batch_size, num_actions=num_actions)\n",
    "        d3qn.load_model(f'runs:/{run_id_dict[\"d3qn\"]}/final_d3qn_model_split_{split}')\n",
    "        d3qn.eval()\n",
    "        # iql = ImplicitQLearning(state_dim=len(StateSpaceComponents), action_dim=1,\n",
    "        #                         num_actions=num_actions,\n",
    "        #                         policy_hidden_dim=128,\n",
    "        #                         critic_hidden_dim=128,\n",
    "        #                         expectile_val_hidden_dim=128,\n",
    "        #                         policy_lr=1e-4,\n",
    "        #                         critic_lr=1e-4, expectile_val_lr=1e-4,\n",
    "        #                         gamma=0.99, expectile=0.8, temperature=0.1,\n",
    "        #                         clip_norm=1.0, tau=5e-3,\n",
    "        #                         weight_decay=1e-4)\n",
    "        # iql.load_model(f'runs:/{run_id_dict[\"iql\"]}/final_iql_model_split_{split}')\n",
    "        # iql.eval()\n",
    "        for states, actions, _, _, _ in test_dataloader:\n",
    "            # NOTE: we are combining IVF actions 1 and 2 for McNemar's test (and for the abstract)\n",
    "            unflattened_actions = unflattened_action_map_[actions.squeeze()].clone()\n",
    "            unflattened_actions[:, 0] = torch.where(unflattened_actions[:, 0] == 2, 1, unflattened_actions[:, 0])\n",
    "            d3qn_actions, probs = d3qn.get_best_action(states)\n",
    "            unflattened_d3qn_actions = unflattened_action_map_[d3qn_actions.action.squeeze()].clone()\n",
    "            unflattened_d3qn_actions[:, 0] = torch.where(unflattened_d3qn_actions[:, 0] == 2, 1, unflattened_d3qn_actions[:, 0])\n",
    "            for actual_actions_, d3qn_actions_, cts_ in zip((unflattened_actions[:, 0],\n",
    "                                                             unflattened_actions[:, 1],\n",
    "                                                             unflattened_actions[:, 2]),\n",
    "                                                            (unflattened_d3qn_actions[:, 0],\n",
    "                                                             unflattened_d3qn_actions[:, 1],\n",
    "                                                             unflattened_d3qn_actions[:, 2]),\n",
    "                                                            (ivf_cts, nor_cts, vaso_cts)):\n",
    "                # this is the slower way - we could use masks to speed this up\n",
    "                for actual_action, d3qn_action in zip(actual_actions_, d3qn_actions_):\n",
    "                    cts_[split, actual_action, d3qn_action] += 1\n",
    "\n",
    "    if aggregate_cts:\n",
    "        ivf_cts = ivf_cts.sum(0)\n",
    "        nor_cts = nor_cts.sum(0)\n",
    "        vaso_cts = vaso_cts.sum(0)\n",
    "    return ivf_cts, nor_cts, vaso_cts"
   ],
   "id": "65f23168725a2326",
   "outputs": [],
   "execution_count": 272
  },
  {
   "metadata": {
    "ExecuteTime": {
     "end_time": "2025-03-01T05:47:13.301191Z",
     "start_time": "2025-03-01T05:45:12.260586Z"
    }
   },
   "cell_type": "code",
   "source": "ivf_cts, nor_cts, vaso_cts = run_mcnemar(agent_run_ids, unflattened_action_map)",
   "id": "e19ba9f8a27541b5",
   "outputs": [
    {
     "name": "stderr",
     "output_type": "stream",
     "text": [
      "processing splits:   0%|          | 0/10 [00:00<?, ? split/s]\n",
      "Data Split:   0%|\u001B[32m          \u001B[0m| 0/3 [00:00<?, ? split/s]\u001B[A\n",
      "Data Split:  33%|\u001B[32m███▎      \u001B[0m| 1/3 [00:07<00:14,  7.34s/ split]\u001B[A\n",
      "Data Split:  67%|\u001B[32m██████▋   \u001B[0m| 2/3 [00:08<00:03,  3.97s/ split]\u001B[A\n",
      "Data Split: 100%|\u001B[32m██████████\u001B[0m| 3/3 [00:13<00:00,  4.67s/ split]\u001B[A\n",
      "2025/02/28 21:45:26 WARNING mlflow.pytorch: Stored model version '2.0.1+cu117' does not match installed PyTorch version '2.2.2'\n",
      "2025/02/28 21:45:26 WARNING mlflow.pytorch: Stored model version '2.0.1+cu117' does not match installed PyTorch version '2.2.2'\n",
      "processing splits:  10%|█         | 1/10 [00:15<02:21, 15.77s/ split]\n",
      "Data Split:   0%|\u001B[32m          \u001B[0m| 0/3 [00:00<?, ? split/s]\u001B[A\n",
      "Data Split:  33%|\u001B[32m███▎      \u001B[0m| 1/3 [00:04<00:09,  4.85s/ split]\u001B[A\n",
      "Data Split:  67%|\u001B[32m██████▋   \u001B[0m| 2/3 [00:05<00:02,  2.43s/ split]\u001B[A\n",
      "Data Split: 100%|\u001B[32m██████████\u001B[0m| 3/3 [00:07<00:00,  2.33s/ split]\u001B[A\n",
      "2025/02/28 21:45:35 WARNING mlflow.pytorch: Stored model version '2.0.1+cu117' does not match installed PyTorch version '2.2.2'\n",
      "2025/02/28 21:45:35 WARNING mlflow.pytorch: Stored model version '2.0.1+cu117' does not match installed PyTorch version '2.2.2'\n",
      "processing splits:  20%|██        | 2/10 [00:24<01:33, 11.64s/ split]\n",
      "Data Split:   0%|\u001B[32m          \u001B[0m| 0/3 [00:00<?, ? split/s]\u001B[A\n",
      "Data Split:  33%|\u001B[32m███▎      \u001B[0m| 1/3 [00:05<00:10,  5.10s/ split]\u001B[A\n",
      "Data Split:  67%|\u001B[32m██████▋   \u001B[0m| 2/3 [00:05<00:02,  2.60s/ split]\u001B[A\n",
      "Data Split: 100%|\u001B[32m██████████\u001B[0m| 3/3 [00:07<00:00,  2.47s/ split]\u001B[A\n",
      "2025/02/28 21:45:44 WARNING mlflow.pytorch: Stored model version '2.0.1+cu117' does not match installed PyTorch version '2.2.2'\n",
      "2025/02/28 21:45:44 WARNING mlflow.pytorch: Stored model version '2.0.1+cu117' does not match installed PyTorch version '2.2.2'\n",
      "processing splits:  30%|███       | 3/10 [00:33<01:13, 10.52s/ split]\n",
      "Data Split:   0%|\u001B[32m          \u001B[0m| 0/3 [00:00<?, ? split/s]\u001B[A\n",
      "Data Split:  33%|\u001B[32m███▎      \u001B[0m| 1/3 [00:05<00:10,  5.32s/ split]\u001B[A\n",
      "Data Split:  67%|\u001B[32m██████▋   \u001B[0m| 2/3 [00:06<00:02,  2.64s/ split]\u001B[A\n",
      "Data Split: 100%|\u001B[32m██████████\u001B[0m| 3/3 [00:07<00:00,  2.53s/ split]\u001B[A\n",
      "2025/02/28 21:45:54 WARNING mlflow.pytorch: Stored model version '2.0.1+cu117' does not match installed PyTorch version '2.2.2'\n",
      "2025/02/28 21:45:54 WARNING mlflow.pytorch: Stored model version '2.0.1+cu117' does not match installed PyTorch version '2.2.2'\n",
      "processing splits:  40%|████      | 4/10 [00:43<01:00, 10.06s/ split]\n",
      "Data Split:   0%|\u001B[32m          \u001B[0m| 0/3 [00:00<?, ? split/s]\u001B[A\n",
      "Data Split:  33%|\u001B[32m███▎      \u001B[0m| 1/3 [00:05<00:10,  5.35s/ split]\u001B[A\n",
      "Data Split:  67%|\u001B[32m██████▋   \u001B[0m| 2/3 [00:06<00:02,  2.65s/ split]\u001B[A\n",
      "Data Split: 100%|\u001B[32m██████████\u001B[0m| 3/3 [00:07<00:00,  2.54s/ split]\u001B[A\n",
      "2025/02/28 21:46:03 WARNING mlflow.pytorch: Stored model version '2.0.1+cu117' does not match installed PyTorch version '2.2.2'\n",
      "2025/02/28 21:46:03 WARNING mlflow.pytorch: Stored model version '2.0.1+cu117' does not match installed PyTorch version '2.2.2'\n",
      "processing splits:  50%|█████     | 5/10 [00:52<00:49,  9.83s/ split]\n",
      "Data Split:   0%|\u001B[32m          \u001B[0m| 0/3 [00:00<?, ? split/s]\u001B[A\n",
      "Data Split:  33%|\u001B[32m███▎      \u001B[0m| 1/3 [00:05<00:11,  5.78s/ split]\u001B[A\n",
      "Data Split:  67%|\u001B[32m██████▋   \u001B[0m| 2/3 [00:07<00:03,  3.56s/ split]\u001B[A\n",
      "Data Split: 100%|\u001B[32m██████████\u001B[0m| 3/3 [00:12<00:00,  4.26s/ split]\u001B[A\n",
      "2025/02/28 21:46:18 WARNING mlflow.pytorch: Stored model version '2.0.1+cu117' does not match installed PyTorch version '2.2.2'\n",
      "2025/02/28 21:46:18 WARNING mlflow.pytorch: Stored model version '2.0.1+cu117' does not match installed PyTorch version '2.2.2'\n",
      "processing splits:  60%|██████    | 6/10 [01:07<00:45, 11.44s/ split]\n",
      "Data Split:   0%|\u001B[32m          \u001B[0m| 0/3 [00:00<?, ? split/s]\u001B[A\n",
      "Data Split:  33%|\u001B[32m███▎      \u001B[0m| 1/3 [00:05<00:11,  5.57s/ split]\u001B[A\n",
      "Data Split:  67%|\u001B[32m██████▋   \u001B[0m| 2/3 [00:06<00:02,  2.79s/ split]\u001B[A\n",
      "Data Split: 100%|\u001B[32m██████████\u001B[0m| 3/3 [00:08<00:00,  2.87s/ split]\u001B[A\n",
      "2025/02/28 21:46:28 WARNING mlflow.pytorch: Stored model version '2.0.1+cu117' does not match installed PyTorch version '2.2.2'\n",
      "2025/02/28 21:46:28 WARNING mlflow.pytorch: Stored model version '2.0.1+cu117' does not match installed PyTorch version '2.2.2'\n",
      "processing splits:  70%|███████   | 7/10 [01:17<00:33, 11.10s/ split]\n",
      "Data Split:   0%|\u001B[32m          \u001B[0m| 0/3 [00:00<?, ? split/s]\u001B[A\n",
      "Data Split:  33%|\u001B[32m███▎      \u001B[0m| 1/3 [00:04<00:09,  4.63s/ split]\u001B[A\n",
      "Data Split:  67%|\u001B[32m██████▋   \u001B[0m| 2/3 [00:05<00:02,  2.32s/ split]\u001B[A\n",
      "Data Split: 100%|\u001B[32m██████████\u001B[0m| 3/3 [00:06<00:00,  2.25s/ split]\u001B[A\n",
      "2025/02/28 21:46:36 WARNING mlflow.pytorch: Stored model version '2.0.1+cu117' does not match installed PyTorch version '2.2.2'\n",
      "2025/02/28 21:46:37 WARNING mlflow.pytorch: Stored model version '2.0.1+cu117' does not match installed PyTorch version '2.2.2'\n",
      "processing splits:  80%|████████  | 8/10 [01:25<00:20, 10.27s/ split]\n",
      "Data Split:   0%|\u001B[32m          \u001B[0m| 0/3 [00:00<?, ? split/s]\u001B[A\n",
      "Data Split:  33%|\u001B[32m███▎      \u001B[0m| 1/3 [00:22<00:44, 22.18s/ split]\u001B[A\n",
      "Data Split:  67%|\u001B[32m██████▋   \u001B[0m| 2/3 [00:23<00:09,  9.61s/ split]\u001B[A\n",
      "Data Split: 100%|\u001B[32m██████████\u001B[0m| 3/3 [00:24<00:00,  8.16s/ split]\u001B[A\n",
      "2025/02/28 21:47:03 WARNING mlflow.pytorch: Stored model version '2.0.1+cu117' does not match installed PyTorch version '2.2.2'\n",
      "2025/02/28 21:47:03 WARNING mlflow.pytorch: Stored model version '2.0.1+cu117' does not match installed PyTorch version '2.2.2'\n",
      "processing splits:  90%|█████████ | 9/10 [01:52<00:15, 15.26s/ split]\n",
      "Data Split:   0%|\u001B[32m          \u001B[0m| 0/3 [00:00<?, ? split/s]\u001B[A\n",
      "Data Split:  33%|\u001B[32m███▎      \u001B[0m| 1/3 [00:04<00:09,  4.97s/ split]\u001B[A\n",
      "Data Split:  67%|\u001B[32m██████▋   \u001B[0m| 2/3 [00:05<00:02,  2.46s/ split]\u001B[A\n",
      "Data Split: 100%|\u001B[32m██████████\u001B[0m| 3/3 [00:07<00:00,  2.38s/ split]\u001B[A\n",
      "2025/02/28 21:47:12 WARNING mlflow.pytorch: Stored model version '2.0.1+cu117' does not match installed PyTorch version '2.2.2'\n",
      "2025/02/28 21:47:12 WARNING mlflow.pytorch: Stored model version '2.0.1+cu117' does not match installed PyTorch version '2.2.2'\n",
      "processing splits: 100%|██████████| 10/10 [02:01<00:00, 12.10s/ split]\n"
     ]
    }
   ],
   "execution_count": 273
  },
  {
   "metadata": {
    "ExecuteTime": {
     "end_time": "2025-03-01T05:47:13.409734Z",
     "start_time": "2025-03-01T05:47:13.406645Z"
    }
   },
   "cell_type": "code",
   "source": "ivf_cts",
   "id": "cc2c2b4064bc721e",
   "outputs": [
    {
     "data": {
      "text/plain": [
       "tensor([[177833,  42521],\n",
       "        [ 26190,   5260]])"
      ]
     },
     "execution_count": 274,
     "metadata": {},
     "output_type": "execute_result"
    }
   ],
   "execution_count": 274
  },
  {
   "metadata": {
    "ExecuteTime": {
     "end_time": "2025-03-01T05:47:13.462875Z",
     "start_time": "2025-03-01T05:47:13.460097Z"
    }
   },
   "cell_type": "code",
   "source": "nor_cts",
   "id": "179fba024eb0e5f8",
   "outputs": [
    {
     "data": {
      "text/plain": [
       "tensor([[211997,  10362],\n",
       "        [ 29224,    221]])"
      ]
     },
     "execution_count": 275,
     "metadata": {},
     "output_type": "execute_result"
    }
   ],
   "execution_count": 275
  },
  {
   "metadata": {
    "ExecuteTime": {
     "end_time": "2025-03-01T05:47:13.531876Z",
     "start_time": "2025-03-01T05:47:13.528821Z"
    }
   },
   "cell_type": "code",
   "source": "vaso_cts",
   "id": "63eef36a535de6fa",
   "outputs": [
    {
     "data": {
      "text/plain": [
       "tensor([[210522,  31822],\n",
       "        [  8612,    848]])"
      ]
     },
     "execution_count": 276,
     "metadata": {},
     "output_type": "execute_result"
    }
   ],
   "execution_count": 276
  },
  {
   "metadata": {
    "ExecuteTime": {
     "end_time": "2025-03-01T05:47:13.610879Z",
     "start_time": "2025-03-01T05:47:13.607020Z"
    }
   },
   "cell_type": "code",
   "source": [
    "from statsmodels.stats.contingency_tables import mcnemar\n",
    "ivf_mcnemar_result = mcnemar(ivf_cts.numpy(), exact=False)\n",
    "nor_mcnemar_result = mcnemar(nor_cts.numpy(), exact=False)\n",
    "vaso_mcnemar_result = mcnemar(vaso_cts.numpy(), exact=False)\n",
    "print(f'IVF McNemar: Statistic={ivf_mcnemar_result.statistic}, p-value={ivf_mcnemar_result.pvalue}')\n",
    "print(f'Norepinephrine McNemar: Statistic={nor_mcnemar_result.statistic}, p-value={nor_mcnemar_result.pvalue}')\n",
    "print(f'Vasopressin McNemar: Statistic={vaso_mcnemar_result.statistic}, p-value={vaso_mcnemar_result.pvalue}')"
   ],
   "id": "f90069d93bc66db9",
   "outputs": [
    {
     "name": "stdout",
     "output_type": "stream",
     "text": [
      "IVF McNemar: Statistic=3881.021961549097, p-value=0.0\n",
      "Norepinephrine McNemar: Statistic=8986.442707017632, p-value=0.0\n",
      "Vasopressin McNemar: Statistic=13321.89941633279, p-value=0.0\n"
     ]
    }
   ],
   "execution_count": 277
  },
  {
   "metadata": {
    "ExecuteTime": {
     "end_time": "2025-03-01T05:47:13.661891Z",
     "start_time": "2025-03-01T05:47:13.658459Z"
    }
   },
   "cell_type": "code",
   "source": "(ivf_cts[1, 0] - ivf_cts[0, 1]) ** 2 / (ivf_cts[1, 0] + ivf_cts[0, 1])",
   "id": "414e43667a187b18",
   "outputs": [
    {
     "data": {
      "text/plain": [
       "tensor(3881.4973)"
      ]
     },
     "execution_count": 278,
     "metadata": {},
     "output_type": "execute_result"
    }
   ],
   "execution_count": 278
  },
  {
   "metadata": {
    "ExecuteTime": {
     "end_time": "2025-03-01T05:47:13.687380Z",
     "start_time": "2025-03-01T05:47:13.683412Z"
    }
   },
   "cell_type": "code",
   "source": "(nor_cts[1, 0] - nor_cts[0, 1]) ** 2 / (nor_cts[1, 0] + nor_cts[0, 1])",
   "id": "d7b12aef33c5da3c",
   "outputs": [
    {
     "data": {
      "text/plain": [
       "tensor(8987.3955)"
      ]
     },
     "execution_count": 279,
     "metadata": {},
     "output_type": "execute_result"
    }
   ],
   "execution_count": 279
  },
  {
   "metadata": {
    "ExecuteTime": {
     "end_time": "2025-03-01T05:47:13.727187Z",
     "start_time": "2025-03-01T05:47:13.723368Z"
    }
   },
   "cell_type": "code",
   "source": "(vaso_cts[1, 0] - vaso_cts[0, 1]) ** 2 / (vaso_cts[1, 0] + vaso_cts[0, 1])",
   "id": "1cd7bece0e45b34c",
   "outputs": [
    {
     "data": {
      "text/plain": [
       "tensor(13323.0479)"
      ]
     },
     "execution_count": 280,
     "metadata": {},
     "output_type": "execute_result"
    }
   ],
   "execution_count": 280
  },
  {
   "metadata": {
    "ExecuteTime": {
     "end_time": "2025-03-01T04:50:41.011229Z",
     "start_time": "2025-03-01T04:50:41.009263Z"
    }
   },
   "cell_type": "code",
   "source": "",
   "id": "852933709c7b7e34",
   "outputs": [],
   "execution_count": null
  }
 ],
 "metadata": {
  "kernelspec": {
   "display_name": "Python 3",
   "language": "python",
   "name": "python3"
  },
  "language_info": {
   "codemirror_mode": {
    "name": "ipython",
    "version": 2
   },
   "file_extension": ".py",
   "mimetype": "text/x-python",
   "name": "python",
   "nbconvert_exporter": "python",
   "pygments_lexer": "ipython2",
   "version": "2.7.6"
  }
 },
 "nbformat": 4,
 "nbformat_minor": 5
}
