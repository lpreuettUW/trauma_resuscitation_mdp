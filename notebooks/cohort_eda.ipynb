{
 "cells": [
  {
   "cell_type": "code",
   "id": "initial_id",
   "metadata": {
    "collapsed": true,
    "ExecuteTime": {
     "end_time": "2025-02-07T20:38:40.678396Z",
     "start_time": "2025-02-07T20:38:40.676598Z"
    }
   },
   "source": [
    "import os\n",
    "import numpy as np\n",
    "import pandas as pd\n",
    "import seaborn as sns\n",
    "import matplotlib.pyplot as plt"
   ],
   "outputs": [],
   "execution_count": 1
  },
  {
   "metadata": {
    "ExecuteTime": {
     "end_time": "2025-02-07T20:38:40.690135Z",
     "start_time": "2025-02-07T20:38:40.687171Z"
    }
   },
   "cell_type": "code",
   "source": [
    "def filter_data(df: pd.DataFrame) -> pd.DataFrame:\n",
    "    \"\"\"\n",
    "    Filter by\n",
    "    - Require IVF_before_hr_24_no_L_cutoff >= 0.25 (i.e., 250 ml of IVF in first 24 hrs)\n",
    "    - Exclude isolated head injuries (i.e., Head AIS >= 3 and all other AIS <= 1)\n",
    "    :param df: compiled patient dataframe\n",
    "    :return: filtered patient dataframe\n",
    "    \"\"\"\n",
    "    max_ais_col_name = 'MaxNonHeadAIS'\n",
    "    df[max_ais_col_name] = df[['MaxHeadAIS', 'MaxChestAIS', 'MaxAbdAIS', 'MaxSpineAIS', 'MaxLEAIS', 'MaxUEAIS', 'MaxFaceAIS', 'MaxNeckAIS']].max(axis=1)\n",
    "    # mask = ((df['IVF_before_hr_24_no_L_cutoff'] > 0.25) | np.isclose(df['IVF_before_hr_24_no_L_cutoff'], 0.25)) & ((df['MaxHeadAIS'] < 3) | (df[max_ais_col_name] > 1)) & (df['TraumaType'].str.strip().str.lower().isin({'b', 'p'})) & ((df['InitLactate'] >= 2.0) | np.isclose(df['InitLactate'], 2.0))\n",
    "    mask = (df['InitLactate'] >= 2.0) | np.isclose(df['InitLactate'], 2.0)\n",
    "    filtered_data = df[mask]\n",
    "    df.drop(columns=[max_ais_col_name], inplace=True)\n",
    "    return filtered_data"
   ],
   "id": "b89ded70671225ae",
   "outputs": [],
   "execution_count": 2
  },
  {
   "metadata": {
    "ExecuteTime": {
     "end_time": "2025-02-07T20:38:41.127720Z",
     "start_time": "2025-02-07T20:38:40.825103Z"
    }
   },
   "cell_type": "code",
   "source": [
    "# Load the data\n",
    "compiled_patient_data_2012_2015 = pd.read_csv('<path_to_dataset>/2012-2015_compiled_patient_data_with_cohorts_no_L_required_new_IVF_EarlyLateBolus.csv')\n",
    "orig_num_patients = compiled_patient_data_2012_2015.shape[0]\n",
    "compiled_patient_data_2012_2015 = filter_data(compiled_patient_data_2012_2015)\n",
    "print(f'Original number of patients: {orig_num_patients} Filtered number of patients: {compiled_patient_data_2012_2015.shape[0]} Number of patients removed: {orig_num_patients - compiled_patient_data_2012_2015.shape[0]}')\n",
    "compiled_patient_data_2012_2015.head()"
   ],
   "id": "72abb209a1815b8",
   "outputs": [
    {
     "name": "stdout",
     "output_type": "stream",
     "text": [
      "Original number of patients: 4746 Filtered number of patients: 1923 Number of patients removed: 2823\n"
     ]
    },
    {
     "name": "stderr",
     "output_type": "stream",
     "text": [
      "/var/folders/vf/695131157rl2pvb9_s5zykbh0000gn/T/ipykernel_55698/4165698819.py:2: DtypeWarning: Columns (1,2,133) have mixed types. Specify dtype option on import or set low_memory=False.\n",
      "  compiled_patient_data_2012_2015 = pd.read_csv('/Users/larry/Documents/UWT/Thesis Work/rec_sys/datasets/trauma_icu_resuscitation/2012-2015_compiled_patient_data_with_cohorts_no_L_required_new_IVF_EarlyLateBolus.csv')\n"
     ]
    },
    {
     "data": {
      "text/plain": [
       "   StudyID Height Weight   BMI  Age         Sex  Male  CHF  COPD  HTN  ...  \\\n",
       "1    18608  175.3   79.5  26.0   86  M              1    0     0    1  ...   \n",
       "3    19690  165.0   43.6  16.0   64  M              1    0     0    0  ...   \n",
       "4    20636  185.0   85.0  25.0   45  M              1    0     0    0  ...   \n",
       "6    20214  177.0  105.0  33.0   67  M              1    0     0    0  ...   \n",
       "7    17673  174.0  102.0  34.0   42  M              1    0     0    0  ...   \n",
       "\n",
       "   Hours_to_death_from_admit  Death_after_48_hrs  Death_by_3_hrs  \\\n",
       "1                        NaN                 NaN             NaN   \n",
       "3                     186.77                 1.0             0.0   \n",
       "4                        NaN                 NaN             NaN   \n",
       "6                        NaN                 NaN             NaN   \n",
       "7                        NaN                 NaN             NaN   \n",
       "\n",
       "   Death_by_24_hrs  Death_by_48_hrs  EarlyBolus_NEW  \\\n",
       "1              NaN              NaN               1   \n",
       "3              0.0              0.0               1   \n",
       "4              NaN              NaN               0   \n",
       "6              NaN              NaN               0   \n",
       "7              NaN              NaN               1   \n",
       "\n",
       "   Num_0.5L_boluses_after_hr_6_before_hr_48_no_L_cutoff  LateBolus_NEW  \\\n",
       "1                                                2.0                 1   \n",
       "3                                                0.0                 0   \n",
       "4                                                0.0                 0   \n",
       "6                                                0.0                 0   \n",
       "7                                                0.0                 0   \n",
       "\n",
       "   EarlyLateBolus_NEW  MaxNonHeadAIS  \n",
       "1                   3              0  \n",
       "3                   1              5  \n",
       "4                   0              3  \n",
       "6                   0              3  \n",
       "7                   1              0  \n",
       "\n",
       "[5 rows x 305 columns]"
      ],
      "text/html": [
       "<div>\n",
       "<style scoped>\n",
       "    .dataframe tbody tr th:only-of-type {\n",
       "        vertical-align: middle;\n",
       "    }\n",
       "\n",
       "    .dataframe tbody tr th {\n",
       "        vertical-align: top;\n",
       "    }\n",
       "\n",
       "    .dataframe thead th {\n",
       "        text-align: right;\n",
       "    }\n",
       "</style>\n",
       "<table border=\"1\" class=\"dataframe\">\n",
       "  <thead>\n",
       "    <tr style=\"text-align: right;\">\n",
       "      <th></th>\n",
       "      <th>StudyID</th>\n",
       "      <th>Height</th>\n",
       "      <th>Weight</th>\n",
       "      <th>BMI</th>\n",
       "      <th>Age</th>\n",
       "      <th>Sex</th>\n",
       "      <th>Male</th>\n",
       "      <th>CHF</th>\n",
       "      <th>COPD</th>\n",
       "      <th>HTN</th>\n",
       "      <th>...</th>\n",
       "      <th>Hours_to_death_from_admit</th>\n",
       "      <th>Death_after_48_hrs</th>\n",
       "      <th>Death_by_3_hrs</th>\n",
       "      <th>Death_by_24_hrs</th>\n",
       "      <th>Death_by_48_hrs</th>\n",
       "      <th>EarlyBolus_NEW</th>\n",
       "      <th>Num_0.5L_boluses_after_hr_6_before_hr_48_no_L_cutoff</th>\n",
       "      <th>LateBolus_NEW</th>\n",
       "      <th>EarlyLateBolus_NEW</th>\n",
       "      <th>MaxNonHeadAIS</th>\n",
       "    </tr>\n",
       "  </thead>\n",
       "  <tbody>\n",
       "    <tr>\n",
       "      <th>1</th>\n",
       "      <td>18608</td>\n",
       "      <td>175.3</td>\n",
       "      <td>79.5</td>\n",
       "      <td>26.0</td>\n",
       "      <td>86</td>\n",
       "      <td>M</td>\n",
       "      <td>1</td>\n",
       "      <td>0</td>\n",
       "      <td>0</td>\n",
       "      <td>1</td>\n",
       "      <td>...</td>\n",
       "      <td>NaN</td>\n",
       "      <td>NaN</td>\n",
       "      <td>NaN</td>\n",
       "      <td>NaN</td>\n",
       "      <td>NaN</td>\n",
       "      <td>1</td>\n",
       "      <td>2.0</td>\n",
       "      <td>1</td>\n",
       "      <td>3</td>\n",
       "      <td>0</td>\n",
       "    </tr>\n",
       "    <tr>\n",
       "      <th>3</th>\n",
       "      <td>19690</td>\n",
       "      <td>165.0</td>\n",
       "      <td>43.6</td>\n",
       "      <td>16.0</td>\n",
       "      <td>64</td>\n",
       "      <td>M</td>\n",
       "      <td>1</td>\n",
       "      <td>0</td>\n",
       "      <td>0</td>\n",
       "      <td>0</td>\n",
       "      <td>...</td>\n",
       "      <td>186.77</td>\n",
       "      <td>1.0</td>\n",
       "      <td>0.0</td>\n",
       "      <td>0.0</td>\n",
       "      <td>0.0</td>\n",
       "      <td>1</td>\n",
       "      <td>0.0</td>\n",
       "      <td>0</td>\n",
       "      <td>1</td>\n",
       "      <td>5</td>\n",
       "    </tr>\n",
       "    <tr>\n",
       "      <th>4</th>\n",
       "      <td>20636</td>\n",
       "      <td>185.0</td>\n",
       "      <td>85.0</td>\n",
       "      <td>25.0</td>\n",
       "      <td>45</td>\n",
       "      <td>M</td>\n",
       "      <td>1</td>\n",
       "      <td>0</td>\n",
       "      <td>0</td>\n",
       "      <td>0</td>\n",
       "      <td>...</td>\n",
       "      <td>NaN</td>\n",
       "      <td>NaN</td>\n",
       "      <td>NaN</td>\n",
       "      <td>NaN</td>\n",
       "      <td>NaN</td>\n",
       "      <td>0</td>\n",
       "      <td>0.0</td>\n",
       "      <td>0</td>\n",
       "      <td>0</td>\n",
       "      <td>3</td>\n",
       "    </tr>\n",
       "    <tr>\n",
       "      <th>6</th>\n",
       "      <td>20214</td>\n",
       "      <td>177.0</td>\n",
       "      <td>105.0</td>\n",
       "      <td>33.0</td>\n",
       "      <td>67</td>\n",
       "      <td>M</td>\n",
       "      <td>1</td>\n",
       "      <td>0</td>\n",
       "      <td>0</td>\n",
       "      <td>0</td>\n",
       "      <td>...</td>\n",
       "      <td>NaN</td>\n",
       "      <td>NaN</td>\n",
       "      <td>NaN</td>\n",
       "      <td>NaN</td>\n",
       "      <td>NaN</td>\n",
       "      <td>0</td>\n",
       "      <td>0.0</td>\n",
       "      <td>0</td>\n",
       "      <td>0</td>\n",
       "      <td>3</td>\n",
       "    </tr>\n",
       "    <tr>\n",
       "      <th>7</th>\n",
       "      <td>17673</td>\n",
       "      <td>174.0</td>\n",
       "      <td>102.0</td>\n",
       "      <td>34.0</td>\n",
       "      <td>42</td>\n",
       "      <td>M</td>\n",
       "      <td>1</td>\n",
       "      <td>0</td>\n",
       "      <td>0</td>\n",
       "      <td>0</td>\n",
       "      <td>...</td>\n",
       "      <td>NaN</td>\n",
       "      <td>NaN</td>\n",
       "      <td>NaN</td>\n",
       "      <td>NaN</td>\n",
       "      <td>NaN</td>\n",
       "      <td>1</td>\n",
       "      <td>0.0</td>\n",
       "      <td>0</td>\n",
       "      <td>1</td>\n",
       "      <td>0</td>\n",
       "    </tr>\n",
       "  </tbody>\n",
       "</table>\n",
       "<p>5 rows × 305 columns</p>\n",
       "</div>"
      ]
     },
     "execution_count": 3,
     "metadata": {},
     "output_type": "execute_result"
    }
   ],
   "execution_count": 3
  },
  {
   "metadata": {
    "ExecuteTime": {
     "end_time": "2025-02-07T20:38:41.501940Z",
     "start_time": "2025-02-07T20:38:41.150086Z"
    }
   },
   "cell_type": "code",
   "source": [
    "compiled_patient_data_2016_2019 = pd.read_csv('<path_to_dataset>/2016-2019_compiled_patient_data_with_cohorts_no_L_required_new_IVF_EarlyLateBolus.csv')\n",
    "compiled_patient_data_2016_2019['StudyID'] = compiled_patient_data_2016_2019['StudyID'].astype(int)\n",
    "orig_num_patients = compiled_patient_data_2016_2019.shape[0]\n",
    "compiled_patient_data_2016_2019 = filter_data(compiled_patient_data_2016_2019)\n",
    "print(f'Original number of patients: {orig_num_patients} Filtered number of patients: {compiled_patient_data_2016_2019.shape[0]} Number of patients removed: {orig_num_patients - compiled_patient_data_2016_2019.shape[0]}')\n",
    "compiled_patient_data_2016_2019.head()"
   ],
   "id": "c75c9c5730ff8daf",
   "outputs": [
    {
     "name": "stdout",
     "output_type": "stream",
     "text": [
      "Original number of patients: 6201 Filtered number of patients: 2382 Number of patients removed: 3819\n"
     ]
    },
    {
     "data": {
      "text/plain": [
       "    StudyID            AdmitDtTm Height Weight   BMI  Age         Sex  Male  \\\n",
       "3         8  2016-01-01 19:38:00    177     75  24.0   68  M              1   \n",
       "9        18  2016-01-03 23:57:00    170     78  27.0   34  F              0   \n",
       "11       21  2016-01-04 11:42:00    185     80  23.0   54  M              1   \n",
       "15       29  2016-01-05 10:34:00    184     74  22.0   24  M              1   \n",
       "16       30  2016-01-05 12:28:00    170     48  17.0   21  M              1   \n",
       "\n",
       "    CHF  COPD  ...  Hours_to_death_from_admit  Death_after_48_hrs  \\\n",
       "3     0     0  ...                        NaN                 NaN   \n",
       "9     0     0  ...                        NaN                 NaN   \n",
       "11    0     0  ...                        NaN                 NaN   \n",
       "15    0     0  ...                        NaN                 NaN   \n",
       "16    0     0  ...                        NaN                 NaN   \n",
       "\n",
       "    Death_by_3_hrs  Death_by_24_hrs  Death_by_48_hrs  EarlyBolus_NEW  \\\n",
       "3              NaN              NaN              NaN               1   \n",
       "9              NaN              NaN              NaN               0   \n",
       "11             NaN              NaN              NaN               1   \n",
       "15             NaN              NaN              NaN               0   \n",
       "16             NaN              NaN              NaN               1   \n",
       "\n",
       "    Num_0.5L_boluses_after_hr_6_before_hr_48_no_L_cutoff  LateBolus_NEW  \\\n",
       "3                                                12.0                 1   \n",
       "9                                                 0.0                 0   \n",
       "11                                                2.0                 1   \n",
       "15                                                0.0                 0   \n",
       "16                                                8.0                 1   \n",
       "\n",
       "    EarlyLateBolus_NEW  MaxNonHeadAIS  \n",
       "3                    3              4  \n",
       "9                    0              2  \n",
       "11                   3              3  \n",
       "15                   0              4  \n",
       "16                   3              4  \n",
       "\n",
       "[5 rows x 310 columns]"
      ],
      "text/html": [
       "<div>\n",
       "<style scoped>\n",
       "    .dataframe tbody tr th:only-of-type {\n",
       "        vertical-align: middle;\n",
       "    }\n",
       "\n",
       "    .dataframe tbody tr th {\n",
       "        vertical-align: top;\n",
       "    }\n",
       "\n",
       "    .dataframe thead th {\n",
       "        text-align: right;\n",
       "    }\n",
       "</style>\n",
       "<table border=\"1\" class=\"dataframe\">\n",
       "  <thead>\n",
       "    <tr style=\"text-align: right;\">\n",
       "      <th></th>\n",
       "      <th>StudyID</th>\n",
       "      <th>AdmitDtTm</th>\n",
       "      <th>Height</th>\n",
       "      <th>Weight</th>\n",
       "      <th>BMI</th>\n",
       "      <th>Age</th>\n",
       "      <th>Sex</th>\n",
       "      <th>Male</th>\n",
       "      <th>CHF</th>\n",
       "      <th>COPD</th>\n",
       "      <th>...</th>\n",
       "      <th>Hours_to_death_from_admit</th>\n",
       "      <th>Death_after_48_hrs</th>\n",
       "      <th>Death_by_3_hrs</th>\n",
       "      <th>Death_by_24_hrs</th>\n",
       "      <th>Death_by_48_hrs</th>\n",
       "      <th>EarlyBolus_NEW</th>\n",
       "      <th>Num_0.5L_boluses_after_hr_6_before_hr_48_no_L_cutoff</th>\n",
       "      <th>LateBolus_NEW</th>\n",
       "      <th>EarlyLateBolus_NEW</th>\n",
       "      <th>MaxNonHeadAIS</th>\n",
       "    </tr>\n",
       "  </thead>\n",
       "  <tbody>\n",
       "    <tr>\n",
       "      <th>3</th>\n",
       "      <td>8</td>\n",
       "      <td>2016-01-01 19:38:00</td>\n",
       "      <td>177</td>\n",
       "      <td>75</td>\n",
       "      <td>24.0</td>\n",
       "      <td>68</td>\n",
       "      <td>M</td>\n",
       "      <td>1</td>\n",
       "      <td>0</td>\n",
       "      <td>0</td>\n",
       "      <td>...</td>\n",
       "      <td>NaN</td>\n",
       "      <td>NaN</td>\n",
       "      <td>NaN</td>\n",
       "      <td>NaN</td>\n",
       "      <td>NaN</td>\n",
       "      <td>1</td>\n",
       "      <td>12.0</td>\n",
       "      <td>1</td>\n",
       "      <td>3</td>\n",
       "      <td>4</td>\n",
       "    </tr>\n",
       "    <tr>\n",
       "      <th>9</th>\n",
       "      <td>18</td>\n",
       "      <td>2016-01-03 23:57:00</td>\n",
       "      <td>170</td>\n",
       "      <td>78</td>\n",
       "      <td>27.0</td>\n",
       "      <td>34</td>\n",
       "      <td>F</td>\n",
       "      <td>0</td>\n",
       "      <td>0</td>\n",
       "      <td>0</td>\n",
       "      <td>...</td>\n",
       "      <td>NaN</td>\n",
       "      <td>NaN</td>\n",
       "      <td>NaN</td>\n",
       "      <td>NaN</td>\n",
       "      <td>NaN</td>\n",
       "      <td>0</td>\n",
       "      <td>0.0</td>\n",
       "      <td>0</td>\n",
       "      <td>0</td>\n",
       "      <td>2</td>\n",
       "    </tr>\n",
       "    <tr>\n",
       "      <th>11</th>\n",
       "      <td>21</td>\n",
       "      <td>2016-01-04 11:42:00</td>\n",
       "      <td>185</td>\n",
       "      <td>80</td>\n",
       "      <td>23.0</td>\n",
       "      <td>54</td>\n",
       "      <td>M</td>\n",
       "      <td>1</td>\n",
       "      <td>0</td>\n",
       "      <td>0</td>\n",
       "      <td>...</td>\n",
       "      <td>NaN</td>\n",
       "      <td>NaN</td>\n",
       "      <td>NaN</td>\n",
       "      <td>NaN</td>\n",
       "      <td>NaN</td>\n",
       "      <td>1</td>\n",
       "      <td>2.0</td>\n",
       "      <td>1</td>\n",
       "      <td>3</td>\n",
       "      <td>3</td>\n",
       "    </tr>\n",
       "    <tr>\n",
       "      <th>15</th>\n",
       "      <td>29</td>\n",
       "      <td>2016-01-05 10:34:00</td>\n",
       "      <td>184</td>\n",
       "      <td>74</td>\n",
       "      <td>22.0</td>\n",
       "      <td>24</td>\n",
       "      <td>M</td>\n",
       "      <td>1</td>\n",
       "      <td>0</td>\n",
       "      <td>0</td>\n",
       "      <td>...</td>\n",
       "      <td>NaN</td>\n",
       "      <td>NaN</td>\n",
       "      <td>NaN</td>\n",
       "      <td>NaN</td>\n",
       "      <td>NaN</td>\n",
       "      <td>0</td>\n",
       "      <td>0.0</td>\n",
       "      <td>0</td>\n",
       "      <td>0</td>\n",
       "      <td>4</td>\n",
       "    </tr>\n",
       "    <tr>\n",
       "      <th>16</th>\n",
       "      <td>30</td>\n",
       "      <td>2016-01-05 12:28:00</td>\n",
       "      <td>170</td>\n",
       "      <td>48</td>\n",
       "      <td>17.0</td>\n",
       "      <td>21</td>\n",
       "      <td>M</td>\n",
       "      <td>1</td>\n",
       "      <td>0</td>\n",
       "      <td>0</td>\n",
       "      <td>...</td>\n",
       "      <td>NaN</td>\n",
       "      <td>NaN</td>\n",
       "      <td>NaN</td>\n",
       "      <td>NaN</td>\n",
       "      <td>NaN</td>\n",
       "      <td>1</td>\n",
       "      <td>8.0</td>\n",
       "      <td>1</td>\n",
       "      <td>3</td>\n",
       "      <td>4</td>\n",
       "    </tr>\n",
       "  </tbody>\n",
       "</table>\n",
       "<p>5 rows × 310 columns</p>\n",
       "</div>"
      ]
     },
     "execution_count": 4,
     "metadata": {},
     "output_type": "execute_result"
    }
   ],
   "execution_count": 4
  },
  {
   "metadata": {
    "ExecuteTime": {
     "end_time": "2025-02-07T20:38:41.551502Z",
     "start_time": "2025-02-07T20:38:41.549187Z"
    }
   },
   "cell_type": "code",
   "source": "print([s for s in compiled_patient_data_2012_2015.columns if 'ICU' in s and 'lactate' in s.lower()])",
   "id": "20742d26b806561d",
   "outputs": [
    {
     "name": "stdout",
     "output_type": "stream",
     "text": [
      "['Hours_from_ICU_to_lactate2', 'Hours_from_initial_lactate_to_ICU', 'lactate_value_ICU', 'lactate_DtTm_ICU', 'lactate_hrs_btwn_ICU', 'lactate_value_ICU_48', 'lactate_DtTm_ICU_48', 'lactate_hrs_btwn_ICU_48']\n"
     ]
    }
   ],
   "execution_count": 5
  },
  {
   "metadata": {
    "ExecuteTime": {
     "end_time": "2025-02-07T20:38:41.637211Z",
     "start_time": "2025-02-07T20:38:41.634364Z"
    }
   },
   "cell_type": "code",
   "source": "print([s for s in compiled_patient_data_2016_2019.columns if 'ICU' in s and 'lactate' in s.lower()])",
   "id": "fccb9baf4d9c71bd",
   "outputs": [
    {
     "name": "stdout",
     "output_type": "stream",
     "text": [
      "['Hours_from_ICU_to_lactate2', 'Hours_from_initial_lactate_to_ICU', 'lactate_value_ICU', 'lactate_DtTm_ICU', 'lactate_hrs_btwn_ICU', 'lactate_value_ICU_48', 'lactate_DtTm_ICU_48', 'lactate_hrs_btwn_ICU_48']\n"
     ]
    }
   ],
   "execution_count": 6
  },
  {
   "metadata": {
    "ExecuteTime": {
     "end_time": "2025-02-07T20:38:42.173420Z",
     "start_time": "2025-02-07T20:38:41.714422Z"
    }
   },
   "cell_type": "code",
   "source": [
    "t = pd.concat([compiled_patient_data_2012_2015['lactate_value_ICU'], compiled_patient_data_2016_2019['lactate_value_ICU']])\n",
    "print(t.describe())\n",
    "ax = t.plot.box()\n",
    "ax.set_title('Lactate Value ICU')\n",
    "del t"
   ],
   "id": "42e3cda5e7a41154",
   "outputs": [
    {
     "name": "stdout",
     "output_type": "stream",
     "text": [
      "count    4305.000000\n",
      "mean        3.346132\n",
      "std         2.220582\n",
      "min         0.500000\n",
      "25%         2.100000\n",
      "50%         2.900000\n",
      "75%         3.900000\n",
      "max        29.000000\n",
      "Name: lactate_value_ICU, dtype: float64\n"
     ]
    },
    {
     "data": {
      "text/plain": [
       "<Figure size 640x480 with 1 Axes>"
      ],
      "image/png": "[encoded data removed]"
     },
     "metadata": {},
     "output_type": "display_data"
    }
   ],
   "execution_count": 7
  },
  {
   "metadata": {
    "ExecuteTime": {
     "end_time": "2025-02-07T20:38:42.236409Z",
     "start_time": "2025-02-07T20:38:42.229282Z"
    }
   },
   "cell_type": "code",
   "source": "compiled_patient_data_2016_2019[compiled_patient_data_2016_2019['StudyID'] == 1600]",
   "id": "c21aedeefed43b06",
   "outputs": [
    {
     "data": {
      "text/plain": [
       "Empty DataFrame\n",
       "Columns: [StudyID, AdmitDtTm, Height, Weight, BMI, Age, Sex, Male, CHF, COPD, HTN, Diabetes, Pregancy, Smoker, Obesity, Coagulopathy, Ascites, Varices, EtOH_Use, Substance_Use, Steroids, Dementia, Psych, Dependent, CVA, Cirrhosis, Race, Transfer, ER_Dispo, Dispo_pattern, TraumaType, Penetrating, InjuryMechanism, ISS, MaxHeadAIS, MaxFaceAIS, MaxNeckAIS, MaxChestAIS, MaxAbdAIS, MaxSpineAIS, MaxUEAIS, MaxLEAIS, MaxExtAIS, ExLap, MTP, InitLactate, InitLactateDtTm, ICU_AdmitDtTm, Lactate2DtTm, Hours_from_initial_lactate_to_lactate2, Hours_from_ICU_to_lactate2, Hours_from_initial_lactate_to_ICU, Hosp_LOS, ICU_LOS, VentDays, Deceased, CauseOfDeath, Hours_to_death, DischargeDtTm, Cohort, EarlyDeath, HeadAIS, FaceAIS, NeckAIS, ChestAIS, AbdAIS, SpineAIS, UEAIS, LEAIS, ExtAIS, OR_returns, OR_return_reason, OR_return_hour_from_ICU, BUN_value_ICU, BUN_DtTm_ICU, BUN_hrs_btwn_ICU, BUN_value_lactate2, BUN_DtTm_lactate2, BUN_hrs_btwn_lactate2, BUN_value_ICU_48, BUN_DtTm_ICU_48, BUN_hrs_btwn_ICU_48, Creatinine_value_ICU, Creatinine_DtTm_ICU, Creatinine_hrs_btwn_ICU, Creatinine_value_lactate2, Creatinine_DtTm_lactate2, Creatinine_hrs_btwn_lactate2, Creatinine_value_ICU_48, Creatinine_DtTm_ICU_48, Creatinine_hrs_btwn_ICU_48, INR_value_ICU, INR_DtTm_ICU, INR_hrs_btwn_ICU, INR_value_lactate2, INR_DtTm_lactate2, INR_hrs_btwn_lactate2, INR_value_ICU_48, INR_DtTm_ICU_48, INR_hrs_btwn_ICU_48, ...]\n",
       "Index: []\n",
       "\n",
       "[0 rows x 310 columns]"
      ],
      "text/html": [
       "<div>\n",
       "<style scoped>\n",
       "    .dataframe tbody tr th:only-of-type {\n",
       "        vertical-align: middle;\n",
       "    }\n",
       "\n",
       "    .dataframe tbody tr th {\n",
       "        vertical-align: top;\n",
       "    }\n",
       "\n",
       "    .dataframe thead th {\n",
       "        text-align: right;\n",
       "    }\n",
       "</style>\n",
       "<table border=\"1\" class=\"dataframe\">\n",
       "  <thead>\n",
       "    <tr style=\"text-align: right;\">\n",
       "      <th></th>\n",
       "      <th>StudyID</th>\n",
       "      <th>AdmitDtTm</th>\n",
       "      <th>Height</th>\n",
       "      <th>Weight</th>\n",
       "      <th>BMI</th>\n",
       "      <th>Age</th>\n",
       "      <th>Sex</th>\n",
       "      <th>Male</th>\n",
       "      <th>CHF</th>\n",
       "      <th>COPD</th>\n",
       "      <th>...</th>\n",
       "      <th>Hours_to_death_from_admit</th>\n",
       "      <th>Death_after_48_hrs</th>\n",
       "      <th>Death_by_3_hrs</th>\n",
       "      <th>Death_by_24_hrs</th>\n",
       "      <th>Death_by_48_hrs</th>\n",
       "      <th>EarlyBolus_NEW</th>\n",
       "      <th>Num_0.5L_boluses_after_hr_6_before_hr_48_no_L_cutoff</th>\n",
       "      <th>LateBolus_NEW</th>\n",
       "      <th>EarlyLateBolus_NEW</th>\n",
       "      <th>MaxNonHeadAIS</th>\n",
       "    </tr>\n",
       "  </thead>\n",
       "  <tbody>\n",
       "  </tbody>\n",
       "</table>\n",
       "<p>0 rows × 310 columns</p>\n",
       "</div>"
      ]
     },
     "execution_count": 8,
     "metadata": {},
     "output_type": "execute_result"
    }
   ],
   "execution_count": 8
  },
  {
   "metadata": {
    "ExecuteTime": {
     "end_time": "2025-02-07T20:38:42.271116Z",
     "start_time": "2025-02-07T20:38:42.267089Z"
    }
   },
   "cell_type": "code",
   "source": "compiled_patient_data_2016_2019[compiled_patient_data_2016_2019['BMI'] > 300]['Height']",
   "id": "f9e3969e9130024",
   "outputs": [
    {
     "data": {
      "text/plain": [
       "3486    78\n",
       "Name: Height, dtype: object"
      ]
     },
     "execution_count": 9,
     "metadata": {},
     "output_type": "execute_result"
    }
   ],
   "execution_count": 9
  },
  {
   "metadata": {
    "ExecuteTime": {
     "end_time": "2025-02-07T20:38:42.573281Z",
     "start_time": "2025-02-07T20:38:42.568769Z"
    }
   },
   "cell_type": "code",
   "source": [
    "compiled_patient_data_2012_2015['Weight'] = pd.to_numeric(compiled_patient_data_2012_2015['Weight'], errors='coerce')\n",
    "compiled_patient_data_2012_2015[compiled_patient_data_2012_2015['Weight'] < 9.0]['Age']"
   ],
   "id": "32c9fa258d016022",
   "outputs": [
    {
     "data": {
      "text/plain": [
       "3898    33\n",
       "Name: Age, dtype: int64"
      ]
     },
     "execution_count": 10,
     "metadata": {},
     "output_type": "execute_result"
    }
   ],
   "execution_count": 10
  },
  {
   "metadata": {
    "ExecuteTime": {
     "end_time": "2025-02-07T20:38:42.866125Z",
     "start_time": "2025-02-07T20:38:42.812427Z"
    }
   },
   "cell_type": "code",
   "source": [
    "compiled_patient_data_2012_2015['Height'] = pd.to_numeric(compiled_patient_data_2012_2015['Height'], errors='coerce')\n",
    "compiled_patient_data_2012_2015['Height'].plot.box()"
   ],
   "id": "9e9392fefb329454",
   "outputs": [
    {
     "data": {
      "text/plain": [
       "<Axes: >"
      ]
     },
     "execution_count": 11,
     "metadata": {},
     "output_type": "execute_result"
    },
    {
     "data": {
      "text/plain": [
       "<Figure size 640x480 with 1 Axes>"
      ],
      "image/png": "[encoded data removed]"
     },
     "metadata": {},
     "output_type": "display_data"
    }
   ],
   "execution_count": 11
  },
  {
   "metadata": {
    "ExecuteTime": {
     "end_time": "2025-02-07T20:38:42.958500Z",
     "start_time": "2025-02-07T20:38:42.898654Z"
    }
   },
   "cell_type": "code",
   "source": [
    "compiled_patient_data_2016_2019['Height'] = pd.to_numeric(compiled_patient_data_2016_2019['Height'], errors='coerce')\n",
    "compiled_patient_data_2016_2019['Height'].plot.box()"
   ],
   "id": "1d184ff8e1344c1d",
   "outputs": [
    {
     "data": {
      "text/plain": [
       "<Axes: >"
      ]
     },
     "execution_count": 12,
     "metadata": {},
     "output_type": "execute_result"
    },
    {
     "data": {
      "text/plain": [
       "<Figure size 640x480 with 1 Axes>"
      ],
      "image/png": "[encoded data removed]"
     },
     "metadata": {},
     "output_type": "display_data"
    }
   ],
   "execution_count": 12
  },
  {
   "metadata": {
    "ExecuteTime": {
     "end_time": "2025-02-07T20:38:43.047254Z",
     "start_time": "2025-02-07T20:38:42.985771Z"
    }
   },
   "cell_type": "code",
   "source": [
    "compiled_patient_data_2012_2015['Weight'] = pd.to_numeric(compiled_patient_data_2012_2015['Weight'], errors='coerce')\n",
    "compiled_patient_data_2012_2015['Weight'].plot.box()"
   ],
   "id": "a830c77a05dcf96b",
   "outputs": [
    {
     "data": {
      "text/plain": [
       "<Axes: >"
      ]
     },
     "execution_count": 13,
     "metadata": {},
     "output_type": "execute_result"
    },
    {
     "data": {
      "text/plain": [
       "<Figure size 640x480 with 1 Axes>"
      ],
      "image/png": "[encoded data removed]"
     },
     "metadata": {},
     "output_type": "display_data"
    }
   ],
   "execution_count": 13
  },
  {
   "metadata": {
    "ExecuteTime": {
     "end_time": "2025-02-07T20:38:43.104419Z",
     "start_time": "2025-02-07T20:38:43.057105Z"
    }
   },
   "cell_type": "code",
   "source": [
    "compiled_patient_data_2016_2019['Weight'] = pd.to_numeric(compiled_patient_data_2016_2019['Weight'], errors='coerce')\n",
    "compiled_patient_data_2016_2019['Weight'].plot.box()"
   ],
   "id": "4b12eeb9e1d4d129",
   "outputs": [
    {
     "data": {
      "text/plain": [
       "<Axes: >"
      ]
     },
     "execution_count": 14,
     "metadata": {},
     "output_type": "execute_result"
    },
    {
     "data": {
      "text/plain": [
       "<Figure size 640x480 with 1 Axes>"
      ],
      "image/png": "[encoded data removed]"
     },
     "metadata": {},
     "output_type": "display_data"
    }
   ],
   "execution_count": 14
  },
  {
   "metadata": {
    "ExecuteTime": {
     "end_time": "2025-02-07T20:38:43.152349Z",
     "start_time": "2025-02-07T20:38:43.140448Z"
    }
   },
   "cell_type": "code",
   "source": [
    "#compiled_patient_data_2016_2019# 2012-2015\n",
    "filtered_patient_data_2012_2015 = compiled_patient_data_2012_2015\n",
    "filter_columns = ['StudyID', 'AdmitDtTm', 'BMI', 'Age', 'Sex', 'Obesity', 'Diabetes', 'Smoker', 'Transfer', 'RBC_pre_ICU', 'FFP_pre_ICU', \n",
    "                  'PLT_pre_ICU', 'Weight', 'Height',\n",
    "                  'TraumaType', 'MaxHeadAIS', 'MaxChestAIS', 'MaxAbdAIS', 'MaxSpineAIS', 'MaxLEAIS',\n",
    "                  'InitLactate', 'InitLactateDtTm', 'ICU_AdmitDtTm', 'lactate_value_ICU',\n",
    "                  'Deceased', 'CauseOfDeath', 'VentFreeDays']\n",
    "rename_columns = {}\n",
    "filtered_patient_data_2012_2015 = filtered_patient_data_2012_2015[filter_columns]\n",
    "filtered_patient_data_2012_2015 = filtered_patient_data_2012_2015.rename(columns=rename_columns)\n",
    "filtered_patient_data_2012_2015.head()"
   ],
   "id": "7a33411b5010df71",
   "outputs": [
    {
     "data": {
      "text/plain": [
       "   StudyID            AdmitDtTm   BMI  Age         Sex  Obesity  Diabetes  \\\n",
       "1    18608  2013-01-21 13:22:00  26.0   86  M                 0         0   \n",
       "3    19690  2013-06-26 16:20:00  16.0   64  M                 0         0   \n",
       "4    20636  2013-10-30 12:17:00  25.0   45  M                 0         0   \n",
       "6    20214  2013-08-28 10:49:00  33.0   67  M                 0         0   \n",
       "7    17673  2012-08-28 21:23:00  34.0   42  M                 1         1   \n",
       "\n",
       "   Smoker  Transfer  RBC_pre_ICU  ...  MaxAbdAIS  MaxSpineAIS  MaxLEAIS  \\\n",
       "1       0         0          1.0  ...          0            0         0   \n",
       "3       1         0          3.0  ...          0            0         3   \n",
       "4       0         0          0.0  ...          3            0         0   \n",
       "6       0         0          0.0  ...          0            0         0   \n",
       "7       0         0          0.0  ...          0            0         0   \n",
       "\n",
       "   InitLactate      InitLactateDtTm        ICU_AdmitDtTm  lactate_value_ICU  \\\n",
       "1          9.4  2013-01-21 13:50:00  2013-01-21 15:46:00                9.4   \n",
       "3          2.6  2013-06-26 18:11:00  2013-06-26 20:44:00                2.8   \n",
       "4          3.1  2013-10-30 12:15:00  2013-10-30 13:47:00                1.7   \n",
       "6          2.9  2013-08-28 10:58:00  2013-08-28 16:17:00                2.9   \n",
       "7          3.0  2012-08-28 21:59:00  2012-08-29 02:04:00                2.5   \n",
       "\n",
       "   Deceased           CauseOfDeath  VentFreeDays  \n",
       "1         0                    NaN            28  \n",
       "3         1  Resp failure, 2/2/TBI             0  \n",
       "4         0                    NaN            26  \n",
       "6         0                    NaN            28  \n",
       "7         0                    NaN            26  \n",
       "\n",
       "[5 rows x 27 columns]"
      ],
      "text/html": [
       "<div>\n",
       "<style scoped>\n",
       "    .dataframe tbody tr th:only-of-type {\n",
       "        vertical-align: middle;\n",
       "    }\n",
       "\n",
       "    .dataframe tbody tr th {\n",
       "        vertical-align: top;\n",
       "    }\n",
       "\n",
       "    .dataframe thead th {\n",
       "        text-align: right;\n",
       "    }\n",
       "</style>\n",
       "<table border=\"1\" class=\"dataframe\">\n",
       "  <thead>\n",
       "    <tr style=\"text-align: right;\">\n",
       "      <th></th>\n",
       "      <th>StudyID</th>\n",
       "      <th>AdmitDtTm</th>\n",
       "      <th>BMI</th>\n",
       "      <th>Age</th>\n",
       "      <th>Sex</th>\n",
       "      <th>Obesity</th>\n",
       "      <th>Diabetes</th>\n",
       "      <th>Smoker</th>\n",
       "      <th>Transfer</th>\n",
       "      <th>RBC_pre_ICU</th>\n",
       "      <th>...</th>\n",
       "      <th>MaxAbdAIS</th>\n",
       "      <th>MaxSpineAIS</th>\n",
       "      <th>MaxLEAIS</th>\n",
       "      <th>InitLactate</th>\n",
       "      <th>InitLactateDtTm</th>\n",
       "      <th>ICU_AdmitDtTm</th>\n",
       "      <th>lactate_value_ICU</th>\n",
       "      <th>Deceased</th>\n",
       "      <th>CauseOfDeath</th>\n",
       "      <th>VentFreeDays</th>\n",
       "    </tr>\n",
       "  </thead>\n",
       "  <tbody>\n",
       "    <tr>\n",
       "      <th>1</th>\n",
       "      <td>18608</td>\n",
       "      <td>2013-01-21 13:22:00</td>\n",
       "      <td>26.0</td>\n",
       "      <td>86</td>\n",
       "      <td>M</td>\n",
       "      <td>0</td>\n",
       "      <td>0</td>\n",
       "      <td>0</td>\n",
       "      <td>0</td>\n",
       "      <td>1.0</td>\n",
       "      <td>...</td>\n",
       "      <td>0</td>\n",
       "      <td>0</td>\n",
       "      <td>0</td>\n",
       "      <td>9.4</td>\n",
       "      <td>2013-01-21 13:50:00</td>\n",
       "      <td>2013-01-21 15:46:00</td>\n",
       "      <td>9.4</td>\n",
       "      <td>0</td>\n",
       "      <td>NaN</td>\n",
       "      <td>28</td>\n",
       "    </tr>\n",
       "    <tr>\n",
       "      <th>3</th>\n",
       "      <td>19690</td>\n",
       "      <td>2013-06-26 16:20:00</td>\n",
       "      <td>16.0</td>\n",
       "      <td>64</td>\n",
       "      <td>M</td>\n",
       "      <td>0</td>\n",
       "      <td>0</td>\n",
       "      <td>1</td>\n",
       "      <td>0</td>\n",
       "      <td>3.0</td>\n",
       "      <td>...</td>\n",
       "      <td>0</td>\n",
       "      <td>0</td>\n",
       "      <td>3</td>\n",
       "      <td>2.6</td>\n",
       "      <td>2013-06-26 18:11:00</td>\n",
       "      <td>2013-06-26 20:44:00</td>\n",
       "      <td>2.8</td>\n",
       "      <td>1</td>\n",
       "      <td>Resp failure, 2/2/TBI</td>\n",
       "      <td>0</td>\n",
       "    </tr>\n",
       "    <tr>\n",
       "      <th>4</th>\n",
       "      <td>20636</td>\n",
       "      <td>2013-10-30 12:17:00</td>\n",
       "      <td>25.0</td>\n",
       "      <td>45</td>\n",
       "      <td>M</td>\n",
       "      <td>0</td>\n",
       "      <td>0</td>\n",
       "      <td>0</td>\n",
       "      <td>0</td>\n",
       "      <td>0.0</td>\n",
       "      <td>...</td>\n",
       "      <td>3</td>\n",
       "      <td>0</td>\n",
       "      <td>0</td>\n",
       "      <td>3.1</td>\n",
       "      <td>2013-10-30 12:15:00</td>\n",
       "      <td>2013-10-30 13:47:00</td>\n",
       "      <td>1.7</td>\n",
       "      <td>0</td>\n",
       "      <td>NaN</td>\n",
       "      <td>26</td>\n",
       "    </tr>\n",
       "    <tr>\n",
       "      <th>6</th>\n",
       "      <td>20214</td>\n",
       "      <td>2013-08-28 10:49:00</td>\n",
       "      <td>33.0</td>\n",
       "      <td>67</td>\n",
       "      <td>M</td>\n",
       "      <td>0</td>\n",
       "      <td>0</td>\n",
       "      <td>0</td>\n",
       "      <td>0</td>\n",
       "      <td>0.0</td>\n",
       "      <td>...</td>\n",
       "      <td>0</td>\n",
       "      <td>0</td>\n",
       "      <td>0</td>\n",
       "      <td>2.9</td>\n",
       "      <td>2013-08-28 10:58:00</td>\n",
       "      <td>2013-08-28 16:17:00</td>\n",
       "      <td>2.9</td>\n",
       "      <td>0</td>\n",
       "      <td>NaN</td>\n",
       "      <td>28</td>\n",
       "    </tr>\n",
       "    <tr>\n",
       "      <th>7</th>\n",
       "      <td>17673</td>\n",
       "      <td>2012-08-28 21:23:00</td>\n",
       "      <td>34.0</td>\n",
       "      <td>42</td>\n",
       "      <td>M</td>\n",
       "      <td>1</td>\n",
       "      <td>1</td>\n",
       "      <td>0</td>\n",
       "      <td>0</td>\n",
       "      <td>0.0</td>\n",
       "      <td>...</td>\n",
       "      <td>0</td>\n",
       "      <td>0</td>\n",
       "      <td>0</td>\n",
       "      <td>3.0</td>\n",
       "      <td>2012-08-28 21:59:00</td>\n",
       "      <td>2012-08-29 02:04:00</td>\n",
       "      <td>2.5</td>\n",
       "      <td>0</td>\n",
       "      <td>NaN</td>\n",
       "      <td>26</td>\n",
       "    </tr>\n",
       "  </tbody>\n",
       "</table>\n",
       "<p>5 rows × 27 columns</p>\n",
       "</div>"
      ]
     },
     "execution_count": 15,
     "metadata": {},
     "output_type": "execute_result"
    }
   ],
   "execution_count": 15
  },
  {
   "metadata": {
    "ExecuteTime": {
     "end_time": "2025-02-07T20:38:43.206616Z",
     "start_time": "2025-02-07T20:38:43.194555Z"
    }
   },
   "cell_type": "code",
   "source": [
    "# 2016-2019\n",
    "filtered_patient_data_2016_2019 = compiled_patient_data_2016_2019\n",
    "filter_columns = ['StudyID', 'AdmitDtTm', 'BMI', 'Age', 'Sex', 'Obesity', 'Diabetes', 'Smoker', 'Transfer', 'RBC_pre_ICU', 'FFP_pre_ICU', \n",
    "                  'PLT_pre_ICU', 'Weight', 'Height',\n",
    "                  'TraumaType', 'MaxHeadAIS', 'MaxChestAIS', 'MaxAbdAIS', 'MaxSpineAIS', 'MaxLEAIS',\n",
    "                  'InitLactate', 'InitLactateDtTm', 'ICU_AdmitDtTm', 'lactate_value_ICU',\n",
    "                  'Deceased', 'CauseOfDeath', 'VentFreeDays']\n",
    "rename_columns = {} #{'Pregancy': 'Pregnancy'}\n",
    "filtered_patient_data_2016_2019 = filtered_patient_data_2016_2019[filter_columns]\n",
    "filtered_patient_data_2016_2019 = filtered_patient_data_2016_2019.rename(columns=rename_columns)\n",
    "filtered_patient_data_2016_2019.head()"
   ],
   "id": "506fc34acb81059e",
   "outputs": [
    {
     "data": {
      "text/plain": [
       "    StudyID            AdmitDtTm   BMI  Age         Sex  Obesity  Diabetes  \\\n",
       "3         8  2016-01-01 19:38:00  24.0   68  M                 0         0   \n",
       "9        18  2016-01-03 23:57:00  27.0   34  F                 0         0   \n",
       "11       21  2016-01-04 11:42:00  23.0   54  M                 0         0   \n",
       "15       29  2016-01-05 10:34:00  22.0   24  M                 0         0   \n",
       "16       30  2016-01-05 12:28:00  17.0   21  M                 0         0   \n",
       "\n",
       "    Smoker  Transfer  RBC_pre_ICU  ...  MaxAbdAIS  MaxSpineAIS  MaxLEAIS  \\\n",
       "3        1         1          0.0  ...          4            2         3   \n",
       "9        1         1          0.0  ...          2            2         2   \n",
       "11       0         0          0.0  ...          2            0         0   \n",
       "15       0         0          0.0  ...          0            0         2   \n",
       "16       0         0          7.0  ...          0            0         0   \n",
       "\n",
       "    InitLactate      InitLactateDtTm        ICU_AdmitDtTm  lactate_value_ICU  \\\n",
       "3           3.2  2016-01-01 19:50:00  2016-01-01 22:09:00                2.8   \n",
       "9           2.3  2016-01-04 00:11:00  2016-01-04 02:42:00                1.1   \n",
       "11          3.5  2016-01-04 12:56:00  2016-01-04 17:40:00                3.5   \n",
       "15          2.4  2016-01-05 10:40:00  2016-01-05 21:26:00                1.8   \n",
       "16          4.7  2016-01-05 12:24:00  2016-01-05 16:17:00                3.0   \n",
       "\n",
       "    Deceased  CauseOfDeath  VentFreeDays  \n",
       "3          0           NaN           0.0  \n",
       "9          0           NaN          26.0  \n",
       "11         0           NaN          26.0  \n",
       "15         0           NaN          28.0  \n",
       "16         0           NaN          26.0  \n",
       "\n",
       "[5 rows x 27 columns]"
      ],
      "text/html": [
       "<div>\n",
       "<style scoped>\n",
       "    .dataframe tbody tr th:only-of-type {\n",
       "        vertical-align: middle;\n",
       "    }\n",
       "\n",
       "    .dataframe tbody tr th {\n",
       "        vertical-align: top;\n",
       "    }\n",
       "\n",
       "    .dataframe thead th {\n",
       "        text-align: right;\n",
       "    }\n",
       "</style>\n",
       "<table border=\"1\" class=\"dataframe\">\n",
       "  <thead>\n",
       "    <tr style=\"text-align: right;\">\n",
       "      <th></th>\n",
       "      <th>StudyID</th>\n",
       "      <th>AdmitDtTm</th>\n",
       "      <th>BMI</th>\n",
       "      <th>Age</th>\n",
       "      <th>Sex</th>\n",
       "      <th>Obesity</th>\n",
       "      <th>Diabetes</th>\n",
       "      <th>Smoker</th>\n",
       "      <th>Transfer</th>\n",
       "      <th>RBC_pre_ICU</th>\n",
       "      <th>...</th>\n",
       "      <th>MaxAbdAIS</th>\n",
       "      <th>MaxSpineAIS</th>\n",
       "      <th>MaxLEAIS</th>\n",
       "      <th>InitLactate</th>\n",
       "      <th>InitLactateDtTm</th>\n",
       "      <th>ICU_AdmitDtTm</th>\n",
       "      <th>lactate_value_ICU</th>\n",
       "      <th>Deceased</th>\n",
       "      <th>CauseOfDeath</th>\n",
       "      <th>VentFreeDays</th>\n",
       "    </tr>\n",
       "  </thead>\n",
       "  <tbody>\n",
       "    <tr>\n",
       "      <th>3</th>\n",
       "      <td>8</td>\n",
       "      <td>2016-01-01 19:38:00</td>\n",
       "      <td>24.0</td>\n",
       "      <td>68</td>\n",
       "      <td>M</td>\n",
       "      <td>0</td>\n",
       "      <td>0</td>\n",
       "      <td>1</td>\n",
       "      <td>1</td>\n",
       "      <td>0.0</td>\n",
       "      <td>...</td>\n",
       "      <td>4</td>\n",
       "      <td>2</td>\n",
       "      <td>3</td>\n",
       "      <td>3.2</td>\n",
       "      <td>2016-01-01 19:50:00</td>\n",
       "      <td>2016-01-01 22:09:00</td>\n",
       "      <td>2.8</td>\n",
       "      <td>0</td>\n",
       "      <td>NaN</td>\n",
       "      <td>0.0</td>\n",
       "    </tr>\n",
       "    <tr>\n",
       "      <th>9</th>\n",
       "      <td>18</td>\n",
       "      <td>2016-01-03 23:57:00</td>\n",
       "      <td>27.0</td>\n",
       "      <td>34</td>\n",
       "      <td>F</td>\n",
       "      <td>0</td>\n",
       "      <td>0</td>\n",
       "      <td>1</td>\n",
       "      <td>1</td>\n",
       "      <td>0.0</td>\n",
       "      <td>...</td>\n",
       "      <td>2</td>\n",
       "      <td>2</td>\n",
       "      <td>2</td>\n",
       "      <td>2.3</td>\n",
       "      <td>2016-01-04 00:11:00</td>\n",
       "      <td>2016-01-04 02:42:00</td>\n",
       "      <td>1.1</td>\n",
       "      <td>0</td>\n",
       "      <td>NaN</td>\n",
       "      <td>26.0</td>\n",
       "    </tr>\n",
       "    <tr>\n",
       "      <th>11</th>\n",
       "      <td>21</td>\n",
       "      <td>2016-01-04 11:42:00</td>\n",
       "      <td>23.0</td>\n",
       "      <td>54</td>\n",
       "      <td>M</td>\n",
       "      <td>0</td>\n",
       "      <td>0</td>\n",
       "      <td>0</td>\n",
       "      <td>0</td>\n",
       "      <td>0.0</td>\n",
       "      <td>...</td>\n",
       "      <td>2</td>\n",
       "      <td>0</td>\n",
       "      <td>0</td>\n",
       "      <td>3.5</td>\n",
       "      <td>2016-01-04 12:56:00</td>\n",
       "      <td>2016-01-04 17:40:00</td>\n",
       "      <td>3.5</td>\n",
       "      <td>0</td>\n",
       "      <td>NaN</td>\n",
       "      <td>26.0</td>\n",
       "    </tr>\n",
       "    <tr>\n",
       "      <th>15</th>\n",
       "      <td>29</td>\n",
       "      <td>2016-01-05 10:34:00</td>\n",
       "      <td>22.0</td>\n",
       "      <td>24</td>\n",
       "      <td>M</td>\n",
       "      <td>0</td>\n",
       "      <td>0</td>\n",
       "      <td>0</td>\n",
       "      <td>0</td>\n",
       "      <td>0.0</td>\n",
       "      <td>...</td>\n",
       "      <td>0</td>\n",
       "      <td>0</td>\n",
       "      <td>2</td>\n",
       "      <td>2.4</td>\n",
       "      <td>2016-01-05 10:40:00</td>\n",
       "      <td>2016-01-05 21:26:00</td>\n",
       "      <td>1.8</td>\n",
       "      <td>0</td>\n",
       "      <td>NaN</td>\n",
       "      <td>28.0</td>\n",
       "    </tr>\n",
       "    <tr>\n",
       "      <th>16</th>\n",
       "      <td>30</td>\n",
       "      <td>2016-01-05 12:28:00</td>\n",
       "      <td>17.0</td>\n",
       "      <td>21</td>\n",
       "      <td>M</td>\n",
       "      <td>0</td>\n",
       "      <td>0</td>\n",
       "      <td>0</td>\n",
       "      <td>0</td>\n",
       "      <td>7.0</td>\n",
       "      <td>...</td>\n",
       "      <td>0</td>\n",
       "      <td>0</td>\n",
       "      <td>0</td>\n",
       "      <td>4.7</td>\n",
       "      <td>2016-01-05 12:24:00</td>\n",
       "      <td>2016-01-05 16:17:00</td>\n",
       "      <td>3.0</td>\n",
       "      <td>0</td>\n",
       "      <td>NaN</td>\n",
       "      <td>26.0</td>\n",
       "    </tr>\n",
       "  </tbody>\n",
       "</table>\n",
       "<p>5 rows × 27 columns</p>\n",
       "</div>"
      ]
     },
     "execution_count": 16,
     "metadata": {},
     "output_type": "execute_result"
    }
   ],
   "execution_count": 16
  },
  {
   "metadata": {
    "ExecuteTime": {
     "end_time": "2025-02-07T20:38:43.253122Z",
     "start_time": "2025-02-07T20:38:43.247410Z"
    }
   },
   "cell_type": "code",
   "source": [
    "# join the two datasets\n",
    "filtered_patient_data = pd.concat([filtered_patient_data_2012_2015, filtered_patient_data_2016_2019])\n",
    "filtered_patient_data['Height'] = pd.to_numeric(filtered_patient_data['Height'], errors='coerce')\n",
    "filtered_patient_data['Weight'] = pd.to_numeric(filtered_patient_data['Weight'], errors='coerce')\n",
    "# filtered_patient_data['Race'] = filtered_patient_data['Race'].apply(str.strip)\n",
    "# filtered_patient_data['InjuryMechanism'] = filtered_patient_data['InjuryMechanism'].apply(str.strip)\n",
    "# filtered_patient_data['Complications'] = filtered_patient_data['Complications'].apply(str.strip)\n",
    "#filtered_patient_data['CauseOfDeath'] = filtered_patient_data['CauseOfDeath'].apply(str.strip)\n",
    "filtered_patient_data.shape"
   ],
   "id": "58711bc142fd418",
   "outputs": [
    {
     "data": {
      "text/plain": [
       "(4305, 27)"
      ]
     },
     "execution_count": 17,
     "metadata": {},
     "output_type": "execute_result"
    }
   ],
   "execution_count": 17
  },
  {
   "metadata": {
    "ExecuteTime": {
     "end_time": "2025-02-07T20:38:43.389071Z",
     "start_time": "2025-02-07T20:38:43.378255Z"
    }
   },
   "cell_type": "code",
   "source": "filtered_patient_data.head()",
   "id": "5bb072d35f90a99d",
   "outputs": [
    {
     "data": {
      "text/plain": [
       "   StudyID            AdmitDtTm   BMI  Age         Sex  Obesity  Diabetes  \\\n",
       "1    18608  2013-01-21 13:22:00  26.0   86  M                 0         0   \n",
       "3    19690  2013-06-26 16:20:00  16.0   64  M                 0         0   \n",
       "4    20636  2013-10-30 12:17:00  25.0   45  M                 0         0   \n",
       "6    20214  2013-08-28 10:49:00  33.0   67  M                 0         0   \n",
       "7    17673  2012-08-28 21:23:00  34.0   42  M                 1         1   \n",
       "\n",
       "   Smoker  Transfer  RBC_pre_ICU  ...  MaxAbdAIS  MaxSpineAIS  MaxLEAIS  \\\n",
       "1       0         0          1.0  ...          0            0         0   \n",
       "3       1         0          3.0  ...          0            0         3   \n",
       "4       0         0          0.0  ...          3            0         0   \n",
       "6       0         0          0.0  ...          0            0         0   \n",
       "7       0         0          0.0  ...          0            0         0   \n",
       "\n",
       "   InitLactate      InitLactateDtTm        ICU_AdmitDtTm  lactate_value_ICU  \\\n",
       "1          9.4  2013-01-21 13:50:00  2013-01-21 15:46:00                9.4   \n",
       "3          2.6  2013-06-26 18:11:00  2013-06-26 20:44:00                2.8   \n",
       "4          3.1  2013-10-30 12:15:00  2013-10-30 13:47:00                1.7   \n",
       "6          2.9  2013-08-28 10:58:00  2013-08-28 16:17:00                2.9   \n",
       "7          3.0  2012-08-28 21:59:00  2012-08-29 02:04:00                2.5   \n",
       "\n",
       "   Deceased           CauseOfDeath  VentFreeDays  \n",
       "1         0                    NaN          28.0  \n",
       "3         1  Resp failure, 2/2/TBI           0.0  \n",
       "4         0                    NaN          26.0  \n",
       "6         0                    NaN          28.0  \n",
       "7         0                    NaN          26.0  \n",
       "\n",
       "[5 rows x 27 columns]"
      ],
      "text/html": [
       "<div>\n",
       "<style scoped>\n",
       "    .dataframe tbody tr th:only-of-type {\n",
       "        vertical-align: middle;\n",
       "    }\n",
       "\n",
       "    .dataframe tbody tr th {\n",
       "        vertical-align: top;\n",
       "    }\n",
       "\n",
       "    .dataframe thead th {\n",
       "        text-align: right;\n",
       "    }\n",
       "</style>\n",
       "<table border=\"1\" class=\"dataframe\">\n",
       "  <thead>\n",
       "    <tr style=\"text-align: right;\">\n",
       "      <th></th>\n",
       "      <th>StudyID</th>\n",
       "      <th>AdmitDtTm</th>\n",
       "      <th>BMI</th>\n",
       "      <th>Age</th>\n",
       "      <th>Sex</th>\n",
       "      <th>Obesity</th>\n",
       "      <th>Diabetes</th>\n",
       "      <th>Smoker</th>\n",
       "      <th>Transfer</th>\n",
       "      <th>RBC_pre_ICU</th>\n",
       "      <th>...</th>\n",
       "      <th>MaxAbdAIS</th>\n",
       "      <th>MaxSpineAIS</th>\n",
       "      <th>MaxLEAIS</th>\n",
       "      <th>InitLactate</th>\n",
       "      <th>InitLactateDtTm</th>\n",
       "      <th>ICU_AdmitDtTm</th>\n",
       "      <th>lactate_value_ICU</th>\n",
       "      <th>Deceased</th>\n",
       "      <th>CauseOfDeath</th>\n",
       "      <th>VentFreeDays</th>\n",
       "    </tr>\n",
       "  </thead>\n",
       "  <tbody>\n",
       "    <tr>\n",
       "      <th>1</th>\n",
       "      <td>18608</td>\n",
       "      <td>2013-01-21 13:22:00</td>\n",
       "      <td>26.0</td>\n",
       "      <td>86</td>\n",
       "      <td>M</td>\n",
       "      <td>0</td>\n",
       "      <td>0</td>\n",
       "      <td>0</td>\n",
       "      <td>0</td>\n",
       "      <td>1.0</td>\n",
       "      <td>...</td>\n",
       "      <td>0</td>\n",
       "      <td>0</td>\n",
       "      <td>0</td>\n",
       "      <td>9.4</td>\n",
       "      <td>2013-01-21 13:50:00</td>\n",
       "      <td>2013-01-21 15:46:00</td>\n",
       "      <td>9.4</td>\n",
       "      <td>0</td>\n",
       "      <td>NaN</td>\n",
       "      <td>28.0</td>\n",
       "    </tr>\n",
       "    <tr>\n",
       "      <th>3</th>\n",
       "      <td>19690</td>\n",
       "      <td>2013-06-26 16:20:00</td>\n",
       "      <td>16.0</td>\n",
       "      <td>64</td>\n",
       "      <td>M</td>\n",
       "      <td>0</td>\n",
       "      <td>0</td>\n",
       "      <td>1</td>\n",
       "      <td>0</td>\n",
       "      <td>3.0</td>\n",
       "      <td>...</td>\n",
       "      <td>0</td>\n",
       "      <td>0</td>\n",
       "      <td>3</td>\n",
       "      <td>2.6</td>\n",
       "      <td>2013-06-26 18:11:00</td>\n",
       "      <td>2013-06-26 20:44:00</td>\n",
       "      <td>2.8</td>\n",
       "      <td>1</td>\n",
       "      <td>Resp failure, 2/2/TBI</td>\n",
       "      <td>0.0</td>\n",
       "    </tr>\n",
       "    <tr>\n",
       "      <th>4</th>\n",
       "      <td>20636</td>\n",
       "      <td>2013-10-30 12:17:00</td>\n",
       "      <td>25.0</td>\n",
       "      <td>45</td>\n",
       "      <td>M</td>\n",
       "      <td>0</td>\n",
       "      <td>0</td>\n",
       "      <td>0</td>\n",
       "      <td>0</td>\n",
       "      <td>0.0</td>\n",
       "      <td>...</td>\n",
       "      <td>3</td>\n",
       "      <td>0</td>\n",
       "      <td>0</td>\n",
       "      <td>3.1</td>\n",
       "      <td>2013-10-30 12:15:00</td>\n",
       "      <td>2013-10-30 13:47:00</td>\n",
       "      <td>1.7</td>\n",
       "      <td>0</td>\n",
       "      <td>NaN</td>\n",
       "      <td>26.0</td>\n",
       "    </tr>\n",
       "    <tr>\n",
       "      <th>6</th>\n",
       "      <td>20214</td>\n",
       "      <td>2013-08-28 10:49:00</td>\n",
       "      <td>33.0</td>\n",
       "      <td>67</td>\n",
       "      <td>M</td>\n",
       "      <td>0</td>\n",
       "      <td>0</td>\n",
       "      <td>0</td>\n",
       "      <td>0</td>\n",
       "      <td>0.0</td>\n",
       "      <td>...</td>\n",
       "      <td>0</td>\n",
       "      <td>0</td>\n",
       "      <td>0</td>\n",
       "      <td>2.9</td>\n",
       "      <td>2013-08-28 10:58:00</td>\n",
       "      <td>2013-08-28 16:17:00</td>\n",
       "      <td>2.9</td>\n",
       "      <td>0</td>\n",
       "      <td>NaN</td>\n",
       "      <td>28.0</td>\n",
       "    </tr>\n",
       "    <tr>\n",
       "      <th>7</th>\n",
       "      <td>17673</td>\n",
       "      <td>2012-08-28 21:23:00</td>\n",
       "      <td>34.0</td>\n",
       "      <td>42</td>\n",
       "      <td>M</td>\n",
       "      <td>1</td>\n",
       "      <td>1</td>\n",
       "      <td>0</td>\n",
       "      <td>0</td>\n",
       "      <td>0.0</td>\n",
       "      <td>...</td>\n",
       "      <td>0</td>\n",
       "      <td>0</td>\n",
       "      <td>0</td>\n",
       "      <td>3.0</td>\n",
       "      <td>2012-08-28 21:59:00</td>\n",
       "      <td>2012-08-29 02:04:00</td>\n",
       "      <td>2.5</td>\n",
       "      <td>0</td>\n",
       "      <td>NaN</td>\n",
       "      <td>26.0</td>\n",
       "    </tr>\n",
       "  </tbody>\n",
       "</table>\n",
       "<p>5 rows × 27 columns</p>\n",
       "</div>"
      ]
     },
     "execution_count": 18,
     "metadata": {},
     "output_type": "execute_result"
    }
   ],
   "execution_count": 18
  },
  {
   "metadata": {
    "ExecuteTime": {
     "end_time": "2025-02-07T20:38:43.437965Z",
     "start_time": "2025-02-07T20:38:43.433638Z"
    }
   },
   "cell_type": "code",
   "source": "filtered_patient_data.dtypes",
   "id": "f2bfc23354be6f8a",
   "outputs": [
    {
     "data": {
      "text/plain": [
       "StudyID                int64\n",
       "AdmitDtTm             object\n",
       "BMI                  float64\n",
       "Age                    int64\n",
       "Sex                   object\n",
       "Obesity                int64\n",
       "Diabetes               int64\n",
       "Smoker                 int64\n",
       "Transfer               int64\n",
       "RBC_pre_ICU          float64\n",
       "FFP_pre_ICU          float64\n",
       "PLT_pre_ICU          float64\n",
       "Weight               float64\n",
       "Height               float64\n",
       "TraumaType            object\n",
       "MaxHeadAIS             int64\n",
       "MaxChestAIS            int64\n",
       "MaxAbdAIS              int64\n",
       "MaxSpineAIS            int64\n",
       "MaxLEAIS               int64\n",
       "InitLactate          float64\n",
       "InitLactateDtTm       object\n",
       "ICU_AdmitDtTm         object\n",
       "lactate_value_ICU    float64\n",
       "Deceased               int64\n",
       "CauseOfDeath          object\n",
       "VentFreeDays         float64\n",
       "dtype: object"
      ]
     },
     "execution_count": 19,
     "metadata": {},
     "output_type": "execute_result"
    }
   ],
   "execution_count": 19
  },
  {
   "metadata": {
    "ExecuteTime": {
     "end_time": "2025-02-07T20:38:43.573530Z",
     "start_time": "2025-02-07T20:38:43.569172Z"
    }
   },
   "cell_type": "code",
   "source": "filtered_patient_data['StudyID'].nunique()",
   "id": "cab28b2e69e38727",
   "outputs": [
    {
     "data": {
      "text/plain": [
       "4305"
      ]
     },
     "execution_count": 20,
     "metadata": {},
     "output_type": "execute_result"
    }
   ],
   "execution_count": 20
  },
  {
   "metadata": {
    "ExecuteTime": {
     "end_time": "2025-02-07T20:38:43.641160Z",
     "start_time": "2025-02-07T20:38:43.638914Z"
    }
   },
   "cell_type": "code",
   "source": [
    "numeric_cols = {'BMI', 'Weight', 'Height', 'Age', 'InitLactate', 'RBC_pre_ICU', 'FFP_pre_ICU', 'PLT_pre_ICU', 'lactate_value_ICU', 'VentFreeDays'}\n",
    "binary_cols = {'Obesity', 'Diabetes', 'Smoker', 'Transfer', 'Deceased'}\n",
    "cat_cols = {'Sex', 'TraumaType', 'CauseOfDeath', 'MaxHeadAIS', 'MaxChestAIS', 'MaxAbdAIS', 'MaxSpineAIS', 'MaxLEAIS'}"
   ],
   "id": "66290f21e7cbdef3",
   "outputs": [],
   "execution_count": 21
  },
  {
   "metadata": {
    "ExecuteTime": {
     "end_time": "2025-02-07T20:38:43.721668Z",
     "start_time": "2025-02-07T20:38:43.707514Z"
    }
   },
   "cell_type": "code",
   "source": [
    "print('Numeric Columns')\n",
    "for col in numeric_cols:\n",
    "    print(f'{col}: {filtered_patient_data[col].mean():.5f} +/- {filtered_patient_data[col].std():.5f} NaN: {filtered_patient_data[col].isna().sum()}')\n",
    "print('\\nBinary Columns')\n",
    "for col in binary_cols:\n",
    "    print(f'{col}: 0: {(filtered_patient_data[col] == 0).sum()} 1: {(filtered_patient_data[col] == 1).sum()} NaN: {filtered_patient_data[col].isna().sum()}')\n",
    "print('\\nCategorical Columns')\n",
    "for col in cat_cols:\n",
    "    print(f'{col}: {filtered_patient_data[col].value_counts()}')\n",
    "    print(f'{col} NaN: {filtered_patient_data[col].isna().sum()}')"
   ],
   "id": "d3bc02306b4d9059",
   "outputs": [
    {
     "name": "stdout",
     "output_type": "stream",
     "text": [
      "Numeric Columns\n",
      "PLT_pre_ICU: 0.29773 +/- 0.87628 NaN: 0\n",
      "VentFreeDays: 21.29268 +/- 9.66958 NaN: 0\n",
      "lactate_value_ICU: 3.34613 +/- 2.22058 NaN: 0\n",
      "FFP_pre_ICU: 1.80187 +/- 5.17364 NaN: 0\n",
      "InitLactate: 4.42718 +/- 3.07667 NaN: 0\n",
      "Height: 174.70794 +/- 11.79490 NaN: 250\n",
      "BMI: 27.74157 +/- 10.37944 NaN: 273\n",
      "RBC_pre_ICU: 2.09946 +/- 5.17076 NaN: 0\n",
      "Weight: 84.02533 +/- 20.77139 NaN: 129\n",
      "Age: 44.55238 +/- 18.74679 NaN: 0\n",
      "\n",
      "Binary Columns\n",
      "Deceased: 0: 3778 1: 527 NaN: 0\n",
      "Diabetes: 0: 3949 1: 356 NaN: 0\n",
      "Obesity: 0: 3445 1: 860 NaN: 0\n",
      "Smoker: 0: 3482 1: 823 NaN: 0\n",
      "Transfer: 0: 2998 1: 1307 NaN: 0\n",
      "\n",
      "Categorical Columns\n",
      "MaxLEAIS: MaxLEAIS\n",
      "0    2382\n",
      "3     714\n",
      "2     468\n",
      "4     366\n",
      "5     365\n",
      "1      10\n",
      "Name: count, dtype: int64\n",
      "MaxLEAIS NaN: 0\n",
      "CauseOfDeath: CauseOfDeath\n",
      "TBI                                   82\n",
      "resp failure                          51\n",
      "SDH                                   27\n",
      "Anoxic Brain Injury                    9\n",
      "Resp failure                           8\n",
      "                                      ..\n",
      "Respiratory failure/TBI                1\n",
      "CHI                                    1\n",
      "Respiraroty failure                    1\n",
      "ARDS, VAP, Septic shock.               1\n",
      "hypoxic arrest--hemorrhagic shock.     1\n",
      "Name: count, Length: 284, dtype: int64\n",
      "CauseOfDeath NaN: 3783\n",
      "MaxChestAIS: MaxChestAIS\n",
      "0    1808\n",
      "3    1211\n",
      "4     618\n",
      "2     380\n",
      "5     178\n",
      "1     105\n",
      "6       5\n",
      "Name: count, dtype: int64\n",
      "MaxChestAIS NaN: 0\n",
      "Sex: Sex\n",
      "M             3286\n",
      "F             1019\n",
      "Name: count, dtype: int64\n",
      "Sex NaN: 0\n",
      "MaxAbdAIS: MaxAbdAIS\n",
      "0    2835\n",
      "2     460\n",
      "3     422\n",
      "4     395\n",
      "5     144\n",
      "1      49\n",
      "Name: count, dtype: int64\n",
      "MaxAbdAIS NaN: 0\n",
      "MaxSpineAIS: MaxSpineAIS\n",
      "0    2546\n",
      "2    1195\n",
      "3     274\n",
      "5     130\n",
      "4      97\n",
      "6      44\n",
      "1      19\n",
      "Name: count, dtype: int64\n",
      "MaxSpineAIS NaN: 0\n",
      "MaxHeadAIS: MaxHeadAIS\n",
      "0    2498\n",
      "2     565\n",
      "3     437\n",
      "5     417\n",
      "4     325\n",
      "1      58\n",
      "6       5\n",
      "Name: count, dtype: int64\n",
      "MaxHeadAIS NaN: 0\n",
      "TraumaType: TraumaType\n",
      "B              3457\n",
      "P               789\n",
      "OTHER            59\n",
      "Name: count, dtype: int64\n",
      "TraumaType NaN: 0\n"
     ]
    }
   ],
   "execution_count": 22
  },
  {
   "metadata": {
    "ExecuteTime": {
     "end_time": "2025-02-07T20:38:43.775133Z",
     "start_time": "2025-02-07T20:38:43.744635Z"
    }
   },
   "cell_type": "code",
   "source": [
    "# now do it by deceased\n",
    "print('Numeric Columns')\n",
    "died_mask = filtered_patient_data.Deceased == 1\n",
    "lived_mask = ~died_mask\n",
    "for col in numeric_cols:\n",
    "    for mask, mask_lbl in ((died_mask, 'died'), (lived_mask, 'lived')):\n",
    "        print(f'{mask_lbl} {col}: {filtered_patient_data.loc[mask, col].mean():.5f} +/- {filtered_patient_data.loc[mask, col].std():.5f} NaN: {filtered_patient_data.loc[mask, col].isna().sum()}')\n",
    "print('\\nBinary Columns')\n",
    "for col in binary_cols:\n",
    "    for mask, mask_lbl in ((died_mask, 'died'), (lived_mask, 'lived')):\n",
    "        print(f'{mask_lbl} {col}: 0: {(filtered_patient_data.loc[mask, col] == 0).sum()} 1: {(filtered_patient_data.loc[mask, col] == 1).sum()} NaN: {filtered_patient_data.loc[mask, col].isna().sum()}')\n",
    "print('\\nCategorical Columns')\n",
    "for col in cat_cols:\n",
    "    for mask, mask_lbl in ((died_mask, 'died'), (lived_mask, 'lived')):\n",
    "        print(f'{mask_lbl} {col}: {filtered_patient_data.loc[mask, col].value_counts()}')\n",
    "        print(f'{mask_lbl} {col} NaN: {filtered_patient_data.loc[mask, col].isna().sum()}')"
   ],
   "id": "8e78f65a13b9323f",
   "outputs": [
    {
     "name": "stdout",
     "output_type": "stream",
     "text": [
      "Numeric Columns\n",
      "died PLT_pre_ICU: 0.76915 +/- 1.39482 NaN: 0\n",
      "lived PLT_pre_ICU: 0.23197 +/- 0.75414 NaN: 0\n",
      "died VentFreeDays: 0.00000 +/- 0.00000 NaN: 0\n",
      "lived VentFreeDays: 24.26284 +/- 5.87055 NaN: 0\n",
      "died lactate_value_ICU: 5.17495 +/- 3.90436 NaN: 0\n",
      "lived lactate_value_ICU: 3.09103 +/- 1.72171 NaN: 0\n",
      "died FFP_pre_ICU: 4.82855 +/- 9.88779 NaN: 0\n",
      "lived FFP_pre_ICU: 1.37967 +/- 3.92800 NaN: 0\n",
      "died InitLactate: 6.20797 +/- 4.41456 NaN: 0\n",
      "lived InitLactate: 4.17877 +/- 2.75108 NaN: 0\n",
      "died Height: 174.33304 +/- 17.11942 NaN: 70\n",
      "lived Height: 174.75556 +/- 10.93714 NaN: 180\n",
      "died BMI: 27.44615 +/- 7.68465 NaN: 72\n",
      "lived BMI: 27.77914 +/- 10.67382 NaN: 201\n",
      "died RBC_pre_ICU: 4.91474 +/- 9.47599 NaN: 0\n",
      "lived RBC_pre_ICU: 1.70675 +/- 4.08682 NaN: 0\n",
      "died Weight: 82.25335 +/- 21.22976 NaN: 34\n",
      "lived Weight: 84.26252 +/- 20.70069 NaN: 95\n",
      "died Age: 55.91841 +/- 21.83709 NaN: 0\n",
      "lived Age: 42.96691 +/- 17.70676 NaN: 0\n",
      "\n",
      "Binary Columns\n",
      "died Deceased: 0: 0 1: 527 NaN: 0\n",
      "lived Deceased: 0: 3778 1: 0 NaN: 0\n",
      "died Diabetes: 0: 469 1: 58 NaN: 0\n",
      "lived Diabetes: 0: 3480 1: 298 NaN: 0\n",
      "died Obesity: 0: 433 1: 94 NaN: 0\n",
      "lived Obesity: 0: 3012 1: 766 NaN: 0\n",
      "died Smoker: 0: 482 1: 45 NaN: 0\n",
      "lived Smoker: 0: 3000 1: 778 NaN: 0\n",
      "died Transfer: 0: 360 1: 167 NaN: 0\n",
      "lived Transfer: 0: 2638 1: 1140 NaN: 0\n",
      "\n",
      "Categorical Columns\n",
      "died MaxLEAIS: MaxLEAIS\n",
      "0    314\n",
      "3     85\n",
      "5     58\n",
      "2     39\n",
      "4     30\n",
      "1      1\n",
      "Name: count, dtype: int64\n",
      "died MaxLEAIS NaN: 0\n",
      "lived MaxLEAIS: MaxLEAIS\n",
      "0    2068\n",
      "3     629\n",
      "2     429\n",
      "4     336\n",
      "5     307\n",
      "1       9\n",
      "Name: count, dtype: int64\n",
      "lived MaxLEAIS NaN: 0\n",
      "died CauseOfDeath: CauseOfDeath\n",
      "TBI                                   82\n",
      "resp failure                          51\n",
      "SDH                                   27\n",
      "Anoxic Brain Injury                    9\n",
      "Resp failure                           8\n",
      "                                      ..\n",
      "Respiratory failure/TBI                1\n",
      "CHI                                    1\n",
      "Respiraroty failure                    1\n",
      "ARDS, VAP, Septic shock.               1\n",
      "hypoxic arrest--hemorrhagic shock.     1\n",
      "Name: count, Length: 284, dtype: int64\n",
      "died CauseOfDeath NaN: 5\n",
      "lived CauseOfDeath: Series([], Name: count, dtype: int64)\n",
      "lived CauseOfDeath NaN: 3778\n",
      "died MaxChestAIS: MaxChestAIS\n",
      "0    189\n",
      "3    158\n",
      "4     91\n",
      "2     43\n",
      "5     34\n",
      "1     11\n",
      "6      1\n",
      "Name: count, dtype: int64\n",
      "died MaxChestAIS NaN: 0\n",
      "lived MaxChestAIS: MaxChestAIS\n",
      "0    1619\n",
      "3    1053\n",
      "4     527\n",
      "2     337\n",
      "5     144\n",
      "1      94\n",
      "6       4\n",
      "Name: count, dtype: int64\n",
      "lived MaxChestAIS NaN: 0\n",
      "died Sex: Sex\n",
      "M             372\n",
      "F             155\n",
      "Name: count, dtype: int64\n",
      "died Sex NaN: 0\n",
      "lived Sex: Sex\n",
      "M             2914\n",
      "F              864\n",
      "Name: count, dtype: int64\n",
      "lived Sex NaN: 0\n",
      "died MaxAbdAIS: MaxAbdAIS\n",
      "0    344\n",
      "4     58\n",
      "2     51\n",
      "3     45\n",
      "5     20\n",
      "1      9\n",
      "Name: count, dtype: int64\n",
      "died MaxAbdAIS NaN: 0\n",
      "lived MaxAbdAIS: MaxAbdAIS\n",
      "0    2491\n",
      "2     409\n",
      "3     377\n",
      "4     337\n",
      "5     124\n",
      "1      40\n",
      "Name: count, dtype: int64\n",
      "lived MaxAbdAIS NaN: 0\n",
      "died MaxSpineAIS: MaxSpineAIS\n",
      "0    264\n",
      "2    154\n",
      "3     48\n",
      "6     35\n",
      "5     16\n",
      "4      6\n",
      "1      4\n",
      "Name: count, dtype: int64\n",
      "died MaxSpineAIS NaN: 0\n",
      "lived MaxSpineAIS: MaxSpineAIS\n",
      "0    2282\n",
      "2    1041\n",
      "3     226\n",
      "5     114\n",
      "4      91\n",
      "1      15\n",
      "6       9\n",
      "Name: count, dtype: int64\n",
      "lived MaxSpineAIS NaN: 0\n",
      "died MaxHeadAIS: MaxHeadAIS\n",
      "5    208\n",
      "0    195\n",
      "4     52\n",
      "3     44\n",
      "2     23\n",
      "6      5\n",
      "Name: count, dtype: int64\n",
      "died MaxHeadAIS NaN: 0\n",
      "lived MaxHeadAIS: MaxHeadAIS\n",
      "0    2303\n",
      "2     542\n",
      "3     393\n",
      "4     273\n",
      "5     209\n",
      "1      58\n",
      "Name: count, dtype: int64\n",
      "lived MaxHeadAIS NaN: 0\n",
      "died TraumaType: TraumaType\n",
      "B              460\n",
      "P               49\n",
      "OTHER           18\n",
      "Name: count, dtype: int64\n",
      "died TraumaType NaN: 0\n",
      "lived TraumaType: TraumaType\n",
      "B              2997\n",
      "P               740\n",
      "OTHER            41\n",
      "Name: count, dtype: int64\n",
      "lived TraumaType NaN: 0\n"
     ]
    }
   ],
   "execution_count": 23
  },
  {
   "metadata": {
    "ExecuteTime": {
     "end_time": "2025-02-07T20:38:44.423767Z",
     "start_time": "2025-02-07T20:38:43.799489Z"
    }
   },
   "cell_type": "code",
   "source": [
    "# load raw data, filter columns, combine, plot stats by deceased \n",
    "# Load the data\n",
    "raw_patient_data_2012_2015 = pd.read_csv('<path_to_dataset>/2012-2015_compiled_patient_data_with_cohorts_no_L_required_new_IVF_EarlyLateBolus.csv')\n",
    "raw_patient_data_2016_2019 = pd.read_csv('<path_to_dataset>/2016-2019_compiled_patient_data_with_cohorts_no_L_required_new_IVF_EarlyLateBolus.csv')\n",
    "filter_columns = ['StudyID', 'AdmitDtTm', 'BMI', 'Age', 'Sex', 'Obesity', 'Diabetes', 'Smoker', 'Transfer', 'RBC_pre_ICU', 'FFP_pre_ICU', \n",
    "                  'PLT_pre_ICU', 'Weight', 'Height',\n",
    "                  'TraumaType', 'MaxHeadAIS', 'MaxChestAIS', 'MaxAbdAIS', 'MaxSpineAIS', 'MaxLEAIS',\n",
    "                  'InitLactate', 'InitLactateDtTm', 'ICU_AdmitDtTm', 'lactate_value_ICU',\n",
    "                  'Deceased', 'CauseOfDeath']\n",
    "rename_columns = {}\n",
    "raw_patient_data_2016_2019 = raw_patient_data_2016_2019[filter_columns]\n",
    "raw_patient_data_2016_2019 = raw_patient_data_2016_2019.rename(columns=rename_columns)\n",
    "raw_patient_data_2016_2019['StudyID'] = raw_patient_data_2016_2019['StudyID'].astype(int)\n",
    "filter_columns = ['StudyID', 'AdmitDtTm', 'BMI', 'Age', 'Sex', 'Obesity', 'Diabetes', 'Smoker', 'Transfer', 'RBC_pre_ICU', 'FFP_pre_ICU', \n",
    "                  'PLT_pre_ICU', 'Weight', 'Height',\n",
    "                  'TraumaType', 'MaxHeadAIS', 'MaxChestAIS', 'MaxAbdAIS', 'MaxSpineAIS', 'MaxLEAIS',\n",
    "                  'InitLactate', 'InitLactateDtTm', 'ICU_AdmitDtTm', 'lactate_value_ICU',\n",
    "                  'Deceased', 'CauseOfDeath']\n",
    "rename_columns = {} #{'Pregancy': 'Pregnancy'}\n",
    "raw_patient_data_2016_2019 = raw_patient_data_2016_2019[filter_columns]\n",
    "raw_patient_data_2016_2019 = raw_patient_data_2016_2019.rename(columns=rename_columns)\n",
    "raw_patient_data = pd.concat([raw_patient_data_2012_2015, raw_patient_data_2016_2019])\n",
    "raw_patient_data['Height'] = pd.to_numeric(raw_patient_data['Height'], errors='coerce')\n",
    "raw_patient_data['Weight'] = pd.to_numeric(raw_patient_data['Weight'], errors='coerce')\n",
    "print('Numeric Columns')\n",
    "died_mask = raw_patient_data.Deceased == 1\n",
    "lived_mask = ~died_mask\n",
    "for col in numeric_cols:\n",
    "    for mask, mask_lbl in ((died_mask, 'died'), (lived_mask, 'lived')):\n",
    "        print(f'{mask_lbl} {col}: {raw_patient_data.loc[mask, col].mean():.5f} +/- {raw_patient_data.loc[mask, col].std():.5f} NaN: {raw_patient_data.loc[mask, col].isna().sum()}')\n",
    "print('\\nBinary Columns')\n",
    "for col in binary_cols:\n",
    "    for mask, mask_lbl in ((died_mask, 'died'), (lived_mask, 'lived')):\n",
    "        print(f'{mask_lbl} {col}: 0: {(raw_patient_data.loc[mask, col] == 0).sum()} 1: {(raw_patient_data.loc[mask, col] == 1).sum()} NaN: {raw_patient_data.loc[mask, col].isna().sum()}')\n",
    "print('\\nCategorical Columns')\n",
    "for col in cat_cols:\n",
    "    for mask, mask_lbl in ((died_mask, 'died'), (lived_mask, 'lived')):\n",
    "        print(f'{mask_lbl} {col}: {raw_patient_data.loc[mask, col].value_counts()}')\n",
    "        print(f'{mask_lbl} {col} NaN: {raw_patient_data.loc[mask, col].isna().sum()}')"
   ],
   "id": "b282086e304b6c5c",
   "outputs": [
    {
     "name": "stderr",
     "output_type": "stream",
     "text": [
      "/var/folders/vf/695131157rl2pvb9_s5zykbh0000gn/T/ipykernel_55698/3879219837.py:3: DtypeWarning: Columns (1,2,133) have mixed types. Specify dtype option on import or set low_memory=False.\n",
      "  raw_patient_data_2012_2015 = pd.read_csv('/Users/larry/Documents/UWT/Thesis Work/rec_sys/datasets/trauma_icu_resuscitation/2012-2015_compiled_patient_data_with_cohorts_no_L_required_new_IVF_EarlyLateBolus.csv')\n"
     ]
    },
    {
     "name": "stdout",
     "output_type": "stream",
     "text": [
      "Numeric Columns\n",
      "died PLT_pre_ICU: 0.56720 +/- 1.23803 NaN: 0\n",
      "lived PLT_pre_ICU: 0.11568 +/- 0.53092 NaN: 0\n",
      "died VentFreeDays: 0.00000 +/- 0.00000 NaN: 491\n",
      "lived VentFreeDays: 25.91638 +/- 4.48909 NaN: 5710\n",
      "died lactate_value_ICU: 4.00674 +/- 3.65932 NaN: 38\n",
      "lived lactate_value_ICU: 2.24673 +/- 1.61316 NaN: 3063\n",
      "died FFP_pre_ICU: 3.33344 +/- 8.27577 NaN: 0\n",
      "lived FFP_pre_ICU: 0.61417 +/- 2.59492 NaN: 0\n",
      "died InitLactate: 4.58270 +/- 4.29955 NaN: 38\n",
      "lived InitLactate: 2.78510 +/- 2.52244 NaN: 3063\n",
      "died Height: 172.95388 +/- 16.29605 NaN: 102\n",
      "lived Height: 173.51342 +/- 11.34739 NaN: 435\n",
      "died BMI: 27.39638 +/- 10.41881 NaN: 105\n",
      "lived BMI: 27.32973 +/- 9.23294 NaN: 497\n",
      "died RBC_pre_ICU: 3.37993 +/- 7.93327 NaN: 0\n",
      "lived RBC_pre_ICU: 0.80769 +/- 3.01663 NaN: 0\n",
      "died Weight: 80.60515 +/- 21.64997 NaN: 43\n",
      "lived Weight: 82.06987 +/- 21.74629 NaN: 277\n",
      "died Age: 61.47451 +/- 22.02058 NaN: 0\n",
      "lived Age: 49.72745 +/- 20.44897 NaN: 0\n",
      "\n",
      "Binary Columns\n",
      "died Deceased: 0: 0 1: 824 NaN: 0\n",
      "lived Deceased: 0: 10123 1: 0 NaN: 0\n",
      "died Diabetes: 0: 704 1: 120 NaN: 0\n",
      "lived Diabetes: 0: 9157 1: 966 NaN: 0\n",
      "died Obesity: 0: 674 1: 150 NaN: 0\n",
      "lived Obesity: 0: 8205 1: 1918 NaN: 0\n",
      "died Smoker: 0: 756 1: 68 NaN: 0\n",
      "lived Smoker: 0: 7869 1: 2254 NaN: 0\n",
      "died Transfer: 0: 473 1: 351 NaN: 0\n",
      "lived Transfer: 0: 5174 1: 4949 NaN: 0\n",
      "\n",
      "Categorical Columns\n",
      "died MaxLEAIS: MaxLEAIS\n",
      "0    515\n",
      "3    112\n",
      "2     81\n",
      "5     71\n",
      "4     43\n",
      "1      2\n",
      "Name: count, dtype: int64\n",
      "died MaxLEAIS NaN: 0\n",
      "lived MaxLEAIS: MaxLEAIS\n",
      "0    6287\n",
      "3    1321\n",
      "2    1230\n",
      "4     771\n",
      "5     475\n",
      "1      39\n",
      "Name: count, dtype: int64\n",
      "lived MaxLEAIS NaN: 0\n",
      "died CauseOfDeath: CauseOfDeath\n",
      "TBI                                       105\n",
      "resp failure                               92\n",
      "SDH                                        40\n",
      "Resp failure                               16\n",
      "RESP FAILURE                               13\n",
      "                                         ... \n",
      "Respiratory failure/kidney failure/GLF      1\n",
      "CARDIOGENIC SHOCK                           1\n",
      "TBA                                         1\n",
      "resp Failure / SDH                          1\n",
      "hypoxic arrest--hemorrhagic shock.          1\n",
      "Name: count, Length: 429, dtype: int64\n",
      "died CauseOfDeath NaN: 13\n",
      "lived CauseOfDeath: CauseOfDeath\n",
      "na    2\n",
      "AN    1\n",
      "Name: count, dtype: int64\n",
      "lived CauseOfDeath NaN: 10120\n",
      "died MaxChestAIS: MaxChestAIS\n",
      "0    334\n",
      "3    238\n",
      "4    124\n",
      "2     69\n",
      "5     40\n",
      "1     18\n",
      "6      1\n",
      "Name: count, dtype: int64\n",
      "died MaxChestAIS NaN: 0\n",
      "lived MaxChestAIS: MaxChestAIS\n",
      "0    4590\n",
      "3    3169\n",
      "4     993\n",
      "2     904\n",
      "1     267\n",
      "5     195\n",
      "6       5\n",
      "Name: count, dtype: int64\n",
      "lived MaxChestAIS NaN: 0\n",
      "died Sex: Sex\n",
      "M             572\n",
      "F             252\n",
      "Name: count, dtype: int64\n",
      "died Sex NaN: 0\n",
      "lived Sex: Sex\n",
      "M             7173\n",
      "F             2950\n",
      "Name: count, dtype: int64\n",
      "lived Sex NaN: 0\n",
      "died MaxAbdAIS: MaxAbdAIS\n",
      "0    603\n",
      "2     70\n",
      "4     69\n",
      "3     51\n",
      "5     21\n",
      "1     10\n",
      "Name: count, dtype: int64\n",
      "died MaxAbdAIS NaN: 0\n",
      "lived MaxAbdAIS: MaxAbdAIS\n",
      "0    7497\n",
      "2     962\n",
      "3     780\n",
      "4     607\n",
      "5     188\n",
      "1      89\n",
      "Name: count, dtype: int64\n",
      "lived MaxAbdAIS NaN: 0\n",
      "died MaxSpineAIS: MaxSpineAIS\n",
      "0    394\n",
      "2    226\n",
      "3     84\n",
      "6     54\n",
      "5     33\n",
      "4     28\n",
      "1      5\n",
      "Name: count, dtype: int64\n",
      "died MaxSpineAIS NaN: 0\n",
      "lived MaxSpineAIS: MaxSpineAIS\n",
      "0    6145\n",
      "2    2432\n",
      "3     867\n",
      "4     347\n",
      "5     237\n",
      "1      77\n",
      "6      18\n",
      "Name: count, dtype: int64\n",
      "lived MaxSpineAIS NaN: 0\n",
      "died MaxHeadAIS: MaxHeadAIS\n",
      "0    349\n",
      "5    282\n",
      "4     83\n",
      "3     62\n",
      "2     41\n",
      "6      5\n",
      "1      2\n",
      "Name: count, dtype: int64\n",
      "died MaxHeadAIS NaN: 0\n",
      "lived MaxHeadAIS: MaxHeadAIS\n",
      "0    6273\n",
      "2    1645\n",
      "3    1012\n",
      "4     658\n",
      "5     400\n",
      "1     135\n",
      "Name: count, dtype: int64\n",
      "lived MaxHeadAIS NaN: 0\n",
      "died TraumaType: TraumaType\n",
      "B              742\n",
      "P               59\n",
      "OTHER           23\n",
      "Name: count, dtype: int64\n",
      "died TraumaType NaN: 0\n",
      "lived TraumaType: TraumaType\n",
      "B              8895\n",
      "P              1155\n",
      "OTHER            72\n",
      "SKIN              1\n",
      "Name: count, dtype: int64\n",
      "lived TraumaType NaN: 0\n"
     ]
    }
   ],
   "execution_count": 24
  },
  {
   "metadata": {
    "ExecuteTime": {
     "end_time": "2025-02-07T20:38:44.485895Z",
     "start_time": "2025-02-07T20:38:44.481366Z"
    }
   },
   "cell_type": "code",
   "source": "raw_patient_data['Age'].describe()",
   "id": "61334115a57c4353",
   "outputs": [
    {
     "data": {
      "text/plain": [
       "count    10947.000000\n",
       "mean        50.611674\n",
       "std         20.802562\n",
       "min         18.000000\n",
       "25%         32.000000\n",
       "50%         50.000000\n",
       "75%         66.000000\n",
       "max        104.000000\n",
       "Name: Age, dtype: float64"
      ]
     },
     "execution_count": 25,
     "metadata": {},
     "output_type": "execute_result"
    }
   ],
   "execution_count": 25
  },
  {
   "metadata": {
    "ExecuteTime": {
     "end_time": "2025-02-07T20:38:44.515065Z",
     "start_time": "2025-02-07T20:38:44.512280Z"
    }
   },
   "cell_type": "code",
   "source": [
    "def do_hist_plot(df: pd.DataFrame, col_: str):\n",
    "    ax = df[col_].hist()\n",
    "    ax.set_title(col_)\n",
    "    ax.set_xlabel(col_)\n",
    "    ax.set_ylabel('Count')\n",
    "    plt.show()\n",
    "\n",
    "def do_box_plot(df: pd.DataFrame, col_: str):\n",
    "    print(df[col_].describe())\n",
    "    ax = df[col_].plot.box()\n",
    "    # ax.set_title(col_)\n",
    "    # ax.set_xlabel(col_)\n",
    "    ax.set_ylabel('Count')\n",
    "    plt.show()"
   ],
   "id": "8602a6f99a7b4aaa",
   "outputs": [],
   "execution_count": 26
  },
  {
   "metadata": {
    "ExecuteTime": {
     "end_time": "2025-02-07T20:38:44.600103Z",
     "start_time": "2025-02-07T20:38:44.542428Z"
    }
   },
   "cell_type": "code",
   "source": "do_hist_plot(filtered_patient_data, 'Age')",
   "id": "bc1a7a00b6bb51a9",
   "outputs": [
    {
     "data": {
      "text/plain": [
       "<Figure size 640x480 with 1 Axes>"
      ],
      "image/png": "[encoded data removed]"
     },
     "metadata": {},
     "output_type": "display_data"
    }
   ],
   "execution_count": 27
  },
  {
   "metadata": {
    "ExecuteTime": {
     "end_time": "2025-02-07T20:38:44.668247Z",
     "start_time": "2025-02-07T20:38:44.613791Z"
    }
   },
   "cell_type": "code",
   "source": "do_hist_plot(filtered_patient_data, 'Sex')",
   "id": "c65dc1895c330c44",
   "outputs": [
    {
     "data": {
      "text/plain": [
       "<Figure size 640x480 with 1 Axes>"
      ],
      "image/png": "[encoded data removed]"
     },
     "metadata": {},
     "output_type": "display_data"
    }
   ],
   "execution_count": 28
  },
  {
   "metadata": {
    "ExecuteTime": {
     "end_time": "2025-02-07T20:38:44.742760Z",
     "start_time": "2025-02-07T20:38:44.699217Z"
    }
   },
   "cell_type": "code",
   "source": "do_box_plot(filtered_patient_data, 'BMI')",
   "id": "fa6476b784610f33",
   "outputs": [
    {
     "name": "stdout",
     "output_type": "stream",
     "text": [
      "count    4032.000000\n",
      "mean       27.741567\n",
      "std        10.379439\n",
      "min         2.000000\n",
      "25%        23.000000\n",
      "50%        26.000000\n",
      "75%        30.000000\n",
      "max       303.000000\n",
      "Name: BMI, dtype: float64\n"
     ]
    },
    {
     "data": {
      "text/plain": [
       "<Figure size 640x480 with 1 Axes>"
      ],
      "image/png": "[encoded data removed]"
     },
     "metadata": {},
     "output_type": "display_data"
    }
   ],
   "execution_count": 29
  },
  {
   "metadata": {
    "ExecuteTime": {
     "end_time": "2025-02-07T20:38:44.813097Z",
     "start_time": "2025-02-07T20:38:44.773273Z"
    }
   },
   "cell_type": "code",
   "source": "do_box_plot(filtered_patient_data, 'Weight')",
   "id": "2759ed592fd1b934",
   "outputs": [
    {
     "name": "stdout",
     "output_type": "stream",
     "text": [
      "count    4176.000000\n",
      "mean       84.025330\n",
      "std        20.771393\n",
      "min         8.600000\n",
      "25%        70.000000\n",
      "50%        80.000000\n",
      "75%        95.000000\n",
      "max       241.000000\n",
      "Name: Weight, dtype: float64\n"
     ]
    },
    {
     "data": {
      "text/plain": [
       "<Figure size 640x480 with 1 Axes>"
      ],
      "image/png": "[encoded data removed]"
     },
     "metadata": {},
     "output_type": "display_data"
    }
   ],
   "execution_count": 30
  },
  {
   "metadata": {
    "ExecuteTime": {
     "end_time": "2025-02-07T20:38:44.892261Z",
     "start_time": "2025-02-07T20:38:44.846318Z"
    }
   },
   "cell_type": "code",
   "source": "do_box_plot(filtered_patient_data, 'Height')",
   "id": "a5c16e8131c7ec08",
   "outputs": [
    {
     "name": "stdout",
     "output_type": "stream",
     "text": [
      "count    4055.000000\n",
      "mean      174.707941\n",
      "std        11.794901\n",
      "min        66.000000\n",
      "25%       168.000000\n",
      "50%       176.000000\n",
      "75%       182.000000\n",
      "max       449.000000\n",
      "Name: Height, dtype: float64\n"
     ]
    },
    {
     "data": {
      "text/plain": [
       "<Figure size 640x480 with 1 Axes>"
      ],
      "image/png": "[encoded data removed]"
     },
     "metadata": {},
     "output_type": "display_data"
    }
   ],
   "execution_count": 31
  },
  {
   "metadata": {
    "ExecuteTime": {
     "end_time": "2025-02-07T20:38:44.997992Z",
     "start_time": "2025-02-07T20:38:44.926268Z"
    }
   },
   "cell_type": "code",
   "source": "do_hist_plot(filtered_patient_data, 'Obesity')",
   "id": "2e8049289a9bbeae",
   "outputs": [
    {
     "data": {
      "text/plain": [
       "<Figure size 640x480 with 1 Axes>"
      ],
      "image/png": "[encoded data removed]"
     },
     "metadata": {},
     "output_type": "display_data"
    }
   ],
   "execution_count": 32
  },
  {
   "metadata": {
    "ExecuteTime": {
     "end_time": "2025-02-07T20:38:45.094962Z",
     "start_time": "2025-02-07T20:38:45.029323Z"
    }
   },
   "cell_type": "code",
   "source": "do_hist_plot(filtered_patient_data, 'Diabetes')",
   "id": "1462bc9e45528d8b",
   "outputs": [
    {
     "data": {
      "text/plain": [
       "<Figure size 640x480 with 1 Axes>"
      ],
      "image/png": "[encoded data removed]"
     },
     "metadata": {},
     "output_type": "display_data"
    }
   ],
   "execution_count": 33
  },
  {
   "metadata": {
    "ExecuteTime": {
     "end_time": "2025-02-07T20:38:45.189212Z",
     "start_time": "2025-02-07T20:38:45.126833Z"
    }
   },
   "cell_type": "code",
   "source": "do_hist_plot(filtered_patient_data, 'Smoker')",
   "id": "dd52e5ea8e7c4251",
   "outputs": [
    {
     "data": {
      "text/plain": [
       "<Figure size 640x480 with 1 Axes>"
      ],
      "image/png": "[encoded data removed]"
     },
     "metadata": {},
     "output_type": "display_data"
    }
   ],
   "execution_count": 34
  },
  {
   "metadata": {
    "ExecuteTime": {
     "end_time": "2025-02-07T20:38:45.278970Z",
     "start_time": "2025-02-07T20:38:45.220758Z"
    }
   },
   "cell_type": "code",
   "source": "do_hist_plot(filtered_patient_data, 'Transfer')",
   "id": "9a4a82c0fc634523",
   "outputs": [
    {
     "data": {
      "text/plain": [
       "<Figure size 640x480 with 1 Axes>"
      ],
      "image/png": "[encoded data removed]"
     },
     "metadata": {},
     "output_type": "display_data"
    }
   ],
   "execution_count": 35
  },
  {
   "metadata": {
    "ExecuteTime": {
     "end_time": "2025-02-07T20:38:45.350603Z",
     "start_time": "2025-02-07T20:38:45.309778Z"
    }
   },
   "cell_type": "code",
   "source": "do_box_plot(filtered_patient_data, 'RBC_pre_ICU')",
   "id": "4f8f757ea2ca8a8e",
   "outputs": [
    {
     "name": "stdout",
     "output_type": "stream",
     "text": [
      "count    4305.000000\n",
      "mean        2.099462\n",
      "std         5.170764\n",
      "min         0.000000\n",
      "25%         0.000000\n",
      "50%         0.000000\n",
      "75%         2.000000\n",
      "max        94.000000\n",
      "Name: RBC_pre_ICU, dtype: float64\n"
     ]
    },
    {
     "data": {
      "text/plain": [
       "<Figure size 640x480 with 1 Axes>"
      ],
      "image/png": "[encoded data removed]"
     },
     "metadata": {},
     "output_type": "display_data"
    }
   ],
   "execution_count": 36
  },
  {
   "metadata": {
    "ExecuteTime": {
     "end_time": "2025-02-07T20:38:45.422211Z",
     "start_time": "2025-02-07T20:38:45.384366Z"
    }
   },
   "cell_type": "code",
   "source": "do_box_plot(filtered_patient_data, 'FFP_pre_ICU')",
   "id": "e536a27c0afd21c3",
   "outputs": [
    {
     "name": "stdout",
     "output_type": "stream",
     "text": [
      "count    4305.000000\n",
      "mean        1.801869\n",
      "std         5.173642\n",
      "min         0.000000\n",
      "25%         0.000000\n",
      "50%         0.000000\n",
      "75%         2.000000\n",
      "max        94.040000\n",
      "Name: FFP_pre_ICU, dtype: float64\n"
     ]
    },
    {
     "data": {
      "text/plain": [
       "<Figure size 640x480 with 1 Axes>"
      ],
      "image/png": "[encoded data removed]"
     },
     "metadata": {},
     "output_type": "display_data"
    }
   ],
   "execution_count": 37
  },
  {
   "metadata": {
    "ExecuteTime": {
     "end_time": "2025-02-07T20:38:45.497234Z",
     "start_time": "2025-02-07T20:38:45.453941Z"
    }
   },
   "cell_type": "code",
   "source": "do_box_plot(filtered_patient_data, 'PLT_pre_ICU')",
   "id": "bf817c540ac8891d",
   "outputs": [
    {
     "name": "stdout",
     "output_type": "stream",
     "text": [
      "count    4305.000000\n",
      "mean        0.297731\n",
      "std         0.876278\n",
      "min         0.000000\n",
      "25%         0.000000\n",
      "50%         0.000000\n",
      "75%         0.000000\n",
      "max        14.384000\n",
      "Name: PLT_pre_ICU, dtype: float64\n"
     ]
    },
    {
     "data": {
      "text/plain": [
       "<Figure size 640x480 with 1 Axes>"
      ],
      "image/png": "[encoded data removed]"
     },
     "metadata": {},
     "output_type": "display_data"
    }
   ],
   "execution_count": 38
  },
  {
   "metadata": {
    "ExecuteTime": {
     "end_time": "2025-02-07T20:38:45.568550Z",
     "start_time": "2025-02-07T20:38:45.527794Z"
    }
   },
   "cell_type": "code",
   "source": "do_box_plot(filtered_patient_data, 'InitLactate')",
   "id": "7076ecce67abb456",
   "outputs": [
    {
     "name": "stdout",
     "output_type": "stream",
     "text": [
      "count    4305.000000\n",
      "mean        4.427178\n",
      "std         3.076669\n",
      "min         2.000000\n",
      "25%         2.600000\n",
      "50%         3.400000\n",
      "75%         5.000000\n",
      "max        29.000000\n",
      "Name: InitLactate, dtype: float64\n"
     ]
    },
    {
     "data": {
      "text/plain": [
       "<Figure size 640x480 with 1 Axes>"
      ],
      "image/png": "[encoded data removed]"
     },
     "metadata": {},
     "output_type": "display_data"
    }
   ],
   "execution_count": 39
  },
  {
   "metadata": {
    "ExecuteTime": {
     "end_time": "2025-02-07T20:38:45.643783Z",
     "start_time": "2025-02-07T20:38:45.600989Z"
    }
   },
   "cell_type": "code",
   "source": "do_box_plot(filtered_patient_data, 'lactate_value_ICU')",
   "id": "f69f53d3abd3503a",
   "outputs": [
    {
     "name": "stdout",
     "output_type": "stream",
     "text": [
      "count    4305.000000\n",
      "mean        3.346132\n",
      "std         2.220582\n",
      "min         0.500000\n",
      "25%         2.100000\n",
      "50%         2.900000\n",
      "75%         3.900000\n",
      "max        29.000000\n",
      "Name: lactate_value_ICU, dtype: float64\n"
     ]
    },
    {
     "data": {
      "text/plain": [
       "<Figure size 640x480 with 1 Axes>"
      ],
      "image/png": "[encoded data removed]"
     },
     "metadata": {},
     "output_type": "display_data"
    }
   ],
   "execution_count": 40
  },
  {
   "metadata": {
    "ExecuteTime": {
     "end_time": "2025-02-07T20:38:45.729562Z",
     "start_time": "2025-02-07T20:38:45.675706Z"
    }
   },
   "cell_type": "code",
   "source": "do_hist_plot(filtered_patient_data, 'TraumaType')",
   "id": "c0adf2f020b00ed8",
   "outputs": [
    {
     "data": {
      "text/plain": [
       "<Figure size 640x480 with 1 Axes>"
      ],
      "image/png": "[encoded data removed]"
     },
     "metadata": {},
     "output_type": "display_data"
    }
   ],
   "execution_count": 41
  },
  {
   "metadata": {
    "ExecuteTime": {
     "end_time": "2025-02-07T20:38:45.856889Z",
     "start_time": "2025-02-07T20:38:45.760643Z"
    }
   },
   "cell_type": "code",
   "source": "do_hist_plot(filtered_patient_data, 'MaxHeadAIS')",
   "id": "9f484559b6a39fe0",
   "outputs": [
    {
     "data": {
      "text/plain": [
       "<Figure size 640x480 with 1 Axes>"
      ],
      "image/png": "[encoded data removed]"
     },
     "metadata": {},
     "output_type": "display_data"
    }
   ],
   "execution_count": 42
  },
  {
   "metadata": {
    "ExecuteTime": {
     "end_time": "2025-02-07T20:38:45.950476Z",
     "start_time": "2025-02-07T20:38:45.886304Z"
    }
   },
   "cell_type": "code",
   "source": "do_hist_plot(filtered_patient_data, 'MaxChestAIS')",
   "id": "95631d8433fe280f",
   "outputs": [
    {
     "data": {
      "text/plain": [
       "<Figure size 640x480 with 1 Axes>"
      ],
      "image/png": "[encoded data removed]"
     },
     "metadata": {},
     "output_type": "display_data"
    }
   ],
   "execution_count": 43
  },
  {
   "metadata": {
    "ExecuteTime": {
     "end_time": "2025-02-07T20:38:46.037529Z",
     "start_time": "2025-02-07T20:38:45.980366Z"
    }
   },
   "cell_type": "code",
   "source": "do_hist_plot(filtered_patient_data, 'MaxAbdAIS')",
   "id": "30630c10c1f8d3a8",
   "outputs": [
    {
     "data": {
      "text/plain": [
       "<Figure size 640x480 with 1 Axes>"
      ],
      "image/png": "[encoded data removed]"
     },
     "metadata": {},
     "output_type": "display_data"
    }
   ],
   "execution_count": 44
  },
  {
   "metadata": {
    "ExecuteTime": {
     "end_time": "2025-02-07T20:38:46.126722Z",
     "start_time": "2025-02-07T20:38:46.067574Z"
    }
   },
   "cell_type": "code",
   "source": "do_hist_plot(filtered_patient_data, 'MaxSpineAIS')",
   "id": "149c552cbcfdf363",
   "outputs": [
    {
     "data": {
      "text/plain": [
       "<Figure size 640x480 with 1 Axes>"
      ],
      "image/png": "[encoded data removed]"
     },
     "metadata": {},
     "output_type": "display_data"
    }
   ],
   "execution_count": 45
  },
  {
   "metadata": {
    "ExecuteTime": {
     "end_time": "2025-02-07T20:38:46.242407Z",
     "start_time": "2025-02-07T20:38:46.186176Z"
    }
   },
   "cell_type": "code",
   "source": "do_hist_plot(filtered_patient_data, 'MaxLEAIS')",
   "id": "8cbd50c9e8c4b872",
   "outputs": [
    {
     "data": {
      "text/plain": [
       "<Figure size 640x480 with 1 Axes>"
      ],
      "image/png": "[encoded data removed]"
     },
     "metadata": {},
     "output_type": "display_data"
    }
   ],
   "execution_count": 46
  },
  {
   "metadata": {
    "ExecuteTime": {
     "end_time": "2025-02-07T20:38:46.310255Z",
     "start_time": "2025-02-07T20:38:46.247285Z"
    }
   },
   "cell_type": "code",
   "source": "do_hist_plot(filtered_patient_data, 'Deceased')",
   "id": "b48de43072932c32",
   "outputs": [
    {
     "data": {
      "text/plain": [
       "<Figure size 640x480 with 1 Axes>"
      ],
      "image/png": "[encoded data removed]"
     },
     "metadata": {},
     "output_type": "display_data"
    }
   ],
   "execution_count": 47
  },
  {
   "metadata": {},
   "cell_type": "markdown",
   "source": [
    "# Correct BMI\n",
    "\n",
    "Dr. Beni believes Height is the only issue with the BMI calculations. The outliers need to be addressed."
   ],
   "id": "1bee3203a2ab83b7"
  },
  {
   "metadata": {
    "ExecuteTime": {
     "end_time": "2025-02-07T20:38:46.389187Z",
     "start_time": "2025-02-07T20:38:46.342338Z"
    }
   },
   "cell_type": "code",
   "source": "do_box_plot(filtered_patient_data, 'Height')",
   "id": "b32d63259722b3c2",
   "outputs": [
    {
     "name": "stdout",
     "output_type": "stream",
     "text": [
      "count    4055.000000\n",
      "mean      174.707941\n",
      "std        11.794901\n",
      "min        66.000000\n",
      "25%       168.000000\n",
      "50%       176.000000\n",
      "75%       182.000000\n",
      "max       449.000000\n",
      "Name: Height, dtype: float64\n"
     ]
    },
    {
     "data": {
      "text/plain": [
       "<Figure size 640x480 with 1 Axes>"
      ],
      "image/png": "[encoded data removed]"
     },
     "metadata": {},
     "output_type": "display_data"
    }
   ],
   "execution_count": 48
  },
  {
   "metadata": {
    "ExecuteTime": {
     "end_time": "2025-02-07T20:38:46.424148Z",
     "start_time": "2025-02-07T20:38:46.421276Z"
    }
   },
   "cell_type": "code",
   "source": [
    "# 300 cm is almost 10 feet - mark these patient heights as unknown \n",
    "filtered_patient_data.loc[filtered_patient_data['Height'] >= 300, 'Height'] = np.nan"
   ],
   "id": "f0a3230a1089da0e",
   "outputs": [],
   "execution_count": 49
  },
  {
   "metadata": {
    "ExecuteTime": {
     "end_time": "2025-02-07T20:38:46.457662Z",
     "start_time": "2025-02-07T20:38:46.453510Z"
    }
   },
   "cell_type": "code",
   "source": [
    "# these appear to be in inches - convert them to cm\n",
    "filtered_patient_data[filtered_patient_data['Height'] < 100]['Height']"
   ],
   "id": "4f70c225584af154",
   "outputs": [
    {
     "data": {
      "text/plain": [
       "1542    66.0\n",
       "2642    74.0\n",
       "3486    78.0\n",
       "4018    70.0\n",
       "4278    66.0\n",
       "5115    72.0\n",
       "5148    73.0\n",
       "5634    71.0\n",
       "Name: Height, dtype: float64"
      ]
     },
     "execution_count": 50,
     "metadata": {},
     "output_type": "execute_result"
    }
   ],
   "execution_count": 50
  },
  {
   "metadata": {
    "ExecuteTime": {
     "end_time": "2025-02-07T20:38:46.511824Z",
     "start_time": "2025-02-07T20:38:46.509Z"
    }
   },
   "cell_type": "code",
   "source": "filtered_patient_data.loc[filtered_patient_data['Height'] < 100, 'Height'] = filtered_patient_data.loc[filtered_patient_data['Height'] < 100, 'Height'].apply(lambda h: h * 2.54)",
   "id": "5eefb3e79f896bf9",
   "outputs": [],
   "execution_count": 51
  },
  {
   "metadata": {
    "ExecuteTime": {
     "end_time": "2025-02-07T20:38:46.579058Z",
     "start_time": "2025-02-07T20:38:46.539588Z"
    }
   },
   "cell_type": "code",
   "source": "do_box_plot(filtered_patient_data, 'Height')",
   "id": "60a05bc90bb63b52",
   "outputs": [
    {
     "name": "stdout",
     "output_type": "stream",
     "text": [
      "count    4054.000000\n",
      "mean      174.856808\n",
      "std         9.983577\n",
      "min       110.000000\n",
      "25%       168.000000\n",
      "50%       176.000000\n",
      "75%       182.000000\n",
      "max       203.000000\n",
      "Name: Height, dtype: float64\n"
     ]
    },
    {
     "data": {
      "text/plain": [
       "<Figure size 640x480 with 1 Axes>"
      ],
      "image/png": "[encoded data removed]"
     },
     "metadata": {},
     "output_type": "display_data"
    }
   ],
   "execution_count": 52
  },
  {
   "metadata": {
    "ExecuteTime": {
     "end_time": "2025-02-07T20:38:46.658293Z",
     "start_time": "2025-02-07T20:38:46.608700Z"
    }
   },
   "cell_type": "code",
   "source": "filtered_patient_data['BMI'].plot.box()",
   "id": "28d3fca6c4fc083a",
   "outputs": [
    {
     "data": {
      "text/plain": [
       "<Axes: >"
      ]
     },
     "execution_count": 53,
     "metadata": {},
     "output_type": "execute_result"
    },
    {
     "data": {
      "text/plain": [
       "<Figure size 640x480 with 1 Axes>"
      ],
      "image/png": "[encoded data removed]"
     },
     "metadata": {},
     "output_type": "display_data"
    }
   ],
   "execution_count": 53
  },
  {
   "metadata": {
    "ExecuteTime": {
     "end_time": "2025-02-07T20:38:46.771018Z",
     "start_time": "2025-02-07T20:38:46.689414Z"
    }
   },
   "cell_type": "code",
   "source": [
    "# update BMI\n",
    "filtered_patient_data['Corrected_BMI'] = filtered_patient_data[['Height', 'Weight']].apply(lambda h_w_tup: 10000 * h_w_tup['Weight'] / np.power(h_w_tup['Height'], 2), axis=1)\n",
    "print(filtered_patient_data['Corrected_BMI'].describe())\n",
    "filtered_patient_data['Corrected_BMI'].plot.box()"
   ],
   "id": "7f416c91a3e42ade",
   "outputs": [
    {
     "name": "stdout",
     "output_type": "stream",
     "text": [
      "count    4031.000000\n",
      "mean       27.462558\n",
      "std         6.158779\n",
      "min         2.808163\n",
      "25%        23.306680\n",
      "50%        26.448980\n",
      "75%        30.453741\n",
      "max        73.437500\n",
      "Name: Corrected_BMI, dtype: float64\n"
     ]
    },
    {
     "data": {
      "text/plain": [
       "<Axes: >"
      ]
     },
     "execution_count": 54,
     "metadata": {},
     "output_type": "execute_result"
    },
    {
     "data": {
      "text/plain": [
       "<Figure size 640x480 with 1 Axes>"
      ],
      "image/png": "[encoded data removed]"
     },
     "metadata": {},
     "output_type": "display_data"
    }
   ],
   "execution_count": 54
  },
  {
   "metadata": {
    "ExecuteTime": {
     "end_time": "2025-02-07T20:38:46.833803Z",
     "start_time": "2025-02-07T20:38:46.829039Z"
    }
   },
   "cell_type": "code",
   "source": "filtered_patient_data.loc[filtered_patient_data['Corrected_BMI'] > 100, ['Height', 'Weight', 'BMI']]",
   "id": "1b253bec47a961a1",
   "outputs": [
    {
     "data": {
      "text/plain": [
       "Empty DataFrame\n",
       "Columns: [Height, Weight, BMI]\n",
       "Index: []"
      ],
      "text/html": [
       "<div>\n",
       "<style scoped>\n",
       "    .dataframe tbody tr th:only-of-type {\n",
       "        vertical-align: middle;\n",
       "    }\n",
       "\n",
       "    .dataframe tbody tr th {\n",
       "        vertical-align: top;\n",
       "    }\n",
       "\n",
       "    .dataframe thead th {\n",
       "        text-align: right;\n",
       "    }\n",
       "</style>\n",
       "<table border=\"1\" class=\"dataframe\">\n",
       "  <thead>\n",
       "    <tr style=\"text-align: right;\">\n",
       "      <th></th>\n",
       "      <th>Height</th>\n",
       "      <th>Weight</th>\n",
       "      <th>BMI</th>\n",
       "    </tr>\n",
       "  </thead>\n",
       "  <tbody>\n",
       "  </tbody>\n",
       "</table>\n",
       "</div>"
      ]
     },
     "execution_count": 55,
     "metadata": {},
     "output_type": "execute_result"
    }
   ],
   "execution_count": 55
  },
  {
   "metadata": {
    "ExecuteTime": {
     "end_time": "2025-02-07T20:38:46.865162Z",
     "start_time": "2025-02-07T20:38:46.860789Z"
    }
   },
   "cell_type": "code",
   "source": [
    "# Reload data for Dr. O'Keefe's Statistics Request\n",
    "pd.concat([compiled_patient_data_2012_2015['Race'], compiled_patient_data_2016_2019['Race']]).value_counts()"
   ],
   "id": "43fecd9d69f90e45",
   "outputs": [
    {
     "data": {
      "text/plain": [
       "Race\n",
       "W                                                                              1735\n",
       "W                                                                              1272\n",
       "BL                                                                              281\n",
       "NOT                                                                             237\n",
       "BL                                                                              204\n",
       "A                                                                               155\n",
       "A                                                                               106\n",
       "NOT                                                                              92\n",
       "NAT                                                                              85\n",
       "NAT                                                                              70\n",
       "P                                                                                32\n",
       "O                                                                                22\n",
       "P                                                                                12\n",
       "O                                                                                 2\n",
       "Name: count, dtype: int64"
      ]
     },
     "execution_count": 56,
     "metadata": {},
     "output_type": "execute_result"
    }
   ],
   "execution_count": 56
  },
  {
   "metadata": {
    "ExecuteTime": {
     "end_time": "2025-02-07T20:38:46.938873Z",
     "start_time": "2025-02-07T20:38:46.935100Z"
    }
   },
   "cell_type": "code",
   "source": "pd.concat([compiled_patient_data_2012_2015['Race'], compiled_patient_data_2016_2019['Race']]).isna().sum()",
   "id": "3d7153b69ec4ab1b",
   "outputs": [
    {
     "data": {
      "text/plain": [
       "0"
      ]
     },
     "execution_count": 57,
     "metadata": {},
     "output_type": "execute_result"
    }
   ],
   "execution_count": 57
  },
  {
   "metadata": {
    "ExecuteTime": {
     "end_time": "2025-02-07T20:38:47.002046Z",
     "start_time": "2025-02-07T20:38:46.996262Z"
    }
   },
   "cell_type": "code",
   "source": "pd.concat([compiled_patient_data_2012_2015['ISS'], compiled_patient_data_2016_2019['ISS']]).describe()",
   "id": "d376a70282aa84f7",
   "outputs": [
    {
     "data": {
      "text/plain": [
       "count    4305.000000\n",
       "mean       24.717305\n",
       "std        15.493515\n",
       "min         0.000000\n",
       "25%        14.000000\n",
       "50%        22.000000\n",
       "75%        34.000000\n",
       "max        75.000000\n",
       "Name: ISS, dtype: float64"
      ]
     },
     "execution_count": 58,
     "metadata": {},
     "output_type": "execute_result"
    }
   ],
   "execution_count": 58
  },
  {
   "metadata": {
    "ExecuteTime": {
     "end_time": "2025-02-07T20:38:47.071479Z",
     "start_time": "2025-02-07T20:38:47.068135Z"
    }
   },
   "cell_type": "code",
   "source": "pd.concat([compiled_patient_data_2012_2015['ISS'], compiled_patient_data_2016_2019['ISS']]).isna().sum()",
   "id": "973a0816298a81fc",
   "outputs": [
    {
     "data": {
      "text/plain": [
       "0"
      ]
     },
     "execution_count": 59,
     "metadata": {},
     "output_type": "execute_result"
    }
   ],
   "execution_count": 59
  },
  {
   "metadata": {
    "ExecuteTime": {
     "end_time": "2025-02-07T20:38:47.109966Z",
     "start_time": "2025-02-07T20:38:47.106546Z"
    }
   },
   "cell_type": "code",
   "source": "pd.concat([compiled_patient_data_2012_2015['MaxNeckAIS'], compiled_patient_data_2016_2019['MaxNeckAIS']]).value_counts()",
   "id": "81d1680d01678f20",
   "outputs": [
    {
     "data": {
      "text/plain": [
       "MaxNeckAIS\n",
       "0    3819\n",
       "3     262\n",
       "2     160\n",
       "4      43\n",
       "5      14\n",
       "1       7\n",
       "Name: count, dtype: int64"
      ]
     },
     "execution_count": 60,
     "metadata": {},
     "output_type": "execute_result"
    }
   ],
   "execution_count": 60
  },
  {
   "metadata": {
    "ExecuteTime": {
     "end_time": "2025-02-07T20:38:47.172534Z",
     "start_time": "2025-02-07T20:38:47.169638Z"
    }
   },
   "cell_type": "code",
   "source": "compiled_patient_data_2012_2015.shape[0] + compiled_patient_data_2016_2019.shape[0]",
   "id": "729b87c5ff5c3333",
   "outputs": [
    {
     "data": {
      "text/plain": [
       "4305"
      ]
     },
     "execution_count": 61,
     "metadata": {},
     "output_type": "execute_result"
    }
   ],
   "execution_count": 61
  },
  {
   "metadata": {
    "ExecuteTime": {
     "end_time": "2025-02-07T20:38:47.217351Z",
     "start_time": "2025-02-07T20:38:47.212570Z"
    }
   },
   "cell_type": "code",
   "source": "filtered_patient_data['Age'].describe()",
   "id": "7b5b844e8ad4372f",
   "outputs": [
    {
     "data": {
      "text/plain": [
       "count    4305.000000\n",
       "mean       44.552381\n",
       "std        18.746787\n",
       "min        18.000000\n",
       "25%        28.000000\n",
       "50%        43.000000\n",
       "75%        58.000000\n",
       "max       101.000000\n",
       "Name: Age, dtype: float64"
      ]
     },
     "execution_count": 62,
     "metadata": {},
     "output_type": "execute_result"
    }
   ],
   "execution_count": 62
  },
  {
   "metadata": {
    "ExecuteTime": {
     "end_time": "2025-02-07T20:38:47.327215Z",
     "start_time": "2025-02-07T20:38:47.321382Z"
    }
   },
   "cell_type": "code",
   "source": "filtered_patient_data['Corrected_BMI'].describe()",
   "id": "99745e7294223ee0",
   "outputs": [
    {
     "data": {
      "text/plain": [
       "count    4031.000000\n",
       "mean       27.462558\n",
       "std         6.158779\n",
       "min         2.808163\n",
       "25%        23.306680\n",
       "50%        26.448980\n",
       "75%        30.453741\n",
       "max        73.437500\n",
       "Name: Corrected_BMI, dtype: float64"
      ]
     },
     "execution_count": 63,
     "metadata": {},
     "output_type": "execute_result"
    }
   ],
   "execution_count": 63
  },
  {
   "metadata": {
    "ExecuteTime": {
     "end_time": "2025-02-07T20:38:47.374447Z",
     "start_time": "2025-02-07T20:38:47.370207Z"
    }
   },
   "cell_type": "code",
   "source": "(filtered_patient_data['StudyID'] == pd.concat([compiled_patient_data_2012_2015['StudyID'], compiled_patient_data_2016_2019['StudyID']])).all()",
   "id": "635b5b28432ed0be",
   "outputs": [
    {
     "data": {
      "text/plain": [
       "True"
      ]
     },
     "execution_count": 64,
     "metadata": {},
     "output_type": "execute_result"
    }
   ],
   "execution_count": 64
  },
  {
   "metadata": {
    "ExecuteTime": {
     "end_time": "2025-02-07T20:38:47.469996Z",
     "start_time": "2025-02-07T20:38:47.461463Z"
    }
   },
   "cell_type": "code",
   "source": "filtered_patient_data['StudyID'].to_csv('<path_to_temp>/filtered_study_ids.csv', index=False)",
   "id": "4aca8cc1f9a58209",
   "outputs": [],
   "execution_count": 65
  },
  {
   "metadata": {
    "ExecuteTime": {
     "end_time": "2025-02-07T20:38:48.027931Z",
     "start_time": "2025-02-07T20:38:47.512220Z"
    }
   },
   "cell_type": "code",
   "source": [
    "unique_data_points = set()\n",
    "unique_data_points.update(pd.read_csv('<path_to_dataset>/2012-2015_compiled_patient_data_with_cohorts_no_L_required_new_IVF_EarlyLateBolus.csv').columns)\n",
    "unique_data_points.update(pd.read_csv('<path_to_dataset>/2012-2015_compiled_patient_data_with_cohorts_no_L_required_new_IVF_EarlyLateBolus.csv').columns)\n",
    "unique_data_points.update({\n",
    "    'FiO2',\n",
    "    'Creatinine',\n",
    "    'DBP',\n",
    "    'HCO3',\n",
    "    'hgb',\n",
    "    'UOP',\n",
    "    'HR',\n",
    "    'INR',\n",
    "    'IVF',\n",
    "    'lactate',\n",
    "    'MAP',\n",
    "    'PaCO2',\n",
    "    'PaO2',\n",
    "    'pH',\n",
    "    'Vassopressors',\n",
    "    'RR',\n",
    "    'SBP',\n",
    "    'SpO2',\n",
    "    'Temp',\n",
    "})\n",
    "unique_data_points"
   ],
   "id": "e1838d82c3cccee5",
   "outputs": [
    {
     "name": "stderr",
     "output_type": "stream",
     "text": [
      "/var/folders/vf/695131157rl2pvb9_s5zykbh0000gn/T/ipykernel_55698/2843372351.py:2: DtypeWarning: Columns (1,2,133) have mixed types. Specify dtype option on import or set low_memory=False.\n",
      "  unique_data_points.update(pd.read_csv('/Users/larry/Documents/UWT/Thesis Work/rec_sys/datasets/trauma_icu_resuscitation/2012-2015_compiled_patient_data_with_cohorts_no_L_required_new_IVF_EarlyLateBolus.csv').columns)\n",
      "/var/folders/vf/695131157rl2pvb9_s5zykbh0000gn/T/ipykernel_55698/2843372351.py:3: DtypeWarning: Columns (1,2,133) have mixed types. Specify dtype option on import or set low_memory=False.\n",
      "  unique_data_points.update(pd.read_csv('/Users/larry/Documents/UWT/Thesis Work/rec_sys/datasets/trauma_icu_resuscitation/2012-2015_compiled_patient_data_with_cohorts_no_L_required_new_IVF_EarlyLateBolus.csv').columns)\n"
     ]
    },
    {
     "data": {
      "text/plain": [
       "{'AKI_Durations',\n",
       " 'AKI_Flag',\n",
       " 'AKI_High_Cr_flag',\n",
       " 'AKI_Max_Cr',\n",
       " 'AKI_Number',\n",
       " 'AKI_Offsets',\n",
       " 'AKI_Oliguria_flag',\n",
       " 'AKI_Onset_hours',\n",
       " 'AKI_Onsets',\n",
       " 'AKI_Ref_Cr',\n",
       " 'AKI_Stages',\n",
       " 'AKI_Worst_Stage',\n",
       " 'AKI_hours_nan',\n",
       " 'AKIv2',\n",
       " 'ARDS',\n",
       " 'ARDS_P_to_F',\n",
       " 'AbdAIS',\n",
       " 'AdmitDtTm',\n",
       " 'Admit_Year',\n",
       " 'Age',\n",
       " 'Alive_no_norm_lactate',\n",
       " 'Any_FFP_ICU',\n",
       " 'Any_PLT_ICU',\n",
       " 'Any_RBC_ICU',\n",
       " 'Any_blood_ICU',\n",
       " 'Ascites',\n",
       " 'BMI',\n",
       " 'BUN_DtTm_ICU',\n",
       " 'BUN_DtTm_ICU_48',\n",
       " 'BUN_DtTm_lactate2',\n",
       " 'BUN_hrs_btwn_ICU',\n",
       " 'BUN_hrs_btwn_ICU_48',\n",
       " 'BUN_hrs_btwn_lactate2',\n",
       " 'BUN_value_ICU',\n",
       " 'BUN_value_ICU_48',\n",
       " 'BUN_value_lactate2',\n",
       " 'Blunt',\n",
       " 'CHF',\n",
       " 'CKD',\n",
       " 'COPD',\n",
       " 'CVA',\n",
       " 'CauseOfDeath',\n",
       " 'Censored',\n",
       " 'ChestAIS',\n",
       " 'Cirrhosis',\n",
       " 'Coagulopathy',\n",
       " 'Cohort',\n",
       " 'Cohort_ED_OR_or_blood',\n",
       " 'Cohort_ED_blood',\n",
       " 'Cohort_ED_blood_ICU_L_over_2',\n",
       " 'Cohort_ICU_L_over_2',\n",
       " 'Cohort_ICU_L_over_4',\n",
       " 'Cohort_L_over_4',\n",
       " 'Complications',\n",
       " 'Creatinine',\n",
       " 'Creatinine_DtTm_ICU',\n",
       " 'Creatinine_DtTm_ICU_48',\n",
       " 'Creatinine_DtTm_lactate2',\n",
       " 'Creatinine_hrs_btwn_ICU',\n",
       " 'Creatinine_hrs_btwn_ICU_48',\n",
       " 'Creatinine_hrs_btwn_lactate2',\n",
       " 'Creatinine_value_ICU',\n",
       " 'Creatinine_value_ICU_48',\n",
       " 'Creatinine_value_lactate2',\n",
       " 'DBP',\n",
       " 'Death_after_48_hrs',\n",
       " 'Death_by_24_hrs',\n",
       " 'Death_by_3_hrs',\n",
       " 'Death_by_48_hrs',\n",
       " 'Deceased',\n",
       " 'Dementia',\n",
       " 'Dependent',\n",
       " 'Diabetes',\n",
       " 'DischargeDtTm',\n",
       " 'Dispo',\n",
       " 'Dispo_pattern',\n",
       " 'ED_IVF',\n",
       " 'ER_Dispo',\n",
       " 'ER_Dispo_OR',\n",
       " 'EarlyBolus_NEW',\n",
       " 'EarlyDeath',\n",
       " 'EarlyLateBolus_NEW',\n",
       " 'EtOH_DtTm_ICU',\n",
       " 'EtOH_DtTm_ICU_48',\n",
       " 'EtOH_DtTm_lactate2',\n",
       " 'EtOH_Use',\n",
       " 'EtOH_hrs_btwn_ICU',\n",
       " 'EtOH_hrs_btwn_ICU_48',\n",
       " 'EtOH_hrs_btwn_lactate2',\n",
       " 'EtOH_value_ICU',\n",
       " 'EtOH_value_ICU_48',\n",
       " 'EtOH_value_lactate2',\n",
       " 'ExLap',\n",
       " 'ExtAIS',\n",
       " 'FFP_ICU',\n",
       " 'FFP_in_ICU_OR',\n",
       " 'FFP_pre_ICU',\n",
       " 'FFP_pre_ICU_ED',\n",
       " 'FFP_pre_ICU_OR',\n",
       " 'FIO2_DtTm_ICU',\n",
       " 'FIO2_DtTm_ICU_48',\n",
       " 'FIO2_DtTm_lactate2',\n",
       " 'FIO2_hrs_btwn_ICU',\n",
       " 'FIO2_hrs_btwn_ICU_48',\n",
       " 'FIO2_hrs_btwn_lactate2',\n",
       " 'FIO2_value_ICU',\n",
       " 'FIO2_value_ICU_48',\n",
       " 'FIO2_value_lactate2',\n",
       " 'FaceAIS',\n",
       " 'FiO2',\n",
       " 'First_Case_Start_Time',\n",
       " 'First_Case_Stop_Time',\n",
       " 'HCO3',\n",
       " 'HR',\n",
       " 'HTN',\n",
       " 'HeadAIS',\n",
       " 'Height',\n",
       " 'Home_dc',\n",
       " 'Home_dc_NEW',\n",
       " 'Hosp_LOS',\n",
       " 'Hours_from_ICU_to_lactate2',\n",
       " 'Hours_from_initial_lactate_to_ICU',\n",
       " 'Hours_from_initial_lactate_to_lactate2',\n",
       " 'Hours_to_ICU',\n",
       " 'Hours_to_OR',\n",
       " 'Hours_to_death',\n",
       " 'Hours_to_death_from_admit',\n",
       " 'Hours_to_last_0.5L_bolus_no_L_cutoff',\n",
       " 'Hours_to_last_1.0L_bolus_no_L_cutoff',\n",
       " 'ICUFreeDays',\n",
       " 'ICU_AdmitDtTm',\n",
       " 'ICU_LOS',\n",
       " 'INR',\n",
       " 'INR_DtTm_ICU',\n",
       " 'INR_DtTm_ICU_48',\n",
       " 'INR_DtTm_lactate2',\n",
       " 'INR_hrs_btwn_ICU',\n",
       " 'INR_hrs_btwn_ICU_48',\n",
       " 'INR_hrs_btwn_lactate2',\n",
       " 'INR_over_1.5',\n",
       " 'INR_value_ICU',\n",
       " 'INR_value_ICU_48',\n",
       " 'INR_value_lactate2',\n",
       " 'ISS',\n",
       " 'IVF',\n",
       " 'IVF_after_hr_24_before_hr_48_no_L_cutoff',\n",
       " 'IVF_before_hr_0_no_L_cutoff',\n",
       " 'IVF_before_hr_12_no_L_cutoff',\n",
       " 'IVF_before_hr_24_no_L_cutoff',\n",
       " 'IVF_before_hr_2_no_L_cutoff',\n",
       " 'IVF_before_hr_48_no_L_cutoff',\n",
       " 'IVF_before_hr_4_no_L_cutoff',\n",
       " 'IVF_before_hr_6_no_L_cutoff',\n",
       " 'IVF_in_ICU',\n",
       " 'IVF_in_ICU_OR',\n",
       " 'IVF_pre_ICU_OR',\n",
       " 'InitLactate',\n",
       " 'InitLactateDtTm',\n",
       " 'InjuryMechanism',\n",
       " 'LEAIS',\n",
       " 'Lactate2DtTm',\n",
       " 'LateBolus_NEW',\n",
       " 'Late_death',\n",
       " 'MAP',\n",
       " 'MTP',\n",
       " 'Male',\n",
       " 'MaxAbdAIS',\n",
       " 'MaxChestAIS',\n",
       " 'MaxExtAIS',\n",
       " 'MaxFaceAIS',\n",
       " 'MaxHeadAIS',\n",
       " 'MaxLEAIS',\n",
       " 'MaxNeckAIS',\n",
       " 'MaxSpineAIS',\n",
       " 'MaxUEAIS',\n",
       " 'NeckAIS',\n",
       " 'Non_home_dc',\n",
       " 'Norm_after_48_hrs',\n",
       " 'Norm_in_48_hrs',\n",
       " 'Num_0.5L_boluses_after_hr_24_before_hr_48_no_L_cutoff',\n",
       " 'Num_0.5L_boluses_after_hr_6_before_hr_48_no_L_cutoff',\n",
       " 'Num_0.5L_boluses_before_hr_0_no_L_cutoff',\n",
       " 'Num_0.5L_boluses_before_hr_12_no_L_cutoff',\n",
       " 'Num_0.5L_boluses_before_hr_24_no_L_cutoff',\n",
       " 'Num_0.5L_boluses_before_hr_2_no_L_cutoff',\n",
       " 'Num_0.5L_boluses_before_hr_48_no_L_cutoff',\n",
       " 'Num_0.5L_boluses_before_hr_4_no_L_cutoff',\n",
       " 'Num_0.5L_boluses_before_hr_6_no_L_cutoff',\n",
       " 'Num_1.0L_boluses_before_hr_0_no_L_cutoff',\n",
       " 'Num_1.0L_boluses_before_hr_12_no_L_cutoff',\n",
       " 'Num_1.0L_boluses_before_hr_24_no_L_cutoff',\n",
       " 'Num_1.0L_boluses_before_hr_2_no_L_cutoff',\n",
       " 'Num_1.0L_boluses_before_hr_48_no_L_cutoff',\n",
       " 'Num_1.0L_boluses_before_hr_4_no_L_cutoff',\n",
       " 'Num_1.0L_boluses_before_hr_6_no_L_cutoff',\n",
       " 'OR_return_hour_from_ICU',\n",
       " 'OR_return_reason',\n",
       " 'OR_returns',\n",
       " 'OR_returns_NEW',\n",
       " 'Obesity',\n",
       " 'Open_cavity',\n",
       " 'PLT_ICU',\n",
       " 'PLT_in_ICU_OR',\n",
       " 'PLT_pre_ICU',\n",
       " 'PLT_pre_ICU_ED',\n",
       " 'PLT_pre_ICU_OR',\n",
       " 'PTT_DtTm_ICU',\n",
       " 'PTT_DtTm_ICU_48',\n",
       " 'PTT_DtTm_lactate2',\n",
       " 'PTT_hrs_btwn_ICU',\n",
       " 'PTT_hrs_btwn_ICU_48',\n",
       " 'PTT_hrs_btwn_lactate2',\n",
       " 'PTT_value_ICU',\n",
       " 'PTT_value_ICU_48',\n",
       " 'PTT_value_lactate2',\n",
       " 'P_to_F_DtTm_ICU',\n",
       " 'P_to_F_DtTm_ICU_48',\n",
       " 'P_to_F_DtTm_lactate2',\n",
       " 'P_to_F_hrs_btwn_ICU',\n",
       " 'P_to_F_hrs_btwn_ICU_48',\n",
       " 'P_to_F_hrs_btwn_lactate2',\n",
       " 'P_to_F_value_ICU',\n",
       " 'P_to_F_value_ICU_48',\n",
       " 'P_to_F_value_lactate2',\n",
       " 'PaCO2',\n",
       " 'PaCO2_DtTm_ICU',\n",
       " 'PaCO2_DtTm_ICU_48',\n",
       " 'PaCO2_DtTm_lactate2',\n",
       " 'PaCO2_hrs_btwn_ICU',\n",
       " 'PaCO2_hrs_btwn_ICU_48',\n",
       " 'PaCO2_hrs_btwn_lactate2',\n",
       " 'PaCO2_value_ICU',\n",
       " 'PaCO2_value_ICU_48',\n",
       " 'PaCO2_value_lactate2',\n",
       " 'PaO2',\n",
       " 'PaO2_DtTm_ICU',\n",
       " 'PaO2_DtTm_ICU_48',\n",
       " 'PaO2_DtTm_lactate2',\n",
       " 'PaO2_hrs_btwn_ICU',\n",
       " 'PaO2_hrs_btwn_ICU_48',\n",
       " 'PaO2_hrs_btwn_lactate2',\n",
       " 'PaO2_value_ICU',\n",
       " 'PaO2_value_ICU_48',\n",
       " 'PaO2_value_lactate2',\n",
       " 'Penetrating',\n",
       " 'Platelets_DtTm_ICU',\n",
       " 'Platelets_DtTm_ICU_48',\n",
       " 'Platelets_DtTm_lactate2',\n",
       " 'Platelets_hrs_btwn_ICU',\n",
       " 'Platelets_hrs_btwn_ICU_48',\n",
       " 'Platelets_hrs_btwn_lactate2',\n",
       " 'Platelets_value_ICU',\n",
       " 'Platelets_value_ICU_48',\n",
       " 'Platelets_value_lactate2',\n",
       " 'Pregnancy',\n",
       " 'Pressors_ICU',\n",
       " 'Pressors_ICU_48',\n",
       " 'Pressors_lactate2',\n",
       " 'Pressors_used',\n",
       " 'Prop_0.5L_boluses_before_hr_0_no_L_cutoff',\n",
       " 'Prop_0.5L_boluses_before_hr_12_no_L_cutoff',\n",
       " 'Prop_0.5L_boluses_before_hr_24_no_L_cutoff',\n",
       " 'Prop_0.5L_boluses_before_hr_2_no_L_cutoff',\n",
       " 'Prop_0.5L_boluses_before_hr_48_no_L_cutoff',\n",
       " 'Prop_0.5L_boluses_before_hr_4_no_L_cutoff',\n",
       " 'Prop_0.5L_boluses_before_hr_6_no_L_cutoff',\n",
       " 'Prop_1.0L_boluses_before_hr_0_no_L_cutoff',\n",
       " 'Prop_1.0L_boluses_before_hr_12_no_L_cutoff',\n",
       " 'Prop_1.0L_boluses_before_hr_24_no_L_cutoff',\n",
       " 'Prop_1.0L_boluses_before_hr_2_no_L_cutoff',\n",
       " 'Prop_1.0L_boluses_before_hr_48_no_L_cutoff',\n",
       " 'Prop_1.0L_boluses_before_hr_4_no_L_cutoff',\n",
       " 'Prop_1.0L_boluses_before_hr_6_no_L_cutoff',\n",
       " 'Psych',\n",
       " 'RBC_ICU',\n",
       " 'RBC_in_ICU_OR',\n",
       " 'RBC_pre_ICU',\n",
       " 'RBC_pre_ICU_ED',\n",
       " 'RBC_pre_ICU_OR',\n",
       " 'RR',\n",
       " 'Race',\n",
       " 'RiskType',\n",
       " 'SBP',\n",
       " 'SNF',\n",
       " 'Severe_AKI',\n",
       " 'Sex',\n",
       " 'Smoker',\n",
       " 'SpO2',\n",
       " 'SpineAIS',\n",
       " 'Steroids',\n",
       " 'StudyID',\n",
       " 'Substance_Use',\n",
       " 'Temp',\n",
       " 'Transfer',\n",
       " 'TraumaType',\n",
       " 'UEAIS',\n",
       " 'UOP',\n",
       " 'Varices',\n",
       " 'Vassopressors',\n",
       " 'VentDays',\n",
       " 'VentFreeDays',\n",
       " 'Weight',\n",
       " 'hgb',\n",
       " 'lactate',\n",
       " 'lactate_DtTm_ICU',\n",
       " 'lactate_DtTm_ICU_48',\n",
       " 'lactate_DtTm_lactate2',\n",
       " 'lactate_hrs_btwn_ICU',\n",
       " 'lactate_hrs_btwn_ICU_48',\n",
       " 'lactate_hrs_btwn_lactate2',\n",
       " 'lactate_value_ICU',\n",
       " 'lactate_value_ICU_48',\n",
       " 'lactate_value_lactate2',\n",
       " 'pH',\n",
       " 'pH_DtTm_ICU',\n",
       " 'pH_DtTm_ICU_48',\n",
       " 'pH_DtTm_lactate2',\n",
       " 'pH_hrs_btwn_ICU',\n",
       " 'pH_hrs_btwn_ICU_48',\n",
       " 'pH_hrs_btwn_lactate2',\n",
       " 'pH_value_ICU',\n",
       " 'pH_value_ICU_48',\n",
       " 'pH_value_lactate2'}"
      ]
     },
     "execution_count": 66,
     "metadata": {},
     "output_type": "execute_result"
    }
   ],
   "execution_count": 66
  },
  {
   "metadata": {
    "ExecuteTime": {
     "end_time": "2025-02-07T20:38:48.621738Z",
     "start_time": "2025-02-07T20:38:48.050629Z"
    }
   },
   "cell_type": "code",
   "source": [
    "target_cols = {\n",
    "    'StudyID',\n",
    "    'Age',\n",
    "    'Sex',\n",
    "    'Transfer',\n",
    "    'ER_Dispo',\n",
    "    'Dispo_pattern',\n",
    "    'TraumaType',\n",
    "    'Penetrating',\n",
    "    'InjuryMechanism',\n",
    "    'ISS',\n",
    "    'MaxHeadAIS',\n",
    "    'MaxFaceAIS',\n",
    "    'MaxNeckAIS',\n",
    "    'MaxChestAIS',\n",
    "    'MaxAbdAIS',\n",
    "    'MaxSpineAIS',\n",
    "    'MaxUEAIS',\n",
    "    'MaxLEAIS',\n",
    "    'MaxExtAIS',\n",
    "    'ExLap',\n",
    "    'MTP',\n",
    "    'InitLactate',\n",
    "    'Hours_from_initial_lactate_to_lactate2',\n",
    "    'Hours_from_ICU_to_lactate2',\n",
    "    'Hours_from_initial_lactate_to_ICU',\n",
    "    'Hosp_LOS',\n",
    "    'ICU_LOS',\n",
    "    'VentDays',\n",
    "    'Deceased',\n",
    "    'CauseOfDeath',\n",
    "    'Hours_to_death',\n",
    "    'DischargeDtTm',\n",
    "    'Cohort',\n",
    "    'EarlyDeath',\n",
    "    'HeadAIS',\n",
    "    'FaceAIS',\n",
    "    'NeckAIS',\n",
    "    'ChestAIS',\n",
    "    'AbdAIS',\n",
    "    'SpineAIS',\n",
    "    'UEAIS',\n",
    "    'LEAIS',\n",
    "    'ExtAIS',\n",
    "    'Any_RBC_ICU',\n",
    "    'Any_FFP_ICU',\n",
    "    'Any_PLT_ICU',\n",
    "    'ER_Dispo_OR',\n",
    "    'OR_returns_NEW',\n",
    "    'Home_dc',\n",
    "    'VentFreeDays',\n",
    "    'ICUFreeDays',\n",
    "    'Admit_Year',\n",
    "    'Home_dc_NEW',\n",
    "    'Pressors_lactate2',\n",
    "    'Pressors_ICU',\n",
    "    'Pressors_ICU_48',\n",
    "    'Pressors_used',\n",
    "    'ARDS',\n",
    "    'ARDS_P_to_F',\n",
    "    'AKI_hours_nan',\n",
    "    'Severe_AKI',\n",
    "    'Cohort_ICU_L_over_2',\n",
    "    'Cohort_ED_OR_or_blood',\n",
    "    'Cohort_ED_blood',\n",
    "    'Cohort_ED_blood_ICU_L_over_2',\n",
    "    'Cohort_L_over_4',\n",
    "    'Cohort_ICU_L_over_4',\n",
    "    'IVF_in_ICU',\n",
    "    'IVF_before_hr_24_no_L_cutoff',\n",
    "    'IVF_before_hr_48_no_L_cutoff',\n",
    "    'Hours_to_last_0.5L_bolus_no_L_cutoff',\n",
    "    'Num_0.5L_boluses_before_hr_0_no_L_cutoff',\n",
    "    'Prop_0.5L_boluses_before_hr_0_no_L_cutoff',\n",
    "    'IVF_before_hr_0_no_L_cutoff',\n",
    "    'Num_0.5L_boluses_before_hr_2_no_L_cutoff',\n",
    "    'Prop_0.5L_boluses_before_hr_2_no_L_cutoff',\n",
    "    'IVF_before_hr_2_no_L_cutoff',\n",
    "    'Num_0.5L_boluses_before_hr_4_no_L_cutoff',\n",
    "    'Prop_0.5L_boluses_before_hr_4_no_L_cutoff',\n",
    "    'IVF_before_hr_4_no_L_cutoff',\n",
    "    'Num_0.5L_boluses_before_hr_6_no_L_cutoff',\n",
    "    'Prop_0.5L_boluses_before_hr_6_no_L_cutoff',\n",
    "    'IVF_before_hr_6_no_L_cutoff',\n",
    "    'Num_0.5L_boluses_before_hr_12_no_L_cutoff',\n",
    "    'Prop_0.5L_boluses_before_hr_12_no_L_cutoff',\n",
    "    'IVF_before_hr_12_no_L_cutoff',\n",
    "    'Num_0.5L_boluses_before_hr_24_no_L_cutoff',\n",
    "    'Prop_0.5L_boluses_before_hr_24_no_L_cutoff',\n",
    "    'Num_0.5L_boluses_before_hr_48_no_L_cutoff',\n",
    "    'Prop_0.5L_boluses_before_hr_48_no_L_cutoff',\n",
    "    'Hours_to_last_1.0L_bolus_no_L_cutoff',\n",
    "    'Num_1.0L_boluses_before_hr_0_no_L_cutoff',\n",
    "    'Prop_1.0L_boluses_before_hr_0_no_L_cutoff',\n",
    "    'Num_1.0L_boluses_before_hr_2_no_L_cutoff',\n",
    "    'Prop_1.0L_boluses_before_hr_2_no_L_cutoff',\n",
    "    'Num_1.0L_boluses_before_hr_4_no_L_cutoff',\n",
    "    'Prop_1.0L_boluses_before_hr_4_no_L_cutoff',\n",
    "    'Num_1.0L_boluses_before_hr_6_no_L_cutoff',\n",
    "    'Prop_1.0L_boluses_before_hr_6_no_L_cutoff',\n",
    "    'Num_1.0L_boluses_before_hr_12_no_L_cutoff',\n",
    "    'Prop_1.0L_boluses_before_hr_12_no_L_cutoff',\n",
    "    'Num_1.0L_boluses_before_hr_24_no_L_cutoff',\n",
    "    'Prop_1.0L_boluses_before_hr_24_no_L_cutoff',\n",
    "    'Num_1.0L_boluses_before_hr_48_no_L_cutoff',\n",
    "    'Prop_1.0L_boluses_before_hr_48_no_L_cutoff',\n",
    "    'RBC_pre_ICU',\n",
    "    'RBC_ICU_before_L2',\n",
    "    'RBC_ICU',\n",
    "    'RBC_pre_ICU_OR',\n",
    "    'RBC_pre_ICU_ED',\n",
    "    'RBC_ICU_OR',\n",
    "    'RBC_OR',\n",
    "    'PLT_pre_ICU',\n",
    "    'PLT_ICU_before_L2',\n",
    "    'PLT_ICU',\n",
    "    'PLT_pre_ICU_OR',\n",
    "    'PLT_pre_ICU_ED',\n",
    "    'PLT_ICU_OR',\n",
    "    'PLT_OR',\n",
    "    'FFP_pre_ICU',\n",
    "    'FFP_ICU_before_L2',\n",
    "    'FFP_ICU',\n",
    "    'FFP_pre_ICU_OR',\n",
    "    'FFP_pre_ICU_ED',\n",
    "    'FFP_ICU_OR',\n",
    "    'FFP_OR',\n",
    "    'CRYO_pre_ICU',\n",
    "    'CRYO_ICU_before_L2',\n",
    "    'CRYO_ICU',\n",
    "    'CRYO_pre_ICU_OR',\n",
    "    'CRYO_pre_ICU_ED',\n",
    "    'CRYO_ICU_OR',\n",
    "    'CRYO_OR',\n",
    "    'WB_pre_ICU',\n",
    "    'WB_ICU_before_L2',\n",
    "    'WB_ICU',\n",
    "    'WB_pre_ICU_OR',\n",
    "    'WB_pre_ICU_ED',\n",
    "    'WB_ICU_OR',\n",
    "    'WB_OR',\n",
    "    'Blunt',\n",
    "    'Num_0.5L_boluses_after_hr_24_before_hr_48_no_L_cutoff',\n",
    "    'IVF_after_hr_24_before_hr_48_no_L_cutoff',\n",
    "    'Any_blood_ICU',\n",
    "    'Hours_to_death_from_admit',\n",
    "    'Death_after_48_hrs',\n",
    "    'Death_by_3_hrs',\n",
    "    'Death_by_24_hrs',\n",
    "    'Death_by_48_hrs',\n",
    "    'EarlyBolus_NEW',\n",
    "    'Num_0.5L_boluses_after_hr_6_before_hr_48_no_L_cutoff',\n",
    "    'LateBolus_NEW',\n",
    "    'EarlyLateBolus_NEW',\n",
    "}\n",
    "\n",
    "dset_zero_df = pd.read_csv('<path_to_dataset>/2012-2015_compiled_patient_data_with_cohorts_no_L_required_new_IVF_EarlyLateBolus.csv')\n",
    "dset_one_df = pd.read_csv('<path_to_dataset>/2016-2019_compiled_patient_data_with_cohorts_no_L_required_new_IVF_EarlyLateBolus.csv')"
   ],
   "id": "94ea1a85d3aa7a88",
   "outputs": [
    {
     "name": "stderr",
     "output_type": "stream",
     "text": [
      "/var/folders/vf/695131157rl2pvb9_s5zykbh0000gn/T/ipykernel_55698/1906398783.py:157: DtypeWarning: Columns (1,2,133) have mixed types. Specify dtype option on import or set low_memory=False.\n",
      "  dset_zero_df = pd.read_csv('/Users/larry/Documents/UWT/Thesis Work/rec_sys/datasets/trauma_icu_resuscitation/2012-2015_compiled_patient_data_with_cohorts_no_L_required_new_IVF_EarlyLateBolus.csv')\n"
     ]
    }
   ],
   "execution_count": 67
  },
  {
   "metadata": {
    "ExecuteTime": {
     "end_time": "2025-02-07T20:38:48.661781Z",
     "start_time": "2025-02-07T20:38:48.658582Z"
    }
   },
   "cell_type": "code",
   "source": "len(set(dset_zero_df.columns).intersection(set(dset_one_df.columns)))",
   "id": "8ea51caf14519762",
   "outputs": [
    {
     "data": {
      "text/plain": [
       "284"
      ]
     },
     "execution_count": 68,
     "metadata": {},
     "output_type": "execute_result"
    }
   ],
   "execution_count": 68
  },
  {
   "metadata": {
    "ExecuteTime": {
     "end_time": "2025-02-07T20:38:48.702019Z",
     "start_time": "2025-02-07T20:38:48.699182Z"
    }
   },
   "cell_type": "code",
   "source": "len(set(dset_zero_df.columns).intersection(set(dset_one_df.columns)).intersection(target_cols))",
   "id": "36a53c52914f8dd6",
   "outputs": [
    {
     "data": {
      "text/plain": [
       "130"
      ]
     },
     "execution_count": 69,
     "metadata": {},
     "output_type": "execute_result"
    }
   ],
   "execution_count": 69
  },
  {
   "metadata": {
    "ExecuteTime": {
     "end_time": "2025-02-07T20:38:48.755146Z",
     "start_time": "2025-02-07T20:38:48.738234Z"
    }
   },
   "cell_type": "code",
   "source": [
    "real_cols_to_use = set(dset_zero_df.columns).intersection(set(dset_one_df.columns)).intersection(target_cols)\n",
    "# move StudyID to the front\n",
    "real_cols_to_use.remove('StudyID')\n",
    "real_cols_to_use = list(real_cols_to_use)\n",
    "real_cols_to_use.insert(0, 'StudyID')\n",
    "filtered_dset_zero_df = dset_zero_df[real_cols_to_use]\n",
    "filtered_dset_one_df = dset_one_df[real_cols_to_use]\n",
    "combined_dset_df = pd.concat([filtered_dset_zero_df, filtered_dset_one_df])\n",
    "combined_dset_df.head()"
   ],
   "id": "43e1962fe76ce16e",
   "outputs": [
    {
     "data": {
      "text/plain": [
       "   StudyID  ICU_LOS  ExLap  Prop_0.5L_boluses_before_hr_0_no_L_cutoff  \\\n",
       "0  19334.0      1.0      0                                        0.0   \n",
       "1  18608.0      2.0      0                                        0.0   \n",
       "2  20425.0      2.0      0                                        0.0   \n",
       "3  19690.0      9.0      0                                        0.0   \n",
       "4  20636.0      5.0      0                                        0.0   \n",
       "\n",
       "   MaxUEAIS  Cohort_ICU_L_over_4  ChestAIS  \\\n",
       "0         0                    0         0   \n",
       "1         0                    1         0   \n",
       "2         0                    0         0   \n",
       "3         2                    0         0   \n",
       "4         0                    0         0   \n",
       "\n",
       "   Num_1.0L_boluses_before_hr_48_no_L_cutoff  Hours_from_ICU_to_lactate2  \\\n",
       "0                                        0.0                         NaN   \n",
       "1                                        1.0                         NaN   \n",
       "2                                        0.0                         NaN   \n",
       "3                                        1.0                         NaN   \n",
       "4                                        0.0                       -0.98   \n",
       "\n",
       "   Hours_to_death  ...  Num_0.5L_boluses_after_hr_6_before_hr_48_no_L_cutoff  \\\n",
       "0             NaN  ...                                                0.0      \n",
       "1             NaN  ...                                                2.0      \n",
       "2             NaN  ...                                                0.0      \n",
       "3          182.63  ...                                                0.0      \n",
       "4             NaN  ...                                                0.0      \n",
       "\n",
       "   Prop_1.0L_boluses_before_hr_0_no_L_cutoff  FFP_pre_ICU_ED  Home_dc  \\\n",
       "0                                        0.0           0.000        0   \n",
       "1                                        0.0           2.292        0   \n",
       "2                                        0.0           0.000        1   \n",
       "3                                        0.0           0.780        0   \n",
       "4                                        0.0           0.000        1   \n",
       "\n",
       "   MaxChestAIS  MTP  AKI_hours_nan  Num_0.5L_boluses_before_hr_12_no_L_cutoff  \\\n",
       "0            0    0            NaN                                        0.0   \n",
       "1            0    0            NaN                                        4.0   \n",
       "2            0    0            NaN                                        0.0   \n",
       "3            0    0            NaN                                        2.0   \n",
       "4            0    0            NaN                                        0.0   \n",
       "\n",
       "   MaxSpineAIS  Hours_to_death_from_admit  \n",
       "0            0                        NaN  \n",
       "1            0                        NaN  \n",
       "2            1                        NaN  \n",
       "3            0                     186.77  \n",
       "4            0                        NaN  \n",
       "\n",
       "[5 rows x 130 columns]"
      ],
      "text/html": [
       "<div>\n",
       "<style scoped>\n",
       "    .dataframe tbody tr th:only-of-type {\n",
       "        vertical-align: middle;\n",
       "    }\n",
       "\n",
       "    .dataframe tbody tr th {\n",
       "        vertical-align: top;\n",
       "    }\n",
       "\n",
       "    .dataframe thead th {\n",
       "        text-align: right;\n",
       "    }\n",
       "</style>\n",
       "<table border=\"1\" class=\"dataframe\">\n",
       "  <thead>\n",
       "    <tr style=\"text-align: right;\">\n",
       "      <th></th>\n",
       "      <th>StudyID</th>\n",
       "      <th>ICU_LOS</th>\n",
       "      <th>ExLap</th>\n",
       "      <th>Prop_0.5L_boluses_before_hr_0_no_L_cutoff</th>\n",
       "      <th>MaxUEAIS</th>\n",
       "      <th>Cohort_ICU_L_over_4</th>\n",
       "      <th>ChestAIS</th>\n",
       "      <th>Num_1.0L_boluses_before_hr_48_no_L_cutoff</th>\n",
       "      <th>Hours_from_ICU_to_lactate2</th>\n",
       "      <th>Hours_to_death</th>\n",
       "      <th>...</th>\n",
       "      <th>Num_0.5L_boluses_after_hr_6_before_hr_48_no_L_cutoff</th>\n",
       "      <th>Prop_1.0L_boluses_before_hr_0_no_L_cutoff</th>\n",
       "      <th>FFP_pre_ICU_ED</th>\n",
       "      <th>Home_dc</th>\n",
       "      <th>MaxChestAIS</th>\n",
       "      <th>MTP</th>\n",
       "      <th>AKI_hours_nan</th>\n",
       "      <th>Num_0.5L_boluses_before_hr_12_no_L_cutoff</th>\n",
       "      <th>MaxSpineAIS</th>\n",
       "      <th>Hours_to_death_from_admit</th>\n",
       "    </tr>\n",
       "  </thead>\n",
       "  <tbody>\n",
       "    <tr>\n",
       "      <th>0</th>\n",
       "      <td>19334.0</td>\n",
       "      <td>1.0</td>\n",
       "      <td>0</td>\n",
       "      <td>0.0</td>\n",
       "      <td>0</td>\n",
       "      <td>0</td>\n",
       "      <td>0</td>\n",
       "      <td>0.0</td>\n",
       "      <td>NaN</td>\n",
       "      <td>NaN</td>\n",
       "      <td>...</td>\n",
       "      <td>0.0</td>\n",
       "      <td>0.0</td>\n",
       "      <td>0.000</td>\n",
       "      <td>0</td>\n",
       "      <td>0</td>\n",
       "      <td>0</td>\n",
       "      <td>NaN</td>\n",
       "      <td>0.0</td>\n",
       "      <td>0</td>\n",
       "      <td>NaN</td>\n",
       "    </tr>\n",
       "    <tr>\n",
       "      <th>1</th>\n",
       "      <td>18608.0</td>\n",
       "      <td>2.0</td>\n",
       "      <td>0</td>\n",
       "      <td>0.0</td>\n",
       "      <td>0</td>\n",
       "      <td>1</td>\n",
       "      <td>0</td>\n",
       "      <td>1.0</td>\n",
       "      <td>NaN</td>\n",
       "      <td>NaN</td>\n",
       "      <td>...</td>\n",
       "      <td>2.0</td>\n",
       "      <td>0.0</td>\n",
       "      <td>2.292</td>\n",
       "      <td>0</td>\n",
       "      <td>0</td>\n",
       "      <td>0</td>\n",
       "      <td>NaN</td>\n",
       "      <td>4.0</td>\n",
       "      <td>0</td>\n",
       "      <td>NaN</td>\n",
       "    </tr>\n",
       "    <tr>\n",
       "      <th>2</th>\n",
       "      <td>20425.0</td>\n",
       "      <td>2.0</td>\n",
       "      <td>0</td>\n",
       "      <td>0.0</td>\n",
       "      <td>0</td>\n",
       "      <td>0</td>\n",
       "      <td>0</td>\n",
       "      <td>0.0</td>\n",
       "      <td>NaN</td>\n",
       "      <td>NaN</td>\n",
       "      <td>...</td>\n",
       "      <td>0.0</td>\n",
       "      <td>0.0</td>\n",
       "      <td>0.000</td>\n",
       "      <td>1</td>\n",
       "      <td>0</td>\n",
       "      <td>0</td>\n",
       "      <td>NaN</td>\n",
       "      <td>0.0</td>\n",
       "      <td>1</td>\n",
       "      <td>NaN</td>\n",
       "    </tr>\n",
       "    <tr>\n",
       "      <th>3</th>\n",
       "      <td>19690.0</td>\n",
       "      <td>9.0</td>\n",
       "      <td>0</td>\n",
       "      <td>0.0</td>\n",
       "      <td>2</td>\n",
       "      <td>0</td>\n",
       "      <td>0</td>\n",
       "      <td>1.0</td>\n",
       "      <td>NaN</td>\n",
       "      <td>182.63</td>\n",
       "      <td>...</td>\n",
       "      <td>0.0</td>\n",
       "      <td>0.0</td>\n",
       "      <td>0.780</td>\n",
       "      <td>0</td>\n",
       "      <td>0</td>\n",
       "      <td>0</td>\n",
       "      <td>NaN</td>\n",
       "      <td>2.0</td>\n",
       "      <td>0</td>\n",
       "      <td>186.77</td>\n",
       "    </tr>\n",
       "    <tr>\n",
       "      <th>4</th>\n",
       "      <td>20636.0</td>\n",
       "      <td>5.0</td>\n",
       "      <td>0</td>\n",
       "      <td>0.0</td>\n",
       "      <td>0</td>\n",
       "      <td>0</td>\n",
       "      <td>0</td>\n",
       "      <td>0.0</td>\n",
       "      <td>-0.98</td>\n",
       "      <td>NaN</td>\n",
       "      <td>...</td>\n",
       "      <td>0.0</td>\n",
       "      <td>0.0</td>\n",
       "      <td>0.000</td>\n",
       "      <td>1</td>\n",
       "      <td>0</td>\n",
       "      <td>0</td>\n",
       "      <td>NaN</td>\n",
       "      <td>0.0</td>\n",
       "      <td>0</td>\n",
       "      <td>NaN</td>\n",
       "    </tr>\n",
       "  </tbody>\n",
       "</table>\n",
       "<p>5 rows × 130 columns</p>\n",
       "</div>"
      ]
     },
     "execution_count": 70,
     "metadata": {},
     "output_type": "execute_result"
    }
   ],
   "execution_count": 70
  },
  {
   "metadata": {
    "ExecuteTime": {
     "end_time": "2025-02-07T20:38:49.320759Z",
     "start_time": "2025-02-07T20:38:48.842313Z"
    }
   },
   "cell_type": "code",
   "source": "combined_dset_df.to_csv('<path_to_temp>/combined_dset_df.csv', index=False)",
   "id": "14f2567146f857e0",
   "outputs": [],
   "execution_count": 71
  },
  {
   "metadata": {
    "ExecuteTime": {
     "end_time": "2025-02-07T20:44:37.883193Z",
     "start_time": "2025-02-07T20:44:36.723656Z"
    }
   },
   "cell_type": "code",
   "source": [
    "# dataset for blake\n",
    "blake_2015_df = pd.read_csv('<path_to_dataset>/2012-2015_compiled_patient_data_with_cohorts_no_L_required_new_IVF_EarlyLateBolus.csv')\n",
    "blake_2015_df = filter_data(blake_2015_df)\n",
    "blake_2015_df.to_csv('<path_to_temp>/blake_2015_df.csv', index=False)\n",
    "blake_2019_df = pd.read_csv('<path_to_dataset>/2016-2019_compiled_patient_data_with_cohorts_no_L_required_new_IVF_EarlyLateBolus.csv')\n",
    "blake_2019_df = filter_data(blake_2019_df)\n",
    "blake_2019_df.to_csv('<path_to_temp>/blake_2019_df.csv', index=False)"
   ],
   "id": "9d8c93c675c90b15",
   "outputs": [
    {
     "name": "stderr",
     "output_type": "stream",
     "text": [
      "/var/folders/vf/695131157rl2pvb9_s5zykbh0000gn/T/ipykernel_55698/1414174507.py:2: DtypeWarning: Columns (1,2,133) have mixed types. Specify dtype option on import or set low_memory=False.\n",
      "  blake_2015_df = pd.read_csv('/Users/larry/Documents/UWT/Thesis Work/rec_sys/datasets/trauma_icu_resuscitation/2012-2015_compiled_patient_data_with_cohorts_no_L_required_new_IVF_EarlyLateBolus.csv')\n"
     ]
    }
   ],
   "execution_count": 72
  },
  {
   "metadata": {},
   "cell_type": "code",
   "outputs": [],
   "execution_count": null,
   "source": "",
   "id": "c421b092ce6464e9"
  }
 ],
 "metadata": {
  "kernelspec": {
   "display_name": "Python 3",
   "language": "python",
   "name": "python3"
  },
  "language_info": {
   "codemirror_mode": {
    "name": "ipython",
    "version": 2
   },
   "file_extension": ".py",
   "mimetype": "text/x-python",
   "name": "python",
   "nbconvert_exporter": "python",
   "pygments_lexer": "ipython2",
   "version": "2.7.6"
  }
 },
 "nbformat": 4,
 "nbformat_minor": 5
}
